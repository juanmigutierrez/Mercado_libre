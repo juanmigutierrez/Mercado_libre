{
 "cells": [
  {
   "cell_type": "code",
   "execution_count": 1,
   "metadata": {},
   "outputs": [],
   "source": [
    "import requests\n",
    "import pickle\n",
    "import os\n",
    "import re\n",
    "from sklearn.feature_extraction.text import TfidfVectorizer\n",
    "from scipy.sparse import csr_matrix\n",
    "import pandas as pd\n",
    "import numpy as np\n",
    "import warnings\n",
    "import nltk.corpus\n",
    "import sparse_dot_topn.sparse_dot_topn as ct\n",
    "from os.path import exists\n",
    "from nltk.corpus import stopwords\n",
    "from yellowbrick.cluster.elbow import kelbow_visualizer\n",
    "from sklearn.cluster import KMeans\n",
    "from sklearn.decomposition import TruncatedSVD\n",
    "import matplotlib.pyplot as plt\n",
    "import plotly.express as px\n",
    "import plotly.graph_objects as go\n",
    "import networkx as nx"
   ]
  },
  {
   "cell_type": "code",
   "execution_count": 2,
   "metadata": {},
   "outputs": [
    {
     "data": {
      "text/plain": [
       "[{'id': 'MCO1747', 'name': 'Accesorios para Vehículos'},\n",
       " {'id': 'MCO441917', 'name': 'Agro'},\n",
       " {'id': 'MCO1403', 'name': 'Alimentos y Bebidas'},\n",
       " {'id': 'MCO1071', 'name': 'Animales y Mascotas'},\n",
       " {'id': 'MCO1367', 'name': 'Antigüedades y Colecciones'},\n",
       " {'id': 'MCO1368', 'name': 'Arte, Papelería y Mercería'},\n",
       " {'id': 'MCO1384', 'name': 'Bebés'},\n",
       " {'id': 'MCO1246', 'name': 'Belleza y Cuidado Personal'},\n",
       " {'id': 'MCO40433', 'name': 'Boletas para Espectáculos'},\n",
       " {'id': 'MCO1039', 'name': 'Cámaras y Accesorios'},\n",
       " {'id': 'MCO1743', 'name': 'Carros, Motos y Otros'},\n",
       " {'id': 'MCO1051', 'name': 'Celulares y Teléfonos'},\n",
       " {'id': 'MCO1648', 'name': 'Computación'},\n",
       " {'id': 'MCO1144', 'name': 'Consolas y Videojuegos'},\n",
       " {'id': 'MCO172890', 'name': 'Construcción'},\n",
       " {'id': 'MCO1276', 'name': 'Deportes y Fitness'},\n",
       " {'id': 'MCO5726', 'name': 'Electrodomésticos'},\n",
       " {'id': 'MCO1000', 'name': 'Electrónica, Audio y Video'},\n",
       " {'id': 'MCO175794', 'name': 'Herramientas'},\n",
       " {'id': 'MCO1574', 'name': 'Hogar y Muebles'},\n",
       " {'id': 'MCO1499', 'name': 'Industrias y Oficinas'},\n",
       " {'id': 'MCO1459', 'name': 'Inmuebles'},\n",
       " {'id': 'MCO1182', 'name': 'Instrumentos Musicales'},\n",
       " {'id': 'MCO1132', 'name': 'Juegos y Juguetes'},\n",
       " {'id': 'MCO3025', 'name': 'Libros, Revistas y Comics'},\n",
       " {'id': 'MCO1168', 'name': 'Música, Películas y Series'},\n",
       " {'id': 'MCO118204', 'name': 'Recuerdos, Piñatería y Fiestas'},\n",
       " {'id': 'MCO3937', 'name': 'Relojes y Joyas'},\n",
       " {'id': 'MCO1430', 'name': 'Ropa y Accesorios'},\n",
       " {'id': 'MCO180800', 'name': 'Salud y Equipamiento Médico'},\n",
       " {'id': 'MCO1540', 'name': 'Servicios'},\n",
       " {'id': 'MCO1953', 'name': 'Otras categorías'}]"
      ]
     },
     "execution_count": 2,
     "metadata": {},
     "output_type": "execute_result"
    }
   ],
   "source": [
    "cats = requests.get('https://api.mercadolibre.com/sites/MCO/categories')\n",
    "cats.json()"
   ]
  },
  {
   "cell_type": "code",
   "execution_count": 3,
   "metadata": {},
   "outputs": [],
   "source": [
    "product_id = \"MCO1648\"\n",
    "offset = 1\n",
    "url = f'https://api.mercadolibre.com/sites/MCO/search?category={product_id}&offset={offset}'\n",
    "request = requests.get(url)\n",
    "items = request.json()"
   ]
  },
  {
   "cell_type": "code",
   "execution_count": 4,
   "metadata": {},
   "outputs": [],
   "source": [
    "results = items['results'][0]"
   ]
  },
  {
   "cell_type": "code",
   "execution_count": 5,
   "metadata": {},
   "outputs": [],
   "source": [
    "class API():\n",
    "\n",
    "    def __init__(self, country_code, product_id = None):\n",
    "        \"\"\"\n",
    "        Initialization API class\n",
    "\n",
    "        Parameters:\n",
    "\n",
    "        :country_code (string): country code \n",
    "        :product_id (string): product_id of the country code\n",
    "        :return: API Object.\n",
    "        \"\"\"\n",
    "        if exists(\"API.pickle\"):\n",
    "            try:\n",
    "                file_to_read = open(\"API.pickle\", \"rb\")\n",
    "                loaded_object = pickle.load(file_to_read)\n",
    "                self.country_code = loaded_object.country_code\n",
    "                self.product_id = loaded_object.product_id            \n",
    "                self.database = loaded_object.database\n",
    "                self.last_offset = loaded_object.last_offset\n",
    "                file_to_read.close()\n",
    "            except:\n",
    "                print(\"No se pudo cargar archivo\")\n",
    "        else:             \n",
    "            self.country_code = country_code\n",
    "            self.product_id = product_id            \n",
    "            self.database = pd.DataFrame()\n",
    "            self.last_offset = 0\n",
    "\n",
    "    def update_information(self, offset = None):\n",
    "        \"\"\"\n",
    "        Download information/Update information\n",
    "\n",
    "        Parameters:\n",
    "\n",
    "        :offset (int): number benchmark to consider download the 50s items\n",
    "        :return (DataFrame): Database with the downloaded information\n",
    "        \"\"\"\n",
    "        if pd.isnull(offset):\n",
    "            offset = self.last_offset\n",
    "        try: \n",
    "            # -------------------\n",
    "            # Request API\n",
    "            # -------------------\n",
    "            url = f'https://api.mercadolibre.com/sites/MCO/search?category={product_id}&offset={offset}'\n",
    "            request = requests.get(url)\n",
    "            items = request.json()\n",
    "            items = items['results']\n",
    "\n",
    "            # -------------------\n",
    "            # Data Wrangling\n",
    "            # -------------------\n",
    "            database_dict = {}\n",
    "            # Manera optima de añadir informacion a dataframe\n",
    "            # link : https://stackoverflow.com/questions/27929472/improve-row-append-performance-on-pandas-dataframes\n",
    "            for index, item in enumerate(items):\n",
    "                database_dict[index] = {attribute : item[attribute] for attribute in item}\n",
    "            \n",
    "            database_offset = pd.DataFrame.from_dict(database_dict, \"index\")\n",
    "            self.database = self.database.append(database_offset)\n",
    "            self.last_offset += 50\n",
    "        except:\n",
    "            print(f\"No se pudo correr informacion de offset={offset}\")\n",
    "    \n",
    "    def save(self):\n",
    "        \"\"\"\n",
    "        Save database\n",
    "\n",
    "        Parameters:\n",
    "\n",
    "        :return (pickel): API pickle object\n",
    "        \"\"\"\n",
    "        file_to_store = open(\"API.pickle\", \"wb\")\n",
    "        pickle.dump(self, file_to_store)\n",
    "        file_to_store.close()\n",
    "\n",
    "    def delete(self):\n",
    "        \"\"\"\n",
    "        Delete pickle API object\n",
    "\n",
    "        Parameters:\n",
    "\n",
    "        :return (pickle): Database with the downloaded information\n",
    "        \"\"\"\n",
    "        if exists(\"API.pickle\"):\n",
    "            os.remove(\"API.pickle\")"
   ]
  },
  {
   "cell_type": "code",
   "execution_count": 6,
   "metadata": {},
   "outputs": [],
   "source": [
    "# ----------------------------\n",
    "# 1. Downloading Information\n",
    "# ----------------------------\n",
    "run_download = False\n",
    "country_code = \"MCO\"\n",
    "# Celulares\n",
    "product_id = \"MCO1648\"\n",
    "if run_download:\n",
    "    information = API(country_code, product_id)\n",
    "    offset_list = [x*50 for x in range(1,20)]\n",
    "    for offset_i in offset_list:\n",
    "        information.update_information(offset_i)\n",
    "    del offset_list\n",
    "    information.save()\n",
    "else:\n",
    "    information = API(country_code, product_id)\n"
   ]
  },
  {
   "cell_type": "code",
   "execution_count": 7,
   "metadata": {},
   "outputs": [],
   "source": [
    "# ----------------------------\n",
    "# 2. Process \n",
    "# ----------------------------"
   ]
  },
  {
   "cell_type": "code",
   "execution_count": 16,
   "metadata": {},
   "outputs": [],
   "source": [
    "class Text_similarity():\n",
    "    \n",
    "    def __init__(self, items = None):\n",
    "        \"\"\"\n",
    "        Initialization Text similarity object\n",
    "\n",
    "        Parameters:\n",
    "\n",
    "        :return (None):\n",
    "        \"\"\"\n",
    "        if items is None: items = []\n",
    "        self.l = items        \n",
    "        self.elbow_value = None\n",
    "\n",
    "    def clean_text(self, text):\n",
    "        \"\"\"\n",
    "        Preprocessing cleaning corpus.\n",
    "\n",
    "        Parameters:\n",
    "\n",
    "        :text (string): text to be cleaned.\n",
    "        :return (None):\n",
    "        \"\"\"\n",
    "        # Link: https://monkeylearn.com/blog/text-cleaning/\n",
    "        # Normalize text\n",
    "        text = text.lower()\n",
    "        # Remove unicode text\n",
    "        text = re.sub(r\"(@\\[A-Za-z0-9]+)|([^0-9A-Za-z \\t])|(\\w+:\\/\\/\\S+)|^rt|http.+?\", \"\", text)\n",
    "        # Remove stop words\n",
    "        stop = stopwords.words('spanish')\n",
    "        text = \" \".join([word for word in text.split() if word not in (stop)])\n",
    "        return text\n",
    "        \n",
    "    def ngrams(self, string, n=3):\n",
    "        \"\"\"\n",
    "        Generate n-grams for a string.\n",
    "\n",
    "        Parameters:\n",
    "\n",
    "        :return (List): List with n-grams of the string.\n",
    "        \"\"\"\n",
    "        ngrams = zip(*[string[i:] for i in range(n)])\n",
    "        return [''.join(ngram) for ngram in ngrams]\n",
    "\n",
    "    def awesome_cossim_top(self, tf_idf_matrix, tf_idf_matrix_transpose, ntop, lower_bound = 0):\n",
    "        \"\"\"\n",
    "        Generate sparse matrix with cosine distance on TF-IDF Matrix\n",
    "\n",
    "        Parameters:\n",
    "        :tf_idf_matrix (Scipy Sparce Matrix): TF-IDF Matrix (sentence, ngram).\n",
    "        :tf_idf_matrix_transpose (Scipy Sparce Matrix): TF-IDF Matrix Transpose (ngram, sentence).\n",
    "        :ntop (int): top-n cosine similarity score.\n",
    "        :lower_bound (int): if value of an element of C is less than lower_bound, the value will be replaced zero.\n",
    "        \n",
    "        :return (Csr_matrix):csr_matrix with top-n cosine similarity.\n",
    "        \"\"\"\n",
    "        # force A and B as a CSR matrix.\n",
    "        # If they have already been CSR, there is no overhead\n",
    "        tf_idf_matrix = tf_idf_matrix.tocsr()\n",
    "        tf_idf_matrix_transpose = tf_idf_matrix_transpose.tocsr()\n",
    "        # Number of Sentences\n",
    "        M, _ = tf_idf_matrix.shape\n",
    "        # Number of ngrams\n",
    "        _, N = tf_idf_matrix_transpose.shape\n",
    "    \n",
    "        idx_dtype = np.int32\n",
    "\n",
    "        # Closest sentences\n",
    "        nnz_max = M*ntop\n",
    "    \n",
    "        indptr = np.zeros(M+1, dtype = idx_dtype)\n",
    "        indices = np.zeros(nnz_max, dtype = idx_dtype)\n",
    "        data = np.zeros(nnz_max, dtype = tf_idf_matrix.dtype)\n",
    "\n",
    "        # Link explanation:  https://medium.com/wbaa/https-medium-com-ingwbaa-boosting-selection-of-the-most-similar-entities-in-large-scale-datasets-450b3242e618\n",
    "        # Link2 :https://towardsdatascience.com/finding-word-similarity-using-tf-idf-in-a-term-context-matrix-from-scratch-in-python-e423533a407\n",
    "        ct.sparse_dot_topn(\n",
    "            M, \n",
    "            N, \n",
    "            np.asarray(tf_idf_matrix.indptr, dtype = idx_dtype),\n",
    "            np.asarray(tf_idf_matrix.indices, dtype = idx_dtype),\n",
    "            tf_idf_matrix.data,\n",
    "            np.asarray(tf_idf_matrix_transpose.indptr, dtype = idx_dtype),\n",
    "            np.asarray(tf_idf_matrix_transpose.indices, dtype = idx_dtype),\n",
    "            tf_idf_matrix_transpose.data,\n",
    "            ntop,\n",
    "            lower_bound,\n",
    "            indptr, \n",
    "            indices, \n",
    "            data)\n",
    "        return csr_matrix((data, indices, indptr),shape=(M, N))\n",
    "\n",
    "    def get_matches_df(self, sparse_matrix, sentences_vector, prices, links, clustering_target, top = None):\n",
    "        \"\"\"\n",
    "        Generate database of matches with their respectives prices and urls to check.\n",
    "\n",
    "        Parameters:\n",
    "        :sparse_matrix (Scipy Sparce Matrix): TF-IDF Matrix (sentence, ngram).\n",
    "        :sentences_vector (DataFrame): Dataframe with titles.\n",
    "        :prices (DataFrame): Dataframe with prices.\n",
    "        :links (int):  Dataframe with URLS.\n",
    "        \n",
    "        :return (Dataframe ): database of matches with their respectives prices and urls to check.\n",
    "        \"\"\"\n",
    "        non_zeros = sparse_matrix.nonzero()\n",
    "        clustering_target = pd.DataFrame(clustering_target)\n",
    "        # Number of setences\n",
    "        sparserows = non_zeros[0]\n",
    "        # Numebr of n-grams\n",
    "        sparsecols = non_zeros[1]\n",
    "        \n",
    "        if top:\n",
    "            nr_matches = top\n",
    "        else:\n",
    "            nr_matches = sparserows.size\n",
    "        \n",
    "        # Initialize Variables of the Dataframe\n",
    "        left_side = np.empty([nr_matches], dtype=object)\n",
    "        right_side = np.empty([nr_matches], dtype=object)\n",
    "        similairity = np.zeros(nr_matches)\n",
    "        prices_left = np.empty([nr_matches], dtype=object)\n",
    "        links_left = np.empty([nr_matches], dtype=object)\n",
    "        prices_right = np.empty([nr_matches], dtype=object)\n",
    "        links_right = np.empty([nr_matches], dtype=object)\n",
    "        clustering_left = np.empty([nr_matches], dtype=object)\n",
    "        clustering_right = np.empty([nr_matches], dtype=object)\n",
    "\n",
    "        # Star the matching with all possible matches\n",
    "        for index in range(0, nr_matches):\n",
    "            left_side[index] = sentences_vector.iloc[sparserows[index]]\n",
    "            right_side[index] = sentences_vector.iloc[sparsecols[index]]\n",
    "            similairity[index] = sparse_matrix.data[index]\n",
    "\n",
    "            prices_left[index] = prices.iloc[sparserows[index]]\n",
    "            links_left[index] = links.iloc[sparserows[index]]\n",
    "            clustering_left[index] = clustering_target.iloc[sparserows[index]]\n",
    "\n",
    "            prices_right[index] = prices.iloc[sparsecols[index]]\n",
    "            links_right[index] = links.iloc[sparsecols[index]]\n",
    "            clustering_right[index] = clustering_target.iloc[sparsecols[index]]\n",
    "\n",
    "\n",
    "        return pd.DataFrame({'left_side': left_side,\n",
    "                            'right_side': right_side,\n",
    "                            'similarity': similairity,\n",
    "                            'left price': prices_left,\n",
    "                            'right price': prices_right,\n",
    "                            'left URL': links_left,\n",
    "                            'right URL': links_right,\n",
    "                            })\n",
    "\n",
    "    def elbow_score_kmeans(self, td_idf_matrix, limit = 20):\n",
    "        warnings.filterwarnings('ignore')\n",
    "        result = kelbow_visualizer(KMeans(random_state=4), tf_idf_matrix, k = (3, limit))\n",
    "        self.elbow_value = result.elbow_value_\n",
    "        return None\n",
    "        \n",
    "    def kmeans_text(self, tf_idf_matrix, titles, plot = True):\n",
    "        kmeans = KMeans(n_clusters = self.elbow_value).fit(tf_idf_matrix)\n",
    "        cluster_target = kmeans.predict(tf_idf_matrix)\n",
    "        svd = TruncatedSVD(n_components = 2)\n",
    "\n",
    "        X_svd = svd.fit_transform(tf_idf_matrix)\n",
    "        X_svd_df = pd.DataFrame(X_svd)\n",
    "        X_svd_df.reset_index(drop = True, inplace = True)\n",
    "        titles.reset_index(drop = True, inplace = True)\n",
    "\n",
    "        X_svd_df['titles'] = titles\n",
    "\n",
    "        if plot == True:\n",
    "            fig = px.scatter(\n",
    "                pd.DataFrame(X_svd_df), x = 0, y = 1,\n",
    "                color = cluster_target,\n",
    "                title = \"Text Clustering\",\n",
    "                hover_data ={'titles':True}\n",
    "            )\n",
    "\n",
    "            fig.update_layout(\n",
    "                xaxis_title=\"1 Dimension Reduction\",\n",
    "                yaxis_title=\"2 Dimension Reduction\",\n",
    "            )\n",
    "            \n",
    "            fig.show()\n",
    "        return cluster_target\n",
    "\n",
    "    def plot_network(self, G):\n",
    "        # Generate the layout and set the 'pos' attribute\n",
    "        pos = nx.drawing.layout.spring_layout(G)\n",
    "        nx.set_node_attributes(G, pos, 'pos')\n",
    "\n",
    "        edge_x = []\n",
    "        edge_y = []\n",
    "        for edge in G.edges():\n",
    "            x0, y0 = G.nodes[edge[0]]['pos']\n",
    "            x1, y1 = G.nodes[edge[1]]['pos']\n",
    "            edge_x.append(x0)\n",
    "            edge_x.append(x1)\n",
    "            edge_x.append(None)\n",
    "            edge_y.append(y0)\n",
    "            edge_y.append(y1)\n",
    "            edge_y.append(None)\n",
    "\n",
    "        edge_trace = go.Scatter(\n",
    "            x=edge_x, y=edge_y,\n",
    "            line=dict(width=0.5, color='#888'),\n",
    "            hoverinfo='none',\n",
    "            mode='lines')\n",
    "\n",
    "        node_x = []\n",
    "        node_y = []\n",
    "        for node in G.nodes():\n",
    "            x, y = G.nodes[node]['pos']\n",
    "            node_x.append(x)\n",
    "            node_y.append(y)\n",
    "\n",
    "        node_trace = go.Scatter(\n",
    "            x=node_x, y=node_y,\n",
    "            mode='markers',\n",
    "            hoverinfo='text',\n",
    "            marker=dict(\n",
    "                showscale=True,\n",
    "                # colorscale options\n",
    "                #'Greys' | 'YlGnBu' | 'Greens' | 'YlOrRd' | 'Bluered' | 'RdBu' |\n",
    "                #'Reds' | 'Blues' | 'Picnic' | 'Rainbow' | 'Portland' | 'Jet' |\n",
    "                #'Hot' | 'Blackbody' | 'Earth' | 'Electric' | 'Viridis' |\n",
    "                colorscale='Earth',\n",
    "                reversescale=True,\n",
    "                color=[],\n",
    "                size=10,\n",
    "                colorbar=dict(\n",
    "                    thickness=15,\n",
    "                    title='Node Connections',\n",
    "                    xanchor='left',\n",
    "                    titleside='right'\n",
    "                ),\n",
    "                line_width=2))\n",
    "\n",
    "        node_adjacencies = []\n",
    "        node_text = []\n",
    "        for node, adjacencies in enumerate(G.adjacency()):\n",
    "            node_adjacencies.append(len(adjacencies[1]))\n",
    "            node_text.append(f'{adjacencies[0]} - # of connections: '+str(len(adjacencies[1])))\n",
    "\n",
    "        node_trace.marker.color = node_adjacencies\n",
    "        node_trace.text = node_text\n",
    "\n",
    "        fig = go.Figure(data=[edge_trace, node_trace],\n",
    "                    layout=go.Layout(\n",
    "                        title=f'Text Clustering Cosine-Similarity with TF IDF - {similarity_bound}' ,\n",
    "                        #titlefont_size=16,\n",
    "                        showlegend=False,\n",
    "                        hovermode='closest',\n",
    "                        margin=dict(b=20,l=5,r=5,t=40),\n",
    "                        xaxis=dict(showgrid=False, zeroline=False, showticklabels=False),\n",
    "                        yaxis=dict(showgrid=False, zeroline=False, showticklabels=False)),\n",
    "                        )\n",
    "        fig.show()\n",
    "        return None\n",
    "\n",
    "    def return_groups_network(self, G, matches_df):\n",
    "        dfgroup = pd.DataFrame()\n",
    "\n",
    "        for n, i in enumerate(nx.connected_components(G)):\n",
    "            arr = np.array(list(i))\n",
    "            s = [node in matches_df['left_side'].tolist() for node in i]\n",
    "            node_r = arr[s]\n",
    "            df_r = pd.DataFrame({'Product Titles':[node_r]} ,\n",
    "                                index=[n]) \n",
    "            dfgroup = pd.concat([dfgroup,df_r])\n",
    "\n",
    "        dfgroup = dfgroup.rename_axis('Group Number').reset_index()\n",
    "        return dfgroup"
   ]
  },
  {
   "cell_type": "code",
   "execution_count": 17,
   "metadata": {},
   "outputs": [],
   "source": [
    "# -------------------\n",
    "# Parameters\n",
    "# ----------------\n",
    "similarity_bound = 0.8\n",
    "\n",
    "text_similarity = Text_similarity()\n",
    "# Clean text titles\n",
    "information.database['title'] = information.database['title'].apply(text_similarity.clean_text)\n",
    "# TD - IDF words\n",
    "titles = information.database['title']\n",
    "vectorizer = TfidfVectorizer(min_df = 1, analyzer = text_similarity.ngrams)\n",
    "tf_idf_matrix = vectorizer.fit_transform(titles)"
   ]
  },
  {
   "cell_type": "code",
   "execution_count": 18,
   "metadata": {},
   "outputs": [
    {
     "data": {
      "image/png": "[encoded data removed]",
      "text/plain": [
       "<Figure size 576x396 with 2 Axes>"
      ]
     },
     "metadata": {},
     "output_type": "display_data"
    }
   ],
   "source": [
    "text_similarity.elbow_score_kmeans(tf_idf_matrix, limit = 20)"
   ]
  },
  {
   "cell_type": "code",
   "execution_count": 21,
   "metadata": {},
   "outputs": [
    {
     "data": {
      "application/vnd.plotly.v1+json": {
       "config": {
        "plotlyServerURL": "https://plot.ly"
       },
       "data": [
        {
         "customdata": [
          [
           "mouse vertical inalmbrico delux m618c black"
          ],
          [
           "switch tplink ls1005g serie litewave"
          ],
          [
           "laptop dell inspiron 3505 negra 156 amd ryzen 5 3450u 12gb ram 1tb hdd 256gb ssd amd radeon rx vega 8 ryzen 20003000 60 hz 1920x1080px windows 10 home"
          ],
          [
           "sistema pos completo equipos gratis programa facturacion"
          ],
          [
           "tableta digitalizadora gaomon s620 black"
          ],
          [
           "monitor gamer curvo samsung f390 series c24f390fh led 24 black high glossy 100v240v"
          ],
          [
           "laptop hp 245 g7 negra 14 amd 3020e 8gb ram 1tb hdd amd radeon rx vega 3 1366x768px windows 10 home"
          ],
          [
           "torre gamer ryzen 5 3400g 16gb ram blindada disco 1000gb"
          ],
          [
           "memoria usb kingston datatraveler 100 g3 dt100g3 128gb 30 negro"
          ],
          [
           "mouse vertical inalmbrico klip xtreme everrest kmw390 negro"
          ],
          [
           "laptop dell inspiron 3501 negra 156 intel core i3 1005g1 4gb ram 1tb hdd intel uhd graphics g1 60 hz 1366x768px linux ubuntu"
          ],
          [
           "repetidor tplink tlwa850re blanco 220v"
          ],
          [
           "torre gamer amd athlon 3000g ssd 240gb ram 8gb vega 3 2gb"
          ],
          [
           "mouse inalmbrico logitech m280 negro"
          ],
          [
           "laptop dell inspiron 3505 silver 156 amd ryzen 5 3450u 8gb ram 256gb ssd amd radeon rx vega 8 ryzen 20003000 60 hz 1366x768px windows 11 home"
          ],
          [
           "kit teclado mouse inalmbrico logitech mk220 espaol latinoamrica color negro"
          ],
          [
           "disco slido ssd interno adata ultimate su630 asu630ss480gqr 480gb"
          ],
          [
           "computador pc torre ultra rapida intel core i5 3470 8gb ram"
          ],
          [
           "laptop hp 240 g7 plateado ceniza oscuro 14 intel celeron n4000 4gb ram 500gb hdd intel uhd graphics 600 1366x768px windows 10 home"
          ],
          [
           "teclado gamer redragon shiva k512 rgb qwerty espaol latinoamrica color negro luz rgb"
          ],
          [
           "audfonos gamer redragon ares negro rojo"
          ],
          [
           "disco duro externo adata ahd3301tu31 1tb negro"
          ],
          [
           "apple macbook pro 13 pulgadas 2020 chip m1 512 gb ssd 8 gb ram gris espacial"
          ],
          [
           "equipo torre cpu intel dualcore ssd 240gb ram 8gb monitor 22"
          ],
          [
           "audfonos logitech h390 negro"
          ],
          [
           "mouse juego inalmbrico logitech g series lightspeed g305 black"
          ],
          [
           "laptop dell inspiron 3501 plata 156 intel core i3 1005g1 4gb ram 1tb hdd intel uhd graphics g1 60 hz 1366x768px windows 10 home"
          ],
          [
           "servidor dell power edge t40 intel xeon 35 ghz 8g 1tb"
          ],
          [
           "teclado bluetooth logitech master series mx keys qwerty espaol color grafito luz blanca"
          ],
          [
           "mouse juego inalmbrico logitech g series lightspeed g305 lilac"
          ],
          [
           "apple macbook air 13 pulgadas 2020 chip m1 256 gb ssd 8 gb ram oro"
          ],
          [
           "tableta digitalizadora wacom intuos small black"
          ],
          [
           "servidor dell power edge t40 16gb ram intel xeon 35 ghz 1t"
          ],
          [
           "memoria ram color verde 8gb 1 samsung m471b1g73db0yk0"
          ],
          [
           "laptop lenovo ideapad s14514ast negra onix 14 amd a4series 9125 4gb ram 500gb hdd amd radeon r3 1366x768px windows 10 home"
          ],
          [
           "mouse juego logitech g series prodigy g203 black"
          ],
          [
           "torre gamer ryzen 7 5700g 16gb ram disco ssd"
          ],
          [
           "monitor gamer lg ultragear 24gn600 led 24 negro 100v240v"
          ],
          [
           "laptop dell inspiron 3505 gris 156 amd ryzen 5 3450u 8gb ram 1tb hdd 256gb ssd amd radeon rx vega 8 ryzen 20003000 60 hz 1366x768px windows 10 home"
          ],
          [
           "teclado gamer redragon kumara k552 qwerty outemu red espaol latinoamrica color blanco luz rgb"
          ],
          [
           "monitor gamer curvo samsung odyssey g5 c34g55tww led 34 negro 100v240v"
          ],
          [
           "torre gamer amd athlon 3000g hdd 1tb ram 16gb vega 3 2gb"
          ],
          [
           "dell inspiron 15 3501 core i31115g4 8gb 128 ssd 1tb 156"
          ],
          [
           "disco slido ssd interno pny ssd7cs900240rb 240gb negro"
          ],
          [
           "disco slido ssd interno adata swordfish aswordfish250gc 250gb gris"
          ],
          [
           "disco slido ssd interno kingston sa400s37120g 120gb"
          ],
          [
           "laptop hp 255 g7 negra 156 amd athlon 3020e 4gb ram 500gb hdd amd radeon rx vega 3 1366x768px windows 10 home"
          ],
          [
           "torre cpu gamer ryzen 9 5900x gpu 2gb hdmi 1tb 32gb pc"
          ],
          [
           "disco slido ssd interno crucial ct1000bx500ssd1 1tb"
          ],
          [
           "tablet amazon fire hd 8 2020 kfonwi 8 32gb black 2gb memoria ram"
          ],
          [
           "apple macbook pro 13 pulgadas 2020 chip m1 256 gb ssd 8 gb ram plata"
          ],
          [
           "pc torre gamer amd ryzen 3 4350g ssd 240gb hdd 1tb ram 16gb"
          ],
          [
           "bocina genius spq160 naranja"
          ],
          [
           "mouse juego logitech g series lightsync g203 blanco"
          ],
          [
           "laptop gamer asus tuf gaming fx506lh fortress gray 156 intel core i5 10300h 8gb ram 512gb ssd nvidia geforce gtx 1650 144 hz 1920x1080px freedos"
          ],
          [
           "disco duro externo adata dashdrive durable hd680 ahd6801tu31 1tb negro"
          ],
          [
           "pc torre gamer amd ryzen 3 3200g ssd 480gb ram 16gb mon 22"
          ],
          [
           "audfonos gamer logitech g series g332 black"
          ],
          [
           "laptop lenovo ideapad 15alc6 abyss blue 156 amd ryzen 5 5500u 8gb ram 256gb ssd amd radeon rx vega 7 1920x1080px windows 10 home"
          ],
          [
           "mouse juego redragon griffin m607 negro"
          ],
          [
           "memoria ram xlr8 gamer color negrorojo 8gb 1 pny md8gd43200xr"
          ],
          [
           "pc dell vostro sff 3681 intel ci5 10400 8gb 1t win 10 pro"
          ],
          [
           "laptop asus vivobook x543ua gris oscura 156 intel core i5 8250u 8gb ram 256gb ssd intel uhd graphics 620 1920x1080px windows 10 home"
          ],
          [
           "disco slido ssd interno crucial ct1000p2ssd8 1tb"
          ],
          [
           "memoria ram color azul 8gb 1 sk hynix hmt41gs6bfr8apb"
          ],
          [
           "torre gamer amd ryzen 3 3200g ssd 240gb ram 8gb vega 8 2gb"
          ],
          [
           "laptop lenovo ideapad d33010igl mineral gray tctil 101 intel celeron n4020 4gb ram 64gb ssd intel uhd graphics 600 1280x800px windows 10 home"
          ],
          [
           "tablet samsung galaxy tab a7 lite smt220 87 32gb gris 3gb memoria ram"
          ],
          [
           "disco slido ssd interno western digital wd green wds240g2g0a 240gb verde"
          ],
          [
           "tablet samsung galaxy tab a7 lite smt220 87 64gb gris 4gb memoria ram"
          ],
          [
           "laptop hp 245 g7 negra 14 amd ryzen 5 3500u 8gb ram 256gb ssd amd radeon rx vega 8 1366x768px windows 10 pro"
          ],
          [
           "pc gamer ryzen 5 3400g 16gb ram discos 1000gb ssd 240gb"
          ],
          [
           "monitor gamer lg ultrawide 34wl500 led 34 negro 100v240v"
          ],
          [
           "impresora simple funcin hp laserjet 107w wifi blanca negra 110v 127v"
          ],
          [
           "lenovo legin ryzen 7 5800h rtx 3050ti 16g 512 165h portatil"
          ],
          [
           "torre cpu intel core i5 11400 uhd 730 1tb 16gb pc"
          ],
          [
           "mouse juego razer viper mini negro"
          ],
          [
           "switch tplink ls1008 serie litewave"
          ],
          [
           "laptop lenovo ideapad 14iil05 platinum gray 14 intel core i5 1035g1 8gb ram 512gb ssd intel uhd graphics g1 1920x1080px windows 10 home"
          ],
          [
           "procesador gamer amd ryzen 5 5600g 100100000252box 6 ncleos 44ghz frecuencia grfica integrada"
          ],
          [
           "torre cpu gamer core i9 10900 gpu 2gb hdmi 1tb 16gb pc"
          ],
          [
           "teclado inalmbrico logitech k230 qwerty espaol color negro"
          ],
          [
           "laptop hp 245 g7 negra 14 amd athlon 3020e 8gb ram 1tb hdd amd radeon rx vega 3 1366x768px freedos"
          ],
          [
           "kit teclado mouse inalmbrico logitech mk270 espaol latinoamrica color negro"
          ],
          [
           "access point router sistema wifi mesh tplink deco e4 blanco 100v240v 2 unidades"
          ],
          [
           "cpu torre pc gamer amd ryzen 7 5700g ssd 480gb ram 16gb"
          ],
          [
           "dell inspiron 15 3501 core i31115g4 12gb 1tb 156"
          ],
          [
           "silla escritorio trust gxt 707 resto gamer ergonmica black red tapizado cuero sinttico"
          ],
          [
           "mouse juego vsg hero negro"
          ],
          [
           "disco slido ssd interno adata ultimate su650 asu650ss240gtr 240gb negro"
          ],
          [
           "portatil lenovo amd ryzen 5 5500u ssd 512 hdd 1tb ram 16gb"
          ],
          [
           "torre cpu intel core i5 10400 uhd 630 1tb 16gb pc"
          ],
          [
           "teclado gamer redragon kumara k552 qwerty outemu blue espaol latinoamrica color blanco luz rgb"
          ],
          [
           "mouse juego zelotes t80 negro"
          ],
          [
           "apple macbook pro 16 pulgadas intel core i7 512 gb ssd 16 gb ram amd radeon pro 5300m gris espacial"
          ],
          [
           "torre cpu gamer ryzen 5 5600g vega 7 1tb 16gb led 22 pc"
          ],
          [
           "monitor gamer samsung t45f f24t45 lcd 24 negro 100v240v"
          ],
          [
           "mouse juego logitech g series hero g502 negro"
          ],
          [
           "portatil hp 15 ef2126wm ryzen 55500u 8gb 256 gb ssd win 11"
          ],
          [
           "pc torre gamer core i5 3470 8gb ram tarjeta video r5 340 2gb"
          ],
          [
           "teclado gamer weibo wb539 qwerty espaol espaa color negro luz 3 colores"
          ],
          [
           "disco slido ssd interno crucial ct500mx500ssd1 500gb"
          ],
          [
           "laptop asus vivobook e410ma azul elctrica 14 intel celeron n4020 4gb ram 128gb ssd intel uhd graphics 600 60 hz 1366x768px windows 10 home"
          ],
          [
           "monitor gamer curvo samsung c27r500fhl led 27 dark blue gray 100v240v"
          ],
          [
           "torre gamer rgb amd ryzen 5 5600g 16gb ssd 240 win11 pd"
          ],
          [
           "teclado gamer redragon dragonborn k630 qwerty redragon brown ingls us color negro luz rgb"
          ],
          [
           "laptop dell inspiron 3505 negra 156 amd ryzen 5 3450u 8gb ram 256gb ssd amd radeon rx vega 8 ryzen 20003000 60 hz 1366x768px windows 10 home"
          ],
          [
           "mouse pad xtech voyager xta180 tela caucho 18cm x 22cm x 02cm negroazul"
          ],
          [
           "mouse juego redragon cobra chroma m711 negro"
          ],
          [
           "computador intel core i5 11400 uhd 730 1tb 8gb led 22 pc"
          ],
          [
           "asus m415dabv797 14 ryzen 3 8gb 256gb morral mouse"
          ],
          [
           "audfonos gamer hyperx cloud stinger negro"
          ],
          [
           "adaptador convertidor cable hdmi vga 1080p bogot"
          ],
          [
           "mouse inalmbrico logitech m170 negro"
          ],
          [
           "laptop asus vivobook k513ea plateada 156 intel core i7 1165g7 8gb ram 512gb ssd intel iris xe graphics g7 96eus 1920x1080px freedos"
          ],
          [
           "torre gamer arranque i5 10400 ssd 480gb 16gb ram"
          ],
          [
           "disco slido ssd interno adata swordfish aswordfish500gc 500gb"
          ],
          [
           "audfonos gamer inalmbricos logitech g series g435 negro amarillo fluorescente"
          ],
          [
           "portatil asus x415 intel cel solido 256gb ssd ram 4gb win10"
          ],
          [
           "cpu torre pc intel core i5 10400 ssd 240gb ram 8gb"
          ],
          [
           "audfonos gamer kotion g2000 negro rojo luz led"
          ],
          [
           "impresora color multifuncin canon pixma g3110 wifi negra 110v220v"
          ],
          [
           "laptop lenovo ideapad 14igl05 ice blue 14 intel celeron n4020 4gb ram 128gb ssd intel uhd graphics 600 1366x768px windows 10 home"
          ],
          [
           "servidor dell power edge t40 intel xeon 35 ghz 16g 1tb"
          ],
          [
           "impresora color simple funcin epson ecotank l121 negra 110v"
          ],
          [
           "disco duro interno toshiba mq04abf series mq04abf100 1tb"
          ],
          [
           "laptop asus vivobook x543ua gris oscura 156 intel core i5 8250u 4gb ram 256gb ssd intel uhd graphics 620 1920x1080px windows 10 home"
          ],
          [
           "impresora color multifuncin epson ecotank l3210 negra 110v"
          ],
          [
           "torre gamer amd ryzen 3 3200g ssd 480gb ram 16gb vega 8 2gb"
          ],
          [
           "disco slido ssd interno kingston sa400s37960g 960gb"
          ],
          [
           "asus strix g15 ryzen 7 5800h rtx 3050 16g 512g 144h portatil"
          ],
          [
           "teclado bluetooth logitech k380 qwerty espaol color negro"
          ],
          [
           "mouse pad gamer logitech g240 tela clsico 280mm x 340mm x 1mm negroblanco"
          ],
          [
           "torre pc gamer ryzen 5 5600g 16gb ram disco ssd 500 gb"
          ],
          [
           "laptop dell vostro 3405 negra 14 amd ryzen 5 3450u 8gb ram 256gb ssd amd radeon rx vega 8 60 hz 1366x768px linux ubuntu"
          ],
          [
           "disco slido ssd interno crucial ct500p2ssd8 500gb"
          ],
          [
           "disco slido ssd interno adata ultimate su650 asu650ss480gtr 480gb negro"
          ],
          [
           "mouse juego logitech g series lightsync g203 azul"
          ],
          [
           "apple macbook air 13 pulgadas 2020 chip m1 512 gb ssd 8 gb ram plata"
          ],
          [
           "torre cpu intel core i3 10100 uhd 630 1tb 8gb pc led 22"
          ],
          [
           "kit teclado mouse inalmbrico logitech mk220 espaol color negro"
          ],
          [
           "memoria ram premier 4gb 1 adata ad4s2666j4g19s"
          ],
          [
           "laptop gamer acer predator helios 300 ph31554 negra azul 156 intel core i7 11800h 16gb ram 512gb ssd nvidia geforce rtx 3060 144 hz 1920x1080px windows 11 home"
          ],
          [
           "pc torre gamer amd athlon 3000g ssd 240gb ram 16gb mon 22"
          ],
          [
           "mouse trackball inalmbrico recargable logitech mx ergo negro"
          ],
          [
           "fuente poder pc corsair cv series cv550 550w black 100v240v"
          ],
          [
           "porttil hp 255 g7 amd 3020e 8gb 1tb 156 radeon vega 3 dvd"
          ],
          [
           "mouse vertical inalmbrico recargable delux m618 mini jet black"
          ],
          [
           "cpu torre pc intel core i5 10400 ssd 240gb ram 16gb"
          ],
          [
           "monitor gamer lg ultrawide 29wp60g led 29 negro 100v240v"
          ],
          [
           "laptop dell inspiron 3505 gris 156 amd ryzen 5 3450u 12gb ram 256gb ssd amd radeon rx vega 8 ryzen 20003000 60 hz 1366x768px windows 10 home"
          ],
          [
           "mouse inalmbrico logitech triathlon m720 negro"
          ],
          [
           "pc torre gamer amd ryzen 5 3600 ssd 1tb ram 16gb monitor 22"
          ],
          [
           "audfonos gamer redragon scylla negro"
          ],
          [
           "porttil dell core i3 11gen 12g ram 1tb dd 128g ssd 156"
          ],
          [
           "impresora simple funcin hp laserjet 107w wifi blanca negra 110v240v"
          ],
          [
           "monitor gamer lg ultragear 27gp850 lcd 27 negro 100v240v"
          ],
          [
           "torre cpu gamer core i7 9700 gpu 2gb hdmi 1tb 16gb pc"
          ],
          [
           "laptop asus x543ma star gray 156 intel celeron n4000 4gb ram 500gb hdd intel uhd graphics 600 60 hz 1366x768px windows 10 home"
          ],
          [
           "audfonos gamer kotion g2000 negro azul luz led"
          ],
          [
           "mouse pad gamer logitech g440 serie g caucho tela 280mm x 340mm x 3mm negro"
          ],
          [
           "audfonos gamer inalmbricos logitech g series g733 negro luz rgb led"
          ],
          [
           "porttil lenovo ryzen 7 16gb 512gb ssd legion 5 pro 16 grey"
          ],
          [
           "torre cpu gamer core i3 10100 gpu 2g hdmi 1tb 16gb led 22 pc"
          ],
          [
           "regulador voltaje unitec 2000va reales 8 tomas"
          ],
          [
           "tablet samsung galaxy tab s6 lite smp610 104 64gb angora blue 4gb memoria ram"
          ],
          [
           "portatil lenovo idepad3 15al ryzen 55500u 8gb 256 ssd almon"
          ],
          [
           "cpu torre pc intel core i5 10400 ssd 480gb ram 8gb"
          ],
          [
           "disco duro externo adata hd710 pro ahd710p2tu31 2tb amarillo"
          ],
          [
           "audfonos gamer redragon lamia rgb negro luz rgb led"
          ],
          [
           "laptop hp 240 g7 plateado ceniza oscuro 14 intel core i3 1005g1 8gb ram 1tb hdd intel uhd graphics g1 ice lake 32 eu 1366x768px windows 10 home"
          ],
          [
           "mouse juego logitech g series hero g502 kda"
          ],
          [
           "pc computador gamer amd ryzen 7 ssd 1tb ram 16gb nvidia 2gb"
          ],
          [
           "mouse juego redragon impact m908 negro"
          ],
          [
           "computador portatil huawei 156 pulgadas matebook d intel"
          ],
          [
           "base soporte porttil laptop plegable aluminio ergonmica"
          ],
          [
           "apc backups pro br1500m2lm 1500va entrada salida 120v negro"
          ],
          [
           "torre gamer ryzen 5 5600g 16gb ram ssd 480gb pcolombia"
          ],
          [
           "portatil hp 245 g7 amd a4 9125 26ghz 1 tera 8gb radeon r3"
          ],
          [
           "monitor gamer lg 27gl650f led 27 negro 100v240v"
          ],
          [
           "kit teclado mouse inalmbrico logitech mk470 espaol color negro"
          ],
          [
           "imac apple chip m1 2021 24 45k 8gb ram 256gb ssd nuevo"
          ],
          [
           "porttil lenovo ideapad 3 ryzen 5 5500u 8gb 1tb 14 huella"
          ],
          [
           "switch tplink tlsf1005d"
          ],
          [
           "monitor gamer lg 27mp400 led 27 negro 100v240v"
          ],
          [
           "memoria ram valueram color verde 8gb 1 kingston kvr24s17s88"
          ],
          [
           "lenovo ideapad ryzen 5 5600h rtx 3050 ram 16gb 512g 120h"
          ],
          [
           "dekstop hp pavilion gaming tg01103la"
          ],
          [
           "mouse pad gamer redragon flick caucho tela xl 400mm x 900mm x 4mm negro"
          ],
          [
           "mouse juego logitech g series hero 16k g502 negro"
          ],
          [
           "porttil dell vostro 3400 i51135g7 16gb ssd 250 1tb win10"
          ],
          [
           "torre tipo gamer i54570 ssd 240gb ram 8gb"
          ],
          [
           "tablet samsung galaxy tab a7 lite smt220 87 64gb plateada 4gb memoria ram"
          ],
          [
           "disco slido ssd interno kingston nv1 snvs500g 500gb"
          ],
          [
           "laptop asus vivobook x543ua gris oscura 156 intel core i3 6100u 4gb ram 1tb hdd intel hd graphics 520 1366x768px windows 10 home"
          ],
          [
           "control joystick logitech extreme 3d pro negro"
          ],
          [
           "torre gamer ryzen 5 16gb ram discos1000gb ssd 240 gb"
          ],
          [
           "mouse inalmbrico recargable logitech master series mx master 3 grafito"
          ],
          [
           "portatil asus x543ua gq3521 core i5 8250u ram 8gb ssd 512gb"
          ],
          [
           "audfonos gamer redragon zeus 2 negro"
          ],
          [
           "mouse inalmbrico logitech pebble m350 rosa"
          ],
          [
           "computador clone intel core i5 34ghz8gb10tbmon22 nuevo"
          ],
          [
           "porttil asus m513i ryzen 7 4700u 12gb ssd 512gb vega 10 win"
          ],
          [
           "tableta digitalizadora wacom intuos s bluetooth black"
          ],
          [
           "router mercusys mw301r v1 blanco 220v"
          ],
          [
           "memoria ram premier color verde 8gb 1 adata ad4s320088g22sgn"
          ],
          [
           "porttil lenovo ci5 8gb 512gb ssd ip gaming 3 156 negro"
          ],
          [
           "torre cpu intel pentium g6400 uhd 610 1tb 16gb pc"
          ],
          [
           "tablet samsung galaxy tab s6 lite smp610 104 64gb oxford gray 4gb memoria ram"
          ],
          [
           "mouse vertical inalmbrico trust verro negro"
          ],
          [
           "porttil hp 245 g7 amd athlon 3020e 8gb 1tb ssd 240gb win"
          ],
          [
           "torre cpu intel core i9 10900 uhd 630 1tb 32gb pc"
          ],
          [
           "hub multipuerto multiplicador usb gs"
          ],
          [
           "disco slido ssd externo sandisk extreme sdssde611t00g25 1tb negro"
          ],
          [
           "porttil asus x415j intel i5 1035g1 8gb256 gb ssd 14 fhd"
          ],
          [
           "torre tipo gamer intel i3 3220 ssd 240gb ram 8gb"
          ],
          [
           "mouse juego inalmbrico redragon m601wlba negro rojo"
          ],
          [
           "access point router sistema wifi mesh tplink deco e4 blanco 100v240v"
          ],
          [
           "porttil hp 15ef1005la athlon 3020e 8gb ssd 128gb windows"
          ],
          [
           "monitor gamer curvo samsung c24rg5 lcd 235 negro 100v240v"
          ],
          [
           "torre cpu gamer core i5 10400 gpu 2gb hdmi 1tb 16gb pc"
          ],
          [
           "mouse juego logitech g series lightsync g203 lila"
          ],
          [
           "laptop lenovo ideapad 15iml05 abyss blue 156 intel core i3 10110u 8gb ram 256gb ssd intel uhd graphics 620 1366x768px freedos"
          ],
          [
           "audfonos genius hs200c negro"
          ],
          [
           "procesador amd ryzen 7 5700g 100100000263box 8 ncleos 46ghz frecuencia grfica integrada"
          ],
          [
           "pc core i7 nov gen 8gb1tera monitor 215 tecladomouse"
          ],
          [
           "laptop hp 240 g7 plateado ceniza oscuro 14 intel celeron n4100 4gb ram 500gb hdd intel uhd graphics 600 1366x768px windows 10 home"
          ],
          [
           "kit teclado mouse inalmbrico logitech mk345 espaol latinoamrica color negro"
          ],
          [
           "switch tplink tlsg1024d"
          ],
          [
           "teclado bluetooth logitech k380 qwerty espaol color rosa"
          ],
          [
           "porttil dell 3505 ryzen 5 3500u 8gb ssd 2561tb 156 win10"
          ],
          [
           "pc equipo torre gamer amd ryzen 5600g ssd 240gb ram 16gb"
          ],
          [
           "mouse juego inalmbrico recargable logitech pro series pro x superlight blanco"
          ],
          [
           "mouse pad redragon p003 suzaku caucho tela xl 300mm x 800mm x 3mm negrorojo"
          ],
          [
           "porttil lenovo e4155 ryzen 33250u 8gb ssd 256gb 14"
          ],
          [
           "cpu torre pc gamer amd ryzen 7 5700g ssd 480 hdd 1tb ram 16"
          ],
          [
           "mouse pad xtech colonist xta181 tela 18cm x 22cm x 02cm negro"
          ],
          [
           "mouse trackball inalmbrico logitech ergo m575 negro"
          ],
          [
           "asus tuf dash 15 i7 11370h rtx 3050 8g 144h portatil game"
          ],
          [
           "torre cpu amd ryzen 9 5900x gpu hdmi 1tb 16gb pc"
          ],
          [
           "base refrigerante a2 cooling pad 2 ventiladores 6 nivelesgs"
          ],
          [
           "apple ipad air 109 wifi 64gb gris espacial 4 generacin"
          ],
          [
           "laptop lenovo vseries v14iil iron gray 14 intel core i3 1005g1 8gb ram 256gb ssd intel uhd graphics g1 1366x768px windows 10 pro"
          ],
          [
           "ereader kindle paperwhite 10 gen 32gb negro pantalla 6 300ppp"
          ],
          [
           "pc intel core i5 9400 ram 8gb 1 tera monitor 22 teclmous"
          ],
          [
           "mouse juego redragon centrophorus2 m601rgb black"
          ],
          [
           "portatil asus fx506lh core i510300h 512 ssd 8 gb gtx 1650"
          ],
          [
           "mouse juego xtrike gm216 negro"
          ],
          [
           "disco slido ssd interno western digital wd green wds100t3g0a 1tb verde"
          ],
          [
           "torre cpu gamer ryzen 9 5900x gpu 2gb hdmi 1tb 16gb pc"
          ],
          [
           "portatil lenovo amd ryzen 5 5500u ssd 512 hdd 1tb ram 20gb"
          ],
          [
           "disco slido ssd interno patriot burst elite pbe120gs25ssdr 120gb"
          ],
          [
           "mouse logitech m90 negro"
          ],
          [
           "bocina logitech s120 black"
          ],
          [
           "computador porttil asus x543 core i5 256gb ssd 12gb ram"
          ],
          [
           "torre cpu gamer ryzen 7 5800x gpu 2gb hdmi 1tb 16gb pc"
          ],
          [
           "mouse juego inalmbrico recargable logitech pro series pro x superlight negro"
          ],
          [
           "monitor gamer lg 24mk430h led 238 negro 100v240v"
          ],
          [
           "portatil asus x509uaej345 core i3 4gb ssd 256gb 156 fhd"
          ],
          [
           "torre cpu gamer ryzen 5 5600g vega 7 1tb 16gb pc"
          ],
          [
           "disco slido ssd interno western digital wd green sn350 wds240g2g0c 240gb"
          ],
          [
           "apple ipad pro 129 wifi 256gb gris espacial 5 generacin"
          ],
          [
           "porttil dell 14 3405 ryzen 53450u 16gb 256gb 1tb"
          ],
          [
           "kit teclado mouse inalmbrico logitech mk540 espaol latinoamrica color negro"
          ],
          [
           "cpu torre pc gamer amd ryzen 7 5700g ssd 128 hdd 1tb ram 16"
          ],
          [
           "memoria usb kingston datatraveler exodia dtx32 32gb 32 gen 1 negro"
          ],
          [
           "lenovo legion 5 pro ryzen 7 5800h rtx 3060 2k 165h portatil"
          ],
          [
           "memoria usb sandisk ultra flair 32gb 30 plateado negro"
          ],
          [
           "cpu torre pc gamer amd ryzen 5 5600g ssd 240 hdd 1tb ram 16"
          ],
          [
           "teclado genius slimstar 126 qwerty espaol color negro"
          ],
          [
           "laptop hp pavilion 15eh0011la azul 156 amd ryzen 7 4700u 16gb ram 512gb ssd amd radeon rx vega 7 1920x1080px windows 10 home"
          ],
          [
           "impresora simple funcin hp neverstop 1000w wifi blanca gris 110v240v"
          ],
          [
           "kit 4 tintas epson 544 original t544 l1110l3110"
          ],
          [
           "torre cpu gamer core i7 9700 gpu 2gb hdmi 1tb 16gb led 22 pc"
          ],
          [
           "lenovo ideapad ryzen 5600h rtx 3050 8g 512g 120h portatil"
          ],
          [
           "disco duro interno western digital wd purple wd10purz 1tb prpura"
          ],
          [
           "impresora color multifuncin hp deskjet ink advantage 2775 wifi blanca 100v240v"
          ],
          [
           "disco duro externo western digital wd elements portable wdbu6y0020bbk 2tb negro"
          ],
          [
           "laptop gamer msi thin gf63 negra 156 intel core i5 10300h 8gb ram 512gb ssd nvidia geforce gtx 1650 maxq 60 hz 1920x1080px windows 10 home"
          ],
          [
           "pc gamer ryzen 5 5600g 16gb ssd 240 monitor 22 win11 pd"
          ],
          [
           "fuente poder pc corsair cv series cv650 650w black 100v240v"
          ],
          [
           "soporte north bayou nb h80 mesa tvmonitor 17 30 negroblanco"
          ],
          [
           "portatil hp 245 g7 amd 3020e 14 4gb 1 tera linux negro"
          ],
          [
           "torre cpu gamer athlon 3000g vega 3 1tb 16gb led 22 pc"
          ],
          [
           "disco duro interno western digital wd black wd10spsx 1tb"
          ],
          [
           "disco duro externo adata hd710 pro ahd710p1tu31 1tb negro"
          ],
          [
           "dell inspiron 15 3501 core i31005g1 8gb ssd 256 gb 156plg"
          ],
          [
           "teclado bluetooth logitech k780 qwerty espaol latinoamrica color negro blanco"
          ],
          [
           "torre cpu gamer core i5 10400 gpu 2g hdmi 1tb 16gb led 22 pc"
          ],
          [
           "mouse microsoft bluetooth negro mate"
          ],
          [
           "portatil hp ryzen 5 5500u 16gb 512gb ssd 156 fhd windows 11"
          ],
          [
           "pasta trmica disipadora arctic mx4 4g original sellada"
          ],
          [
           "torre cpu gamer janus ryzen 5 4650g ssd 240 hdd 1tb ram 16"
          ],
          [
           "disco duro externo adata hd710 pro ahd710p2tu31 2tb negro"
          ],
          [
           "porttil asus laptop x509ua 15 core i3 8gb 256gb ssd endless"
          ],
          [
           "tablet samsung galaxy a7 lite smt225 87 red mvil 64gb gris 4gb memoria ram"
          ],
          [
           "bocina logitech s150 porttil black"
          ],
          [
           "torre cpu intel core i7 12700 uhd 770 1tb 16gb pc"
          ],
          [
           "porttil asus x513e core i5 1135g7 12 gb 512 ssd iris xe"
          ],
          [
           "disco duro externo adata hd710 pro ahd710p4tu31 4tb negro"
          ],
          [
           "repetidor router tenda ac23 negro 100v240v"
          ],
          [
           "audfonos gamer jbl quantum 200 negro"
          ],
          [
           "portatil lenovo idepad3 15al ryzen 55500u 8gb 256 ssd blue"
          ],
          [
           "pc computador gamer amd ryzen 7 5700g ssd 480 hdd 1tb ram 16"
          ],
          [
           "disco duro externo western digital wd elements wdbuzg0010bbk 1tb negro"
          ],
          [
           "memoria usb kingston datatraveler 100 g3 dt100g3 16gb 30 negro"
          ],
          [
           "porttil lenovo ryzen 5 5500u ram 20gb ssd256gb fhd 156 w10"
          ],
          [
           "pc torre gamer ryzen 3 3200g a320m ssd 240gb ram 8gb mon 22"
          ],
          [
           "funda portatil protector teclado silicona 14 15 gs"
          ],
          [
           "disco duro interno western digital wd10spzx 1tb azul"
          ],
          [
           "porttil asus x543ma celeron n4020 4gb ssd 128gb endless 15"
          ],
          [
           "bocina hp dhe6000 black"
          ],
          [
           "pc torre intel core i5 10400 ssd 240 hdd 1tb ram 16gb mon 22"
          ],
          [
           "tablet samsung galaxy tab s7 fe with s pen smt733 124 128gb mystic silver 6gb memoria ram"
          ],
          [
           "portatil asus k513eabq370 core i7 1165g7 8gb 256gb 156"
          ],
          [
           "mouse juego inalmbrico recargable logitech g series lightspeed g502 negro"
          ],
          [
           "disco duro externo adata dashdrive durable hd680 ahd6801tu31 1tb azul"
          ],
          [
           "equipo torre intel core i5 disco 1000gb ram 8gb monitor 22"
          ],
          [
           "nuevo macbook pro 2021 14 pulgadas 16 gb ram 14 nucleos"
          ],
          [
           "cable convertidor hdmi vga pc laptop tv monitor pasivo"
          ],
          [
           "teclado gamer redragon yama k550 qwerty outemu purple espaol latinoamrica color negro luz rgb"
          ],
          [
           "cpu torre pc gamer intel core i5 10400 ssd 240gb nvidia 1030"
          ],
          [
           "laptop asus vivobook x543ua gray 156 intel core i5 8250u 8gb ram 1tb hdd intel uhd graphics 620 1366x768px windows 10 home"
          ],
          [
           "disco duro externo seagate expansion stea2000400 2tb negro"
          ],
          [
           "memoria ram color verde 8gb 1 crucial ct8g4sfs8266"
          ],
          [
           "disco slido ssd interno adata ultimate su650 asu650ns38240gtc 240gb"
          ],
          [
           "computador portatil asus x543 core i5 256gb ssd 8gb ram"
          ],
          [
           "sistema pos facturacion inventarios registradora balanza inc"
          ],
          [
           "monitor gamer aoc g2 24g2 led 24 negro rojo 100v240v"
          ],
          [
           "pad mouse ergonmico soporte gel gs"
          ],
          [
           "porttil dell 3505 ryzen 5 3450u 16gb ssd 256gb 156 win10"
          ],
          [
           "pc torre nuevo economico 16gb ram ssd 240gb gabinete gamer"
          ],
          [
           "access point repetidor router tenda f6 blanco 100v240v"
          ],
          [
           "tableta digitalizadora wacom one by wacom ctl472 negra roja"
          ],
          [
           "portatil lenovo amd ryzen 5 5500u ssd 512 hdd 1tb ram 12gb"
          ],
          [
           "base soporte porttil ergonmicareclinable 7 niveles"
          ],
          [
           "pc torre gamer core i3 10100 8 ram tarjeta video r5 340 2gb"
          ],
          [
           "audfonos gamer logitech g series g335 negro"
          ],
          [
           "portatil asus x543ua intel corei5 156 8 ram 512 ssd endless"
          ],
          [
           "access point router sistema wifi mesh tplink deco m5 blanco 100v240v"
          ],
          [
           "caddy adaptador segundo disco duro sata ssd cd dvd 95mm"
          ],
          [
           "torre gamer athlon 3000g ssd 240 hdd 1tb ram 8gb vega 3 2gb"
          ],
          [
           "computador portatil lenovo ryzen 3 ram 4gb solido ssd 256gb"
          ],
          [
           "memoria ram color verde 16gb 1 crucial ct16g4sfra266"
          ],
          [
           "fuente poder pc corsair cv series cv450 450w black 100v240v"
          ],
          [
           "router range extender access point wisp mercusys mw302r v1 blanco"
          ],
          [
           "computador portatil asus ryzen 3 ssd 256 gb 8gb ram"
          ],
          [
           "torre gamer i5 10400 board b460 grafica doble disco"
          ],
          [
           "memoria ram premier color verde 8gb 1 adata ad4s266638g19s"
          ],
          [
           "mouse inalmbrico hp z3700 azul"
          ],
          [
           "porttil lenovo ideapad 3 ryzen 5 5500u 20gb 1tb 256gb"
          ],
          [
           "torre cpu gamer amd ryzen 5 5600g ssd 1tb ram 16gb rgb"
          ],
          [
           "disco slido ssd interno gigabyte gpgstfs31480gntd 480gb negro"
          ],
          [
           "router wisp access point repetidor tenda ac8 negro 100v240v"
          ],
          [
           "laptop lenovo thinkbook 14 iml mineral gray 14 intel core i3 10110u 8gb ram 1tb hdd intel uhd graphics 1920x1080px windows 10 pro"
          ],
          [
           "torre cpu gamer ryzen 5 5600g ssd 120g hdd 1tb ram 16g rgb"
          ],
          [
           "fuente poder pc cougar vtc series cgr bs600 600w negra 100v240v"
          ],
          [
           "router tplink tlwr850n blanco"
          ],
          [
           "portatil asus x543uagq3521 corei5 156 8ram 512 ssd endless"
          ],
          [
           "tablet amazon fire hd 8 2020 kfonwi 8 32gb twilight blue 2gb memoria ram"
          ],
          [
           "pc torre nuevo economico 16gb ram ssd 240gb actualizable"
          ],
          [
           "regulador voltaje automtico unitec u1200 8 tomas 1200va"
          ],
          [
           "portatil corporativo lenovo t460 core i5 6th 16gb 500 ssd"
          ],
          [
           "mouse juego inalmbrico logitech g series lightspeed g305 white"
          ],
          [
           "teclado gamer nibio strike k200 qwerty color negro luz rgb"
          ],
          [
           "pc torre gamer basico 16gb ram ssd 240gb actualizable"
          ],
          [
           "dell inspiron 15 3501 intel core i31005g1 8gb 1tb 156"
          ],
          [
           "monitor gamer lg 20mk400h led 195 negro 100v240v"
          ],
          [
           "ereader kindle paperwhite 10 gen 8gb negro pantalla 6 300ppp"
          ],
          [
           "teclado microsoft lxn00003 qwerty espaol espaa color negro"
          ],
          [
           "porttil ideapad 3 ryzen 7 12gb 512gb ssd 156 gris"
          ],
          [
           "pc torre gamer amd athlon 3000g hdd 1tb ram 16gb mon 22"
          ],
          [
           "impresora color simple funcin epson surecolor f170 wifi blanca 100v240v"
          ],
          [
           "monitor gamer asus eye care va27ehe led 27 negro 100v240v"
          ],
          [
           "porttil asus x415eaek021 corei31115g4 4gb 256ssd 14 fhd"
          ],
          [
           "ryzen 7 5700g pc gamer 16gb ram gabinete rgb ventiladores"
          ],
          [
           "mouse vertical ergonmico gs"
          ],
          [
           "tablet samsung galaxy tab a7 lite smt220 87 32gb plateada 3gb memoria ram"
          ],
          [
           "apple macbook air 13 pulgadas 2020 chip m1 512 gb ssd 8 gb ram gris espacial"
          ],
          [
           "torre cpu intel core i3 10100 uhd 630 1tb 8gb pc"
          ],
          [
           "disco duro externo toshiba canvio advance hdtc940x 4tb negro"
          ],
          [
           "mouse inalmbrico genius nx7000 calm black"
          ],
          [
           "portatil asus k513ea oled corei51135g7 8gb 256ssd iris plus"
          ],
          [
           "impresora multifuncin hp laserjet pro 135w wifi blanca negra 110v 127v mfp 135w"
          ],
          [
           "torre gamer amd ryzen 3 3200g ssd 240gb ram 8gb"
          ],
          [
           "camara web 1080p pc laptop usb web cam microfono"
          ],
          [
           "porttil lenovo ideapad 3 ryzen 3 4300u 4gb ssd 256g freedos"
          ],
          [
           "mouse vertical trust verto ergonomic negro"
          ],
          [
           "memoria ram xlr8 gaming epicx rgb gamer color negro 8gb 1 pny md8gd4320016xrgb"
          ],
          [
           "equipo intel i5 4570 ssd 240gb 8gb 600w monitor 22"
          ],
          [
           "lenovo legin ryzen 7 5800h rtx 3050ti 32g 512 165h portatil"
          ],
          [
           "tablet lenovo tab m10 fhd plus 2nd gen tbx606f 103 128gb platinum gray 4gb memoria ram"
          ],
          [
           "disco duro externo adata ahd3301tu31 1tb azul"
          ],
          [
           "kit teclado mouse inalmbrico logitech mk295 espaol color negro"
          ],
          [
           "macbook air 13 2020 m1 256 gb 8 gb ram espaol"
          ],
          [
           "torre gamer i5 10400 disco ssd board b460 grafica"
          ],
          [
           "disco slido ssd externo samsung t5 mupa1t0b 1tb negro"
          ],
          [
           "mouse vertical inalmbrico recargable logitech mx vertical negro"
          ],
          [
           "porttil lenovo ideapad 3 ryzen 5 5500u 8gb 1tb 14 huella"
          ],
          [
           "pc cpu gamer core i5 12 generacion 8 gb ssd 240"
          ],
          [
           "audfonos inalmbricos logitech h600 black"
          ],
          [
           "disco duro externo adata hd710 pro ahd710p5tu31 5tb negro"
          ],
          [
           "laptop lenovo vseries v15igl iron gray 156 intel celeron n4020 4gb ram 500gb hdd intel uhd graphics 600 1366x768px windows 10 home"
          ],
          [
           "tableta digitalizadora huion 420 black"
          ],
          [
           "cpu gamer core i5 11 gen mem 16 gb dduro 1 tb ssd 240"
          ],
          [
           "disco slido ssd interno samsung 980 mzv8v1tobw 1tb negro"
          ],
          [
           "laptop hp 240 g7 gris 14 intel celeron n4020 8gb ram 1tb hdd intel uhd graphics 600 1366x768px windows 10 home"
          ],
          [
           "disco duro interno seagate barracuda st4000dm004 4tb"
          ],
          [
           "torre pc work station pro"
          ],
          [
           "disco slido ssd interno adata falcon afalcon512gc 512gb"
          ],
          [
           "computador porttil lenovo cpu amd 3020e 8gb1tb 14p"
          ],
          [
           "ereader kindle 10 gen 4gb negro pantalla 6 167ppp"
          ],
          [
           "disco duro externo toshiba canvio basics hdtb440xk3ca 4tb negro"
          ],
          [
           "pc torre gamer amd ryzen 5 3600 m2 512gb ram16gb nvidia 2gb"
          ],
          [
           "porttil msi gf65 thin core i7 32gb 512gb gtx 1660ti 156"
          ],
          [
           "access point interior mikrotik routerboard hap lite rb9412ndtc azul blanco"
          ],
          [
           "impresora color multifuncin epson ecotank l3110 negra 110v"
          ],
          [
           "access point repetidor tplink tlwa855re blanco"
          ],
          [
           "portatil asus pro m3401qc ryzen 75800h 16gb 512ssd rtx3050"
          ],
          [
           "pc gamer torre power ryzen 5 3600 ssd 480gb ram 16gb gt 1030"
          ],
          [
           "monitor gamer lg 32gn650 led 315 negro 100v240v"
          ],
          [
           "soporte base computador portatil ajustable plegableobsequio"
          ],
          [
           "porttil dell intel core i3 11 gen 8ram 1tb 128ssd 156"
          ],
          [
           "pc computador gamer amd ryzen 7 5700g ssd 1tb ram 16gb 22"
          ],
          [
           "mouse juego logitech g series prodigy g203 white"
          ],
          [
           "mouse pad gamer logitech g640 serie g tela logitech l 400mm x 460mm x 3mm negro"
          ],
          [
           "portatil asus x543uagq2087 core i3 1tb 8gb 156 hd endless"
          ],
          [
           "kit teclado mouse gamer redragon s101ba espaol color negro"
          ],
          [
           "hp pavilion torre gamer i5 11400f gtx 1650 8gb 512gb"
          ],
          [
           "ups chicago digital power rseries rupr508 500va entrada salida 120v ca negro"
          ],
          [
           "porttil hp 15ef1005la athlon 3020e 4gb ssd 128gb windows"
          ],
          [
           "mini teclado inalmbrico airmouse android smart tv iluminado"
          ],
          [
           "switch tplink tlsf1008d"
          ],
          [
           "pc computador gamer amd ryzen 7 5700g ssd 480gb ram 16gb 22"
          ],
          [
           "dell inspiron 15 3501 core i31115g4 8gb ssd 256 gb 156plg"
          ],
          [
           "access point router sistema wifi mesh tplink deco e4 blanco 100v240v 3 unidades"
          ],
          [
           "disco slido ssd interno crucial ct1000mx500ssd1 1tb"
          ],
          [
           "pc equipo gamer ryzen 5 5600x ssd 480gb hdd 1tb ram 16gb"
          ],
          [
           "portatil lenovo s145 ci5 10gen ssd 240 gb 1tb ram 12gb"
          ],
          [
           "router huawei b311521 blanco 100v240v"
          ],
          [
           "monitor gamer aoc 27g2 led 27 negro 100v240v"
          ],
          [
           "receptor usb bluetooth pc mac control ps4 xbox one"
          ],
          [
           "porttil asus x415j intel i5 1035g1 12gb256gb ssd 14 fhd"
          ],
          [
           "pc torre gamer amd ryzen 5 3600 ssd 1tb ram 16gb mon 22"
          ],
          [
           "apple ipad 9 generacin 102 wifi 256gb gris espacial"
          ],
          [
           "impresora color multifuncin epson ecotank l3250 wifi negra 110v"
          ],
          [
           "computador porttil hp 240 g7 intel celeron ram 8gb hdd 1 tb"
          ],
          [
           "pc torre gamer core i5 9400 ssd 480 hdd 1tb ram 16gb mon 22"
          ],
          [
           "audfonos gamer kotion each g4000 negro rojo"
          ],
          [
           "mouse vertical zelotes t20 negro"
          ],
          [
           "macbook air 13 8gb 256gb m1 modelo 2020 sellado"
          ],
          [
           "cargador computador macbook pro 2012 13 pulgadas 60w"
          ],
          [
           "torre gamer intel i7 4790 ssd 240gb ram 8gb fuente 600w"
          ],
          [
           "tarjeta video nvidia asus phoenix geforce gtx 16 series gtx 1650 phgtx1650o4g oc edition 4gb"
          ],
          [
           "portatil asus k513e core i5 11va ssd 256gb 8gb 156 oled fhd"
          ],
          [
           "memoria ram valueram color verde 2gb 1 kingston kvr1333d3n92g"
          ],
          [
           "regulador automtico voltaje 1200va 8 tomas protegidas"
          ],
          [
           "pc gamer ryzen 5 pro 4650g 16 120gb ssd 1tb monitor 22"
          ],
          [
           "portatil asus vivobook x415ja i3 1005g1 8gb ssd 256gb win 10"
          ],
          [
           "audfonos gamer logitech g series g433 black"
          ],
          [
           "caja externa case sata disco duro 25 usb 30 laptop port"
          ],
          [
           "base soporte porttil laptop plegable gs"
          ],
          [
           "apple macbook pro 13 pulgadas 2020 chip m1 512 gb ssd 8 gb ram plata"
          ],
          [
           "imac apple chip m1 8gb 256gb azul pantalla 45k 24"
          ],
          [
           "kit 4 tintas canon gl190 originales g2100 g3100 g4100"
          ],
          [
           "filamento pla 175mm impresin 3d"
          ],
          [
           "portatil asus proces ryzen 5 ram 12gb doble disco 512ssd1tb"
          ],
          [
           "torre gamer i5 10400 disco ssd240 board b460 grafica"
          ],
          [
           "audfonos genius hs02b azul"
          ],
          [
           "apple ipad air 109 wifi 64gb verde 4 generacin"
          ],
          [
           "laptop hp 240 g7 plateado ceniza oscuro 14 intel celeron n4020 4gb ram 500gb hdd intel uhd graphics 600 1366x768px windows 10 home"
          ],
          [
           "computador intel core i5 9400 uhd 630 1tb 8gb led 22 pc"
          ],
          [
           "funda estuche portatil impermeable protector teclado pd"
          ],
          [
           "mouse juego redragon griffin m607 blanco"
          ],
          [
           "porttil lenovo ideapad 3 ryzen 3 4300u 12gb 1tb 250gb win"
          ],
          [
           "cable utp cat 6 gigabit red internet ponchado x 20 metros"
          ],
          [
           "cpu torre pc gamer amd ryzen 7 5700g ssd 1tb ram 16"
          ],
          [
           "tableta digitalizadora huion inspiroy h610 pro v2 black"
          ],
          [
           "porttil hp 15 pavilion 8gb 512gb ssd windows 10 obsequio"
          ],
          [
           "audfonos gamer kotion each g9000 black red"
          ],
          [
           "switch tplink tlsg1016d"
          ],
          [
           "torre cpu gamer ryzen 5 5600x ssd 480gb hdd 1tb ram 16gb"
          ],
          [
           "portatil hp 15eh0002la r54500u 8gb 512ssd 15 hd tn"
          ],
          [
           "disco duro interno western digital wd purple wd20purz 2tb prpura"
          ],
          [
           "mouse inalmbrico logitech m280 plateado"
          ],
          [
           "switch linksys se3005"
          ],
          [
           "portatil dell 3501 intel core i3 1115g4 ram 12gb 1tb 240gb"
          ],
          [
           "pc torre gamer amd ryzen 5 3600 ssd 480gb ram 16 monitor 22"
          ],
          [
           "router tplink archer c20 azul blanco 100v240v"
          ],
          [
           "disco duro interno western digital wd purple wd40purx 4tb prpura"
          ],
          [
           "portatil asus intel core i3 ram 8gb solido 256gb 156"
          ],
          [
           "torre pc gamer ryzen 5 5600g board 16gb ram disco ssd"
          ],
          [
           "disco slido ssd interno kingston sa400m8240g 240gb"
          ],
          [
           "micrfono trust gxt 212 22191 condensador omnidireccional negro"
          ],
          [
           "laptop lenovo chromebook c330 blizzard white tctil 116 mediatek mt8173c 4gb ram 64gb ssd powervr gx6250 1366x768px google chrome"
          ],
          [
           "pc computador gamer amd ryzen 7 ssd 240gb hdd 1tb ram 16gb"
          ],
          [
           "base soporte porttil ergonmica reclinable 6 niveles"
          ],
          [
           "audfonos gamer kotion each g9000 black blue"
          ],
          [
           "porttil asus m513 ryzen 7 4700u ram 16gb ssd 512gb rxvega 8"
          ],
          [
           "apple ipad 9 generacin 102 wifi 64gb color plata"
          ],
          [
           "pc gamer amd ryzen 5 5600g 16gb ram ssd m2 500gb nvme b450"
          ],
          [
           "mouse juego redragon cobra m711fps negro"
          ],
          [
           "m513ia asus vivobook amdryzen74700u 512ssd 16g"
          ],
          [
           "disco duro externo seagate expansion stea4000400 4tb negro"
          ],
          [
           "disco duro externo adata ahd3301tu31 1tb rojo"
          ],
          [
           "torre cpu intel core i5 9400 uhd 630 1tb 8gb pc"
          ],
          [
           "porttil asus laptop x415ma celeron 4gb 128gb ssd windows 10"
          ],
          [
           "access point exterior tplink pharos cpe210 blanco 110v220v"
          ],
          [
           "switch tplink tlsg105"
          ],
          [
           "impresora color multifuncin epson ecotank l5190 wifi negra 110v220v"
          ],
          [
           "nuevo macbook pro 2021 16 pulgadas 16 gb ram 16 nucleos"
          ],
          [
           "computador pc torre ultra rapida intel core i3 4130 8gb ram"
          ],
          [
           "mouse vertical inalmbrico recargable zelotes f35 negro"
          ],
          [
           "apc backups pro br br1100m2lm 1100va entrada salida 120v negro"
          ],
          [
           "porttil asus pro amd ryzen 7 5800h 16gb 512ssd 15 fhd oled"
          ],
          [
           "pc computador gamer amd ryzen 5 5600g ssd 480gb ram 16gb rgb"
          ],
          [
           "tablet lenovo tab m10 hd 2nd gen tbx306f 101 64gb iron gray 4gb memoria ram"
          ],
          [
           "ups powest micronet 2000 2000va entrada 110v220v salida 120v negro"
          ],
          [
           "porttil lenovo ideapad 3 ryzen 3 4300u 8gb 1tb windows 10"
          ],
          [
           "tableta digitalizadora wacom cintiq 16 black"
          ],
          [
           "pc computador gamer amd ryzen 5 5600g ssd 240 hdd 1tb ram 16"
          ],
          [
           "mouse pad genius gwmp 100 tela caucho 230mm x 250mm x 25mm negro"
          ],
          [
           "porttil asus x509uaej345 15 core i3 8gb 256gb ssd win 10"
          ],
          [
           "kindle amazon luz integrada 6pulg 10ma gen 8gb blanco"
          ],
          [
           "mesa gamer trust gxt 711 dominus"
          ],
          [
           "memoria ram fury ddr3 gamer color azul 8gb 1 hyperx hx316c10f8"
          ],
          [
           "porttil gamer asus rgb core i5 10a gen ram16gb 512gb ssd"
          ],
          [
           "teclado gamer genius scorpion k215 qwerty espaol color negro luz 7 colores"
          ],
          [
           "tableta digitalizadora xppen star g430s black"
          ],
          [
           "torre cpu gamer ryzen 9 5950x gpu 2gb hdmi 1tb 32gb pc"
          ],
          [
           "asus tuf f15 intel i7 11800h rtx 3060 16g 512g 144h portatil"
          ],
          [
           "micrfono trust mico 20378 condensador omnidireccional negro"
          ],
          [
           "switch tplink tlsg108"
          ],
          [
           "kit teclado mouse gamer redragon k551rgbba espaol latinoamrica color negro"
          ],
          [
           "porttil asus tuf fx506l core i5 h 10ma 20gb ssd 512g tv 4g"
          ],
          [
           "monitor gamer curvo asus tuf gaming vg27vq led 27 negro 100v240v"
          ],
          [
           "soporte ergonmico pc porttil plegable metalico"
          ],
          [
           "porttil asus pro m3500qal1224 ryzen7 16gb ssd512 156 fhd"
          ],
          [
           "torre cpu amd apu a6 7480 radeon r5 1tb 8gb pc"
          ],
          [
           "kit teclado mouse inalmbrico logitech mk295 espaol latinoamrica color negro"
          ],
          [
           "audfonos logitech h151 negro"
          ],
          [
           "portatil lenovo amd ryzen 5 5500u ssd 512 hdd 1tb ram 20gb"
          ],
          [
           "apple ipad pro 11 wifi 256gb gris espacial 3 generacin"
          ],
          [
           "torre cpu amd ryzen 9 5900x gpu hdmi 1tb 32gb pc"
          ],
          [
           "access point router sistema wifi mesh tplink deco m5 blanco 100v240v 3 unidades"
          ],
          [
           "porttil lenovo ryzen7 16gb 512gb ssd thinkbook 15 156gris"
          ],
          [
           "mouse genius dx110 usb negro suave"
          ],
          [
           "cable utp cat 6 gigabit red internet ponchado x 10 metros"
          ],
          [
           "pc equipo gamer amd ryzen 5 3400g ssd 240gb ram 16 led 22"
          ],
          [
           "portatil lenovo 315ada05 amd ryzen 5 3500u8gb256gb156"
          ],
          [
           "base soporte porttil laptop plegable gs"
          ],
          [
           "kit 4 tintas epson original l380 l395 l495 l375 l575 ecotank"
          ],
          [
           "torre cpu intel core i9 12900 uhd 770 1tb 16gb pc"
          ],
          [
           "porttil asus vivobook14 ryzen5 512gb ssd ram 8 gb huella"
          ],
          [
           "apple ipad air 109 wifi 64gb azul cielo 4 generacin"
          ],
          [
           "disco slido ssd interno pny ssd7cs900480rb 480gb negro"
          ],
          [
           "apple ipad air 109 wifi 64gb oro rosa 4 generacin"
          ],
          [
           "portatil lenovo idepad3 15al ryzen 55500u 8gb 256 ssd gris"
          ],
          [
           "torre cpu gamer core i9 11900 gpu 2gb hdmi 1tb 16gb pc"
          ],
          [
           "lpiz ptico capacitivo pasivo mac ipad android windows"
          ],
          [
           "adaptador usb tipo c ethernet gigabit rj45 lan cable red"
          ],
          [
           "portatil acer aspire intel ci5 10210u ssd 512 hdd 1tb ram 20"
          ],
          [
           "cpu gamer core i3 decima gen ram 8 gb disco 1tb ssd 240"
          ],
          [
           "adaptador vga hdmi audio convertidor pc porttil"
          ],
          [
           "impresora multifuncin hp laserjet 137fnw wifi blanca negra 110v240v"
          ],
          [
           "porttil lenovo v14 core i3 10th 12gb 1tb128gb 14 windows"
          ],
          [
           "memoria ram valueram color verde 8gb 1 kingston kvr1333d3n98g"
          ],
          [
           "torre cpu gamer athlon 3000g vega 3 1tb 16gb pc"
          ],
          [
           "impresora color multifuncin hp deskjet ink advantage 2375 blanca verde 100v240v"
          ],
          [
           "computador portatil hp 156 pulgadas r3 12gb ram 256gb ssd"
          ],
          [
           "teclado gamer xtrike gk979 qwerty blue ingls us color negro luz rainbow"
          ],
          [
           "tableta digitalizadora wacom intuos m bluetooth black"
          ],
          [
           "mesa gamer trust gxt 711 dominus"
          ],
          [
           "porttil dell vostro 14 3400 i51135g7 ram 16gb 1tb win10"
          ],
          [
           "procesador gamer amd ryzen 5 5600x 100100000065box 6 ncleos 46ghz frecuencia"
          ],
          [
           "disco slido ssd interno samsung 970 evo plus mzv7s1t0bw 1tb negro"
          ],
          [
           "disco duro interno western digital wd purple wd60purz 6tb prpura"
          ],
          [
           "porttil lenovo v130 intel n4000 8va gen 1tb 8gb obs win"
          ],
          [
           "torre cpu gamer core i9 11900 gpu 2gb hdmi 1tb 32gb pc"
          ],
          [
           "kindle amazon luz integrada 6pulg 10ma gen 8gb negra"
          ],
          [
           "disco slido ssd interno kingston nv1 snvs250g 250gb"
          ],
          [
           "portatil lenovo v14 are ryzen 7 12gb 1tb freedos 14"
          ],
          [
           "torre cpu gamer core i7 12700 gpu 2gb hdmi 1tb 8gb pc"
          ],
          [
           "audfonos gamer hyperx cloud ii gun metal luz led"
          ],
          [
           "combo inalmbrico teclado mouse gs"
          ],
          [
           "computador portatil lenovo amd 3020e 8gb ram 1tera 128ssd"
          ],
          [
           "torre intel i3 7100 ssd 240gb ram 8gb fuente 600w"
          ],
          [
           "teclado mano gamer redragon diti k585rgb outemu blue color negro luz rgb"
          ],
          [
           "mouse vertical ergonmico inalmbrico delux m618mini 6 keys"
          ],
          [
           "computador portatil lenovo amd 3020e 8gb ram 1tera 250ssd"
          ],
          [
           "disco duro interno western digital wd black wd5000lplx 500gb negro"
          ],
          [
           "computador intel core i7 11700 uhd 750 1tb 16gb led 22 pc"
          ],
          [
           "disco duro externo adata ahd3302tu31 2tb negro"
          ],
          [
           "portatil asus procesador i7 11 gen disco duro 512ssd ram 12"
          ],
          [
           "audfonos gamer logitech g series g635 negro luz rgb led"
          ],
          [
           "monitor gamer asus gaming vg248qg led 24 negro 100v240v"
          ],
          [
           "pc torre gamer athlon 3000g ssd 128 hdd 1tb ram 8gb mon 22"
          ],
          [
           "porttil hp 245 g8 amd ryzen 3 3250u 8gb 256gb ssd 14 linux"
          ],
          [
           "mouse inalmbrico logitech m170 azul negro"
          ],
          [
           "memoria usb sandisk ultra fit 32gb 31 gen 1 negro"
          ],
          [
           "procesador gamer amd ryzen 9 5900x 100100000061wof 12 ncleos 48ghz frecuencia"
          ],
          [
           "porttil asus x513e core i5 1135g7 20 gb 512 ssd iris xe"
          ],
          [
           "pc gamer amd ryzen 7 5700g 16gb ram ssd m2 500gb nvme b550"
          ],
          [
           "kit teclado mouse inalmbrico logitech mk540 espaol color negro"
          ],
          [
           "memoria usb sandisk ultra fit 64gb 31 gen 1 negro"
          ],
          [
           "portatil lenovo flex 5 2 1 ryzen 3128gb4gbwin10 funda"
          ],
          [
           "pc torre gamer amd ryzen 7 ssd 1tb ram 16gb nvidia 1030 2gb"
          ],
          [
           "memoria usb sandisk ultra dual drive go 128gb 31 gen 1 negro plateado"
          ],
          [
           "mouse inalmbrico microsoft wireless mobile 1850 azul oscuro"
          ],
          [
           "acer nitro intel ci5 hdd 1tb256gb ram 16gb nvidia 3050 4gb"
          ],
          [
           "torre gamer ryzen 5 16gb ram 1000gb ssd 240 gb"
          ],
          [
           "disco duro interno western digital wd green power wd5000avvs 500gb verde"
          ],
          [
           "mouse logitech m535 gris negro"
          ],
          [
           "lenovo legion ryzen 7 5800h rtx 3060 ram 32gb 165h portatil"
          ],
          [
           "cable vga 15 metros doble filtro monitor nuevo"
          ],
          [
           "torre cpu gamer core i7 9700 gpu 2gb hdmi 1tb 8gb led 22 pc"
          ],
          [
           "teclado gamer redragon dyaus k509 qwerty espaol latinoamrica color negro luz 7 colores"
          ],
          [
           "portatil lenovo v14 igl celeron n4020 14 8gb 256 ssd win10"
          ],
          [
           "memoria ram vengeance lpx gamer color negro 16gb 2 corsair cmk16gx4m2d3600c18"
          ],
          [
           "cable convertidor adaptador displayport vga hembra"
          ],
          [
           "cpu dell optiplex 5050 intel 4400 win 10pro 4gb 500gb"
          ],
          [
           "porttil gigabyte g5 i511400h rtx 3050 ram 16gb m2512gb"
          ],
          [
           "ereader kindle paperwhite 10 gen 32gb azul pantalla 6 300ppp"
          ],
          [
           "tableta digitalizadora genius easypen i405x"
          ],
          [
           "audfonos gamer onikuma k10 negro luz rgb led"
          ],
          [
           "portatil hp intel i3 10110u ssd 256gb ram 12gb led 14 win10"
          ],
          [
           "computador intel core i7 9700 uhd 630 1tb 16gb led 22 pc"
          ],
          [
           "mouse pad redragon p006 kunlun caucho tela l 420mm x 880mm x 4mm negrorojo"
          ],
          [
           "tableta digitalizadora wacom intuos s bluetooth pistachio green"
          ],
          [
           "porttil asus vivobook 14 x415ja ci5 12gb 256gb ssd 14 fda"
          ],
          [
           "pc mesa core i3 9gen monitor 22 1tb ram 8gb ddr4 nvdia 1g"
          ],
          [
           "switch mercusys ms105g serie desktop"
          ],
          [
           "teclado gamer nibio impact mk500 qwerty espaol espaa color negro luz rgb"
          ],
          [
           "porttil hp 245 g8 amd ryzen 3 3250u 8gb 256gb ssd 14 linux"
          ],
          [
           "equipo smart ryzen a6 7480 ssd 240gb ram 8gb fuente 600w"
          ],
          [
           "apple ipad pro 11 wifi 128gb gris espacial 3 generacin"
          ],
          [
           "memoria 4gb ddr3 pc3l12800s 1600mhz porttil ddr3l"
          ],
          [
           "porttil dell intel core i3 11gen 8g ram 256g ssd gris 156"
          ],
          [
           "regulador voltaje ups chicago digital power rseries rsmart2010 2000va entrada salida 120v ca negro"
          ],
          [
           "pc gamer intel ci5 9400 disc ssd 240gb ram 16gb gtx 1650 4gb"
          ],
          [
           "control joystick inalmbrico logitech f710 plata negro"
          ],
          [
           "porttil hp 15 pavilion 8gb 512gb ssd windows 11 obsequio"
          ],
          [
           "audfonos gamer redragon zeus black"
          ],
          [
           "memoria usb sandisk ultra dual drive typec 128gb 31 gen 1 negro plateado"
          ],
          [
           "portatil asus i7 1065g7 20gb 256gb 1tb 156 fhd touch"
          ],
          [
           "mouse inalmbrico logitech m280 rojo"
          ],
          [
           "audfonos microsoft lifechat lx3000 negro"
          ],
          [
           "disco duro externo adata hd710 pro ahd710p2tu31 2tb rojo"
          ],
          [
           "computador portatil lenovo amd 3020e 8gb ram 1tera 128ssd"
          ],
          [
           "combo gamer teclado mouse usb gs"
          ],
          [
           "mesa laptop portatil computador tablet cama mesita negra"
          ],
          [
           "audfonos gamer kotion g2000 negro naranja luz led"
          ],
          [
           "portatil dell 3501 intel core i3 1115g4 ram 8gb 1tb 240gb"
          ],
          [
           "disco duro interno western digital wd purple wd80purz 8tb prpura"
          ],
          [
           "memoria ram vengeance lpx gamer color negro 8gb 1 corsair cmk8gx4m1d3000c16"
          ],
          [
           "audfonos gamer redragon chroma lamia 2 lunar white luz rgb led"
          ],
          [
           "apple macbook pro 13 chip m1 256gb nuevo sellado"
          ],
          [
           "disco duro interno western digital wd20ezaz 2tb azul"
          ],
          [
           "ups chicago digital power rseries rupr758 750va entrada salida 120v ca negro"
          ],
          [
           "mouse vertical inalmbrico delux m618gx grey black"
          ],
          [
           "porttil lenovo ideapad 3 14alc6 amd ryzen 3 5300u 8gb 1tb"
          ],
          [
           "tarjeta video nvidia gigabyte geforce gtx 16 series gtx 1660 gvn166toc6gd oc edition 6gb"
          ],
          [
           "tarjeta video nvidia gigabyte geforce 10 series gt 1030 gvn1030oc2gi oc edition 2gb"
          ],
          [
           "mouse inalmbrico logitech m170 plateado"
          ],
          [
           "portatil asus intel core i3 ram 12gb solido 512 gb 156"
          ],
          [
           "impresora trmica pos 58mm alta velocidad 3bumen easyprint"
          ],
          [
           "teclado gamer vsg quasar rgb qwerty outemu red lineal espaol latinoamrica color blanco luz rgb"
          ],
          [
           "procesador gamer amd ryzen 5 3600 100100000031box 6 ncleos 42ghz frecuencia"
          ],
          [
           "porttil lenovo core i7 16gb 512gb ssd thinkbook 14s 14gris"
          ],
          [
           "mesa multifuncional graduable laptop"
          ],
          [
           "combo gamer teclado mouse usb gs"
          ],
          [
           "tablet lenovo tab m7 2nd gen tb7305f 7 16gb onyx black 1gb memoria ram"
          ],
          [
           "portatil lenovo ideapad 3 ryzen 5 5500 12 ram 1tb256ssd 14"
          ],
          [
           "disco slido ssd interno patriot pbe120gs25ssdr 120 gb"
          ],
          [
           "disco slido ssd interno western digital wd green wds240g2g0b 240gb verde"
          ],
          [
           "mouse pad gamer aoas s4000 caucho poliuretano xl 30cm x 80cm x 04cm negro"
          ],
          [
           "computador portatil hp 14 intel core i3 12ram 512 ssd"
          ],
          [
           "monitor samsung gaming 32 curvo wqhd amd freesync 144hz 1ms"
          ],
          [
           "mouse inalmbrico logitech m170 rojo negro"
          ],
          [
           "mouse inalmbrico logitech pebble m350 gris azulado"
          ],
          [
           "msi gf65 thin i5 10500h rtx 3060 512gb 144hz portatil gamer"
          ],
          [
           "disco slido ssd interno xpg asx6000np128gtc 128gb negro"
          ],
          [
           "cable convertidor adaptador displayport hdmi pc tv"
          ],
          [
           "repetidor router tenda ac7 negro 100v240v"
          ],
          [
           "portatil asus x513eabq550 core i5 8 gb ssd 512gb 156 fhd"
          ],
          [
           "router access point tplink archer c60 blanco"
          ],
          [
           "camara logitech web brio 4k ultra hd"
          ],
          [
           "memoria ram color verde 8gb 1 crucial ct8g4dfra266"
          ],
          [
           "computador porttil hp 240 g7 intel celeron ram 8gb hdd 1 tb"
          ],
          [
           "disco slido ssd externo adata asd600q480gu31c 480gb azul"
          ],
          [
           "disco slido ssd interno kingston sa400m8480g 480gb verde"
          ],
          [
           "ereader kindle paperwhite 10 gen 8gb azul pantalla 6 300ppp"
          ],
          [
           "porttil hp 245 g8 amd ryzen 3 8gb 256gb ssd kit escolar"
          ],
          [
           "cable corriente poder pc monitor 12mts"
          ],
          [
           "apple magic mouse 2 plateado"
          ],
          [
           "kit combo hp 664 negro color 2n 2c original"
          ],
          [
           "porttil asus x543ua 156 ci5 ssd256 8gb endless morral"
          ],
          [
           "base gamer refrigerante porttil 5 niveles 1 ventilador"
          ],
          [
           "mouse inalmbrico xiaomi dual mode wireless silent edition wxsmsbmw02 blanco"
          ],
          [
           "access point repetidor tplink re450 blanco"
          ],
          [
           "computador portatil hp 255 g7 3020e 8gb 1tb 15 pulgadas"
          ],
          [
           "cable splitetr hdmi 1 x 2 salidas"
          ],
          [
           "mouse inalmbrico logitech pebble m350 blanco crudo"
          ],
          [
           "protector voltaje multimatic electrodomesticos tv xbox"
          ],
          [
           "portatil lenovo ideapad ryzen 5 4500u ram 20gb ssd 256gb 14"
          ],
          [
           "mouse juego inalmbrico logitech g series lightspeed g305 blue"
          ],
          [
           "mouse inalmbrico microsoft wireless mobile 1850 magenta"
          ],
          [
           "teclado genius slimstar 230 qwerty espaol color negro"
          ],
          [
           "computador porttil asus x543 core i5 256gb ssd 12gb ram"
          ],
          [
           "papel fotogrfico premium alto brillo 135g resma x 100 hojas"
          ],
          [
           "kit teclado mouse logitech mk120 espaol latinoamrica color negro"
          ],
          [
           "teclado bluetooth apple magic qwerty ingls us color plata blanco"
          ],
          [
           "computador porttil asus x543 core i5 512gb ssd 12 gb ram"
          ],
          [
           "teclado gamer redragon kumara k552 qwerty outemu blue espaol latinoamrica color negro luz roja"
          ],
          [
           "tablet amazon fire hd 10 2021 kftrwi 101 32gb black 3gb memoria ram"
          ],
          [
           "mouse juego redragon invader m719rgb negro"
          ],
          [
           "porttil lenovo thinkbook win 10 pro ryzen 7 512gb 16gb 156"
          ],
          [
           "monitor gamer asus gaming vp249qgr led 238 negro 100v240v"
          ],
          [
           "disco slido ssd interno kingston sq500s37480g 480gb"
          ],
          [
           "disco duro externo adata hd710 pro ahd710p2tu31 2tb azul"
          ],
          [
           "portatil asus rog g713ih ryzen74800h 512gb ssd 8gb gtx1650"
          ],
          [
           "memoria ram color verde 4gb 1 samsung m471b5173qh0yk0"
          ],
          [
           "monitor huawei ad80hw lcd 238 negro 110v240v"
          ],
          [
           "memoria ram valueram color verde 8gb 1 kingston kvr16ls118"
          ],
          [
           "portatil hp 245 g7 amd a4 9125 26ghz 1 tera 4gb radeon r3"
          ],
          [
           "disco slido ssd interno crucial ct960bx500ssd1 960gb"
          ],
          [
           "disco duro interno hitachi ultrastar 7k3000 hua723030ala640 3tb"
          ],
          [
           "audfonos gamer inalmbricos logitech g series g935 negro azul luz rgb led"
          ],
          [
           "apple macbook pro 2020 13 chip apple m1 8gb 256gb ssd retina"
          ],
          [
           "apple ipad air 109 wifi 64gb plata 4 generacin"
          ],
          [
           "disco slido ssd interno xpg sx6000 pro asx6000pnp512gtc 512gb negro"
          ],
          [
           "audfonos gamer corsair hs35 stereo carbon"
          ],
          [
           "porttil lenovo s14514ast amd a6 9225 14 4gb 1tb windows10"
          ],
          [
           "disco slido ssd interno samsung 870 qvo mz77q1t0 1tb"
          ],
          [
           "memoria usb sandisk ultra dual m30 64gb 30 negro"
          ],
          [
           "memoria usb sandisk cruzer glide 64gb 30 negro rojo"
          ],
          [
           "portatil asus k513ea i51135g7 ram 12gb ssd 512 gb win 10"
          ],
          [
           "protector voltaje 120v 10a refrimatic nevera congela"
          ],
          [
           "switch linksys se3008"
          ],
          [
           "monitor gamer curvo lg ultrawide 34wn80c led 34 negro 100v240v"
          ],
          [
           "portatil asus tuf core i5 10ma 8gb ssd 512gb gtx1650 4gb"
          ],
          [
           "silla ergonmica gaming reclinable largas jornadas"
          ],
          [
           "memoria usb sandisk ultra dual drive typec 64gb 31 gen 1 negro plateado"
          ],
          [
           "memoria usb sandisk ultra flair 64gb 30 plateado negro"
          ],
          [
           "porttil dell inspiron 3515 ryzen 5 16gb 256gb 156"
          ],
          [
           "tapete pad mouse gamer rgb almohadilla largo 80x30 xl xxl"
          ],
          [
           "disco duro interno western digital wd purple wd20purx 2tb prpura"
          ],
          [
           "papel fotografico 135 gr premium a4 x 100 unidades"
          ],
          [
           "lenovo legion pro ryzen 7 5800h rtx 3070 2k 1tb 165 portatil"
          ],
          [
           "bocina genius sphf180 madera"
          ],
          [
           "ups forza nt series nt762c 750va entrada salida 220v negro"
          ],
          [
           "estuche smart case soporte pencil ipad"
          ],
          [
           "portatil dell latitude 5420 ci7 16gb ssd 512gb 14 fhd w10pro"
          ],
          [
           "regulador voltaje automatico forza 1200va600w 8 salidas usb"
          ],
          [
           "base soporte porttil laptop plegable pasta celular tablet"
          ],
          [
           "50 hojas papel foto adhesivo brillante tamao a4 carta"
          ],
          [
           "apple macbook air 13 2020 chip m1 256gb teclado espaol"
          ],
          [
           "tarjeta video nvidia evga xc gaming geforce rtx 30 series rtx 3060 12gp53657kr 12gb"
          ],
          [
           "teclado gamer bluetooth logitech serie g g915 qwerty gl tactile ingls us color negro luz rgb"
          ],
          [
           "range extender access point wmm tplink re200 v4 blanco 220v"
          ],
          [
           "portatil asus vivobook 156 ryzen 5 ram 8gb ssd 512gb"
          ],
          [
           "tablet samsung galaxy tab s7 fe with s pen smt733 124 128gb mystic black 6gb memoria ram"
          ],
          [
           "teclado gamer genius gx gaming scorpion k220 qwerty espaol color negro luz 7 colores"
          ],
          [
           "tarjeta video nvidia gigabyte geforce 10 series gt 1030 gvn1030d42gl 2gb"
          ],
          [
           "apple macbook pro 16 pulgadas intel core i7 16 gb ram"
          ],
          [
           "disco slido ssd interno kingspec mt256 256gb"
          ],
          [
           "tarjeta video nvidia msi gaming x geforce 10 series gtx 1050 geforce gtx 1050 gaming x 4g 4gb"
          ],
          [
           "disco slido ssd interno samsung 980 mzv8v500bw 500gb"
          ],
          [
           "portatil lenovo v14 are ryzen 7 12gb 1tbssd 512gb freedos14"
          ],
          [
           "impresora color multifuncin canon pixma g6010 wifi negra 100v240v"
          ],
          [
           "base refrigerante porttil gs"
          ],
          [
           "router repetidor access point wisp pixlink lvwr09 blanco negro 100v240v"
          ],
          [
           "laptop asus vivobook f415ea slate gray 14 intel core i5 1135g7 8gb ram 256gb ssd intel iris xe graphics g7 80eus 60 hz 1920x1080px windows 10 home"
          ],
          [
           "impresora creality 3d ender3 v2 color black 115v230v tecnologa impresin fdm"
          ],
          [
           "cable hdmi 3 metros doble filtro mallado punta dorada"
          ],
          [
           "memoria usb adata uv240 16gb 20 negro"
          ],
          [
           "porttil dell 14 3405 ryzen 53450u 16gb 256 gb ssd"
          ],
          [
           "silla gamer gaming consola pc ergonomica reclinable"
          ],
          [
           "teclado genius slimstar 230 qwerty espaol color blanco"
          ],
          [
           "mouse genius dx120 elegant white"
          ],
          [
           "portatil lenovo amd ryzen 5 5500u ssd 256 hdd 1tb ram 12gb"
          ],
          [
           "mouse microsoft bluetooth azul pastel"
          ],
          [
           "teclado logitech k120 qwerty espaol espaa color negro"
          ],
          [
           "audfonos gamer logitech g series g335 mint"
          ],
          [
           "porttil lenovo amd ryzen 7 16gb 512gb ssd tp e15 156negro"
          ],
          [
           "disco slido ssd interno adata ultimate su650 asu650ns38120gtc 120gb"
          ],
          [
           "disco slido ssd interno kingston nv1 snvs1000g 1000gb"
          ],
          [
           "rollo trmico 80x60 caja x 60 unidades posfabricantes"
          ],
          [
           "porttil asus 14 corei5 8gb 512gb ssd antireflejo liviano"
          ],
          [
           "tablet lenovo tab p11 with keyboard pack and precision pen 2 tbj606l 11 red mvil 128gb slate grey 6gb memoria ram"
          ],
          [
           "teclado logitech k835 tkl qwerty logitech red linear ingls us color negro"
          ],
          [
           "monitor gamer curvo lg ultragear 34gl750 led 34 negro rojo 100v240v"
          ],
          [
           "porttil asus gamer tuf dash corei7 11gn 16gb 512gb ssd 3060"
          ],
          [
           "apple ipad pro 11 wifi 128gb plata 2 generacin"
          ],
          [
           "procesador gamer amd ryzen 7 5800x 100100000063wof 8 ncleos 47ghz frecuencia"
          ],
          [
           "disco duro externo adata hd710 pro ahd710p1tu31 1tb azul"
          ],
          [
           "porttil asus tuf fx506lh i5 10300h 16gb 512gb ssd tvi 4gb"
          ],
          [
           "teclado gamer logitech serie g g513 qwerty gx brown tactile ingls us internacional color carbn luz rgb"
          ],
          [
           "disco duro externo toshiba 1tb tera estuche antigolpe new"
          ],
          [
           "router tenda ac11 negro 100v240v"
          ],
          [
           "portatil lenovo amd ryzen 5 5500u ssd 256 hdd 1tb ram 8gb"
          ],
          [
           "maxell mdf30 ventilador escritorio"
          ],
          [
           "memoria ram color verde 8gb 1 samsung m471a1k43cb1crc"
          ],
          [
           "kindle paperwhite 11 pantalla 68 resistente agualibros"
          ],
          [
           "portatil hp intel i3 10110u ssd 256gb ram 8gb led 14 win10"
          ],
          [
           "memoria ram valueram color verde 8gb 1 kingston kvr26s19s68"
          ],
          [
           "disco slido ssd interno lexar lns100256rbna 256gb gris"
          ],
          [
           "disco slido ssd interno pny ssd7cs900120rb 120gb negro"
          ],
          [
           "porttil dell inspiron 3505 ryzen 5 3450u 8gb ssd 256g win10"
          ],
          [
           "ups unitec i 1500va 1500va entrada salida 100v 110v 120v negro"
          ],
          [
           "teclado gamer redragon dragonborn k630 qwerty redragon brown ingls us color blanco luz rgb"
          ],
          [
           "lapiz pencil generico compatible ipad 678 129 air 3 kit"
          ],
          [
           "porttil acer gateway ryzen 7 8gb 512gb ssd w11 156 fhd"
          ],
          [
           "tablet lenovo smart tab m8 with smart charging station tb8505fs 8 32gb iron gray 2gb memoria ram"
          ],
          [
           "regulador voltaje 1200va voltimax 8 tomas protegidas"
          ],
          [
           "memoria usb hp v150w 64gb 20 celeste negro"
          ],
          [
           "computador portatil hp corei5 8gb256ssd 14 pulgadas"
          ],
          [
           "mesa auxiliar trabajar estudiar g19944 ruedas negra"
          ],
          [
           "teclado inalmbrico logitech k230 qwerty espaol latinoamrica color negro"
          ],
          [
           "impresora simple funcin hp laserjet pro m203dw wifi blanca 110v 127v"
          ],
          [
           "porttil lenovo intel core i5 1035g1 ssd 512 hdd 1tb ram 12"
          ],
          [
           "tarjeta adaptador convertidor lan red rj45 usb 30"
          ],
          [
           "impresora color simple funcin epson surecolor t3170 wifi blanca 110v240v"
          ],
          [
           "teclado dell kb216 qwerty espaol latinoamrica color negro"
          ],
          [
           "portatil hp 245 g8 athlon 3020e ssd 256gb 8gb radeon win 10"
          ],
          [
           "disco duro interno seagate mobile hdd st2000lm007 2tb"
          ],
          [
           "memoria ram fury ddr4 gamer color negro 8gb 1 hyperx hx432c16fb38"
          ],
          [
           "base gamer refrigerante porttil 5 niveles 2ventiladores"
          ],
          [
           "laptop lenovo ideapad 14igl05 ice blue 14 intel pentium silver n5030 4gb ram 128gb ssd intel uhd graphics 605 1366x768px windows 10 home"
          ],
          [
           "adaptador sata usb 30"
          ],
          [
           "impresora wifi sistema original canon g3110 tinta koreana"
          ],
          [
           "cable utp cat 5e uso exterior aleacin 305 metros"
          ],
          [
           "portatil asus ryzen 5 41 ghz ssd 256 hdd1tb ram12gb"
          ],
          [
           "caja externa disco duro externo 25 usb 30 transparente"
          ],
          [
           "disco duro externo seagate expansion desktop steb8000100 8tb negro"
          ],
          [
           "impresora multifuncin hp laserjet m236sdw wifi blanca gris 115v 127v"
          ],
          [
           "porttil asus m409da ryzen 5 8gb ram ssd 256 1 tera hdd"
          ],
          [
           "switch tplink tlsg105e"
          ],
          [
           "forro estuche portatil protector teclado silicona 14 15"
          ],
          [
           "teclado gamer redragon kumara k552 qwerty outemu blue ingls us color negro luz rainbow"
          ],
          [
           "portatil dell vostro 3400 ci5 gen11 ssd 240gb 8g antivirus"
          ],
          [
           "ponchadora rj45 pelacable tester red 10 plug rj45"
          ],
          [
           "tablet samsung galaxy a7 lite smt225 87 red mvil 32gb gris 3gb memoria ram"
          ],
          [
           "caja externa antigolpes usb 31 adata ed600 disco duro 25"
          ],
          [
           "computador portatil acer core i5 12gb ram 256gb ssd disco"
          ],
          [
           "memoria ram valueram color verde 2gb 1 kingston kvr800d2s62g"
          ],
          [
           "disco duro externo adata hd710 pro ahd710p1tu31 1tb amarillo"
          ],
          [
           "cable hdmi 5 metros mallado doble filtro ncleo ferrita"
          ],
          [
           "computador porttil asus x509ua ci3 8gb 256gb 156 pulgadas"
          ],
          [
           "mouse plegable inalmbrico microsoft arc salvia"
          ],
          [
           "capturadora video liv streaming fhd hd 1080 hdmi usb 4k f"
          ],
          [
           "disco slido ssd interno adata ultimate su650 asu650ns38480gtc 480gb"
          ],
          [
           "macbook pro 16 16gb 1tb m1 pro"
          ],
          [
           "switch selector puertos hdmi 3 entradas 1 salida"
          ],
          [
           "mouse juego redragon gainer m610 negro"
          ],
          [
           "clips organizador cables adhesivo x 20 pcs"
          ],
          [
           "porttil lenovo ideapad 5 ryzen 7 256gb 8gb 156 fhd"
          ],
          [
           "cable convertidor adaptador usb hdmi"
          ],
          [
           "monitor asus proart pa278qv led 27 negro 100v240v"
          ],
          [
           "silla escritorio redragon c502 capricornus gamer ergonmica negra tapizado cuero sinttico"
          ],
          [
           "portatil lenovo 14itl6 core i3 11va ssd 256gb pcie 8 gb"
          ],
          [
           "disco slido ssd interno xpg sx6000 pro asx6000pnp256gtc 256gb"
          ],
          [
           "impresora color multifuncin epson ecotank l4160 wifi negra 110v"
          ],
          [
           "cable utp cat 6 gigabit red internet ponchado x 15 metros"
          ],
          [
           "macbook air m1 8gb 256ssd grt selladas"
          ],
          [
           "funda protector silicona apple pencil 2 generacin 3 pzas"
          ],
          [
           "audfonos gamer onikuma k20 camuflaje blanco luz rgb led"
          ],
          [
           "multitomas electrico 6 entradas proteccin"
          ],
          [
           "portatil gamer msi bravo 15 ryzen 7 5800h 16g rx 5500m 144hz"
          ],
          [
           "access point router sistema wifi mesh tplink deco m4 blanco 100v240v 3 unidades"
          ],
          [
           "mesa cama computador multifuncional plegable ajustab"
          ],
          [
           "procesador amd athlon 3000g yd3000c6fhbox 2 ncleos 35ghz frecuencia grfica integrada"
          ],
          [
           "portatil asus x543ua intel core i3 1 tb 8 gb 156 hd endless"
          ],
          [
           "silla escritorio corsair t3 rush gamer ergonmica gray white tapizado tela"
          ],
          [
           "convertidor adaptador conector hembra usb macho tipo c 1 und"
          ],
          [
           "kit combo cartucho hp 667 negro tricolor"
          ],
          [
           "portatil asus m515dabq1415 amd ryzen5 8gb 1tb 156 fhd"
          ],
          [
           "disco slido ssd interno samsung 870 evo mz77e500 500gb negro"
          ],
          [
           "monitor viewsonic va2261h2 led 22 negro 100v240v"
          ],
          [
           "kit teclado mouse gamer redragon k552rgbba espaol latinoamrica color negro"
          ],
          [
           "portatil lenovo ryzen 5 ram 12gb doble disco 256ssd1tb 2vid"
          ],
          [
           "disco duro externo toshiba 1tb tera estuche antigolpe"
          ],
          [
           "switch tplink ls1005 serie litewave"
          ],
          [
           "receptor usb bluetooth 50 pc diadema control xbox one ps4"
          ],
          [
           "lenovo thinkpad l15 156 full hd 1080p portatil 20u30022us"
          ],
          [
           "memoria usb kingston datatraveler 50 dt50 64gb 31 gen 1 plateado azul"
          ],
          [
           "mouse inalmbrico microsoft sculpt ergonomic negro"
          ],
          [
           "audfonos gamer kotion each g4000 negro azul"
          ],
          [
           "portatil lenovo v14 are ryzen 7 8gb 1tbssd 512gb freedos 14"
          ],
          [
           "amazon kindle 10 ma generacin luz frontal integrada"
          ],
          [
           "base refrigerante portatil 6 ventiladores laptop reclinable"
          ],
          [
           "repetidor amplificador wifi xiaomi pro rompemuros"
          ],
          [
           "portatil dell inspiron 3501 156 core i3 11ava 4gb 1tb negro"
          ],
          [
           "multiplicador splitter hdmi 1 entrada x 2 salidas 1080 1x2"
          ],
          [
           "impresora trmica pos 80mm alta velocidad cortadora"
          ],
          [
           "audfonos gamer diadema micrfono vsg kuiper pc xbox ps"
          ],
          [
           "porttil ideapad 5 pro intel core i7 16gb 512gb ssd 14 gris"
          ],
          [
           "mouse pad gamer havit hvmp830 caucho tela magic eagle 300mm x 900mm x 3mm negro"
          ],
          [
           "adaptador usbc 7 1 hdmi 4k usb 30 lector tarjetas hub"
          ],
          [
           "bocina genius sphf280 wood"
          ],
          [
           "lenovo gamer legion 5 pro 16ith6h core i711800h rtx 3050"
          ],
          [
           "mesa cama porttil"
          ],
          [
           "tarjeta video nvidia msi ventus xs geforce gtx 16 series gtx 1660 super geforce gtx 1660 super ventus xs oc oc edition 6gb"
          ],
          [
           "control joystick inalmbrico ipega pg9078 negro"
          ],
          [
           "portatil asus x543uaintel core i3 1tb 4gb 156 hd endless"
          ],
          [
           "control joystick inalmbrico redragon harrow g808 negro"
          ],
          [
           "audfonos gamer razer blackshark v2 x classic black"
          ],
          [
           "access point router sistema wifi mesh tplink deco m5 blanco 100v240v 2 unidades"
          ],
          [
           "asus x415ea i3 1115g4 ram 12gb ssd 512gb 140 win 11"
          ],
          [
           "apple ipad air 109 wifi 256gb gris espacial 4 generacin"
          ],
          [
           "audfonos gamer astro a10 gris rojo"
          ],
          [
           "audfonos gamer inalmbricos logitech g series g733 kda luz rgb led"
          ],
          [
           "portatil acer nitro 5 an5155553e5 16gb 512gb rtx 3050"
          ],
          [
           "audfonos gamer logitech g series g335 blanco"
          ],
          [
           "impresora canon multifucional g3110 wifi tintas originales"
          ],
          [
           "mouse juego logitech g series g600 negro"
          ],
          [
           "porttil asus x415eaek1182 corei31115g4 12gb 256ssd 14 fhd"
          ],
          [
           "audfonos logitech h111 gris"
          ],
          [
           "soporte base brazo laptop portatil north bayou ergonomica"
          ],
          [
           "tableta digitalizadora wacom intuos m bluetooth pistachio green"
          ],
          [
           "porttil lenovo ryzen 5 16gb 512gb ssd legin 5 156 gris"
          ],
          [
           "capturadora video streaming fhd hd hdmi 4k usb xbox ps4"
          ],
          [
           "monitor gamer curvo asus tuf gaming vg24vq led 236 negro 100v240v"
          ],
          [
           "teclado gamer redragon vata pro k580rgbpro qwerty outemu brown espaol latinoamrica color negro luz rgb"
          ],
          [
           "porttil msi crosshair 15 core i7 512gb 32gb rtx 3050 w10"
          ],
          [
           "teclado gamer redragon kumara k552 qwerty cherry mx blue ingls us color blanco luz rainbow"
          ],
          [
           "teclado gamer delux k9600 rgb programable macros multimedia"
          ],
          [
           "audfonos gamer inalmbricos logitech g series g435 blanco crudo lila"
          ],
          [
           "porttil dell 14 3405 ryzen 53450u 8gb 256 gb ssd"
          ],
          [
           "cable hdmi 8k alta velocidad ultra hd 48gbps 21 vdeo audio"
          ],
          [
           "teclado gamer vsg mintaka qwerty kailh red espaol latinoamrica color negro luz rgb"
          ],
          [
           "mini proyector videobeam wifi led 5500 lumens 250 pulgadas"
          ],
          [
           "portatil lenovo amd ryzen 3 4300u hdd 1tb ssd 256gb ram 12gb"
          ],
          [
           "switch tplink tlsg108e"
          ],
          [
           "access point router sistema wifi mesh tplink deco m4 blanco 100v240v"
          ],
          [
           "mouse inalmbrico logitech m280 azul"
          ],
          [
           "porttil hp gamer corei5 10 gen ram16gb ssd512gb4gb video"
          ],
          [
           "sistema wifi mesh jensen of scandinavia omni lite mesh blanco 3 unidades"
          ],
          [
           "mouse juego logitech pro series g pro hero 16k negro"
          ],
          [
           "apple ipad air 5 generacin 109 wifi 64 gb chip m1 gris espacial"
          ],
          [
           "porttil lenovo ryzen 7 16gb 512gb ssd legin 5 156"
          ],
          [
           "tablet lenovo yoga tab 11 ytj706f 11 256gb storm gray 8gb memoria ram"
          ],
          [
           "sistema wifi mesh tenda mw3 blanco 100v240v 2 unidades"
          ],
          [
           "protector teclado silicona 14 15 gs"
          ],
          [
           "porttil lenovo intel ci7 16gb 512gb ssd legin 5 156 gris"
          ],
          [
           "tablet mobulaa tab 1 101 red mvil 32gb gris 3gb memoria ram"
          ],
          [
           "tablet samsung galaxy a7 lite smt225 87 red mvil 64gb plateada 4gb memoria ram"
          ],
          [
           "teclado gamer redragon magic wand pro k587pro qwerty redragon optomecnico espaol latinoamrica color negro luz rgb"
          ],
          [
           "computador core2 duo ram 2gb ddr2 hdd 160gb monitor 17p"
          ],
          [
           "cpu desktop hp pro 6005"
          ]
         ],
         "hovertemplate": "0=%{x}<br>1=%{y}<br>titles=%{customdata[0]}<br>color=%{marker.color}<extra></extra>",
         "legendgroup": "",
         "marker": {
          "color": [
           3,
           11,
           1,
           7,
           7,
           8,
           1,
           4,
           12,
           3,
           1,
           11,
           4,
           3,
           1,
           9,
           5,
           10,
           1,
           9,
           8,
           5,
           0,
           10,
           3,
           3,
           1,
           1,
           9,
           3,
           0,
           7,
           1,
           12,
           1,
           3,
           4,
           8,
           1,
           9,
           8,
           4,
           1,
           5,
           5,
           5,
           1,
           10,
           5,
           12,
           0,
           4,
           7,
           3,
           0,
           5,
           4,
           3,
           1,
           3,
           12,
           7,
           1,
           5,
           12,
           4,
           1,
           12,
           5,
           12,
           1,
           4,
           8,
           2,
           6,
           10,
           3,
           11,
           1,
           7,
           10,
           9,
           1,
           9,
           11,
           4,
           1,
           7,
           3,
           5,
           6,
           10,
           9,
           3,
           0,
           10,
           8,
           3,
           6,
           7,
           9,
           5,
           1,
           8,
           4,
           9,
           1,
           7,
           3,
           10,
           0,
           8,
           7,
           3,
           1,
           4,
           5,
           3,
           0,
           10,
           8,
           2,
           1,
           1,
           2,
           5,
           1,
           2,
           4,
           5,
           6,
           9,
           3,
           4,
           1,
           5,
           5,
           3,
           0,
           10,
           9,
           12,
           1,
           4,
           3,
           7,
           1,
           3,
           10,
           8,
           1,
           3,
           4,
           8,
           0,
           2,
           8,
           10,
           1,
           8,
           3,
           3,
           6,
           10,
           7,
           12,
           6,
           10,
           5,
           8,
           1,
           3,
           4,
           3,
           0,
           7,
           7,
           4,
           1,
           8,
           9,
           0,
           6,
           11,
           8,
           12,
           6,
           7,
           7,
           3,
           0,
           4,
           12,
           5,
           1,
           3,
           4,
           3,
           0,
           8,
           3,
           7,
           0,
           7,
           7,
           12,
           6,
           10,
           12,
           3,
           1,
           10,
           7,
           5,
           0,
           4,
           3,
           11,
           0,
           8,
           10,
           3,
           1,
           8,
           7,
           7,
           1,
           9,
           11,
           9,
           1,
           4,
           3,
           7,
           6,
           4,
           7,
           3,
           0,
           10,
           7,
           13,
           1,
           13,
           10,
           3,
           0,
           3,
           5,
           10,
           6,
           5,
           3,
           3,
           0,
           10,
           3,
           8,
           0,
           4,
           5,
           13,
           1,
           9,
           4,
           12,
           6,
           12,
           4,
           9,
           1,
           2,
           7,
           10,
           6,
           5,
           2,
           5,
           1,
           4,
           7,
           7,
           1,
           10,
           5,
           5,
           1,
           9,
           10,
           7,
           6,
           7,
           4,
           5,
           0,
           12,
           3,
           10,
           0,
           5,
           8,
           8,
           6,
           4,
           5,
           12,
           6,
           4,
           7,
           5,
           0,
           7,
           10,
           12,
           0,
           3,
           5,
           10,
           0,
           7,
           9,
           10,
           1,
           5,
           12,
           5,
           0,
           7,
           8,
           7,
           1,
           4,
           11,
           7,
           6,
           7,
           7,
           3,
           0,
           11,
           5,
           4,
           6,
           12,
           7,
           11,
           0,
           7,
           12,
           3,
           6,
           4,
           5,
           11,
           1,
           4,
           7,
           11,
           0,
           12,
           4,
           7,
           6,
           3,
           9,
           4,
           1,
           8,
           13,
           9,
           6,
           4,
           2,
           8,
           0,
           4,
           7,
           12,
           0,
           10,
           5,
           3,
           0,
           2,
           4,
           7,
           6,
           7,
           12,
           7,
           6,
           12,
           5,
           9,
           0,
           7,
           5,
           3,
           6,
           10,
           3,
           5,
           1,
           7,
           10,
           5,
           1,
           5,
           7,
           5,
           6,
           13,
           5,
           4,
           0,
           7,
           2,
           11,
           0,
           4,
           8,
           7,
           0,
           4,
           3,
           3,
           0,
           9,
           7,
           7,
           0,
           3,
           11,
           4,
           1,
           11,
           5,
           4,
           6,
           8,
           8,
           7,
           0,
           4,
           13,
           2,
           0,
           4,
           8,
           3,
           0,
           0,
           4,
           7,
           0,
           12,
           7,
           4,
           0,
           3,
           5,
           7,
           0,
           13,
           7,
           7,
           0,
           7,
           7,
           13,
           1,
           10,
           7,
           3,
           6,
           7,
           4,
           7,
           0,
           8,
           11,
           4,
           0,
           5,
           3,
           11,
           1,
           4,
           11,
           5,
           0,
           4,
           5,
           7,
           7,
           4,
           7,
           8,
           0,
           13,
           4,
           3,
           0,
           5,
           5,
           10,
           0,
           11,
           11,
           2,
           0,
           7,
           3,
           7,
           0,
           4,
           12,
           7,
           6,
           7,
           4,
           7,
           0,
           13,
           7,
           12,
           0,
           9,
           7,
           10,
           0,
           7,
           11,
           9,
           0,
           8,
           7,
           0,
           10,
           9,
           3,
           6,
           13,
           10,
           11,
           6,
           7,
           7,
           4,
           6,
           7,
           7,
           10,
           0,
           13,
           5,
           13,
           6,
           10,
           7,
           7,
           0,
           10,
           7,
           2,
           6,
           12,
           10,
           2,
           0,
           9,
           7,
           7,
           0,
           7,
           5,
           5,
           6,
           10,
           13,
           5,
           6,
           10,
           8,
           3,
           6,
           4,
           9,
           3,
           6,
           5,
           10,
           5,
           0,
           3,
           8,
           4,
           1,
           3,
           12,
           7,
           0,
           4,
           9,
           12,
           6,
           4,
           12,
           3,
           0,
           4,
           5,
           3,
           6,
           7,
           10,
           9,
           6,
           12,
           7,
           7,
           0,
           13,
           7,
           8,
           0,
           10,
           7,
           7,
           0,
           7,
           7,
           9,
           1,
           4,
           13,
           12,
           1,
           7,
           4,
           3,
           0,
           8,
           12,
           0,
           3,
           7,
           5,
           6,
           7,
           7,
           8,
           1,
           5,
           12,
           8,
           0,
           5,
           7,
           3,
           6,
           7,
           7,
           3,
           0,
           7,
           9,
           7,
           6,
           7,
           7,
           12,
           6,
           5,
           5,
           7,
           0,
           8,
           3,
           3,
           0,
           5,
           7,
           8,
           0,
           11,
           7,
           12,
           0,
           5,
           5,
           13,
           1,
           7,
           7,
           7,
           0,
           7,
           7,
           11,
           0,
           7,
           3,
           7,
           6,
           3,
           3,
           9,
           0,
           7,
           9,
           9,
           0,
           9,
           12,
           3,
           6,
           8,
           5,
           5,
           0,
           12,
           8,
           12,
           1,
           5,
           5,
           3,
           0,
           13,
           5,
           7,
           6,
           5,
           12,
           12,
           0,
           7,
           11,
           8,
           0,
           7,
           12,
           12,
           1,
           7,
           5,
           7,
           6,
           7,
           7,
           7,
           0,
           7,
           7,
           7,
           0,
           7,
           9,
           11,
           0,
           12,
           9,
           7,
           0,
           5,
           7,
           5,
           6,
           2,
           7,
           11,
           1,
           2,
           7,
           12,
           1,
           7,
           9,
           7,
           6,
           7,
           9,
           3,
           6,
           5,
           5,
           7,
           0,
           12,
           9,
           8,
           0,
           13,
           7,
           5,
           0,
           9,
           5,
           8,
           6,
           7,
           12,
           13,
           0,
           12,
           5,
           5,
           1,
           7,
           9,
           13,
           0,
           12,
           7,
           12,
           0,
           7,
           9,
           2,
           6,
           7,
           2,
           9,
           1,
           5,
           12,
           7,
           1,
           7,
           2,
           7,
           0,
           5,
           5,
           2,
           0,
           11,
           7,
           9,
           0,
           7,
           12,
           5,
           0,
           12,
           5,
           7,
           0,
           3,
           7,
           5,
           0,
           7,
           3,
           7,
           6,
           7,
           8,
           7,
           0,
           5,
           2,
           7,
           0,
           13,
           8,
           7,
           6,
           11,
           7,
           7,
           0,
           7,
           7,
           7,
           0,
           5,
           8,
           9,
           6,
           5,
           11,
           7,
           6,
           12,
           3,
           8,
           6,
           13,
           7,
           7,
           1,
           7,
           7,
           7,
           0,
           7,
           7,
           7,
           6,
           7,
           7,
           3,
           0,
           3,
           7,
           11,
           0,
           13,
           8,
           3,
           0,
           3,
           2,
           3,
           0,
           3,
           7,
           7,
           6,
           7,
           8,
           9,
           0,
           9,
           7,
           3,
           1,
           7,
           9,
           7,
           6,
           11,
           11,
           3,
           0,
           7,
           3,
           13,
           6,
           12,
           11,
           7,
           6,
           12,
           12,
           9,
           7,
           7
          ],
          "coloraxis": "coloraxis",
          "symbol": "circle"
         },
         "mode": "markers",
         "name": "",
         "orientation": "v",
         "showlegend": false,
         "type": "scatter",
         "x": [
          0.08630943948883942,
          0.043704203203120934,
          0.43531110247884697,
          0.0837283734961604,
          0.08247159100723413,
          0.12158192721598228,
          0.326094643907158,
          0.38799485601348815,
          0.13188766072785169,
          0.08125883353782545,
          0.29638272951857925,
          0.06083613565986593,
          0.41224248624763843,
          0.14367069999137996,
          0.3944135500676646,
          0.19239553053875832,
          0.13556536760020801,
          0.3116774129990646,
          0.30247295545964015,
          0.19487464965679213,
          0.14583205574653482,
          0.12254832232372208,
          0.19877663791963893,
          0.34816105962133914,
          0.0830608415944247,
          0.12390215746626693,
          0.32997404751255344,
          0.1331060711394559,
          0.1318079071982115,
          0.11542136348919378,
          0.1801344453323154,
          0.08000026656768543,
          0.1929521169463839,
          0.11171047213539327,
          0.2680351587046817,
          0.09144504193280703,
          0.4366457435699478,
          0.1772445664926107,
          0.4409406684432237,
          0.1712996711260866,
          0.1280775268165626,
          0.40260493719873786,
          0.24183820362104996,
          0.18768596537418333,
          0.11034913539105992,
          0.15596773637933087,
          0.31529294448498907,
          0.3186740488618496,
          0.1695179884951053,
          0.139455217082792,
          0.19857113655273673,
          0.5125188568248692,
          0.030663946001118318,
          0.08904635389077496,
          0.2943529237350105,
          0.09839888593897694,
          0.4884069824425203,
          0.13858456729609536,
          0.3668673792971418,
          0.07747572412517668,
          0.15079031037969118,
          0.1691289205789568,
          0.3293220033831355,
          0.1671337881257558,
          0.09300079470864146,
          0.4613607499310735,
          0.2760801584707303,
          0.12247503883682541,
          0.17636858576705602,
          0.1212785479558305,
          0.3915608678662143,
          0.44564134251613496,
          0.15814089468952944,
          0.08492066494192398,
          0.23562583750147212,
          0.3301260110521228,
          0.08209726831351373,
          0.035455708257270485,
          0.33498303598203766,
          0.2212364627700146,
          0.3512578288712298,
          0.17214975828997944,
          0.29729967572104266,
          0.18852457012991108,
          0.09551086400113369,
          0.4874714943183636,
          0.2170308975595007,
          0.105768113389661,
          0.0650917695904322,
          0.17670263172997697,
          0.5067994648995756,
          0.35598987691826256,
          0.1695068086834287,
          0.05179454249051556,
          0.3004430845965645,
          0.41296451934366246,
          0.12862511900568321,
          0.10813515068319955,
          0.2704067773514847,
          0.267825957915597,
          0.14739911466286804,
          0.15973908873374834,
          0.2849782641092321,
          0.14501781587249465,
          0.4272815785865962,
          0.1426439734268389,
          0.4146617321458429,
          0.05976714191630611,
          0.08038072109974889,
          0.29713181267082306,
          0.1940823640176803,
          0.09759856210664876,
          0.10118564102761844,
          0.14507008410185326,
          0.2790083671014143,
          0.3256264161794608,
          0.10863021572431855,
          0.15955394432276226,
          0.31506999690101634,
          0.43147459907790264,
          0.14911524177625668,
          0.08696605825933991,
          0.31967985309596536,
          0.1470276146526438,
          0.07624318071270804,
          0.07995938788594682,
          0.32066488929186504,
          0.07775674871927728,
          0.45928784301558595,
          0.13035500125500574,
          0.20702287884685425,
          0.13182195602758767,
          0.12084222219298008,
          0.46485712942832236,
          0.3172281787212463,
          0.16033457171989182,
          0.16348142571005653,
          0.08404175442568668,
          0.18273144888309195,
          0.3366007721268115,
          0.1875065807919266,
          0.0901386149727803,
          0.2941515792637454,
          0.4525621036790364,
          0.115298803963053,
          0.11231889891278753,
          0.2443979441851468,
          0.08758416499585532,
          0.454523504476134,
          0.14112807237969033,
          0.4100363321196695,
          0.13442840320219865,
          0.510928372810324,
          0.12884483823555185,
          0.3323788538960653,
          0.09123396433730287,
          0.13420954153666584,
          0.36157768060448264,
          0.300577799564861,
          0.15709894533020782,
          0.1206453610089012,
          0.19856823264291631,
          0.3931694489432795,
          0.3637541924445584,
          0.06540484454229305,
          0.11944186832160339,
          0.308234610881321,
          0.406349158253773,
          0.0995726203022632,
          0.18667348936225373,
          0.297174198508638,
          0.08619903539246465,
          0.45537591944839895,
          0.06742615024292546,
          0.18356978264725968,
          0.1381524519161195,
          0.08326330710072374,
          0.398250960158523,
          0.1906320464427061,
          0.15012720286435358,
          0.18337416267726336,
          0.17171790162990608,
          0.3384745141811529,
          0.022338520111796566,
          0.1678647998896578,
          0.13634348747790165,
          0.3090424319379246,
          0.059179036540446046,
          0.09848731928649915,
          0.11051265903167158,
          0.24964525866439014,
          0.2952427704437059,
          0.12209068043748537,
          0.16568469296749921,
          0.31454686068530274,
          0.06436256601078674,
          0.4708609908948187,
          0.12760340598611028,
          0.2877260138692024,
          0.1359781509628799,
          0.11227891522483223,
          0.1560170563866399,
          0.307021548654021,
          0.079376369971295,
          0.05240417979463479,
          0.1218607244889773,
          0.3268184027858845,
          0.23381480524243983,
          0.11894612781608696,
          0.10057584563051186,
          0.3238322981242405,
          0.27887317430570707,
          0.04192198020014492,
          0.13492207504991305,
          0.2661535442803429,
          0.3412387446411523,
          0.10257619853098633,
          0.09969569229180239,
          0.2376145657898255,
          0.14386949648617137,
          0.39823684154515043,
          0.07965245532750383,
          0.32217287188573784,
          0.06577986161755034,
          0.18841560953946462,
          0.16787727917452205,
          0.2955013788205404,
          0.1887243971292542,
          0.01570306798436671,
          0.11845487736479995,
          0.322727258069369,
          0.46781176533637225,
          0.12705029544484578,
          0.07397324110301047,
          0.331431474866976,
          0.48779099034929363,
          0.06544025118295889,
          0.10888943197735,
          0.1572426157581086,
          0.30965428967006425,
          0.08715138950848582,
          0.10925042408122893,
          0.3450135099002883,
          0.12525127049063828,
          0.2613431956646672,
          0.06588207113060265,
          0.22098908226736763,
          0.05328503531005518,
          0.16355967583286027,
          0.35116519336640867,
          0.4678998363875415,
          0.11539925163753362,
          0.09265443513940615,
          0.06402132422281218,
          0.41090362335484026,
          0.37792362273571356,
          0.13311063220431973,
          0.1619234185268007,
          0.291036617029322,
          0.4145859096034017,
          0.1584842826910307,
          0.14770167680631294,
          0.31092030162334255,
          0.1897994665749924,
          0.4711914832164584,
          0.10745600307659131,
          0.23626176655860195,
          0.11608984444384451,
          0.5366966750983173,
          0.12518993838192508,
          0.3244671940773943,
          0.10005805939360293,
          0.039598088894119844,
          0.3676059372294253,
          0.257933839137788,
          0.11375028290291075,
          0.0922395662222089,
          0.1113377618169169,
          0.2999956861533048,
          0.3556545323213209,
          0.10584453631620916,
          0.08332190597381006,
          0.20830015177400774,
          0.3501830094312198,
          0.11055072216831899,
          0.1267977148092825,
          0.24503257450812974,
          0.14534332153246685,
          0.3721537465002992,
          0.062403264156953804,
          0.3928993334701147,
          0.061155912207740595,
          0.3873714369173376,
          0.10995571784647627,
          0.29004069934396615,
          0.12499902581289851,
          0.12233069706165561,
          0.31537890845350935,
          0.2514384760238502,
          0.10524942993963965,
          0.10375990897529046,
          0.10130773698183941,
          0.31028161206226623,
          0.46487768614225583,
          0.09864633045786757,
          0.14366416289952405,
          0.37082006900134923,
          0.37308237802720673,
          0.16418934435035984,
          0.12100167423160252,
          0.2298978333766031,
          0.0546488391055845,
          0.4863823897314794,
          0.12491802766116783,
          0.2377089823561687,
          0.12943231699150004,
          0.08923785736742362,
          0.36512597983673645,
          0.15252308741994725,
          0.12665925231908043,
          0.17897110637694924,
          0.3863591442409721,
          0.33007990202873605,
          0.10823101023714661,
          0.12405173679242698,
          0.1499137832850947,
          0.3999911393871368,
          0.06162607061274162,
          0.16447510530660597,
          0.10552563896940365,
          0.3647272749726144,
          0.2972043234810165,
          0.10440734652586788,
          0.060368583758468035,
          0.4941999713169069,
          0.12470227450815412,
          0.25834150127128924,
          0.15650568874584622,
          0.28885443549142,
          0.10077328571385898,
          0.09493028783252637,
          0.4154844896415202,
          0.4147825590269493,
          0.14446830969568866,
          0.1077612793849681,
          0.08152848590206085,
          0.42535202835585595,
          0.17544444258129746,
          0.1224085203306648,
          0.0959333954516564,
          0.37864822758427186,
          0.552533824135145,
          0.15011298698252146,
          0.10535881610145285,
          0.3080993505150532,
          0.45647472516893633,
          0.11145775989164236,
          0.03739278478999476,
          0.21056863004620482,
          0.12775853455822478,
          0.2533671796572435,
          0.06577126073633496,
          0.2692181277746034,
          0.1162170249934504,
          0.14399653756621306,
          0.3065790284945414,
          0.25047302311607306,
          0.17032631937227952,
          0.12354801859509028,
          0.10211663261970882,
          0.36659803668359536,
          0.4211775128074225,
          0.09997570428878516,
          0.18269768311780887,
          0.18019848899325472,
          0.29887891176899295,
          0.06332128790985671,
          0.1249175018653789,
          0.1885451452988857,
          0.3226871823887873,
          0.08732388329504316,
          0.10537278553939029,
          0.1876867475362486,
          0.08193736364116327,
          0.48777604952181386,
          0.06958778330858717,
          0.30244817241787264,
          0.0647260419024569,
          0.15947749596017322,
          0.2343597394036443,
          0.21751733067173598,
          0.16714672625169058,
          0.10701713724774806,
          0.17828984204765272,
          0.16227404945442822,
          0.20636947227949973,
          0.14366436217085898,
          0.11926939279584481,
          0.3384745141811529,
          0.3060009504983995,
          0.11193860843508333,
          0.10396728793007926,
          0.2998885492372645,
          0.07264056345776418,
          0.2997381445553213,
          0.14835962710607745,
          0.318249183774675,
          0.07935999381422186,
          0.11967020423274971,
          0.13309819129862036,
          0.2928180665177707,
          0.1167989078742166,
          0.08095497625318297,
          0.3767617591530194,
          0.1849932527251384,
          0.061520511708099815,
          0.0792152629171331,
          0.0655873682935313,
          0.237781578682092,
          0.40513880714695893,
          0.16746420559343553,
          0.17271080965574898,
          0.33862534108482023,
          0.49747823010824077,
          0.08434500065848702,
          0.12891449299770344,
          0.2421547776241077,
          0.18854017024707215,
          0.22088663068443978,
          0.09341811999904168,
          0.22734095608458185,
          0.075001170432063,
          0.02059413951117748,
          0.4732905072731464,
          0.23807831126001466,
          0.09955060039247744,
          0.1720250122566772,
          0.39350486128708373,
          0.3577719529796562,
          0.06491792938596919,
          0.16323717764285514,
          0.06312354254820036,
          0.27823306900330486,
          0.5193551640294344,
          0.12761679639697138,
          0.08395046672845821,
          0.3208027603696279,
          0.44386215268813495,
          0.13540995558037391,
          0.06038810940289062,
          0.14401066739757334,
          0.1268776511674728,
          0.3219289093533106,
          0.09015963117875586,
          0.2972191249524866,
          0.1300507803258324,
          0.06897612226329805,
          0.34177553552054146,
          0.2626127934127859,
          0.13718723937445043,
          0.11894508641399218,
          0.17219910087888662,
          0.19365987045464855,
          0.11803234005256745,
          0.06306455223390879,
          0.03757904398298401,
          0.31272298682330324,
          0.20368319530148668,
          0.049394605869376815,
          0.09943456296256561,
          0.2964786092818408,
          0.2972611320499734,
          0.13180227739844153,
          0.06681217151291641,
          0.341876947453742,
          0.07416352906129473,
          0.49491965009120004,
          0.08478831821547883,
          0.2314739695686348,
          0.11496867380441568,
          0.017637483490212873,
          0.483392706883381,
          0.1896851516673936,
          0.09630042555625394,
          0.13124916566103792,
          0.023260836184139558,
          0.34577634485839587,
          0.4435300297485773,
          0.08969148681594497,
          0.09635684831024859,
          0.3918246707854958,
          0.4016341539274727,
          0.17843398808565478,
          0.05720339710288357,
          0.14713689532742427,
          0.51987063818219,
          0.1253992927862536,
          0.11303429228990967,
          0.35208241956223596,
          0.11601734139724972,
          0.35836671225925626,
          0.07367141339309173,
          0.17132943613971646,
          0.10933186845862546,
          0.11572353755761389,
          0.30841915035494966,
          0.25108948411545157,
          0.07213294976454084,
          0.016622126495419727,
          0.0790617050616692,
          0.1485912420724071,
          0.2940420416791568,
          0.09606262270989507,
          0.079701992663665,
          0.3218065822801709,
          0.4952680866700314,
          0.16845768970677333,
          0.08675506574855381,
          0.33555540344416357,
          0.08200573503259825,
          0.5124225894652417,
          0.08385158039892834,
          0.29227430025780493,
          0.13532952304064408,
          0.0615482675277651,
          0.12872238427756486,
          0.38940692869481475,
          0.18641217367589236,
          0.07052089267005458,
          0.3036558036367464,
          0.18399474098725838,
          0.06197392428538315,
          0.018521427547877018,
          0.18748656826994248,
          0.22100581973124456,
          0.188824954433172,
          0.14225113864888936,
          0.23048363812756137,
          0.2101665774175326,
          0.18474381354843347,
          0.07873887270427647,
          0.4678998363875415,
          0.14566314405764083,
          0.2810818806428474,
          0.10049759425627718,
          0.32850777504965767,
          0.08332936096101853,
          0.0783795985619185,
          0.4036244111242679,
          0.26204752848930213,
          0.17219910087888662,
          0.03218495739694672,
          0.29247950790184873,
          0.2969390186721,
          0.09471456866077285,
          0.17018452596477648,
          0.09390109760333798,
          0.31962875122633677,
          0.3452495741728808,
          0.06675838873584763,
          0.06261202500833561,
          0.3334591817774983,
          0.3394828688333923,
          0.1467223759756887,
          0.08398820678997909,
          0.28419468650944474,
          0.13413307878012917,
          0.3448492892451223,
          0.09103567023536935,
          0.32998739494278095,
          0.14326465528124763,
          0.07965228120860811,
          0.0615482675277651,
          0.24624144613955792,
          0.19602652431246084,
          0.15410205223418402,
          0.09366956567388199,
          0.23166228052618193,
          0.312795330810869,
          0.14394205113498676,
          0.1435626210227978,
          0.31049921624677074,
          0.3488429324917816,
          0.08846583367056989,
          0.12918381624014239,
          0.3557959924958864,
          0.31816006629918436,
          0.16099732301854638,
          0.07797574716697254,
          0.35123664990816883,
          0.13999222731448044,
          0.3038706528599057,
          0.1017748713361957,
          0.27951571261449015,
          0.18427749939304935,
          0.20447433984078311,
          0.3988295135972197,
          0.33467152416766216,
          0.13516723705403774,
          0.11597686168020206,
          0.17582220113395722,
          0.2506801941635282,
          0.34169640401950474,
          0.18421304893699908,
          0.10882391987805409,
          0.18597253599863964,
          0.46539576312409064,
          0.13481258666728693,
          0.08065458143127459,
          0.2787323064371448,
          0.5491928091176767,
          0.1451921041368098,
          0.1000193043262627,
          0.2719797958019004,
          0.08432698875015338,
          0.3475463085917818,
          0.1900454073701668,
          0.2444588139921743,
          0.16982852888521324,
          0.10742194744165752,
          0.14433818600057347,
          0.1906282135281914,
          0.11001036740934843,
          0.07027877417673183,
          0.14589008358852257,
          0.3734133008830495,
          0.30724028616037274,
          0.06368948995443273,
          0.07602845456766735,
          0.2458773409579585,
          0.20900059152106407,
          0.0439661704680892,
          0.1505200617361261,
          0.33467152416766216,
          0.23723284815110912,
          0.13725162565268123,
          0.10474094945295942,
          0.3401071868291336,
          0.10285842762616382,
          0.32928861407439236,
          0.09545149341579376,
          0.22558557725407227,
          0.1265872063179849,
          0.12036469505765694,
          0.2522013341611618,
          0.12004702290630828,
          0.05845783650915165,
          0.1052090209991806,
          0.3557959924958864,
          0.13923502086813902,
          0.17943398711718114,
          0.12740718776308346,
          0.33654512402977066,
          0.09565673867161109,
          0.15803213521795745,
          0.12573731915031905,
          0.1333351741688094,
          0.10316476178606893,
          0.08488681535700862,
          0.08471888792876957,
          0.30315915595880133,
          0.08260533722361713,
          0.08762100003772606,
          0.13244314152528164,
          0.3771440845046951,
          0.04792570819556638,
          0.1585556065671836,
          0.19385390986775844,
          0.29831436499663494,
          0.06299083885271492,
          0.13923502086813902,
          0.14869134404121875,
          0.3673059595447612,
          0.1252486298036031,
          0.17805591584868008,
          0.0832659567263187,
          0.33176658623534916,
          0.10239042572120927,
          0.132964497233214,
          0.13063172952201413,
          0.18440420126181875,
          0.15650939008546041,
          0.1359436223800875,
          0.10955475892480573,
          0.291584802693811,
          0.07707324198589602,
          0.05963212541915379,
          0.12449452224571604,
          0.3208027603696279,
          0.13754153222464535,
          0.1753946105733328,
          0.10820576647323968,
          0.3094312014380074,
          0.14081541009561344,
          0.06308948350184501,
          0.08136864108601849,
          0.20201757138031595,
          0.1793756597402104,
          0.07791646149062748,
          0.0665266451452181,
          0.2528207083255988,
          0.05656357047260541,
          0.11596292371120925,
          0.05368381386301375,
          0.4261182950084362,
          0.12266297529875674,
          0.08114227963394718,
          0.127516950326726,
          0.41090362335484026,
          0.05546711335046664,
          0.16548229006060755,
          0.10278840378296773,
          0.400810664257968,
          0.1743945207797209,
          0.13962220564525468,
          0.09845416834595305,
          0.34604033611535684,
          0.18586419859298953,
          0.15376881577799148,
          0.09831633916998908,
          0.23132624840494828,
          0.10208988582627704,
          0.07698723550422787,
          0.1413868487811582,
          0.18116341378791687,
          0.13148614233308212,
          0.07553224139724495,
          0.19934418177762642,
          0.17680895145000391,
          0.1039903475083663,
          0.18302297887820373,
          0.09395444955855625,
          0.203256105670482,
          0.1391307309696408,
          0.10060004099847118,
          0.10594739592317365,
          0.27574765352311925,
          0.07293159476525919,
          0.021469952017595318,
          0.14889520215302032,
          0.28934541820323934,
          0.06729314153534968,
          0.11050514854563107,
          0.10794086968776002,
          0.3360728670198033,
          0.09716923594924791,
          0.09838272210238866,
          0.06404567663037244,
          0.24582425871397082,
          0.03711719665989241,
          0.05095662429290102,
          0.06593793316475217,
          0.22922044140273046,
          0.06522407275304948,
          0.14694965473580873,
          0.05894989953425807,
          0.13351230259355631,
          0.1015942748364049,
          0.17282212191070612,
          0.06971084681062653,
          0.37675973415847047,
          0.12442451716922764,
          0.20355890470803928,
          0.0851393287253143,
          0.22787823071666424,
          0.16500177035682762,
          0.10025801193882894,
          0.13541302197577948,
          0.31243524113134513,
          0.10164498241018108,
          0.11253488115440763,
          0.10742391575820678,
          0.2991401135104182,
          0.05678689960159528,
          0.07607959433149412,
          0.1424077923340356,
          0.30846810711196493,
          0.12270370547675714,
          0.11643973735932156,
          0.059173240287374494,
          0.5084044641571537,
          0.05085154315949735,
          0.13381404139108868,
          0.1436355872618077,
          0.38053992321939384,
          0.13414029642026584,
          0.1812748129575986,
          0.046596141420848634,
          0.2210753771106051,
          0.14780380487420972,
          0.12426711362525858,
          0.15233689734552275,
          0.2829187282300784,
          0.1318707661035829,
          0.17916016417103386,
          0.11466376618699832,
          0.22980524073366973,
          0.1657767593426659,
          0.09429766683539009,
          0.09905931561836606,
          0.4993520613606195,
          0.06757530886680456,
          0.11043034588270466,
          0.05290028562614341,
          0.3642672766780372,
          0.13697755494354086,
          0.1688437861765684,
          0.17535855207802867,
          0.31915876224636236,
          0.08639140249689714,
          0.13589293380666306,
          0.08768578324744657,
          0.2827910671590517,
          0.14112600408713757,
          0.05631554693171509,
          0.09706007412781947,
          0.2430381855777354,
          0.031690172070630476,
          0.17863861453046173,
          0.0751263488688453,
          0.428475752930548,
          0.10461838428873436,
          0.09462335293405554,
          0.13698014619528687,
          0.28882219072839255,
          0.10124323531456667,
          0.13548530292579175,
          0.17417492011114993,
          0.2860352319621924,
          0.07638561989101242,
          0.07067952512497844,
          0.05442722787989655,
          0.30790518056501887,
          0.0882434472110809,
          0.1038637031408099,
          0.07099878944539777,
          0.32836544818747193,
          0.015828274471796543,
          0.16904498853041558,
          0.16368590949251044,
          0.18822279630502614,
          0.07007766957000705,
          0.12680731754919627,
          0.07685316333743065,
          0.4212560979113067,
          0.1328842860438553,
          0.11497350077513414,
          0.0676520805397691,
          0.26373619469638815,
          0.08448050478837826,
          0.09371787695137546,
          0.13960857530626933,
          0.17670411530324232,
          0.08193577671742316,
          0.09843208461411489,
          0.05606044388455765,
          0.3575559080594605,
          0.12459376762258076,
          0.1382741926933567,
          0.12970490336957935,
          0.2645512210370606,
          0.16325503647408035,
          0.0801279097361436,
          0.0776186141031701,
          0.12798227319298933,
          0.08673541313719495,
          0.1160380784039316,
          0.052217607260835124,
          0.23048082292567776,
          0.09988859820436627,
          0.10091866914315702,
          0.13634895558978727,
          0.284540954550914,
          0.11193772835587648,
          0.09701519269664469,
          0.07077820414023371,
          0.24912969330970852,
          0.1748387828379991,
          0.10149574341820967,
          0.18866355291143627,
          0.33548515797342526,
          0.09600018389224459,
          0.040195576860481176,
          0.07012616728553718,
          0.15057412260235747,
          0.11584432298187788,
          0.07952624983435416,
          0.13849128751421458,
          0.32747833549957905,
          0.10633372734071976,
          0.15099259628788275,
          0.07737017021748753,
          0.2654810664232679,
          0.08594120864304396,
          0.07816102009869025,
          0.09330289096893736,
          0.39666816685252976,
          0.08475322782931693,
          0.09208065348183231,
          0.02943754957515759,
          0.1891523567823562,
          0.1004498218673094,
          0.09297682273420504,
          0.06368665071084992,
          0.291059328216777,
          0.06974089094230704,
          0.085923869425484,
          0.09644503545433437,
          0.23878408158995001,
          0.13113336862085753,
          0.13596000574498315,
          0.17217365313905877,
          0.18799348453285178,
          0.14312797524792767,
          0.0646527311845886,
          0.12906862489012053,
          0.1850202620840193,
          0.08015473571238502,
          0.10936962151302752,
          0.0763089929484654,
          0.41197380298741265,
          0.07283420847304406,
          0.18182398272868405,
          0.1697711398132346,
          0.19441280723757318,
          0.14490828300416964,
          0.1321061493090845,
          0.15487650650966778,
          0.2970652209574515,
          0.06875502844014408,
          0.15979389755098156,
          0.0992750004383293,
          0.5007407030625974,
          0.01761361435015859,
          0.10007100249173534,
          0.12233870095641967,
          0.3130574812834109,
          0.0520622886179733,
          0.12978178107695104,
          0.11516920344538396,
          0.42706396375220984,
          0.16197805956392447,
          0.06941514332299124,
          0.10975039873606032,
          0.38280503058189636,
          0.13150234726297866,
          0.12581517371639778,
          0.16572149076887296,
          0.21371364224042086,
          0.07996765220471393
         ],
         "xaxis": "x",
         "y": [
          0.2694724185902043,
          0.10571422332771464,
          -0.1302432293553068,
          0.0513509125305723,
          0.10110652538074652,
          0.0951544591409625,
          -0.07581915797594323,
          -0.0494099527313353,
          0.07016787276996228,
          0.22861714131776953,
          -0.016711578144135073,
          0.06399085746693665,
          -0.0911830717297032,
          0.5721668481268117,
          -0.13202475769278135,
          0.644688200566194,
          0.04578514721381071,
          -0.02868001579036431,
          -0.013612534658986715,
          0.3903720535281569,
          0.2523918445950113,
          0.11322243846561032,
          0.015176618029121194,
          -0.06746502611737797,
          0.3329670780420565,
          0.48247454254450167,
          -0.04326171611904805,
          0.016148821949337845,
          0.3889433141666318,
          0.4513904982904951,
          -0.024039343214637084,
          0.10249931285289501,
          -0.005117023485118391,
          0.03967901576708359,
          -0.036762674386095755,
          0.37279713622314065,
          -0.08863342302328787,
          0.11068885887754747,
          -0.15292850088540785,
          0.3868044344573987,
          0.08174267524206491,
          -0.10622585979247674,
          -0.06415212011104528,
          0.06834007145122545,
          0.029297373676000885,
          0.049708873244528065,
          -0.07005081707990728,
          -0.08805630804734538,
          0.044857635365516034,
          0.018058635211826095,
          -0.006426639928477371,
          -0.15880488428900016,
          0.04834602683077486,
          0.37687809864569344,
          -0.03414867544239944,
          0.08986307272028454,
          -0.13159507650631128,
          0.3633054006183839,
          -0.1368622535063919,
          0.22991367079565792,
          0.08878532561590571,
          -0.007146501278637779,
          -0.069321504318956,
          0.04789854293596379,
          0.03061304799572037,
          -0.1305646045186215,
          -0.040502124804234534,
          0.04337428159001599,
          0.07434951494513818,
          0.04770034522989512,
          -0.10908463301585218,
          -0.09106990758028455,
          0.09922934522889937,
          0.11129780950974912,
          -0.08636627349210407,
          -0.07404046507516247,
          0.19136023964892757,
          0.1024921406916467,
          -0.06247377639049393,
          0.00864691690658759,
          -0.07299921219354233,
          0.5888075476680984,
          -0.06573345335884669,
          0.6334461108808288,
          0.11592129213156119,
          -0.15227446406694994,
          -0.05294040989151058,
          0.12917742981408945,
          0.22540968122647106,
          0.08233627895815748,
          -0.23402977476788805,
          -0.07811497867020228,
          0.3883009830738184,
          0.20411970567191767,
          -0.008883672646624147,
          -0.1133736182240178,
          0.08553468867348035,
          0.43568962203533407,
          -0.11569601588707427,
          -0.03012065881361312,
          0.31491187898381917,
          0.03920502585728762,
          -0.022997914533905574,
          0.05758374305526472,
          -0.11182711570982502,
          0.2937751816309142,
          -0.11942107707426326,
          0.13333102472720282,
          0.2281530686848874,
          -0.027149271607307224,
          -0.02099136924074413,
          0.14919748429773122,
          0.051065081427407254,
          0.5735291508322535,
          -0.0383950760286963,
          -0.06287118935244802,
          0.029047493366199308,
          0.37874042139647407,
          -0.08672571293450741,
          -0.09775481646703052,
          0.21884182924315734,
          0.12696711411881798,
          -0.05796897453142117,
          0.010574277137782102,
          0.12213784749549458,
          0.06668022384328365,
          -0.06495203456106192,
          0.1275874791226293,
          -0.13768963402758627,
          0.04808723279185169,
          -0.07680245077575254,
          0.44054448259948026,
          0.2526696001757736,
          -0.10346947078307901,
          -0.08235250012672524,
          0.042372900669471865,
          0.07759713712173019,
          0.35942263530859153,
          -0.01296370070731673,
          -0.058995178208435486,
          0.6421636655235644,
          0.012551668688173135,
          -0.009421912775684022,
          -0.09157598716419695,
          0.4141427384376106,
          0.07707064469006332,
          -0.09005492942097022,
          0.2523517988398954,
          -0.1093445454597135,
          0.08949094980447339,
          -0.14141651035119668,
          0.4359892368375469,
          -0.13551333353516146,
          0.21785285923212852,
          -0.10514136453219927,
          0.12171212551348626,
          0.10961980409035232,
          -0.07818780298017573,
          -0.04721247977845504,
          0.20566574247750222,
          0.24749706625553528,
          0.483423228638881,
          -0.1378024178517177,
          -0.06301467394975653,
          0.0881226691155773,
          0.04877708281025041,
          -0.11868908285563225,
          -0.09503152322115176,
          0.07776963091084703,
          0.2528247172362179,
          -0.01140501497952966,
          0.369544547072396,
          -0.11482487722334707,
          0.22735807744785033,
          -0.019014381079603238,
          0.040266280894413156,
          0.06935648115086292,
          -0.0944442545186408,
          -0.04842401460115689,
          0.10270601790816736,
          0.62587041088353,
          -0.04143051289023797,
          -0.15544295786678078,
          0.04754839340267231,
          0.10933064910572983,
          0.04028507859695906,
          -0.1298965513500308,
          0.0188583476489772,
          0.15358305444311413,
          0.39385891634734943,
          -0.08193571517974314,
          -0.04445433245146506,
          0.05851931547218811,
          0.03846069217821705,
          -0.059635610171194335,
          0.2164027207062626,
          -0.10649188991665205,
          0.36496899555169465,
          -0.10471447933245186,
          0.22023433663785721,
          0.4115830287544857,
          0.002012006458515428,
          -0.12603658836444592,
          0.12210687193731938,
          0.0646819290295925,
          0.04542772647960514,
          -0.05461982015328164,
          -0.05116096911142323,
          0.034921607062248596,
          0.3079931381760764,
          -0.1122825433680451,
          -0.05121979208340749,
          0.05927175778904278,
          0.06671050177845822,
          -0.09359476099361694,
          -0.04109193198909282,
          0.3452684054399142,
          0.12109899139962593,
          -0.07836505881768241,
          0.10056815606147385,
          -0.0857173831655632,
          0.34424891054841616,
          -0.06639937842181444,
          0.14908095074886132,
          0.0022384651985447646,
          0.11147181710212159,
          -0.012380950272829568,
          0.6213191737479749,
          0.04564632938953755,
          0.38996586865989574,
          -0.14501788964132048,
          -0.13755627263053,
          0.4299150116338075,
          0.13082539100437052,
          -0.1483973722156065,
          -0.15245372613955757,
          0.13987343058112,
          0.40973708666674463,
          -0.03018491696916331,
          -0.12825373151411892,
          0.05576432775782299,
          0.07177925764174509,
          -0.035211658601037144,
          0.07854046032430868,
          0.06744851760379039,
          0.17186146614884515,
          -0.06865292435604087,
          0.17643272751460337,
          0.0765435936218327,
          -0.10295551455009508,
          -0.2145451807914678,
          0.048816557280686894,
          0.4174539099474219,
          0.2576616940706716,
          -0.1237749454498291,
          -0.11359489601667394,
          0.4460731704934887,
          0.10415202714649127,
          -0.10422714342878395,
          -0.1257392606945086,
          0.07364798889348675,
          0.06153516576062267,
          -0.1421858332435329,
          0.6311115438933805,
          -0.15313034396870523,
          0.061257934257558565,
          -0.06365430076774767,
          0.1058537442672722,
          -0.1710142967657839,
          0.2960738132384375,
          -0.10955125623597568,
          0.08977413852441979,
          0.04960638995838194,
          -0.071609269484853,
          -0.10484805494598529,
          0.08857177798464731,
          0.11810166722231044,
          0.11000765707791434,
          -0.0280426704406896,
          -0.0696480606147583,
          0.08324290855851782,
          0.061217742285618326,
          0.0004988596682061778,
          -0.06845417723027425,
          0.10807599549689975,
          0.11075870352420555,
          -0.06299249103687687,
          0.46505559162638993,
          -0.06859232484055396,
          0.1919056953718029,
          -0.18073718729236307,
          0.08784718796526297,
          -0.11454563621019069,
          0.1170878784430821,
          -0.07748563521204195,
          0.04871540834187463,
          0.20137191253570347,
          -0.06836344267594188,
          -0.08456553628927199,
          0.11195799719625293,
          0.12489798065805635,
          0.13378453899157558,
          -0.12088974786790366,
          -0.11546623601995759,
          0.10552251164239479,
          0.06467747877009297,
          -0.16864043715392021,
          -0.08659890978051371,
          0.11546471379036292,
          0.098379082294373,
          -0.05974910785484781,
          0.05946609272322277,
          -0.10654339398006213,
          0.024391147185048787,
          -0.07162427423407997,
          0.48070021056593576,
          0.06724029814716505,
          -0.017771887227940944,
          -0.01881736194786537,
          0.04760604488771014,
          0.39127620820323955,
          -0.041741811177572787,
          -0.07302376029748556,
          0.11153669406446676,
          0.04144775270466083,
          0.051934390678569906,
          -0.11342267419522524,
          0.06543348675317309,
          0.10009979469736972,
          0.1276456825328979,
          -0.1636088756290712,
          -0.013924747037445015,
          0.11832998627289584,
          0.08083702953659475,
          -0.22909622022131393,
          0.06001160641378709,
          -0.019107481110211308,
          0.412223543764592,
          -0.08497394488781829,
          0.12835615514761278,
          0.05482524914964604,
          -0.09289109228627748,
          -0.11933551694764785,
          0.03187052543625087,
          0.08046599021643984,
          0.06098187855937023,
          -0.14592974667762118,
          0.030443060756399798,
          0.04695231081547862,
          0.25733862588102413,
          -0.17416906193128362,
          -0.17204399201101747,
          0.06675192542555185,
          0.11605738928860619,
          -0.05370314944997208,
          -0.1296026086517593,
          0.08776710046303426,
          0.06697702952408809,
          -0.07535517514475576,
          0.02153317646527921,
          -0.020809026154077932,
          0.08172646318928754,
          -0.059772183872378225,
          0.4607346033664064,
          0.27885653947652367,
          -0.01893519016368777,
          -0.04229933357880322,
          0.10664712307846609,
          0.08075666471137555,
          0.28954481372253094,
          -0.16286967374446962,
          -0.09650110285119906,
          0.15610176139097606,
          0.08867986195917064,
          -0.06963974513586331,
          -0.026831824603363856,
          0.2013358808057777,
          0.05354662422823916,
          0.007303208573200492,
          -0.060950110182944696,
          0.09210323722142452,
          0.2711535936320309,
          -0.04871241326360361,
          0.10131128530559348,
          -0.13665357361722452,
          0.032076760215260694,
          -0.13260929478570793,
          0.18419406326382168,
          0.09307093807757973,
          -0.022581805337848915,
          -0.07787949988872828,
          0.004051686635120122,
          0.07714455572391934,
          0.6187251426580618,
          0.019106392914349953,
          0.013959562323201861,
          0.08088458402734172,
          0.40948017291613986,
          -0.15544295786678078,
          -0.025297673958490346,
          0.3981921652258033,
          0.1102013925317218,
          -0.0296954587749742,
          0.10073827418095685,
          -0.022776321902347147,
          0.08183779270619436,
          -0.05307915884617711,
          0.06290144074888462,
          -0.007393212176131094,
          0.02948469748356658,
          -0.09439674794639874,
          0.06707127156981812,
          0.08945240993941386,
          -0.11196600106354414,
          -0.058901772395599385,
          0.0828896016627734,
          0.12872623851605441,
          0.06857495596105605,
          -0.07860302515307112,
          -0.09217852823820921,
          0.11133133794212301,
          0.011470938794775447,
          -0.08666016086747612,
          -0.128881263863111,
          0.353159717028457,
          0.3225192830167975,
          -0.0765488219818707,
          0.4009450189409275,
          -0.02943806350279793,
          0.14486215552949622,
          -0.07315343762684838,
          0.2340413257788422,
          0.04760871388982291,
          -0.1180455476871383,
          -0.0648518688538499,
          0.1138551068475047,
          0.04614855214977672,
          -0.11847028032668126,
          -0.12019805838150024,
          0.07343833811106551,
          0.10267246364123851,
          0.05990151493231053,
          -0.09896988731443214,
          -0.15303747162948259,
          0.05299313615881975,
          0.12497861551363904,
          -0.061109569287416975,
          -0.0866092706383729,
          0.21001383220320016,
          0.1858658962280723,
          0.006508038888275729,
          0.03734377547817264,
          -0.04505165490296224,
          0.037351770143521895,
          -0.0915190724431232,
          0.04040278832129959,
          0.059605368659254254,
          -0.04848334567835513,
          -0.0908011299324885,
          0.36135077717057146,
          0.0817192867950636,
          0.012819961136044267,
          -0.004961357690057587,
          0.0055977532434765345,
          0.0805233648917776,
          0.03166787945872095,
          -0.08037576555560869,
          0.020095425847649805,
          0.10697547650120506,
          0.04255142031990348,
          -0.013626721204688018,
          -0.02495281307396061,
          0.11278056278306593,
          0.20456215172716383,
          -0.15099971966617476,
          0.07618067898923074,
          -0.1566828795355797,
          0.09035432614452493,
          -0.07928701519648096,
          0.17487426163737255,
          0.04590690088628688,
          -0.15840937870000762,
          -0.07465170390758111,
          0.09339677553251859,
          0.49010474821922373,
          0.05290552273403517,
          -0.09117716986727484,
          -0.10865782149332213,
          0.11200101959219332,
          0.09145706284275161,
          -0.09449040488012596,
          -0.08928459187491102,
          0.05202140790106912,
          0.08586468120151072,
          -0.00969258710172779,
          -0.13821578049076658,
          0.07323878928910349,
          0.1697403311625362,
          -0.15546929163095752,
          0.08332990099239806,
          -0.11177985095196846,
          0.22418368695379864,
          -0.07378275424355549,
          0.10914508095408555,
          0.071959526114917,
          -0.06213663929561032,
          -0.05646458569414972,
          0.0956834361112999,
          0.04997242904897683,
          0.1245115520606819,
          -0.01739224324406484,
          -0.028369340688754775,
          0.3009692332039886,
          0.07943459195254997,
          -0.12399500158360661,
          -0.11552831182454801,
          -0.007112132946248719,
          0.08117150927310982,
          -0.14562700267572462,
          0.08389682899958514,
          -0.1321926408371085,
          0.12232227269993641,
          -0.09978056247128375,
          0.06332649404368311,
          0.03472773005174424,
          0.04411644786452773,
          -0.08092501800266062,
          0.3238927578527159,
          0.08475629661940327,
          -0.08399494319571772,
          -0.04900690430864396,
          0.11477910966793124,
          0.049901569403866,
          0.4282166399907206,
          -0.06710082248844436,
          0.09143262644001887,
          0.052985266348056885,
          -0.07687990735240105,
          -0.06676209237897181,
          0.6260031298796459,
          0.31605784014337596,
          -0.2145451807914678,
          0.06684927598932963,
          -0.11361454507911876,
          0.12034602181562397,
          -0.1390733291785569,
          0.1566428866252382,
          0.0758039484458714,
          -0.10207582629649438,
          -0.12043265337695754,
          0.012819961136044267,
          0.05713313214363282,
          -0.06261188260124767,
          -0.12937531549129724,
          0.04710100235438736,
          0.06528900817991161,
          0.052818334923343875,
          -0.1325803672337324,
          -0.07293078220121517,
          0.02401629567361393,
          0.0673258331003501,
          -0.1034247529107263,
          -0.030093581664730442,
          0.028974346738593403,
          0.11692616439251623,
          -0.09600197736675366,
          0.03982348386039387,
          -0.07597785376848373,
          0.11863958635310096,
          -0.09877264285075496,
          0.2487653238914448,
          0.1209571695393702,
          0.03472773005174424,
          -0.07995975267798343,
          -0.011456034290073436,
          0.08045161745460984,
          0.089799255252794,
          -0.05765677063147139,
          -0.05889845942273678,
          0.06887262277360223,
          0.04031638915794037,
          -0.12285247912530119,
          -0.07037980817528314,
          0.10023818104772964,
          0.3885828153271617,
          -0.09858783165578652,
          -0.0614975733298743,
          0.2765361894209081,
          0.23944835351126492,
          -0.09917062474904764,
          0.13239250868131433,
          -0.028702021331186763,
          0.11744573574460843,
          -0.018432556863419037,
          0.40615759344393876,
          0.10384645068068854,
          -0.0809693610838107,
          -0.14459206867540747,
          0.5205834107003695,
          0.08191392598304018,
          -0.003234138338631349,
          -0.07926213576371914,
          -0.10430723984118553,
          0.6253296311942077,
          0.08883358034219073,
          -0.07243465831503132,
          -0.13964243234340826,
          0.10319898080047063,
          0.21074214412148737,
          -0.04551528916798204,
          -0.14542826783715568,
          0.08520378802406652,
          0.3546500508691033,
          -0.08937177670869773,
          0.07165905312544134,
          -0.06249143788234558,
          0.3918868688666914,
          -0.0821611998176783,
          0.07874410216163884,
          0.06515129331243141,
          -0.006882514594022846,
          -0.05505687972587029,
          0.04683030572491435,
          0.06686331339327511,
          0.2034371172365745,
          -0.1157703012753293,
          -0.03306780288750136,
          0.1313397208393862,
          0.10335204690794264,
          -0.09646417934795547,
          -0.016809353528469434,
          0.07691526825237176,
          0.33525383348107457,
          -0.14459206867540747,
          -0.0637552735419987,
          0.07386416272317868,
          -0.02052455511714989,
          -0.07751399229382445,
          0.14821894413782072,
          -0.04222289446446368,
          0.34381641672895685,
          -0.07920978701413489,
          0.19614997275743298,
          0.0911970681133809,
          -0.09743262424998826,
          0.4934987719108176,
          0.13471564434648012,
          0.08468034777415469,
          -0.09858783165578652,
          0.2506699732841522,
          0.05216278548722021,
          0.17639227200403346,
          -0.08506269026617723,
          0.0906129093213224,
          0.0867319947792135,
          0.17899056261663726,
          0.03736196720825755,
          0.10301002184665692,
          0.13976675746771694,
          0.24378362033684345,
          -0.13962140137850013,
          0.03870505866668847,
          0.04651777165663993,
          0.4909652306852146,
          -0.09425244227594666,
          0.0449482336583498,
          0.3259915701778386,
          -0.006929774365568813,
          -0.10623690817749472,
          0.06681380036919779,
          0.2506699732841522,
          0.0012452101268458958,
          -0.15936587626546211,
          0.04156343154866401,
          0.07268476078407682,
          0.094347399952945,
          -0.06607304578273804,
          0.014868933045981267,
          0.51436776235506,
          0.402901634155338,
          -0.04489520785132069,
          0.06875005888530324,
          0.040990594452535646,
          0.13057815005552403,
          -0.105817342745643,
          0.08404056113846428,
          0.1841343843956425,
          0.041599021815240424,
          -0.061109569287416975,
          0.044494819250192164,
          0.04634649190165675,
          0.048734174707268416,
          -0.09384455124876218,
          0.03837547195350283,
          0.1315274017121803,
          0.13652571456436507,
          -0.06751108931741497,
          0.048545659226999396,
          0.17240824093633245,
          0.08781172187478982,
          -0.0641469217580726,
          0.044327096449712666,
          0.40582433622562536,
          0.07117356048822578,
          -0.1840161142745047,
          0.47633873993231496,
          0.21332788233153957,
          0.3131386878923516,
          -0.1237749454498291,
          0.05157154436133416,
          0.549004590206182,
          0.2223776708964335,
          -0.12096444273819032,
          0.4044860661339789,
          0.012752497041112133,
          0.227219137744185,
          -0.11954407383849013,
          0.10366297156224104,
          0.04043302877411064,
          0.08880832014204078,
          -0.08982259730288479,
          0.04231287674245431,
          0.07201935989331888,
          0.041887323091320476,
          -0.04290238415364886,
          0.04153075739314203,
          0.0532481403459881,
          0.4645442893412072,
          0.01387530971936974,
          0.05089802311797382,
          0.06323536767250185,
          0.10011105070881417,
          -0.07422748232864562,
          0.054959469857123217,
          0.09263562635418182,
          0.09506711188314734,
          -0.1014095285429395,
          0.07683888470586706,
          0.05289545151385375,
          0.10012918611440762,
          -0.08743732113314917,
          0.1109103685787461,
          0.09590134283231774,
          0.11061184151493657,
          -0.13564822088283618,
          0.10871951049736421,
          0.09369465934125157,
          0.04043305395959426,
          -0.06280787887132808,
          0.04852640246070673,
          0.09430929422327834,
          0.025622717093384983,
          -0.06863465687772163,
          0.06480075963957777,
          0.03455262527034692,
          0.03050431164265235,
          0.12456870035534001,
          0.031841441936981144,
          0.3826699839197213,
          0.0737572090067243,
          -0.1680084389667784,
          0.03470814690358014,
          0.33369524360721486,
          0.04545855524773875,
          -0.0018914893845026542,
          0.03524489762062449,
          0.055771037618070674,
          0.0466118281493624,
          -0.13583449056817523,
          0.13350245878653658,
          0.010795020990590366,
          0.12786181596053553,
          -0.05045663800844325,
          0.11061755042552168,
          0.07170923417119636,
          0.0771288514306019,
          -0.1411610115780554,
          0.11243888873710378,
          0.28221153551218353,
          0.1149619198266853,
          -0.23314880134204105,
          0.1361699130746469,
          0.4664250135269143,
          0.35714484913285344,
          -0.13410137643999437,
          0.05254710909755419,
          0.047911302808999884,
          0.07535926627588276,
          -0.06125944239839296,
          0.01906827343792023,
          0.4026614543912629,
          0.12135309222191115,
          -0.06444059887957898,
          0.05598996015940444,
          -0.005961564754801493,
          0.08209202886116772,
          -0.09046179241652745,
          0.30912115012083025,
          0.07705859994183101,
          0.12607721263616162,
          -0.2272789852292991,
          0.039651075163650344,
          0.03818519463215219,
          0.053202577132359416,
          -0.10973961684516893,
          0.040495918742163454,
          0.043208399390277666,
          0.06869016758069262,
          -0.12739070616694156,
          0.08813582768676717,
          0.2775955747667331,
          0.0613000794449759,
          -0.10971687992619694,
          0.013523120271163251,
          0.04365796489095927,
          0.06514216072434358,
          -0.0576296809227228,
          0.04555269204346289,
          0.5966812804318818,
          0.09913315550961979,
          -0.13456545370000778,
          0.08381596597053688,
          0.1536837767665066,
          0.3422785694523237,
          -0.08960733098257549,
          0.06851093074139804,
          0.07992694405263166,
          0.04747187174805613,
          -0.04300891587965959,
          0.050929858388728856,
          0.08942291772215133,
          0.04780854179628465,
          -0.13525634638184184,
          0.08235920020766657,
          0.09994680289553423,
          0.07625877409792194,
          -0.11371884147411633,
          0.047642853156615,
          0.12224949812638218,
          0.30947150294605974,
          -0.040089441030304054,
          0.06026951275274452,
          0.04437711537735527,
          0.06965224018678812,
          -0.09874404267916562,
          0.0401943083621853,
          0.07118319160727804,
          0.06234866734956279,
          -0.07191998372319401,
          0.2285200974107639,
          0.025461388155718197,
          0.04847231570349847,
          -0.01881817511061754,
          0.059378131453040627,
          0.26040760504307175,
          0.04244735911804578,
          -0.16453310267532711,
          0.06862527051436175,
          0.07906017768173677,
          0.17381955434574825,
          -0.08356130724624894,
          0.035896241112668974,
          0.12230123156934389,
          0.07182944312051322,
          0.001667449039182283,
          0.06922438288592749,
          0.1575367578453936,
          0.0918455177583768,
          -0.06758735642429788,
          0.11795397191138583,
          0.07953871954718889,
          0.024974732366941275,
          -0.0708162500622712,
          0.1051751094879839,
          0.07398190747873772,
          0.14745949904713235,
          -0.11019183151321862,
          0.08916315701032002,
          0.07392774762635743,
          0.43130879420154583,
          -0.10722473915047219,
          0.07236726921380603,
          0.10315863671520496,
          0.0653965533538258,
          -0.05551379345723961,
          0.06879975841590243,
          0.2622856220243571,
          0.20886973170390066,
          -0.13222053784123772,
          0.07559301660266496,
          0.07683066747003012,
          0.056017901072814416,
          -0.021460181109142048,
          0.049956031720888326,
          0.059058661460536684,
          0.09195092183357688,
          -0.10134354071829628,
          0.11573231791176197,
          0.03279758230211209,
          0.048312813248015486,
          -0.0024032914811925672,
          -0.006261532194723463,
          0.03859058311234085,
          0.18409076375001882,
          -0.0806770504221178,
          0.21807304824336204,
          0.11909244687843971,
          0.12239025160603433,
          -0.089022730605468,
          0.05745024429422951,
          0.11849108655263654,
          0.4131006408313355,
          -0.05098589090294559,
          0.38034690177012664,
          0.10090477339480146,
          0.4771695030986638,
          -0.07356442871643532,
          0.268421052997,
          0.03261987776308136,
          0.10243924466239164,
          -0.17543434419967577,
          0.018107880871314905,
          0.08758351432578568,
          0.3662358386101234,
          -0.050687016870188686,
          0.2673602431788788,
          0.11713286533984477,
          0.4395987544967196,
          -0.1358418255041103,
          0.024413690912177266,
          0.346693109863812,
          0.016974983004906435,
          -0.2217538738060398,
          0.04751399674736293,
          0.12564960674293463,
          0.5015160276546153,
          -0.0721154165906675,
          0.07139257896539354,
          0.3956615027182185,
          0.05838964643444764,
          -0.18737481459053812,
          -0.02624380136957657,
          0.09239632982305618,
          0.1516647416585251,
          -0.13111018622440007,
          0.02375955470976181,
          0.059119626908774876,
          0.3567333510595926,
          -0.02003965003023359,
          0.003667614150121858
         ],
         "yaxis": "y"
        }
       ],
       "layout": {
        "coloraxis": {
         "colorbar": {
          "title": {
           "text": "color"
          }
         },
         "colorscale": [
          [
           0,
           "#0d0887"
          ],
          [
           0.1111111111111111,
           "#46039f"
          ],
          [
           0.2222222222222222,
           "#7201a8"
          ],
          [
           0.3333333333333333,
           "#9c179e"
          ],
          [
           0.4444444444444444,
           "#bd3786"
          ],
          [
           0.5555555555555556,
           "#d8576b"
          ],
          [
           0.6666666666666666,
           "#ed7953"
          ],
          [
           0.7777777777777778,
           "#fb9f3a"
          ],
          [
           0.8888888888888888,
           "#fdca26"
          ],
          [
           1,
           "#f0f921"
          ]
         ]
        },
        "legend": {
         "tracegroupgap": 0
        },
        "template": {
         "data": {
          "bar": [
           {
            "error_x": {
             "color": "#2a3f5f"
            },
            "error_y": {
             "color": "#2a3f5f"
            },
            "marker": {
             "line": {
              "color": "#E5ECF6",
              "width": 0.5
             },
             "pattern": {
              "fillmode": "overlay",
              "size": 10,
              "solidity": 0.2
             }
            },
            "type": "bar"
           }
          ],
          "barpolar": [
           {
            "marker": {
             "line": {
              "color": "#E5ECF6",
              "width": 0.5
             },
             "pattern": {
              "fillmode": "overlay",
              "size": 10,
              "solidity": 0.2
             }
            },
            "type": "barpolar"
           }
          ],
          "carpet": [
           {
            "aaxis": {
             "endlinecolor": "#2a3f5f",
             "gridcolor": "white",
             "linecolor": "white",
             "minorgridcolor": "white",
             "startlinecolor": "#2a3f5f"
            },
            "baxis": {
             "endlinecolor": "#2a3f5f",
             "gridcolor": "white",
             "linecolor": "white",
             "minorgridcolor": "white",
             "startlinecolor": "#2a3f5f"
            },
            "type": "carpet"
           }
          ],
          "choropleth": [
           {
            "colorbar": {
             "outlinewidth": 0,
             "ticks": ""
            },
            "type": "choropleth"
           }
          ],
          "contour": [
           {
            "colorbar": {
             "outlinewidth": 0,
             "ticks": ""
            },
            "colorscale": [
             [
              0,
              "#0d0887"
             ],
             [
              0.1111111111111111,
              "#46039f"
             ],
             [
              0.2222222222222222,
              "#7201a8"
             ],
             [
              0.3333333333333333,
              "#9c179e"
             ],
             [
              0.4444444444444444,
              "#bd3786"
             ],
             [
              0.5555555555555556,
              "#d8576b"
             ],
             [
              0.6666666666666666,
              "#ed7953"
             ],
             [
              0.7777777777777778,
              "#fb9f3a"
             ],
             [
              0.8888888888888888,
              "#fdca26"
             ],
             [
              1,
              "#f0f921"
             ]
            ],
            "type": "contour"
           }
          ],
          "contourcarpet": [
           {
            "colorbar": {
             "outlinewidth": 0,
             "ticks": ""
            },
            "type": "contourcarpet"
           }
          ],
          "heatmap": [
           {
            "colorbar": {
             "outlinewidth": 0,
             "ticks": ""
            },
            "colorscale": [
             [
              0,
              "#0d0887"
             ],
             [
              0.1111111111111111,
              "#46039f"
             ],
             [
              0.2222222222222222,
              "#7201a8"
             ],
             [
              0.3333333333333333,
              "#9c179e"
             ],
             [
              0.4444444444444444,
              "#bd3786"
             ],
             [
              0.5555555555555556,
              "#d8576b"
             ],
             [
              0.6666666666666666,
              "#ed7953"
             ],
             [
              0.7777777777777778,
              "#fb9f3a"
             ],
             [
              0.8888888888888888,
              "#fdca26"
             ],
             [
              1,
              "#f0f921"
             ]
            ],
            "type": "heatmap"
           }
          ],
          "heatmapgl": [
           {
            "colorbar": {
             "outlinewidth": 0,
             "ticks": ""
            },
            "colorscale": [
             [
              0,
              "#0d0887"
             ],
             [
              0.1111111111111111,
              "#46039f"
             ],
             [
              0.2222222222222222,
              "#7201a8"
             ],
             [
              0.3333333333333333,
              "#9c179e"
             ],
             [
              0.4444444444444444,
              "#bd3786"
             ],
             [
              0.5555555555555556,
              "#d8576b"
             ],
             [
              0.6666666666666666,
              "#ed7953"
             ],
             [
              0.7777777777777778,
              "#fb9f3a"
             ],
             [
              0.8888888888888888,
              "#fdca26"
             ],
             [
              1,
              "#f0f921"
             ]
            ],
            "type": "heatmapgl"
           }
          ],
          "histogram": [
           {
            "marker": {
             "pattern": {
              "fillmode": "overlay",
              "size": 10,
              "solidity": 0.2
             }
            },
            "type": "histogram"
           }
          ],
          "histogram2d": [
           {
            "colorbar": {
             "outlinewidth": 0,
             "ticks": ""
            },
            "colorscale": [
             [
              0,
              "#0d0887"
             ],
             [
              0.1111111111111111,
              "#46039f"
             ],
             [
              0.2222222222222222,
              "#7201a8"
             ],
             [
              0.3333333333333333,
              "#9c179e"
             ],
             [
              0.4444444444444444,
              "#bd3786"
             ],
             [
              0.5555555555555556,
              "#d8576b"
             ],
             [
              0.6666666666666666,
              "#ed7953"
             ],
             [
              0.7777777777777778,
              "#fb9f3a"
             ],
             [
              0.8888888888888888,
              "#fdca26"
             ],
             [
              1,
              "#f0f921"
             ]
            ],
            "type": "histogram2d"
           }
          ],
          "histogram2dcontour": [
           {
            "colorbar": {
             "outlinewidth": 0,
             "ticks": ""
            },
            "colorscale": [
             [
              0,
              "#0d0887"
             ],
             [
              0.1111111111111111,
              "#46039f"
             ],
             [
              0.2222222222222222,
              "#7201a8"
             ],
             [
              0.3333333333333333,
              "#9c179e"
             ],
             [
              0.4444444444444444,
              "#bd3786"
             ],
             [
              0.5555555555555556,
              "#d8576b"
             ],
             [
              0.6666666666666666,
              "#ed7953"
             ],
             [
              0.7777777777777778,
              "#fb9f3a"
             ],
             [
              0.8888888888888888,
              "#fdca26"
             ],
             [
              1,
              "#f0f921"
             ]
            ],
            "type": "histogram2dcontour"
           }
          ],
          "mesh3d": [
           {
            "colorbar": {
             "outlinewidth": 0,
             "ticks": ""
            },
            "type": "mesh3d"
           }
          ],
          "parcoords": [
           {
            "line": {
             "colorbar": {
              "outlinewidth": 0,
              "ticks": ""
             }
            },
            "type": "parcoords"
           }
          ],
          "pie": [
           {
            "automargin": true,
            "type": "pie"
           }
          ],
          "scatter": [
           {
            "marker": {
             "colorbar": {
              "outlinewidth": 0,
              "ticks": ""
             }
            },
            "type": "scatter"
           }
          ],
          "scatter3d": [
           {
            "line": {
             "colorbar": {
              "outlinewidth": 0,
              "ticks": ""
             }
            },
            "marker": {
             "colorbar": {
              "outlinewidth": 0,
              "ticks": ""
             }
            },
            "type": "scatter3d"
           }
          ],
          "scattercarpet": [
           {
            "marker": {
             "colorbar": {
              "outlinewidth": 0,
              "ticks": ""
             }
            },
            "type": "scattercarpet"
           }
          ],
          "scattergeo": [
           {
            "marker": {
             "colorbar": {
              "outlinewidth": 0,
              "ticks": ""
             }
            },
            "type": "scattergeo"
           }
          ],
          "scattergl": [
           {
            "marker": {
             "colorbar": {
              "outlinewidth": 0,
              "ticks": ""
             }
            },
            "type": "scattergl"
           }
          ],
          "scattermapbox": [
           {
            "marker": {
             "colorbar": {
              "outlinewidth": 0,
              "ticks": ""
             }
            },
            "type": "scattermapbox"
           }
          ],
          "scatterpolar": [
           {
            "marker": {
             "colorbar": {
              "outlinewidth": 0,
              "ticks": ""
             }
            },
            "type": "scatterpolar"
           }
          ],
          "scatterpolargl": [
           {
            "marker": {
             "colorbar": {
              "outlinewidth": 0,
              "ticks": ""
             }
            },
            "type": "scatterpolargl"
           }
          ],
          "scatterternary": [
           {
            "marker": {
             "colorbar": {
              "outlinewidth": 0,
              "ticks": ""
             }
            },
            "type": "scatterternary"
           }
          ],
          "surface": [
           {
            "colorbar": {
             "outlinewidth": 0,
             "ticks": ""
            },
            "colorscale": [
             [
              0,
              "#0d0887"
             ],
             [
              0.1111111111111111,
              "#46039f"
             ],
             [
              0.2222222222222222,
              "#7201a8"
             ],
             [
              0.3333333333333333,
              "#9c179e"
             ],
             [
              0.4444444444444444,
              "#bd3786"
             ],
             [
              0.5555555555555556,
              "#d8576b"
             ],
             [
              0.6666666666666666,
              "#ed7953"
             ],
             [
              0.7777777777777778,
              "#fb9f3a"
             ],
             [
              0.8888888888888888,
              "#fdca26"
             ],
             [
              1,
              "#f0f921"
             ]
            ],
            "type": "surface"
           }
          ],
          "table": [
           {
            "cells": {
             "fill": {
              "color": "#EBF0F8"
             },
             "line": {
              "color": "white"
             }
            },
            "header": {
             "fill": {
              "color": "#C8D4E3"
             },
             "line": {
              "color": "white"
             }
            },
            "type": "table"
           }
          ]
         },
         "layout": {
          "annotationdefaults": {
           "arrowcolor": "#2a3f5f",
           "arrowhead": 0,
           "arrowwidth": 1
          },
          "autotypenumbers": "strict",
          "coloraxis": {
           "colorbar": {
            "outlinewidth": 0,
            "ticks": ""
           }
          },
          "colorscale": {
           "diverging": [
            [
             0,
             "#8e0152"
            ],
            [
             0.1,
             "#c51b7d"
            ],
            [
             0.2,
             "#de77ae"
            ],
            [
             0.3,
             "#f1b6da"
            ],
            [
             0.4,
             "#fde0ef"
            ],
            [
             0.5,
             "#f7f7f7"
            ],
            [
             0.6,
             "#e6f5d0"
            ],
            [
             0.7,
             "#b8e186"
            ],
            [
             0.8,
             "#7fbc41"
            ],
            [
             0.9,
             "#4d9221"
            ],
            [
             1,
             "#276419"
            ]
           ],
           "sequential": [
            [
             0,
             "#0d0887"
            ],
            [
             0.1111111111111111,
             "#46039f"
            ],
            [
             0.2222222222222222,
             "#7201a8"
            ],
            [
             0.3333333333333333,
             "#9c179e"
            ],
            [
             0.4444444444444444,
             "#bd3786"
            ],
            [
             0.5555555555555556,
             "#d8576b"
            ],
            [
             0.6666666666666666,
             "#ed7953"
            ],
            [
             0.7777777777777778,
             "#fb9f3a"
            ],
            [
             0.8888888888888888,
             "#fdca26"
            ],
            [
             1,
             "#f0f921"
            ]
           ],
           "sequentialminus": [
            [
             0,
             "#0d0887"
            ],
            [
             0.1111111111111111,
             "#46039f"
            ],
            [
             0.2222222222222222,
             "#7201a8"
            ],
            [
             0.3333333333333333,
             "#9c179e"
            ],
            [
             0.4444444444444444,
             "#bd3786"
            ],
            [
             0.5555555555555556,
             "#d8576b"
            ],
            [
             0.6666666666666666,
             "#ed7953"
            ],
            [
             0.7777777777777778,
             "#fb9f3a"
            ],
            [
             0.8888888888888888,
             "#fdca26"
            ],
            [
             1,
             "#f0f921"
            ]
           ]
          },
          "colorway": [
           "#636efa",
           "#EF553B",
           "#00cc96",
           "#ab63fa",
           "#FFA15A",
           "#19d3f3",
           "#FF6692",
           "#B6E880",
           "#FF97FF",
           "#FECB52"
          ],
          "font": {
           "color": "#2a3f5f"
          },
          "geo": {
           "bgcolor": "white",
           "lakecolor": "white",
           "landcolor": "#E5ECF6",
           "showlakes": true,
           "showland": true,
           "subunitcolor": "white"
          },
          "hoverlabel": {
           "align": "left"
          },
          "hovermode": "closest",
          "mapbox": {
           "style": "light"
          },
          "paper_bgcolor": "white",
          "plot_bgcolor": "#E5ECF6",
          "polar": {
           "angularaxis": {
            "gridcolor": "white",
            "linecolor": "white",
            "ticks": ""
           },
           "bgcolor": "#E5ECF6",
           "radialaxis": {
            "gridcolor": "white",
            "linecolor": "white",
            "ticks": ""
           }
          },
          "scene": {
           "xaxis": {
            "backgroundcolor": "#E5ECF6",
            "gridcolor": "white",
            "gridwidth": 2,
            "linecolor": "white",
            "showbackground": true,
            "ticks": "",
            "zerolinecolor": "white"
           },
           "yaxis": {
            "backgroundcolor": "#E5ECF6",
            "gridcolor": "white",
            "gridwidth": 2,
            "linecolor": "white",
            "showbackground": true,
            "ticks": "",
            "zerolinecolor": "white"
           },
           "zaxis": {
            "backgroundcolor": "#E5ECF6",
            "gridcolor": "white",
            "gridwidth": 2,
            "linecolor": "white",
            "showbackground": true,
            "ticks": "",
            "zerolinecolor": "white"
           }
          },
          "shapedefaults": {
           "line": {
            "color": "#2a3f5f"
           }
          },
          "ternary": {
           "aaxis": {
            "gridcolor": "white",
            "linecolor": "white",
            "ticks": ""
           },
           "baxis": {
            "gridcolor": "white",
            "linecolor": "white",
            "ticks": ""
           },
           "bgcolor": "#E5ECF6",
           "caxis": {
            "gridcolor": "white",
            "linecolor": "white",
            "ticks": ""
           }
          },
          "title": {
           "x": 0.05
          },
          "xaxis": {
           "automargin": true,
           "gridcolor": "white",
           "linecolor": "white",
           "ticks": "",
           "title": {
            "standoff": 15
           },
           "zerolinecolor": "white",
           "zerolinewidth": 2
          },
          "yaxis": {
           "automargin": true,
           "gridcolor": "white",
           "linecolor": "white",
           "ticks": "",
           "title": {
            "standoff": 15
           },
           "zerolinecolor": "white",
           "zerolinewidth": 2
          }
         }
        },
        "title": {
         "text": "Text Clustering"
        },
        "xaxis": {
         "anchor": "y",
         "domain": [
          0,
          1
         ],
         "title": {
          "text": "1 Dimension Reduction"
         }
        },
        "yaxis": {
         "anchor": "x",
         "domain": [
          0,
          1
         ],
         "title": {
          "text": "2 Dimension Reduction"
         }
        }
       }
      }
     },
     "metadata": {},
     "output_type": "display_data"
    }
   ],
   "source": [
    "titles = information.database['title']\n",
    "clustering_target = text_similarity.kmeans_text(tf_idf_matrix, titles)"
   ]
  },
  {
   "cell_type": "code",
   "execution_count": 22,
   "metadata": {},
   "outputs": [
    {
     "data": {
      "text/html": [
       "<div>\n",
       "<style scoped>\n",
       "    .dataframe tbody tr th:only-of-type {\n",
       "        vertical-align: middle;\n",
       "    }\n",
       "\n",
       "    .dataframe tbody tr th {\n",
       "        vertical-align: top;\n",
       "    }\n",
       "\n",
       "    .dataframe thead th {\n",
       "        text-align: right;\n",
       "    }\n",
       "</style>\n",
       "<table border=\"1\" class=\"dataframe\">\n",
       "  <thead>\n",
       "    <tr style=\"text-align: right;\">\n",
       "      <th></th>\n",
       "      <th>left_side</th>\n",
       "      <th>right_side</th>\n",
       "      <th>similarity</th>\n",
       "      <th>left price</th>\n",
       "      <th>right price</th>\n",
       "      <th>left URL</th>\n",
       "      <th>right URL</th>\n",
       "    </tr>\n",
       "  </thead>\n",
       "  <tbody>\n",
       "    <tr>\n",
       "      <th>2</th>\n",
       "      <td>switch tplink ls1005g serie litewave</td>\n",
       "      <td>switch tplink ls1005 serie litewave</td>\n",
       "      <td>0.908829</td>\n",
       "      <td>61000</td>\n",
       "      <td>48700</td>\n",
       "      <td>https://www.mercadolibre.com.co/switch-tp-link...</td>\n",
       "      <td>https://www.mercadolibre.com.co/switch-tp-link...</td>\n",
       "    </tr>\n",
       "    <tr>\n",
       "      <th>3</th>\n",
       "      <td>switch tplink ls1005g serie litewave</td>\n",
       "      <td>switch tplink ls1008 serie litewave</td>\n",
       "      <td>0.858817</td>\n",
       "      <td>61000</td>\n",
       "      <td>48514</td>\n",
       "      <td>https://www.mercadolibre.com.co/switch-tp-link...</td>\n",
       "      <td>https://www.mercadolibre.com.co/switch-tp-link...</td>\n",
       "    </tr>\n",
       "    <tr>\n",
       "      <th>5</th>\n",
       "      <td>laptop dell inspiron 3505 negra 156 amd ryzen ...</td>\n",
       "      <td>laptop dell inspiron 3505 negra 156 amd ryzen ...</td>\n",
       "      <td>0.868964</td>\n",
       "      <td>2200000</td>\n",
       "      <td>2061000</td>\n",
       "      <td>https://www.mercadolibre.com.co/laptop-dell-in...</td>\n",
       "      <td>https://www.mercadolibre.com.co/laptop-dell-in...</td>\n",
       "    </tr>\n",
       "    <tr>\n",
       "      <th>6</th>\n",
       "      <td>laptop dell inspiron 3505 negra 156 amd ryzen ...</td>\n",
       "      <td>laptop dell inspiron 3505 gris 156 amd ryzen 5...</td>\n",
       "      <td>0.861397</td>\n",
       "      <td>2200000</td>\n",
       "      <td>2183650</td>\n",
       "      <td>https://www.mercadolibre.com.co/laptop-dell-in...</td>\n",
       "      <td>https://www.mercadolibre.com.co/laptop-dell-in...</td>\n",
       "    </tr>\n",
       "    <tr>\n",
       "      <th>7</th>\n",
       "      <td>laptop dell inspiron 3505 negra 156 amd ryzen ...</td>\n",
       "      <td>laptop dell inspiron 3505 gris 156 amd ryzen 5...</td>\n",
       "      <td>0.854644</td>\n",
       "      <td>2200000</td>\n",
       "      <td>2182070</td>\n",
       "      <td>https://www.mercadolibre.com.co/laptop-dell-in...</td>\n",
       "      <td>https://www.mercadolibre.com.co/laptop-dell-in...</td>\n",
       "    </tr>\n",
       "  </tbody>\n",
       "</table>\n",
       "</div>"
      ],
      "text/plain": [
       "                                           left_side  \\\n",
       "2               switch tplink ls1005g serie litewave   \n",
       "3               switch tplink ls1005g serie litewave   \n",
       "5  laptop dell inspiron 3505 negra 156 amd ryzen ...   \n",
       "6  laptop dell inspiron 3505 negra 156 amd ryzen ...   \n",
       "7  laptop dell inspiron 3505 negra 156 amd ryzen ...   \n",
       "\n",
       "                                          right_side  similarity left price  \\\n",
       "2                switch tplink ls1005 serie litewave    0.908829      61000   \n",
       "3                switch tplink ls1008 serie litewave    0.858817      61000   \n",
       "5  laptop dell inspiron 3505 negra 156 amd ryzen ...    0.868964    2200000   \n",
       "6  laptop dell inspiron 3505 gris 156 amd ryzen 5...    0.861397    2200000   \n",
       "7  laptop dell inspiron 3505 gris 156 amd ryzen 5...    0.854644    2200000   \n",
       "\n",
       "  right price                                           left URL  \\\n",
       "2       48700  https://www.mercadolibre.com.co/switch-tp-link...   \n",
       "3       48514  https://www.mercadolibre.com.co/switch-tp-link...   \n",
       "5     2061000  https://www.mercadolibre.com.co/laptop-dell-in...   \n",
       "6     2183650  https://www.mercadolibre.com.co/laptop-dell-in...   \n",
       "7     2182070  https://www.mercadolibre.com.co/laptop-dell-in...   \n",
       "\n",
       "                                           right URL  \n",
       "2  https://www.mercadolibre.com.co/switch-tp-link...  \n",
       "3  https://www.mercadolibre.com.co/switch-tp-link...  \n",
       "5  https://www.mercadolibre.com.co/laptop-dell-in...  \n",
       "6  https://www.mercadolibre.com.co/laptop-dell-in...  \n",
       "7  https://www.mercadolibre.com.co/laptop-dell-in...  "
      ]
     },
     "execution_count": 22,
     "metadata": {},
     "output_type": "execute_result"
    }
   ],
   "source": [
    "prices = information.database['price']\n",
    "links = information.database['permalink']\n",
    "matches = text_similarity.awesome_cossim_top(tf_idf_matrix, tf_idf_matrix.transpose(), 10, similarity_bound)\n",
    "matches_df = text_similarity.get_matches_df(matches, titles, prices, links, clustering_target)\n",
    "matches_df = matches_df[matches_df['similarity'] < 0.99999] # For removing all exact matches\n",
    "matches_df.head()"
   ]
  },
  {
   "cell_type": "code",
   "execution_count": 23,
   "metadata": {},
   "outputs": [
    {
     "data": {
      "application/vnd.plotly.v1+json": {
       "config": {
        "plotlyServerURL": "https://plot.ly"
       },
       "data": [
        {
         "alignmentgroup": "True",
         "bingroup": "x",
         "hovertemplate": "similarity=%{x}<br>count=%{y}<extra></extra>",
         "legendgroup": "",
         "marker": {
          "color": "#636efa",
          "pattern": {
           "shape": ""
          }
         },
         "name": "",
         "offsetgroup": "",
         "orientation": "v",
         "showlegend": false,
         "type": "histogram",
         "x": [
          0.9088293755302785,
          0.8588172773366192,
          0.8689640446448855,
          0.8613972428578726,
          0.8546440243408288,
          0.8205766747934587,
          0.808122535877435,
          0.9672092884453203,
          0.820549606271455,
          0.8686712620137861,
          0.8122149075563558,
          0.8635839639918125,
          0.8504470556324477,
          0.8170063937573752,
          0.9205254620510483,
          0.8985048729541362,
          0.8941530226605671,
          0.9113548056654135,
          0.8790196987312415,
          0.8788691015024964,
          0.8769484176209945,
          0.8497604031275738,
          0.8215971382525792,
          0.977826132475492,
          0.9661920079189764,
          0.9250618180995434,
          0.9239301554527491,
          0.9356108894654767,
          0.8669085806482195,
          0.8000925754843677,
          0.9602674903958517,
          0.911006411996051,
          0.8926422719179079,
          0.820549606271455,
          0.930869718350263,
          0.8784853821919998,
          0.911006411996051,
          0.8983626539310545,
          0.8712685561943407,
          0.8444365649369211,
          0.842434678647094,
          0.9207105398404031,
          0.8784853821919998,
          0.8668837899435102,
          0.9558998400221672,
          0.9393007181484297,
          0.8941530226605671,
          0.8613972428578726,
          0.928200187960846,
          0.8537957016645437,
          0.828622958646386,
          0.8122149075563558,
          0.871806550379905,
          0.8088256083399324,
          0.8360363089696164,
          0.808122535877435,
          0.9392174418847516,
          0.8700894986859616,
          0.8490801565243162,
          0.863953174576627,
          0.8116678091358329,
          0.9239475879495064,
          0.8525620670811738,
          0.842434678647094,
          0.8891319740359263,
          0.8776049715638192,
          0.9680457189309393,
          0.8992857098434175,
          0.9778197261804866,
          0.8555507846436836,
          0.8381630278966664,
          0.892997670566538,
          0.864265548757818,
          0.8004508767271205,
          0.92197070412537,
          0.8938401243814887,
          0.864265548757818,
          0.9318689481245285,
          0.8031257956811463,
          0.9190853509116915,
          0.8728105318656734,
          0.8588172773366192,
          0.8909394044475752,
          0.8328271331759064,
          0.874694710288952,
          0.8205766747934587,
          0.9113548056654135,
          0.8656950627321732,
          0.8636551791740921,
          0.8368792946900275,
          0.9344986139721605,
          0.92012862195116,
          0.8972586316118162,
          0.8735582921986796,
          0.8541866713755125,
          0.8296042206124911,
          0.8081975660212618,
          0.8792273071066762,
          0.876023559166697,
          0.871806550379905,
          0.8182464898072633,
          0.9563222246823027,
          0.9170482315578218,
          0.9170482315578218,
          0.819443484571413,
          0.8065191424921532,
          0.8115698027162402,
          0.928200187960846,
          0.9204659323028035,
          0.8842442043953147,
          0.8914421975074,
          0.8741007432577358,
          0.8195232913311445,
          0.818726606546574,
          0.967044273493174,
          0.9440025786289173,
          0.9393007181484297,
          0.9205254620510483,
          0.8689640446448855,
          0.8434377810825293,
          0.8327861406760718,
          0.8159703687283271,
          0.8360363089696164,
          0.9371803943870771,
          0.8841893319990228,
          0.837943552441035,
          0.804814629957912,
          0.930869718350263,
          0.9207105398404031,
          0.9778197261804866,
          0.9091667937747199,
          0.8765718036018957,
          0.8555507846436836,
          0.9316315870336299,
          0.8182464898072633,
          0.8891319740359263,
          0.8754971405877827,
          0.9277860841065547,
          0.8711152781926933,
          0.8525620670811738,
          0.8444365649369211,
          0.8000925754843677,
          0.9220640408236647,
          0.8788691015024964,
          0.8446578178503316,
          0.8435580781995244,
          0.8413725585553422,
          0.8526438525387099,
          0.813961663545295,
          0.8101929942587338,
          0.9371803943870771,
          0.8234416391500501,
          0.9558998400221672,
          0.9440025786289173,
          0.8985048729541362,
          0.8546440243408288,
          0.9084347308824173,
          0.8355200404626811,
          0.9318689481245285,
          0.9073509629007597,
          0.8629697321515366,
          0.8134982240773994,
          0.8075194603439151,
          0.837943552441035,
          0.8767241563686464,
          0.873542556558874,
          0.903869032863451,
          0.8940193200555222,
          0.8841893319990228,
          0.8234416391500501,
          0.9040333101880669,
          0.902267997394767,
          0.8886381765004029,
          0.8733570719009893,
          0.8741007432577358,
          0.8186638470113962,
          0.9560599157929144,
          0.8446578178503316,
          0.828653489947775,
          0.8496744578591789,
          0.8146707707367856,
          0.8914421975074,
          0.8390676523546394,
          0.8938401243814887,
          0.8739272042233901,
          0.8030995846431543,
          0.8063803975460951,
          0.8252134910054276,
          0.9055799191863061,
          0.9052659949519293,
          0.9245987627025748,
          0.9007549820904494,
          0.9007409207860536,
          0.8972586316118162,
          0.8328358238187934,
          0.8109543570171119,
          0.8077935545381885,
          0.9485393132243727,
          0.8441569506391776,
          0.8075194603439151,
          0.8776049715638192,
          0.8754971405877827,
          0.9661920079189764,
          0.9566624791767848,
          0.8613315703872814,
          0.8497604031275738,
          0.8372851379047034,
          0.8368792946900275,
          0.8517584671421385,
          0.8399569199305933,
          0.8083077458171554,
          0.9316315870336299,
          0.9396417652869208,
          0.8947344415501642,
          0.8792273071066762,
          0.8444910370892382,
          0.9369364107400419,
          0.8408433174861897,
          0.9193977335636011,
          0.9548622387608618,
          0.9213715893277963,
          0.8764982042390709,
          0.9392174418847516,
          0.8408433174861897,
          0.8082836137557637,
          0.9170482315578218,
          0.912312862219572,
          0.8192908068172131,
          0.895212521074236,
          0.8654934006581179,
          0.9396417652869208,
          0.8842442043953147,
          0.8190315290997984,
          0.9217100272153393,
          0.8497157597808325,
          0.8826348045971171,
          0.8790196987312415,
          0.8656950627321732,
          0.8372851379047034,
          0.8320807472819138,
          0.8832118209694613,
          0.8444910370892382,
          0.9037715851096583,
          0.8327662436848121,
          0.9584997156766163,
          0.9073509629007597,
          0.8146707707367856,
          0.8769880737558641,
          0.8698195666299442,
          0.860971086735568,
          0.8330122384925412,
          0.8224259086791117,
          0.829264547596603,
          0.8101929942587338,
          0.8070221664493377,
          0.8898708587859105,
          0.9506842764214184,
          0.899259541112651,
          0.854042289496153,
          0.8309345103838007,
          0.8227810686386,
          0.8087191514989027,
          0.8080935918977569,
          0.873542556558874,
          0.8441569506391776,
          0.9530075676010787,
          0.9522703981736301,
          0.902267997394767,
          0.854042289496153,
          0.8172084917537079,
          0.8091897348626024,
          0.8076630144668898,
          0.9024828273446308,
          0.8789189880922701,
          0.9176882902569417,
          0.8309345103838007,
          0.8172084917537079,
          0.9224333029265472,
          0.8940193200555222,
          0.8561172652999722,
          0.8523360388918495,
          0.9672092884453203,
          0.8530274641206494,
          0.9073356350773881,
          0.9680457189309393,
          0.8461687415356303,
          0.8323186563341545,
          0.8156373791519943,
          0.8143551540592867,
          0.895212521074236,
          0.895212521074236,
          0.9563222246823027,
          0.912312862219572,
          0.912312862219572,
          0.8645432531594563,
          0.8023545131011987,
          0.8571398258862543,
          0.8195232913311445,
          0.8955451318094427,
          0.887367935647745,
          0.9142343461546975,
          0.9007409207860536,
          0.900319213108929,
          0.8968100992161517,
          0.8235000365105537,
          0.8113468719707767,
          0.8081975660212618,
          0.8686712620137861,
          0.828622958646386,
          0.813961663545295,
          0.8070221664493377,
          0.833718041814314,
          0.8088020735093057,
          0.8116678091358329,
          0.8959084512264186,
          0.8926422719179079,
          0.8712685561943407,
          0.9548622387608618,
          0.9201223406781913,
          0.8768246890721536,
          0.8526438525387099,
          0.8681138052649588,
          0.892997670566538,
          0.8739272042233901,
          0.9356108894654767,
          0.8711152781926933,
          0.8015874527870196,
          0.9220640408236647,
          0.8015759193476225,
          0.8381630278966664,
          0.9190853509116915,
          0.9239301554527491,
          0.9017422690019568,
          0.8849663392574919,
          0.8413725585553422,
          0.9026422178208391,
          0.833718041814314,
          0.8227810686386,
          0.8091897348626024,
          0.9091667937747199,
          0.8574216980849091,
          0.814964039317028,
          0.8983328365419999,
          0.8561172652999722,
          0.8668837899435102,
          0.8113837805298211,
          0.9485393132243727,
          0.8496744578591789,
          0.8983328365419999,
          0.8523360388918495,
          0.8088256083399324,
          0.9388225690893969,
          0.9344986139721605,
          0.9195036583718073,
          0.9007549820904494,
          0.8541729037212723,
          0.8328369419390103,
          0.8113468719707767,
          0.863953174576627,
          0.818726606546574,
          0.9052659949519293,
          0.9084347308824173,
          0.8765718036018957,
          0.8639846142730927,
          0.8574216980849091,
          0.8296478537817744,
          0.8917517200136827,
          0.8879987862425361,
          0.9277860841065547,
          0.9239475879495064,
          0.8669085806482195,
          0.8015874527870196,
          0.9026422178208391,
          0.8088020735093057,
          0.8340001208275845,
          0.977826132475492,
          0.9566624791767848,
          0.8992857098434175,
          0.8207057094365787,
          0.9607423222307702,
          0.9335032131801518,
          0.8947344415501642,
          0.8832118209694613,
          0.876023559166697,
          0.9253865111078005,
          0.904063464848357,
          0.8611480163332851,
          0.8492163721372669,
          0.8172183063031581,
          0.8070000799689133,
          0.929453451272882,
          0.8769880737558641,
          0.8473378189942173,
          0.8387180408899327,
          0.8011691188374618,
          0.8170063937573752,
          0.9390818864148534,
          0.9505486339759582,
          0.8355200404626811,
          0.8506047285690902,
          0.8224259086791117,
          0.8011691188374618,
          0.8571398258862543,
          0.904063464848357,
          0.8323186563341545,
          0.9250618180995434,
          0.9017422690019568,
          0.8115698027162402,
          0.8015759193476225,
          0.950287943622536,
          0.9360090587430072,
          0.8882604652883855,
          0.8492163721372669,
          0.8399569199305933,
          0.8296478537817744,
          0.8169884343225308,
          0.8461687415356303,
          0.8186638470113962,
          0.8207057094365787,
          0.9296677902528648,
          0.8185807592267874,
          0.8700894986859616,
          0.8082836137557637,
          0.9489870391652566,
          0.9360090587430072,
          0.8894781236449575,
          0.8611480163332851,
          0.8517584671421385,
          0.8814063092285948,
          0.8849663392574919,
          0.8769484176209945,
          0.8636551791740921,
          0.8613315703872814,
          0.8320807472819138,
          0.9170482315578218,
          0.912312862219572,
          0.916498512656221,
          0.8190315290997984,
          0.9369364107400419,
          0.8490801565243162,
          0.9342271823312099,
          0.9304464774526893,
          0.9195036583718073,
          0.900319213108929,
          0.8541866713755125,
          0.8231027471271537,
          0.8109543570171119,
          0.9607423222307702,
          0.957936992187835,
          0.8198738689492444,
          0.9224333029265472,
          0.903869032863451,
          0.9388007169156886,
          0.8909394044475752,
          0.8879987862425361,
          0.8898708587859105,
          0.829264547596603,
          0.9055799191863061,
          0.8390676523546394,
          0.860971086735568,
          0.8387180408899327,
          0.8318623533011519,
          0.9388007169156886,
          0.8328271331759064,
          0.9296677902528648,
          0.8660647383495523,
          0.8399270162448985,
          0.8134982240773994,
          0.8267067256485917,
          0.8267067256485917,
          0.8267067256485917,
          0.8434377810825293,
          0.8898685236099705,
          0.9176882902569417,
          0.8826348045971171,
          0.8435580781995244,
          0.828653489947775,
          0.8898685236099705,
          0.8735959376414905,
          0.8257974319144128,
          0.817622449661226,
          0.8063803975460951,
          0.9584997156766163,
          0.8629697321515366,
          0.9569373399463149,
          0.9213715893277963,
          0.8768246890721536,
          0.9497347680772796,
          0.927438104547339,
          0.916498512656221,
          0.9253865111078005,
          0.8252134910054276,
          0.929598228099918,
          0.8735959376414905,
          0.8504470556324477,
          0.8136917170472374,
          0.9530075676010787,
          0.9378852321169944,
          0.8886381765004029,
          0.8087191514989027,
          0.8267067256485917,
          0.9505486339759582,
          0.8698195666299442,
          0.8473378189942173,
          0.8318623533011519,
          0.8048487710178983,
          0.8113837805298211,
          0.8159703687283271,
          0.8192908068172131,
          0.92197070412537,
          0.8327861406760718,
          0.9569373399463149,
          0.9201223406781913,
          0.8764982042390709,
          0.8823096925463644,
          0.9602674903958517,
          0.8983626539310545,
          0.8959084512264186,
          0.817622449661226,
          0.9289331288661115,
          0.8327662436848121,
          0.895212521074236,
          0.8654934006581179,
          0.8215971382525792,
          0.8654934006581179,
          0.8654934006581179,
          0.9204659323028035,
          0.8537957016645437,
          0.9522703981736301,
          0.9378852321169944,
          0.9040333101880669,
          0.8587086812391128,
          0.8080935918977569,
          0.9560599157929144,
          0.8340001208275845,
          0.8198738689492444,
          0.9390818864148534,
          0.929598228099918,
          0.8257974319144128,
          0.9037715851096583,
          0.929453451272882,
          0.8506047285690902,
          0.8330122384925412,
          0.8048487710178983,
          0.9073356350773881,
          0.8185807592267874,
          0.8863549980399564,
          0.8399270162448985,
          0.804814629957912,
          0.9393253623363198,
          0.9217100272153393,
          0.9289331288661115,
          0.9377026510369614,
          0.8645432531594563,
          0.819443484571413,
          0.8955451318094427,
          0.8631922146981172,
          0.8143551540592867,
          0.9506842764214184,
          0.9011003528475593,
          0.8587086812391128,
          0.8076630144668898,
          0.9422118518150616,
          0.9377026510369614,
          0.8065191424921532,
          0.8023545131011987,
          0.9497347680772796,
          0.967044273493174,
          0.874694710288952,
          0.8031257956811463,
          0.8681138052649588,
          0.8823096925463644,
          0.950287943622536,
          0.8894781236449575,
          0.8441032109600967,
          0.8070000799689133,
          0.8789189880922701,
          0.8043376979181122,
          0.8004508767271205,
          0.9011003528475593,
          0.899259541112651,
          0.8733570719009893,
          0.8156373791519943,
          0.8639846142730927,
          0.8169884343225308,
          0.814964039317028,
          0.957936992187835,
          0.9335032131801518,
          0.9388225690893969,
          0.9304464774526893,
          0.9007537727872774,
          0.8735582921986796,
          0.8650727151592215,
          0.8328358238187934,
          0.8235000365105537,
          0.8814063092285948,
          0.9422118518150616,
          0.9088293755302785,
          0.8728105318656734,
          0.8917517200136827,
          0.8863549980399564,
          0.8660647383495523,
          0.9342271823312099,
          0.92012862195116,
          0.8968100992161517,
          0.8650727151592215,
          0.8541729037212723,
          0.8198945946818079,
          0.8077935545381885,
          0.9193977335636011,
          0.8767241563686464,
          0.887367935647745,
          0.8631922146981172,
          0.927438104547339,
          0.8746506281156683,
          0.8127468980986604,
          0.9393253623363198,
          0.8497157597808325,
          0.9489870391652566,
          0.8882604652883855,
          0.8441032109600967,
          0.8172183063031581,
          0.8083077458171554,
          0.9245987627025748,
          0.9142343461546975,
          0.9007537727872774,
          0.8328369419390103,
          0.8296042206124911,
          0.8231027471271537,
          0.8198945946818079,
          0.8635839639918125,
          0.8136917170472374,
          0.8746506281156683,
          0.8530274641206494,
          0.8127468980986604,
          0.9024828273446308,
          0.8043376979181122,
          0.8030995846431543
         ],
         "xaxis": "x",
         "yaxis": "y"
        }
       ],
       "layout": {
        "bargap": 0.2,
        "barmode": "relative",
        "legend": {
         "tracegroupgap": 0
        },
        "margin": {
         "t": 60
        },
        "template": {
         "data": {
          "bar": [
           {
            "error_x": {
             "color": "#2a3f5f"
            },
            "error_y": {
             "color": "#2a3f5f"
            },
            "marker": {
             "line": {
              "color": "#E5ECF6",
              "width": 0.5
             },
             "pattern": {
              "fillmode": "overlay",
              "size": 10,
              "solidity": 0.2
             }
            },
            "type": "bar"
           }
          ],
          "barpolar": [
           {
            "marker": {
             "line": {
              "color": "#E5ECF6",
              "width": 0.5
             },
             "pattern": {
              "fillmode": "overlay",
              "size": 10,
              "solidity": 0.2
             }
            },
            "type": "barpolar"
           }
          ],
          "carpet": [
           {
            "aaxis": {
             "endlinecolor": "#2a3f5f",
             "gridcolor": "white",
             "linecolor": "white",
             "minorgridcolor": "white",
             "startlinecolor": "#2a3f5f"
            },
            "baxis": {
             "endlinecolor": "#2a3f5f",
             "gridcolor": "white",
             "linecolor": "white",
             "minorgridcolor": "white",
             "startlinecolor": "#2a3f5f"
            },
            "type": "carpet"
           }
          ],
          "choropleth": [
           {
            "colorbar": {
             "outlinewidth": 0,
             "ticks": ""
            },
            "type": "choropleth"
           }
          ],
          "contour": [
           {
            "colorbar": {
             "outlinewidth": 0,
             "ticks": ""
            },
            "colorscale": [
             [
              0,
              "#0d0887"
             ],
             [
              0.1111111111111111,
              "#46039f"
             ],
             [
              0.2222222222222222,
              "#7201a8"
             ],
             [
              0.3333333333333333,
              "#9c179e"
             ],
             [
              0.4444444444444444,
              "#bd3786"
             ],
             [
              0.5555555555555556,
              "#d8576b"
             ],
             [
              0.6666666666666666,
              "#ed7953"
             ],
             [
              0.7777777777777778,
              "#fb9f3a"
             ],
             [
              0.8888888888888888,
              "#fdca26"
             ],
             [
              1,
              "#f0f921"
             ]
            ],
            "type": "contour"
           }
          ],
          "contourcarpet": [
           {
            "colorbar": {
             "outlinewidth": 0,
             "ticks": ""
            },
            "type": "contourcarpet"
           }
          ],
          "heatmap": [
           {
            "colorbar": {
             "outlinewidth": 0,
             "ticks": ""
            },
            "colorscale": [
             [
              0,
              "#0d0887"
             ],
             [
              0.1111111111111111,
              "#46039f"
             ],
             [
              0.2222222222222222,
              "#7201a8"
             ],
             [
              0.3333333333333333,
              "#9c179e"
             ],
             [
              0.4444444444444444,
              "#bd3786"
             ],
             [
              0.5555555555555556,
              "#d8576b"
             ],
             [
              0.6666666666666666,
              "#ed7953"
             ],
             [
              0.7777777777777778,
              "#fb9f3a"
             ],
             [
              0.8888888888888888,
              "#fdca26"
             ],
             [
              1,
              "#f0f921"
             ]
            ],
            "type": "heatmap"
           }
          ],
          "heatmapgl": [
           {
            "colorbar": {
             "outlinewidth": 0,
             "ticks": ""
            },
            "colorscale": [
             [
              0,
              "#0d0887"
             ],
             [
              0.1111111111111111,
              "#46039f"
             ],
             [
              0.2222222222222222,
              "#7201a8"
             ],
             [
              0.3333333333333333,
              "#9c179e"
             ],
             [
              0.4444444444444444,
              "#bd3786"
             ],
             [
              0.5555555555555556,
              "#d8576b"
             ],
             [
              0.6666666666666666,
              "#ed7953"
             ],
             [
              0.7777777777777778,
              "#fb9f3a"
             ],
             [
              0.8888888888888888,
              "#fdca26"
             ],
             [
              1,
              "#f0f921"
             ]
            ],
            "type": "heatmapgl"
           }
          ],
          "histogram": [
           {
            "marker": {
             "pattern": {
              "fillmode": "overlay",
              "size": 10,
              "solidity": 0.2
             }
            },
            "type": "histogram"
           }
          ],
          "histogram2d": [
           {
            "colorbar": {
             "outlinewidth": 0,
             "ticks": ""
            },
            "colorscale": [
             [
              0,
              "#0d0887"
             ],
             [
              0.1111111111111111,
              "#46039f"
             ],
             [
              0.2222222222222222,
              "#7201a8"
             ],
             [
              0.3333333333333333,
              "#9c179e"
             ],
             [
              0.4444444444444444,
              "#bd3786"
             ],
             [
              0.5555555555555556,
              "#d8576b"
             ],
             [
              0.6666666666666666,
              "#ed7953"
             ],
             [
              0.7777777777777778,
              "#fb9f3a"
             ],
             [
              0.8888888888888888,
              "#fdca26"
             ],
             [
              1,
              "#f0f921"
             ]
            ],
            "type": "histogram2d"
           }
          ],
          "histogram2dcontour": [
           {
            "colorbar": {
             "outlinewidth": 0,
             "ticks": ""
            },
            "colorscale": [
             [
              0,
              "#0d0887"
             ],
             [
              0.1111111111111111,
              "#46039f"
             ],
             [
              0.2222222222222222,
              "#7201a8"
             ],
             [
              0.3333333333333333,
              "#9c179e"
             ],
             [
              0.4444444444444444,
              "#bd3786"
             ],
             [
              0.5555555555555556,
              "#d8576b"
             ],
             [
              0.6666666666666666,
              "#ed7953"
             ],
             [
              0.7777777777777778,
              "#fb9f3a"
             ],
             [
              0.8888888888888888,
              "#fdca26"
             ],
             [
              1,
              "#f0f921"
             ]
            ],
            "type": "histogram2dcontour"
           }
          ],
          "mesh3d": [
           {
            "colorbar": {
             "outlinewidth": 0,
             "ticks": ""
            },
            "type": "mesh3d"
           }
          ],
          "parcoords": [
           {
            "line": {
             "colorbar": {
              "outlinewidth": 0,
              "ticks": ""
             }
            },
            "type": "parcoords"
           }
          ],
          "pie": [
           {
            "automargin": true,
            "type": "pie"
           }
          ],
          "scatter": [
           {
            "marker": {
             "colorbar": {
              "outlinewidth": 0,
              "ticks": ""
             }
            },
            "type": "scatter"
           }
          ],
          "scatter3d": [
           {
            "line": {
             "colorbar": {
              "outlinewidth": 0,
              "ticks": ""
             }
            },
            "marker": {
             "colorbar": {
              "outlinewidth": 0,
              "ticks": ""
             }
            },
            "type": "scatter3d"
           }
          ],
          "scattercarpet": [
           {
            "marker": {
             "colorbar": {
              "outlinewidth": 0,
              "ticks": ""
             }
            },
            "type": "scattercarpet"
           }
          ],
          "scattergeo": [
           {
            "marker": {
             "colorbar": {
              "outlinewidth": 0,
              "ticks": ""
             }
            },
            "type": "scattergeo"
           }
          ],
          "scattergl": [
           {
            "marker": {
             "colorbar": {
              "outlinewidth": 0,
              "ticks": ""
             }
            },
            "type": "scattergl"
           }
          ],
          "scattermapbox": [
           {
            "marker": {
             "colorbar": {
              "outlinewidth": 0,
              "ticks": ""
             }
            },
            "type": "scattermapbox"
           }
          ],
          "scatterpolar": [
           {
            "marker": {
             "colorbar": {
              "outlinewidth": 0,
              "ticks": ""
             }
            },
            "type": "scatterpolar"
           }
          ],
          "scatterpolargl": [
           {
            "marker": {
             "colorbar": {
              "outlinewidth": 0,
              "ticks": ""
             }
            },
            "type": "scatterpolargl"
           }
          ],
          "scatterternary": [
           {
            "marker": {
             "colorbar": {
              "outlinewidth": 0,
              "ticks": ""
             }
            },
            "type": "scatterternary"
           }
          ],
          "surface": [
           {
            "colorbar": {
             "outlinewidth": 0,
             "ticks": ""
            },
            "colorscale": [
             [
              0,
              "#0d0887"
             ],
             [
              0.1111111111111111,
              "#46039f"
             ],
             [
              0.2222222222222222,
              "#7201a8"
             ],
             [
              0.3333333333333333,
              "#9c179e"
             ],
             [
              0.4444444444444444,
              "#bd3786"
             ],
             [
              0.5555555555555556,
              "#d8576b"
             ],
             [
              0.6666666666666666,
              "#ed7953"
             ],
             [
              0.7777777777777778,
              "#fb9f3a"
             ],
             [
              0.8888888888888888,
              "#fdca26"
             ],
             [
              1,
              "#f0f921"
             ]
            ],
            "type": "surface"
           }
          ],
          "table": [
           {
            "cells": {
             "fill": {
              "color": "#EBF0F8"
             },
             "line": {
              "color": "white"
             }
            },
            "header": {
             "fill": {
              "color": "#C8D4E3"
             },
             "line": {
              "color": "white"
             }
            },
            "type": "table"
           }
          ]
         },
         "layout": {
          "annotationdefaults": {
           "arrowcolor": "#2a3f5f",
           "arrowhead": 0,
           "arrowwidth": 1
          },
          "autotypenumbers": "strict",
          "coloraxis": {
           "colorbar": {
            "outlinewidth": 0,
            "ticks": ""
           }
          },
          "colorscale": {
           "diverging": [
            [
             0,
             "#8e0152"
            ],
            [
             0.1,
             "#c51b7d"
            ],
            [
             0.2,
             "#de77ae"
            ],
            [
             0.3,
             "#f1b6da"
            ],
            [
             0.4,
             "#fde0ef"
            ],
            [
             0.5,
             "#f7f7f7"
            ],
            [
             0.6,
             "#e6f5d0"
            ],
            [
             0.7,
             "#b8e186"
            ],
            [
             0.8,
             "#7fbc41"
            ],
            [
             0.9,
             "#4d9221"
            ],
            [
             1,
             "#276419"
            ]
           ],
           "sequential": [
            [
             0,
             "#0d0887"
            ],
            [
             0.1111111111111111,
             "#46039f"
            ],
            [
             0.2222222222222222,
             "#7201a8"
            ],
            [
             0.3333333333333333,
             "#9c179e"
            ],
            [
             0.4444444444444444,
             "#bd3786"
            ],
            [
             0.5555555555555556,
             "#d8576b"
            ],
            [
             0.6666666666666666,
             "#ed7953"
            ],
            [
             0.7777777777777778,
             "#fb9f3a"
            ],
            [
             0.8888888888888888,
             "#fdca26"
            ],
            [
             1,
             "#f0f921"
            ]
           ],
           "sequentialminus": [
            [
             0,
             "#0d0887"
            ],
            [
             0.1111111111111111,
             "#46039f"
            ],
            [
             0.2222222222222222,
             "#7201a8"
            ],
            [
             0.3333333333333333,
             "#9c179e"
            ],
            [
             0.4444444444444444,
             "#bd3786"
            ],
            [
             0.5555555555555556,
             "#d8576b"
            ],
            [
             0.6666666666666666,
             "#ed7953"
            ],
            [
             0.7777777777777778,
             "#fb9f3a"
            ],
            [
             0.8888888888888888,
             "#fdca26"
            ],
            [
             1,
             "#f0f921"
            ]
           ]
          },
          "colorway": [
           "#636efa",
           "#EF553B",
           "#00cc96",
           "#ab63fa",
           "#FFA15A",
           "#19d3f3",
           "#FF6692",
           "#B6E880",
           "#FF97FF",
           "#FECB52"
          ],
          "font": {
           "color": "#2a3f5f"
          },
          "geo": {
           "bgcolor": "white",
           "lakecolor": "white",
           "landcolor": "#E5ECF6",
           "showlakes": true,
           "showland": true,
           "subunitcolor": "white"
          },
          "hoverlabel": {
           "align": "left"
          },
          "hovermode": "closest",
          "mapbox": {
           "style": "light"
          },
          "paper_bgcolor": "white",
          "plot_bgcolor": "#E5ECF6",
          "polar": {
           "angularaxis": {
            "gridcolor": "white",
            "linecolor": "white",
            "ticks": ""
           },
           "bgcolor": "#E5ECF6",
           "radialaxis": {
            "gridcolor": "white",
            "linecolor": "white",
            "ticks": ""
           }
          },
          "scene": {
           "xaxis": {
            "backgroundcolor": "#E5ECF6",
            "gridcolor": "white",
            "gridwidth": 2,
            "linecolor": "white",
            "showbackground": true,
            "ticks": "",
            "zerolinecolor": "white"
           },
           "yaxis": {
            "backgroundcolor": "#E5ECF6",
            "gridcolor": "white",
            "gridwidth": 2,
            "linecolor": "white",
            "showbackground": true,
            "ticks": "",
            "zerolinecolor": "white"
           },
           "zaxis": {
            "backgroundcolor": "#E5ECF6",
            "gridcolor": "white",
            "gridwidth": 2,
            "linecolor": "white",
            "showbackground": true,
            "ticks": "",
            "zerolinecolor": "white"
           }
          },
          "shapedefaults": {
           "line": {
            "color": "#2a3f5f"
           }
          },
          "ternary": {
           "aaxis": {
            "gridcolor": "white",
            "linecolor": "white",
            "ticks": ""
           },
           "baxis": {
            "gridcolor": "white",
            "linecolor": "white",
            "ticks": ""
           },
           "bgcolor": "#E5ECF6",
           "caxis": {
            "gridcolor": "white",
            "linecolor": "white",
            "ticks": ""
           }
          },
          "title": {
           "x": 0.05
          },
          "xaxis": {
           "automargin": true,
           "gridcolor": "white",
           "linecolor": "white",
           "ticks": "",
           "title": {
            "standoff": 15
           },
           "zerolinecolor": "white",
           "zerolinewidth": 2
          },
          "yaxis": {
           "automargin": true,
           "gridcolor": "white",
           "linecolor": "white",
           "ticks": "",
           "title": {
            "standoff": 15
           },
           "zerolinecolor": "white",
           "zerolinewidth": 2
          }
         }
        },
        "xaxis": {
         "anchor": "y",
         "domain": [
          0,
          1
         ],
         "title": {
          "text": "similarity"
         }
        },
        "yaxis": {
         "anchor": "x",
         "domain": [
          0,
          1
         ],
         "title": {
          "text": "count"
         }
        }
       }
      }
     },
     "metadata": {},
     "output_type": "display_data"
    }
   ],
   "source": [
    "fig = px.histogram(matches_df, x=\"similarity\")\n",
    "fig.update_layout(bargap=0.2)\n",
    "fig.show()"
   ]
  },
  {
   "cell_type": "code",
   "execution_count": 24,
   "metadata": {},
   "outputs": [
    {
     "data": {
      "application/vnd.plotly.v1+json": {
       "config": {
        "plotlyServerURL": "https://plot.ly"
       },
       "data": [
        {
         "hoverinfo": "none",
         "line": {
          "color": "#888",
          "width": 0.5
         },
         "mode": "lines",
         "type": "scatter",
         "x": [
          -0.4018895958795433,
          -0.41430088022546774,
          null,
          -0.4018895958795433,
          -0.3970697783844047,
          null,
          -0.41430088022546774,
          -0.3970697783844047,
          null,
          -0.4853085086771327,
          -0.4879772109588859,
          null,
          -0.4853085086771327,
          -0.49767299394057574,
          null,
          -0.4853085086771327,
          -0.502141149613307,
          null,
          -0.4879772109588859,
          -0.5115791452163797,
          null,
          -0.4879772109588859,
          -0.49767299394057574,
          null,
          -0.4879772109588859,
          -0.502141149613307,
          null,
          -0.49767299394057574,
          -0.5115791452163797,
          null,
          -0.49767299394057574,
          -0.502141149613307,
          null,
          -0.502141149613307,
          -0.5115791452163797,
          null,
          -0.3990390632958748,
          -0.39307209273917126,
          null,
          -0.3990390632958748,
          -0.41138253578968237,
          null,
          -0.49553773002923773,
          -0.501354285622552,
          null,
          0.7748010335537706,
          0.7446733898528808,
          null,
          0.6013569407252759,
          0.5950330199844304,
          null,
          0.6013569407252759,
          0.5766437710742363,
          null,
          0.5950330199844304,
          0.5766437710742363,
          null,
          -0.7559270994244872,
          -0.7672113898823154,
          null,
          -0.7559270994244872,
          -0.7870774743949998,
          null,
          -0.7559270994244872,
          -0.74592108462005,
          null,
          -0.7672113898823154,
          -0.7870774743949998,
          null,
          -0.5116526216809196,
          -0.4985488586959522,
          null,
          -0.5116526216809196,
          -0.486926287815066,
          null,
          -0.5116526216809196,
          -0.519393264471665,
          null,
          -0.5116526216809196,
          -0.49189895607369977,
          null,
          -0.5116526216809196,
          -0.48381005994266657,
          null,
          -0.5116526216809196,
          -0.548588572253032,
          null,
          -0.4985488586959522,
          -0.486926287815066,
          null,
          -0.4985488586959522,
          -0.49189895607369977,
          null,
          -0.4985488586959522,
          -0.48381005994266657,
          null,
          -0.486926287815066,
          -0.48381005994266657,
          null,
          -0.486926287815066,
          -0.5069984662030773,
          null,
          -0.486926287815066,
          -0.49189895607369977,
          null,
          -0.519393264471665,
          -0.527209031121446,
          null,
          -0.519393264471665,
          -0.5069984662030773,
          null,
          -0.519393264471665,
          -0.49737477724841606,
          null,
          -0.49189895607369977,
          -0.48381005994266657,
          null,
          -0.49189895607369977,
          -0.49737477724841606,
          null,
          0.2470203005451749,
          0.2323343493000167,
          null,
          0.2470203005451749,
          0.24786097808018473,
          null,
          0.2323343493000167,
          0.24786097808018473,
          null,
          0.21747202367292012,
          0.21476009287540967,
          null,
          0.21747202367292012,
          0.23005486512200515,
          null,
          0.21476009287540967,
          0.23005486512200515,
          null,
          0.8183152488086328,
          0.836999244922618,
          null,
          0.8183152488086328,
          0.8525012807143545,
          null,
          0.8183152488086328,
          0.8629911962762324,
          null,
          0.836999244922618,
          0.8629911962762324,
          null,
          0.836999244922618,
          0.8525012807143545,
          null,
          0.8525012807143545,
          0.8857645023562055,
          null,
          0.8525012807143545,
          0.8629911962762324,
          null,
          0.8629911962762324,
          0.9037979381018646,
          null,
          0.8629911962762324,
          0.8857645023562055,
          null,
          -0.026972700977311893,
          -0.011425935470672935,
          null,
          -0.026972700977311893,
          -0.008668016562777422,
          null,
          -0.026972700977311893,
          -0.024157609780237895,
          null,
          -0.011425935470672935,
          -0.008668016562777422,
          null,
          -0.011425935470672935,
          -0.024157609780237895,
          null,
          -0.008668016562777422,
          -0.024157609780237895,
          null,
          -0.5316279083292029,
          -0.5491337317737026,
          null,
          -0.5316279083292029,
          -0.5510454853051768,
          null,
          -0.5491337317737026,
          -0.5510454853051768,
          null,
          0.9037979381018646,
          0.8857645023562055,
          null,
          -0.696577567589042,
          -0.7135922600774174,
          null,
          0.5443936704916812,
          0.5209622241850796,
          null,
          0.5443936704916812,
          0.5324011370195666,
          null,
          0.5209622241850796,
          0.5324011370195666,
          null,
          0.11893405639445741,
          0.10479465983469469,
          null,
          0.11893405639445741,
          0.131540233414627,
          null,
          -0.5749235568440627,
          -0.6014841173580763,
          null,
          -0.15594052936799044,
          -0.15929296140315433,
          null,
          -0.15594052936799044,
          -0.1392341042313386,
          null,
          -0.15594052936799044,
          -0.17800944733903457,
          null,
          -0.15929296140315433,
          -0.18259987855029455,
          null,
          -0.15929296140315433,
          -0.1392341042313386,
          null,
          -0.17800944733903457,
          -0.18259987855029455,
          null,
          -0.3639325376454578,
          -0.34801985624672277,
          null,
          -0.34801985624672277,
          -0.36134831392010464,
          null,
          -0.8948799805138973,
          -0.9232140614086389,
          null,
          -0.7443525647932693,
          -0.7602345838572077,
          null,
          -0.7443525647932693,
          -0.7290904442202951,
          null,
          -0.7602345838572077,
          -0.7290904442202951,
          null,
          -0.07176023109137149,
          -0.07638530039304733,
          null,
          -0.6894012894572994,
          -0.6640563598389319,
          null,
          0.006968829465072828,
          -0.003704642697287883,
          null,
          0.2159114927960968,
          0.23224093378817184,
          null,
          0.2159114927960968,
          0.19587250809320467,
          null,
          0.6495590883108471,
          0.6804118648558027,
          null,
          0.6495590883108471,
          0.650718242564895,
          null,
          0.6495590883108471,
          0.6480295361812033,
          null,
          0.6804118648558027,
          0.6682977973392689,
          null,
          0.650718242564895,
          0.6682977973392689,
          null,
          0.6480295361812033,
          0.661795001132234,
          null,
          0.6480295361812033,
          0.6682773975530042,
          null,
          0.7135187176132676,
          0.7319406464942682,
          null,
          0.6682977973392689,
          0.6682773975530042,
          null,
          0.13474011262331415,
          0.1381744353447329,
          null,
          0.13474011262331415,
          0.1310870906087187,
          null,
          -0.6725714315038251,
          -0.6546737040294324,
          null,
          0.01811582790588834,
          0.0024841875621885766,
          null,
          0.01811582790588834,
          0.006674786208859832,
          null,
          0.0024841875621885766,
          0.006674786208859832,
          null,
          -0.2634696490748541,
          -0.2706596656923697,
          null,
          0.44338404200055265,
          0.4604048781333917,
          null,
          0.44338404200055265,
          0.4545688005028823,
          null,
          0.44338404200055265,
          0.4626026922084161,
          null,
          0.44338404200055265,
          0.4669058332507243,
          null,
          0.44338404200055265,
          0.44421069666356666,
          null,
          0.44338404200055265,
          0.4507898635121368,
          null,
          0.44338404200055265,
          0.44420884088979307,
          null,
          0.4604048781333917,
          0.4626026922084161,
          null,
          0.4604048781333917,
          0.44420884088979307,
          null,
          0.4604048781333917,
          0.4669058332507243,
          null,
          0.4604048781333917,
          0.44421069666356666,
          null,
          0.4604048781333917,
          0.4545688005028823,
          null,
          0.4604048781333917,
          0.4507898635121368,
          null,
          0.4545688005028823,
          0.4626026922084161,
          null,
          0.4545688005028823,
          0.44420884088979307,
          null,
          0.4545688005028823,
          0.44421069666356666,
          null,
          0.4545688005028823,
          0.4669058332507243,
          null,
          0.4545688005028823,
          0.4507898635121368,
          null,
          0.4626026922084161,
          0.4507898635121368,
          null,
          0.4626026922084161,
          0.44420884088979307,
          null,
          0.4626026922084161,
          0.4669058332507243,
          null,
          0.4626026922084161,
          0.44421069666356666,
          null,
          0.4669058332507243,
          0.44420884088979307,
          null,
          0.4669058332507243,
          0.44421069666356666,
          null,
          0.4669058332507243,
          0.4507898635121368,
          null,
          0.44421069666356666,
          0.44420884088979307,
          null,
          0.44421069666356666,
          0.4507898635121368,
          null,
          0.4507898635121368,
          0.44420884088979307,
          null,
          0.7994303424592211,
          0.8116296254213821,
          null,
          0.7994303424592211,
          0.8211781886364415,
          null,
          0.8116296254213821,
          0.8211781886364415,
          null,
          0.8116296254213821,
          0.8427822003476451,
          null,
          0.8211781886364415,
          0.8427822003476451,
          null,
          -0.8268742526080518,
          -0.8489316846786357,
          null,
          -0.6769856900194425,
          -0.6839990549284793,
          null,
          -0.6769856900194425,
          -0.6971146842402507,
          null,
          -0.6769856900194425,
          -0.6836839366984756,
          null,
          -0.6769856900194425,
          -0.6943292943724494,
          null,
          -0.6839990549284793,
          -0.6971146842402507,
          null,
          -0.6839990549284793,
          -0.6836839366984756,
          null,
          -0.6839990549284793,
          -0.6943292943724494,
          null,
          -0.6836839366984756,
          -0.6943292943724494,
          null,
          0.30117674733179767,
          0.32007712000552974,
          null,
          0.32007712000552974,
          0.34193181475158724,
          null,
          -0.2367878007454346,
          -0.24573940440030695,
          null,
          0.5766090285567858,
          0.594897319350688,
          null,
          0.5766090285567858,
          0.5526341920734457,
          null,
          -0.5117131627589614,
          -0.5285332643006082,
          null,
          0.6637105948174241,
          0.695562505864048,
          null,
          0.9321856089766425,
          0.9388992599491216,
          null,
          0.9321856089766425,
          0.9378548844182777,
          null,
          0.9321856089766425,
          0.9665257366208805,
          null,
          0.20852882589058924,
          0.21310022119119137,
          null,
          0.20852882589058924,
          0.2257041528886606,
          null,
          0.21310022119119137,
          0.2257041528886606,
          null,
          0.6498127674400356,
          0.6322322217857933,
          null,
          0.03060297953155061,
          0.014378144729306024,
          null,
          -0.7181541826746172,
          -0.6998793705240954,
          null,
          -0.7181541826746172,
          -0.6891873041265487,
          null,
          -0.6998793705240954,
          -0.6891873041265487,
          null,
          -0.6998793705240954,
          -0.6753745770335765,
          null,
          -0.6891873041265487,
          -0.6753745770335765,
          null,
          -0.6891873041265487,
          -0.6741983672268796,
          null,
          -0.9405632993433856,
          -0.9334420481232574,
          null,
          0.35034541431093147,
          0.34193181475158724,
          null,
          -0.527209031121446,
          -0.5069984662030773,
          null,
          -0.814303216930887,
          -0.8501264055542107,
          null,
          -0.30217139531960685,
          -0.28339145064997806,
          null,
          -0.30217139531960685,
          -0.29219095223518327,
          null,
          -0.28339145064997806,
          -0.29219095223518327,
          null,
          0.4697801357359868,
          0.48517151050583435,
          null,
          0.4697801357359868,
          0.4855252641731478,
          null,
          0.26101363022758994,
          0.266525969416481,
          null,
          0.26101363022758994,
          0.2509309382640453,
          null,
          0.26101363022758994,
          0.2884840083727685,
          null,
          0.26101363022758994,
          0.26038308369932933,
          null,
          0.266525969416481,
          0.2509309382640453,
          null,
          0.26038308369932933,
          0.26605196347099525,
          null,
          -0.4644251265274163,
          -0.48587853313318796,
          null,
          0.2757683622781664,
          0.26605196347099525,
          null,
          -0.7584688276638294,
          -0.7704704169078808,
          null,
          -0.7584688276638294,
          -0.7427489350340561,
          null,
          -0.7704704169078808,
          -0.7427489350340561,
          null,
          -0.051863278759080464,
          -0.0603211019422644,
          null,
          -0.051863278759080464,
          -0.07759846034802834,
          null,
          -0.051863278759080464,
          -0.06292974607938234,
          null,
          -0.051863278759080464,
          -0.06251913883725327,
          null,
          -0.0603211019422644,
          -0.0813732355843068,
          null,
          -0.0603211019422644,
          -0.07759846034802834,
          null,
          -0.0603211019422644,
          -0.06292974607938234,
          null,
          -0.0603211019422644,
          -0.07263171032041224,
          null,
          -0.07759846034802834,
          -0.0813732355843068,
          null,
          -0.07759846034802834,
          -0.06292974607938234,
          null,
          -0.07759846034802834,
          -0.10107729371212329,
          null,
          -0.07759846034802834,
          -0.1043013294091258,
          null,
          -0.07759846034802834,
          -0.07263171032041224,
          null,
          -0.06292974607938234,
          -0.0813732355843068,
          null,
          -0.06251913883725327,
          -0.0813732355843068,
          null,
          -0.06251913883725327,
          -0.07263171032041224,
          null,
          -0.26202351819841585,
          -0.27513012240243173,
          null,
          0.8953476640121022,
          0.8564487218537463,
          null,
          -0.11076449328167497,
          -0.11475739442107269,
          null,
          -0.7210702913624244,
          -0.6986683422938075,
          null,
          0.37044784405389547,
          0.35287152481417405,
          null,
          0.6682773975530042,
          0.661795001132234,
          null,
          -0.3911978368044837,
          -0.40399260950160704,
          null,
          0.44886238651029214,
          0.4357044025568453,
          null,
          0.5577137518874369,
          0.578041437271048,
          null,
          0.4378317740310745,
          0.41058765587062557,
          null,
          -0.15590669975957083,
          -0.16858168277318017,
          null,
          -0.13627351140676633,
          -0.14602868911387742,
          null,
          -0.13627351140676633,
          -0.12833096093281252,
          null,
          -0.13627351140676633,
          -0.13486377453352363,
          null,
          -0.14602868911387742,
          -0.1302171857382839,
          null,
          -0.14602868911387742,
          -0.12833096093281252,
          null,
          -0.14602868911387742,
          -0.13486377453352363,
          null,
          -0.14602868911387742,
          -0.14692322413698272,
          null,
          -0.12833096093281252,
          -0.1302171857382839,
          null,
          -0.12833096093281252,
          -0.14692322413698272,
          null,
          -0.12833096093281252,
          -0.13486377453352363,
          null,
          -0.13486377453352363,
          -0.1302171857382839,
          null,
          -0.13486377453352363,
          -0.14692322413698272,
          null,
          -0.829199097624524,
          -0.8476274450457327,
          null,
          0.42491204985027337,
          0.4230053974866725,
          null,
          0.7977575513738263,
          0.7650989203260543,
          null,
          0.7977575513738263,
          0.77750512535861,
          null,
          0.7977575513738263,
          0.7844120641289122,
          null,
          0.7650989203260543,
          0.7844120641289122,
          null,
          0.7650989203260543,
          0.77750512535861,
          null,
          0.77750512535861,
          0.7844120641289122,
          null,
          -0.8415848326525235,
          -0.8346689688476202,
          null,
          -0.28447867617421807,
          -0.26756326750628057,
          null,
          -0.28447867617421807,
          -0.3052431422635952,
          null,
          0.3718668704258111,
          0.35860317817948845,
          null,
          0.35860317817948845,
          0.3454442746645885,
          null,
          0.24149569212262748,
          0.22540062083246856,
          null,
          0.24149569212262748,
          0.23600996930115334,
          null,
          0.22540062083246856,
          0.23600996930115334,
          null,
          -0.8429426819330341,
          -0.8687737468682757,
          null,
          0.5026319065634375,
          0.5005021409673389,
          null,
          0.5005021409673389,
          0.4995883032461935,
          null,
          0.11100940232532606,
          0.09534887309147937,
          null,
          0.11100940232532606,
          0.10994360626051279,
          null,
          0.11100940232532606,
          0.10329964854918404,
          null,
          0.11100940232532606,
          0.0965319670442106,
          null,
          0.11100940232532606,
          0.10306538294988267,
          null,
          0.09534887309147937,
          0.0965319670442106,
          null,
          0.09534887309147937,
          0.10994360626051279,
          null,
          0.09534887309147937,
          0.10329964854918404,
          null,
          0.09534887309147937,
          0.10306538294988267,
          null,
          0.10994360626051279,
          0.10329964854918404,
          null,
          0.10994360626051279,
          0.0965319670442106,
          null,
          0.0965319670442106,
          0.10306538294988267,
          null,
          0.8949173765612989,
          0.8548793991264442,
          null,
          -0.08918616643760587,
          -0.0875159538403659,
          null,
          -0.0813732355843068,
          -0.07263171032041224,
          null,
          -0.0813732355843068,
          -0.10107729371212329,
          null,
          -0.0813732355843068,
          -0.1043013294091258,
          null,
          -0.14965573839717336,
          -0.15656878089669737,
          null,
          0.049460032664947945,
          0.042571844051940595,
          null,
          0.049460032664947945,
          0.04524738562866856,
          null,
          0.042571844051940595,
          0.04524738562866856,
          null,
          -0.4991188481419921,
          -0.516602758742809,
          null,
          0.9215324026322568,
          0.8840124586345487,
          null,
          0.7618537094986991,
          0.7273975702741786,
          null,
          0.7445320163205739,
          0.7628959288635407,
          null,
          -0.7598492118812236,
          -0.7826969028621964,
          null,
          -0.7598492118812236,
          -0.7268903043031593,
          null,
          0.5657432965174081,
          0.5837825361367988,
          null,
          0.7511877769313143,
          0.740126231538848,
          null,
          0.7511877769313143,
          0.7649638316520844,
          null,
          0.740126231538848,
          0.7649638316520844,
          null,
          0.501498426699098,
          0.5117692811559188,
          null,
          0.501498426699098,
          0.525333547395565,
          null,
          0.5117692811559188,
          0.525333547395565,
          null,
          -0.8978036977984174,
          -0.9110439344693857,
          null,
          -0.6753745770335765,
          -0.6741983672268796,
          null,
          -0.29655473664966375,
          -0.3059396847842058,
          null,
          -0.9669832712949058,
          -0.9529823237516424,
          null,
          0.4947606591086489,
          0.5130708153061927,
          null,
          0.2682648306838441,
          0.2506694613034154,
          null,
          0.2506694613034154,
          0.23060411900840114,
          null,
          -0.16134329637138026,
          -0.15173504208354055,
          null,
          -0.6121134042913835,
          -0.5843441483745132,
          null,
          -0.6121134042913835,
          -0.6043505492882956,
          null,
          -0.5843441483745132,
          -0.6043505492882956,
          null,
          -0.7524136993248901,
          -0.739315509950252,
          null,
          0.804940833691626,
          0.8350335316124659,
          null,
          -0.1302171857382839,
          -0.14692322413698272,
          null,
          -0.023541218910361827,
          -0.041483845761434435,
          null,
          -0.1549009527021692,
          -0.15192650585482276,
          null,
          0.6744927725907253,
          0.6439461775209235,
          null,
          0.3414574169787904,
          0.3263577681721651,
          null,
          0.6361155754362386,
          0.6108307468451133,
          null,
          -0.14273136130861472,
          -0.12333765025644608,
          null,
          -0.14273136130861472,
          -0.13744855212568133,
          null,
          -0.12333765025644608,
          -0.13744855212568133,
          null,
          0.05522249861958038,
          0.05220124478159974,
          null,
          -0.8541298737557035,
          -0.8949525225773426,
          null,
          0.6831555350954982,
          0.7045655809655632,
          null,
          0.6831555350954982,
          0.7017273146104558,
          null,
          0.7045655809655632,
          0.7017273146104558,
          null,
          0.9108258739309596,
          0.8893675583770592,
          null,
          -0.5686842378761574,
          -0.5471311015453845,
          null,
          -0.5068753098584895,
          -0.5214233497741554,
          null,
          -0.8455185023878499,
          -0.8832680415640762,
          null,
          -1,
          -0.9594062109919663,
          null,
          0.44900754802220905,
          0.432479175945569,
          null,
          0.44900754802220905,
          0.46734740885564363,
          null
         ],
         "y": [
          -0.6347538085189093,
          -0.6610488124286573,
          null,
          -0.6347538085189093,
          -0.6512242329819842,
          null,
          -0.6610488124286573,
          -0.6512242329819842,
          null,
          0.07462446221283495,
          0.05915441910814539,
          null,
          0.07462446221283495,
          0.05361633692950576,
          null,
          0.07462446221283495,
          0.07105724917272661,
          null,
          0.05915441910814539,
          0.05476056739866097,
          null,
          0.05915441910814539,
          0.05361633692950576,
          null,
          0.05915441910814539,
          0.07105724917272661,
          null,
          0.05361633692950576,
          0.05476056739866097,
          null,
          0.05361633692950576,
          0.07105724917272661,
          null,
          0.07105724917272661,
          0.05476056739866097,
          null,
          0.6165987009150675,
          0.5988813571616467,
          null,
          0.6165987009150675,
          0.6360129746511433,
          null,
          -0.8084668931637505,
          -0.8262949718290493,
          null,
          -0.15050284751345733,
          -0.14768228223867474,
          null,
          0.7949625604076369,
          0.7810190071649751,
          null,
          0.7949625604076369,
          0.7606161895677125,
          null,
          0.7810190071649751,
          0.7606161895677125,
          null,
          -0.21390447687478617,
          -0.23001812110961015,
          null,
          -0.21390447687478617,
          -0.22525256667495586,
          null,
          -0.21390447687478617,
          -0.19453521815144825,
          null,
          -0.23001812110961015,
          -0.22525256667495586,
          null,
          0.3852860800059085,
          0.3723916768088778,
          null,
          0.3852860800059085,
          0.38704868528246344,
          null,
          0.3852860800059085,
          0.415243062158284,
          null,
          0.3852860800059085,
          0.3962095835968013,
          null,
          0.3852860800059085,
          0.3711114822854955,
          null,
          0.3852860800059085,
          0.38703351334365155,
          null,
          0.3723916768088778,
          0.38704868528246344,
          null,
          0.3723916768088778,
          0.3962095835968013,
          null,
          0.3723916768088778,
          0.3711114822854955,
          null,
          0.38704868528246344,
          0.3711114822854955,
          null,
          0.38704868528246344,
          0.41755619772053604,
          null,
          0.38704868528246344,
          0.3962095835968013,
          null,
          0.415243062158284,
          0.4364540426981785,
          null,
          0.415243062158284,
          0.41755619772053604,
          null,
          0.415243062158284,
          0.42856599090820285,
          null,
          0.3962095835968013,
          0.3711114822854955,
          null,
          0.3962095835968013,
          0.42856599090820285,
          null,
          0.806850771885866,
          0.7992418925373613,
          null,
          0.806850771885866,
          0.8301264517925929,
          null,
          0.7992418925373613,
          0.8301264517925929,
          null,
          -0.8147773101385667,
          -0.8419640476791276,
          null,
          -0.8147773101385667,
          -0.8419772650314354,
          null,
          -0.8419640476791276,
          -0.8419772650314354,
          null,
          0.24717201711978867,
          0.24859009809751628,
          null,
          0.24717201711978867,
          0.2607722141912908,
          null,
          0.24717201711978867,
          0.253934386386562,
          null,
          0.24859009809751628,
          0.253934386386562,
          null,
          0.24859009809751628,
          0.2607722141912908,
          null,
          0.2607722141912908,
          0.26590488713996707,
          null,
          0.2607722141912908,
          0.253934386386562,
          null,
          0.253934386386562,
          0.2629372802343242,
          null,
          0.253934386386562,
          0.26590488713996707,
          null,
          -0.5750043300204088,
          -0.5733746626435224,
          null,
          -0.5750043300204088,
          -0.5879814143423792,
          null,
          -0.5750043300204088,
          -0.5919503823251244,
          null,
          -0.5733746626435224,
          -0.5879814143423792,
          null,
          -0.5733746626435224,
          -0.5919503823251244,
          null,
          -0.5879814143423792,
          -0.5919503823251244,
          null,
          -0.45315509324943903,
          -0.44849170462755794,
          null,
          -0.45315509324943903,
          -0.46713329340045834,
          null,
          -0.44849170462755794,
          -0.46713329340045834,
          null,
          0.2629372802343242,
          0.26590488713996707,
          null,
          -0.6137981782310442,
          -0.6268940587281642,
          null,
          0.5597799189615278,
          0.5492237859979878,
          null,
          0.5597799189615278,
          0.5380945789840365,
          null,
          0.5492237859979878,
          0.5380945789840365,
          null,
          0.9384105812976029,
          0.9575700019232615,
          null,
          0.9384105812976029,
          0.9654262008807699,
          null,
          0.6463516569622104,
          0.6759040050302808,
          null,
          -0.3476627563105243,
          -0.32640912826103946,
          null,
          -0.3476627563105243,
          -0.3330703087713533,
          null,
          -0.3476627563105243,
          -0.3583515729880046,
          null,
          -0.32640912826103946,
          -0.3371396889700483,
          null,
          -0.32640912826103946,
          -0.3330703087713533,
          null,
          -0.3583515729880046,
          -0.3371396889700483,
          null,
          -0.7968654820901065,
          -0.7796820815621337,
          null,
          -0.7796820815621337,
          -0.8206502851268365,
          null,
          0.2229187389945384,
          0.23024712956615814,
          null,
          0.5349852588991738,
          0.5556937798231185,
          null,
          0.5349852588991738,
          0.53482162556728,
          null,
          0.5556937798231185,
          0.53482162556728,
          null,
          0.9677312037173162,
          0.9866660962241895,
          null,
          0.6475716203930352,
          0.6226034818954639,
          null,
          0.8467955992519959,
          0.8625459402250649,
          null,
          0.8947761132795371,
          0.9114006673779639,
          null,
          0.8947761132795371,
          0.8884430520820328,
          null,
          0.3133442367707991,
          0.3294686339554594,
          null,
          0.3133442367707991,
          0.33270953858651464,
          null,
          0.3133442367707991,
          0.28395066822902815,
          null,
          0.3294686339554594,
          0.3136326671537075,
          null,
          0.33270953858651464,
          0.3136326671537075,
          null,
          0.28395066822902815,
          0.2647026730404301,
          null,
          0.28395066822902815,
          0.28537190273381163,
          null,
          -0.48737274820604315,
          -0.4844427896658534,
          null,
          0.3136326671537075,
          0.28537190273381163,
          null,
          -0.8856962418908074,
          -0.9117586775750544,
          null,
          -0.8856962418908074,
          -0.85390285095546,
          null,
          -0.5062810845298337,
          -0.4919330465090632,
          null,
          -0.8664731523400461,
          -0.8635447322545368,
          null,
          -0.8664731523400461,
          -0.8443018820970719,
          null,
          -0.8635447322545368,
          -0.8443018820970719,
          null,
          -0.8828487466264154,
          -0.9062070757206125,
          null,
          0.042712475751529345,
          0.04243975070855377,
          null,
          0.042712475751529345,
          0.06490835445434527,
          null,
          0.042712475751529345,
          0.05984064183045856,
          null,
          0.042712475751529345,
          0.051024854903588567,
          null,
          0.042712475751529345,
          0.06297093622343847,
          null,
          0.042712475751529345,
          0.04698424811018549,
          null,
          0.042712475751529345,
          0.054053617657900066,
          null,
          0.04243975070855377,
          0.05984064183045856,
          null,
          0.04243975070855377,
          0.054053617657900066,
          null,
          0.04243975070855377,
          0.051024854903588567,
          null,
          0.04243975070855377,
          0.06297093622343847,
          null,
          0.04243975070855377,
          0.06490835445434527,
          null,
          0.04243975070855377,
          0.04698424811018549,
          null,
          0.06490835445434527,
          0.05984064183045856,
          null,
          0.06490835445434527,
          0.054053617657900066,
          null,
          0.06490835445434527,
          0.06297093622343847,
          null,
          0.06490835445434527,
          0.051024854903588567,
          null,
          0.06490835445434527,
          0.04698424811018549,
          null,
          0.05984064183045856,
          0.04698424811018549,
          null,
          0.05984064183045856,
          0.054053617657900066,
          null,
          0.05984064183045856,
          0.051024854903588567,
          null,
          0.05984064183045856,
          0.06297093622343847,
          null,
          0.051024854903588567,
          0.054053617657900066,
          null,
          0.051024854903588567,
          0.06297093622343847,
          null,
          0.051024854903588567,
          0.04698424811018549,
          null,
          0.06297093622343847,
          0.054053617657900066,
          null,
          0.06297093622343847,
          0.04698424811018549,
          null,
          0.04698424811018549,
          0.054053617657900066,
          null,
          -0.034935533992559484,
          -0.020454699326309094,
          null,
          -0.034935533992559484,
          -0.03327749651106385,
          null,
          -0.020454699326309094,
          -0.03327749651106385,
          null,
          -0.020454699326309094,
          -0.022668848750361743,
          null,
          -0.03327749651106385,
          -0.022668848750361743,
          null,
          0.03816977700459381,
          0.04046712415505262,
          null,
          -0.025680318977880902,
          -0.0329661536770725,
          null,
          -0.025680318977880902,
          -0.0452353122660157,
          null,
          -0.025680318977880902,
          -0.008507307339284696,
          null,
          -0.025680318977880902,
          -0.016913230675804643,
          null,
          -0.0329661536770725,
          -0.0452353122660157,
          null,
          -0.0329661536770725,
          -0.008507307339284696,
          null,
          -0.0329661536770725,
          -0.016913230675804643,
          null,
          -0.008507307339284696,
          -0.016913230675804643,
          null,
          -0.8960876125704283,
          -0.884115052867954,
          null,
          -0.884115052867954,
          -0.8736760349764543,
          null,
          -0.7181821963825982,
          -0.748991059433786,
          null,
          -0.5754781248721059,
          -0.5858131596664875,
          null,
          -0.5754781248721059,
          -0.5542663501400532,
          null,
          0.7160649204243519,
          0.7336038953648409,
          null,
          -0.6384377654328619,
          -0.665975433160351,
          null,
          -0.0800508928185231,
          -0.05784816593117986,
          null,
          -0.0800508928185231,
          -0.10276914480269485,
          null,
          -0.0800508928185231,
          -0.08191801405044988,
          null,
          -0.6998329299556036,
          -0.7203313053605048,
          null,
          -0.6998329299556036,
          -0.7067568885102136,
          null,
          -0.7203313053605048,
          -0.7067568885102136,
          null,
          -0.6663316497403945,
          -0.668048594463154,
          null,
          -0.7960461630026078,
          -0.7857898546096427,
          null,
          -0.34251071740300293,
          -0.3482166400789871,
          null,
          -0.34251071740300293,
          -0.3307457288391315,
          null,
          -0.3482166400789871,
          -0.3307457288391315,
          null,
          -0.3482166400789871,
          -0.3412498041637099,
          null,
          -0.3307457288391315,
          -0.3412498041637099,
          null,
          -0.3307457288391315,
          -0.32191653588459235,
          null,
          0.018964307779650358,
          0.03603855783624823,
          null,
          -0.8515880631347938,
          -0.8736760349764543,
          null,
          0.4364540426981785,
          0.41755619772053604,
          null,
          0.1611200250959001,
          0.16764829310354168,
          null,
          0.7354299880453213,
          0.7225855170309613,
          null,
          0.7354299880453213,
          0.7484102479673738,
          null,
          0.7225855170309613,
          0.7484102479673738,
          null,
          0.24851624176357118,
          0.23390264962831597,
          null,
          0.24851624176357118,
          0.2715439502708007,
          null,
          0.0041537541995566715,
          -0.023288080138652058,
          null,
          0.0041537541995566715,
          -0.020299329585206246,
          null,
          0.0041537541995566715,
          -0.004625278205943359,
          null,
          0.0041537541995566715,
          0.04204904325615421,
          null,
          -0.023288080138652058,
          -0.020299329585206246,
          null,
          0.04204904325615421,
          0.07604586584888769,
          null,
          -0.7144680063163314,
          -0.7478720770409767,
          null,
          0.1022851520388332,
          0.07604586584888769,
          null,
          0.27995098646717126,
          0.295889200481835,
          null,
          0.27995098646717126,
          0.2874177437582759,
          null,
          0.295889200481835,
          0.2874177437582759,
          null,
          0.12037214159199139,
          0.1109520746531515,
          null,
          0.12037214159199139,
          0.10876403857748101,
          null,
          0.12037214159199139,
          0.0979137277244635,
          null,
          0.12037214159199139,
          0.14246586967348232,
          null,
          0.1109520746531515,
          0.11892294552630693,
          null,
          0.1109520746531515,
          0.10876403857748101,
          null,
          0.1109520746531515,
          0.0979137277244635,
          null,
          0.1109520746531515,
          0.13164049298721547,
          null,
          0.10876403857748101,
          0.11892294552630693,
          null,
          0.10876403857748101,
          0.0979137277244635,
          null,
          0.10876403857748101,
          0.10029872917661527,
          null,
          0.10876403857748101,
          0.12345068845561454,
          null,
          0.10876403857748101,
          0.13164049298721547,
          null,
          0.0979137277244635,
          0.11892294552630693,
          null,
          0.14246586967348232,
          0.11892294552630693,
          null,
          0.14246586967348232,
          0.13164049298721547,
          null,
          0.905970941280757,
          0.9449545889442514,
          null,
          -0.5019314226396191,
          -0.4823282329271547,
          null,
          -0.9547780025337042,
          -0.9733420159953285,
          null,
          -0.4274103513105093,
          -0.4172070880735289,
          null,
          0.8318309353750797,
          0.7958758556846915,
          null,
          0.28537190273381163,
          0.2647026730404301,
          null,
          0.8072968756810278,
          0.8321410685572896,
          null,
          -0.6293059236683781,
          -0.6111731933077575,
          null,
          -0.7106148120215735,
          -0.7392981146135686,
          null,
          -0.7684461028147136,
          -0.769423267443391,
          null,
          0.8198643928002368,
          0.8068602811294192,
          null,
          0.4491551121640776,
          0.43215809481996525,
          null,
          0.4491551121640776,
          0.43288998560087394,
          null,
          0.4491551121640776,
          0.4240343134059517,
          null,
          0.43215809481996525,
          0.41217655187904795,
          null,
          0.43215809481996525,
          0.43288998560087394,
          null,
          0.43215809481996525,
          0.4240343134059517,
          null,
          0.43215809481996525,
          0.4146616942740837,
          null,
          0.43288998560087394,
          0.41217655187904795,
          null,
          0.43288998560087394,
          0.4146616942740837,
          null,
          0.43288998560087394,
          0.4240343134059517,
          null,
          0.4240343134059517,
          0.41217655187904795,
          null,
          0.4240343134059517,
          0.4146616942740837,
          null,
          0.3778054517943302,
          0.38672156221391407,
          null,
          -0.7895224185006409,
          -0.7639379571163055,
          null,
          -0.26721397334737773,
          -0.26479397179375636,
          null,
          -0.26721397334737773,
          -0.2560787522693602,
          null,
          -0.26721397334737773,
          -0.2748601202406582,
          null,
          -0.26479397179375636,
          -0.2748601202406582,
          null,
          -0.26479397179375636,
          -0.2560787522693602,
          null,
          -0.2560787522693602,
          -0.2748601202406582,
          null,
          -0.35354446939133916,
          -0.3364911161117717,
          null,
          0.8277803867429901,
          0.8098386822631014,
          null,
          0.8277803867429901,
          0.8274219016104942,
          null,
          0.7117431178555955,
          0.6816931005974894,
          null,
          0.6816931005974894,
          0.6525852105618773,
          null,
          0.7325520925714047,
          0.7239236314710039,
          null,
          0.7325520925714047,
          0.7505321263426386,
          null,
          0.7239236314710039,
          0.7505321263426386,
          null,
          -0.07624038147581466,
          -0.07395736552671026,
          null,
          -0.30980313730885556,
          -0.28857947902955994,
          null,
          -0.28857947902955994,
          -0.2673842532511157,
          null,
          0.08981121403781016,
          0.08450308105618919,
          null,
          0.08981121403781016,
          0.07744287680900039,
          null,
          0.08981121403781016,
          0.06448341166633194,
          null,
          0.08981121403781016,
          0.0985886030948539,
          null,
          0.08981121403781016,
          0.11051494048755697,
          null,
          0.08450308105618919,
          0.0985886030948539,
          null,
          0.08450308105618919,
          0.07744287680900039,
          null,
          0.08450308105618919,
          0.06448341166633194,
          null,
          0.08450308105618919,
          0.11051494048755697,
          null,
          0.07744287680900039,
          0.06448341166633194,
          null,
          0.07744287680900039,
          0.0985886030948539,
          null,
          0.0985886030948539,
          0.11051494048755697,
          null,
          -0.21681100546880502,
          -0.20775284934345029,
          null,
          0.8110817041509676,
          0.7855288725491925,
          null,
          0.11892294552630693,
          0.13164049298721547,
          null,
          0.11892294552630693,
          0.10029872917661527,
          null,
          0.11892294552630693,
          0.12345068845561454,
          null,
          -0.8022536657582044,
          -0.8332807809115881,
          null,
          0.8776211492048462,
          0.8602988067558266,
          null,
          0.8776211492048462,
          0.8979401810132669,
          null,
          0.8602988067558266,
          0.8979401810132669,
          null,
          -0.6130913438172076,
          -0.6353252629709261,
          null,
          0.07365565639020286,
          0.06844757540429025,
          null,
          0.42561273393680765,
          0.4049809567527638,
          null,
          -0.5736851341704876,
          -0.5724040232296319,
          null,
          0.4549118313428874,
          0.4657107205795714,
          null,
          0.4549118313428874,
          0.4369512083863611,
          null,
          0.45730253941384724,
          0.46109172686352495,
          null,
          0.6497901734976032,
          0.628711016467782,
          null,
          0.6497901734976032,
          0.6407081552001695,
          null,
          0.628711016467782,
          0.6407081552001695,
          null,
          0.6258444352954884,
          0.6497747092489904,
          null,
          0.6258444352954884,
          0.642138514528076,
          null,
          0.6497747092489904,
          0.642138514528076,
          null,
          -0.10557847643743995,
          -0.11735532807664117,
          null,
          -0.3412498041637099,
          -0.32191653588459235,
          null,
          -0.6594553112022706,
          -0.6813373879412552,
          null,
          -0.16674303310392868,
          -0.15469791809112024,
          null,
          -0.6916565388368671,
          -0.7211911972350891,
          null,
          -0.4641600757428904,
          -0.44377602086954243,
          null,
          -0.44377602086954243,
          -0.44712233150553077,
          null,
          0.9005159381785781,
          0.9160100992688375,
          null,
          -0.701029984583021,
          -0.6676884541497391,
          null,
          -0.701029984583021,
          -0.6890290847635007,
          null,
          -0.6676884541497391,
          -0.6890290847635007,
          null,
          -0.5204770587178815,
          -0.5336434425470499,
          null,
          -0.3537675331099068,
          -0.36532528291010746,
          null,
          0.41217655187904795,
          0.4146616942740837,
          null,
          -0.8733674093483991,
          -0.8713645445436409,
          null,
          -0.7243307021860812,
          -0.7001245387260661,
          null,
          0.5827504313861505,
          0.5588594960707198,
          null,
          -0.7545940444593278,
          -0.7455122510260481,
          null,
          -0.48136030725007256,
          -0.46272971337073904,
          null,
          -0.17839564766967217,
          -0.17021409841685495,
          null,
          -0.17839564766967217,
          -0.1591694737012964,
          null,
          -0.17021409841685495,
          -0.1591694737012964,
          null,
          0.7554564374746147,
          0.7274125367944373,
          null,
          0.30670803849348144,
          0.3216446929705587,
          null,
          -0.3688409857981595,
          -0.38180612363540656,
          null,
          -0.3688409857981595,
          -0.3644447613024772,
          null,
          -0.38180612363540656,
          -0.3644447613024772,
          null,
          0.4216258240040241,
          0.4121259411640225,
          null,
          -0.5631854296445683,
          -0.5431669485182382,
          null,
          0.7849176455182686,
          0.8034134942700754,
          null,
          -0.2379268547411182,
          -0.24995127549135004,
          null,
          0.13272214438236218,
          0.1268893765005186,
          null,
          0.7337519883435508,
          0.7130447169690818,
          null,
          0.7337519883435508,
          0.7271235396845206,
          null
         ]
        },
        {
         "hoverinfo": "text",
         "marker": {
          "color": [
           2,
           2,
           2,
           3,
           4,
           4,
           4,
           2,
           1,
           1,
           1,
           1,
           1,
           1,
           2,
           2,
           2,
           3,
           2,
           2,
           1,
           3,
           6,
           4,
           5,
           4,
           5,
           4,
           1,
           2,
           2,
           2,
           2,
           2,
           2,
           3,
           3,
           4,
           5,
           3,
           3,
           3,
           3,
           2,
           2,
           2,
           2,
           3,
           1,
           1,
           2,
           2,
           2,
           2,
           1,
           1,
           1,
           1,
           3,
           3,
           2,
           2,
           1,
           2,
           1,
           1,
           2,
           2,
           2,
           1,
           1,
           1,
           1,
           1,
           1,
           2,
           1,
           1,
           3,
           2,
           2,
           3,
           1,
           1,
           3,
           2,
           1,
           1,
           1,
           1,
           2,
           2,
           2,
           1,
           1,
           7,
           7,
           7,
           7,
           7,
           7,
           7,
           7,
           2,
           3,
           3,
           1,
           1,
           4,
           4,
           2,
           3,
           3,
           1,
           2,
           1,
           1,
           2,
           1,
           1,
           1,
           1,
           1,
           1,
           1,
           3,
           1,
           1,
           1,
           2,
           2,
           2,
           1,
           1,
           1,
           1,
           2,
           3,
           4,
           1,
           1,
           1,
           2,
           2,
           3,
           2,
           1,
           1,
           2,
           2,
           2,
           2,
           1,
           1,
           4,
           2,
           2,
           1,
           2,
           1,
           1,
           1,
           2,
           2,
           2,
           2,
           4,
           5,
           7,
           4,
           3,
           1,
           1,
           1,
           1,
           1,
           1,
           1,
           1,
           1,
           1,
           3,
           1,
           1,
           1,
           1,
           1,
           1,
           1,
           1,
           1,
           1,
           3,
           5,
           5,
           5,
           1,
           1,
           2,
           2,
           1,
           1,
           3,
           3,
           3,
           3,
           1,
           1,
           2,
           1,
           1,
           1,
           2,
           2,
           2,
           2,
           1,
           1,
           1,
           2,
           5,
           5,
           4,
           3,
           4,
           3,
           1,
           1,
           1,
           1,
           7,
           4,
           2,
           2,
           2,
           1,
           1,
           2,
           2,
           2,
           1,
           1,
           1,
           1,
           1,
           1,
           1,
           1,
           2,
           1,
           1,
           1,
           1,
           2,
           2,
           2,
           2,
           2,
           2,
           1,
           1,
           3,
           1,
           1,
           2,
           1,
           1,
           1,
           1,
           1,
           2,
           1,
           1,
           2,
           2,
           2,
           1,
           1,
           1,
           1,
           4,
           4,
           1,
           1,
           1,
           1,
           1,
           1,
           1,
           1,
           1,
           1,
           1,
           1,
           2,
           2,
           2,
           1,
           1,
           1,
           1,
           2,
           2,
           2,
           1,
           1,
           1,
           1,
           1,
           1,
           1,
           1,
           1,
           1,
           1,
           2,
           1,
           1
          ],
          "colorbar": {
           "thickness": 15,
           "title": {
            "side": "right",
            "text": "Node Connections"
           },
           "xanchor": "left"
          },
          "colorscale": [
           [
            0,
            "rgb(161, 105, 40)"
           ],
           [
            0.16666666666666666,
            "rgb(189, 146, 90)"
           ],
           [
            0.3333333333333333,
            "rgb(214, 189, 141)"
           ],
           [
            0.5,
            "rgb(237, 234, 194)"
           ],
           [
            0.6666666666666666,
            "rgb(181, 200, 184)"
           ],
           [
            0.8333333333333334,
            "rgb(121, 167, 172)"
           ],
           [
            1,
            "rgb(40, 135, 161)"
           ]
          ],
          "line": {
           "width": 2
          },
          "reversescale": true,
          "showscale": true,
          "size": 10
         },
         "mode": "markers",
         "text": [
          "switch tplink ls1005g serie litewave - # of connections: 2",
          "switch tplink ls1005 serie litewave - # of connections: 2",
          "switch tplink ls1008 serie litewave - # of connections: 2",
          "laptop dell inspiron 3505 negra 156 amd ryzen 5 3450u 12gb ram 1tb hdd 256gb ssd amd radeon rx vega 8 ryzen 20003000 60 hz 1920x1080px windows 10 home - # of connections: 3",
          "laptop dell inspiron 3505 negra 156 amd ryzen 5 3450u 8gb ram 256gb ssd amd radeon rx vega 8 ryzen 20003000 60 hz 1366x768px windows 10 home - # of connections: 4",
          "laptop dell inspiron 3505 gris 156 amd ryzen 5 3450u 8gb ram 1tb hdd 256gb ssd amd radeon rx vega 8 ryzen 20003000 60 hz 1366x768px windows 10 home - # of connections: 4",
          "laptop dell inspiron 3505 gris 156 amd ryzen 5 3450u 12gb ram 256gb ssd amd radeon rx vega 8 ryzen 20003000 60 hz 1366x768px windows 10 home - # of connections: 4",
          "laptop hp 245 g7 negra 14 amd 3020e 8gb ram 1tb hdd amd radeon rx vega 3 1366x768px windows 10 home - # of connections: 2",
          "laptop hp 245 g7 negra 14 amd athlon 3020e 8gb ram 1tb hdd amd radeon rx vega 3 1366x768px freedos - # of connections: 1",
          "laptop hp 255 g7 negra 156 amd athlon 3020e 4gb ram 500gb hdd amd radeon rx vega 3 1366x768px windows 10 home - # of connections: 1",
          "memoria usb kingston datatraveler 100 g3 dt100g3 128gb 30 negro - # of connections: 1",
          "memoria usb kingston datatraveler 100 g3 dt100g3 16gb 30 negro - # of connections: 1",
          "laptop dell inspiron 3501 negra 156 intel core i3 1005g1 4gb ram 1tb hdd intel uhd graphics g1 60 hz 1366x768px linux ubuntu - # of connections: 1",
          "laptop dell inspiron 3501 plata 156 intel core i3 1005g1 4gb ram 1tb hdd intel uhd graphics g1 60 hz 1366x768px windows 10 home - # of connections: 1",
          "torre gamer amd athlon 3000g ssd 240gb ram 8gb vega 3 2gb - # of connections: 2",
          "torre gamer athlon 3000g ssd 240 hdd 1tb ram 8gb vega 3 2gb - # of connections: 2",
          "torre gamer amd athlon 3000g hdd 1tb ram 16gb vega 3 2gb - # of connections: 2",
          "mouse inalmbrico logitech m280 negro - # of connections: 3",
          "mouse inalmbrico logitech m280 azul - # of connections: 2",
          "mouse inalmbrico logitech m280 rojo - # of connections: 2",
          "mouse inalmbrico logitech m280 plateado - # of connections: 1",
          "laptop dell inspiron 3505 silver 156 amd ryzen 5 3450u 8gb ram 256gb ssd amd radeon rx vega 8 ryzen 20003000 60 hz 1366x768px windows 11 home - # of connections: 3",
          "kit teclado mouse inalmbrico logitech mk220 espaol latinoamrica color negro - # of connections: 6",
          "kit teclado mouse inalmbrico logitech mk270 espaol latinoamrica color negro - # of connections: 4",
          "kit teclado mouse inalmbrico logitech mk540 espaol latinoamrica color negro - # of connections: 5",
          "kit teclado mouse inalmbrico logitech mk220 espaol color negro - # of connections: 4",
          "kit teclado mouse inalmbrico logitech mk295 espaol latinoamrica color negro - # of connections: 5",
          "kit teclado mouse inalmbrico logitech mk345 espaol latinoamrica color negro - # of connections: 4",
          "kit teclado mouse logitech mk120 espaol latinoamrica color negro - # of connections: 1",
          "laptop hp 240 g7 plateado ceniza oscuro 14 intel celeron n4000 4gb ram 500gb hdd intel uhd graphics 600 1366x768px windows 10 home - # of connections: 2",
          "laptop hp 240 g7 plateado ceniza oscuro 14 intel celeron n4020 4gb ram 500gb hdd intel uhd graphics 600 1366x768px windows 10 home - # of connections: 2",
          "laptop hp 240 g7 plateado ceniza oscuro 14 intel celeron n4100 4gb ram 500gb hdd intel uhd graphics 600 1366x768px windows 10 home - # of connections: 2",
          "disco duro externo adata ahd3301tu31 1tb negro - # of connections: 2",
          "disco duro externo adata ahd3301tu31 1tb rojo - # of connections: 2",
          "disco duro externo adata ahd3301tu31 1tb azul - # of connections: 2",
          "apple macbook pro 13 pulgadas 2020 chip m1 512 gb ssd 8 gb ram gris espacial - # of connections: 3",
          "apple macbook air 13 pulgadas 2020 chip m1 512 gb ssd 8 gb ram gris espacial - # of connections: 3",
          "apple macbook pro 13 pulgadas 2020 chip m1 512 gb ssd 8 gb ram plata - # of connections: 4",
          "apple macbook air 13 pulgadas 2020 chip m1 512 gb ssd 8 gb ram plata - # of connections: 5",
          "mouse juego inalmbrico logitech g series lightspeed g305 black - # of connections: 3",
          "mouse juego inalmbrico logitech g series lightspeed g305 blue - # of connections: 3",
          "mouse juego inalmbrico logitech g series lightspeed g305 lilac - # of connections: 3",
          "mouse juego inalmbrico logitech g series lightspeed g305 white - # of connections: 3",
          "servidor dell power edge t40 intel xeon 35 ghz 8g 1tb - # of connections: 2",
          "servidor dell power edge t40 intel xeon 35 ghz 16g 1tb - # of connections: 2",
          "servidor dell power edge t40 16gb ram intel xeon 35 ghz 1t - # of connections: 2",
          "apple macbook air 13 pulgadas 2020 chip m1 256 gb ssd 8 gb ram oro - # of connections: 2",
          "apple macbook pro 13 pulgadas 2020 chip m1 256 gb ssd 8 gb ram plata - # of connections: 3",
          "mouse juego logitech g series prodigy g203 black - # of connections: 1",
          "mouse juego logitech g series prodigy g203 white - # of connections: 1",
          "teclado gamer redragon kumara k552 qwerty outemu red espaol latinoamrica color blanco luz rgb - # of connections: 2",
          "teclado gamer redragon kumara k552 qwerty outemu blue espaol latinoamrica color blanco luz rgb - # of connections: 2",
          "teclado gamer redragon kumara k552 qwerty outemu blue espaol latinoamrica color negro luz roja - # of connections: 2",
          "dell inspiron 15 3501 core i31115g4 8gb 128 ssd 1tb 156 - # of connections: 2",
          "dell inspiron 15 3501 core i31115g4 12gb 1tb 156 - # of connections: 1",
          "dell inspiron 15 3501 core i31115g4 8gb ssd 256 gb 156plg - # of connections: 1",
          "disco slido ssd interno adata swordfish aswordfish250gc 250gb gris - # of connections: 1",
          "disco slido ssd interno adata swordfish aswordfish500gc 500gb - # of connections: 1",
          "torre cpu gamer ryzen 9 5900x gpu 2gb hdmi 1tb 32gb pc - # of connections: 3",
          "torre cpu gamer ryzen 9 5900x gpu 2gb hdmi 1tb 16gb pc - # of connections: 3",
          "torre cpu gamer ryzen 9 5950x gpu 2gb hdmi 1tb 32gb pc - # of connections: 2",
          "torre cpu amd ryzen 9 5900x gpu hdmi 1tb 32gb pc - # of connections: 2",
          "disco slido ssd interno crucial ct1000bx500ssd1 1tb - # of connections: 1",
          "disco slido ssd interno crucial ct1000mx500ssd1 1tb - # of connections: 2",
          "tablet amazon fire hd 8 2020 kfonwi 8 32gb black 2gb memoria ram - # of connections: 1",
          "tablet amazon fire hd 8 2020 kfonwi 8 32gb twilight blue 2gb memoria ram - # of connections: 1",
          "mouse juego logitech g series lightsync g203 blanco - # of connections: 2",
          "mouse juego logitech g series lightsync g203 azul - # of connections: 2",
          "mouse juego logitech g series lightsync g203 lila - # of connections: 2",
          "disco duro externo adata dashdrive durable hd680 ahd6801tu31 1tb negro - # of connections: 1",
          "disco duro externo adata dashdrive durable hd680 ahd6801tu31 1tb azul - # of connections: 1",
          "mouse juego redragon griffin m607 negro - # of connections: 1",
          "mouse juego redragon griffin m607 blanco - # of connections: 1",
          "laptop asus vivobook x543ua gris oscura 156 intel core i5 8250u 8gb ram 256gb ssd intel uhd graphics 620 1920x1080px windows 10 home - # of connections: 1",
          "laptop asus vivobook x543ua gris oscura 156 intel core i5 8250u 4gb ram 256gb ssd intel uhd graphics 620 1920x1080px windows 10 home - # of connections: 1",
          "torre gamer amd ryzen 3 3200g ssd 240gb ram 8gb vega 8 2gb - # of connections: 2",
          "torre gamer amd ryzen 3 3200g ssd 480gb ram 16gb vega 8 2gb - # of connections: 1",
          "torre gamer amd ryzen 3 3200g ssd 240gb ram 8gb - # of connections: 1",
          "tablet samsung galaxy tab a7 lite smt220 87 32gb gris 3gb memoria ram - # of connections: 3",
          "tablet samsung galaxy tab a7 lite smt220 87 32gb plateada 3gb memoria ram - # of connections: 2",
          "tablet samsung galaxy tab a7 lite smt220 87 64gb gris 4gb memoria ram - # of connections: 2",
          "tablet samsung galaxy a7 lite smt225 87 red mvil 32gb gris 3gb memoria ram - # of connections: 3",
          "disco slido ssd interno western digital wd green wds240g2g0a 240gb verde - # of connections: 1",
          "disco slido ssd interno western digital wd green wds240g2g0b 240gb verde - # of connections: 1",
          "tablet samsung galaxy tab a7 lite smt220 87 64gb plateada 4gb memoria ram - # of connections: 3",
          "impresora simple funcin hp laserjet 107w wifi blanca negra 110v 127v - # of connections: 2",
          "impresora simple funcin hp laserjet 107w wifi blanca negra 110v240v - # of connections: 1",
          "impresora simple funcin hp laserjet pro m203dw wifi blanca 110v 127v - # of connections: 1",
          "lenovo legin ryzen 7 5800h rtx 3050ti 16g 512 165h portatil - # of connections: 1",
          "lenovo legin ryzen 7 5800h rtx 3050ti 32g 512 165h portatil - # of connections: 1",
          "torre cpu gamer core i9 10900 gpu 2gb hdmi 1tb 16gb pc - # of connections: 2",
          "torre cpu gamer core i9 11900 gpu 2gb hdmi 1tb 16gb pc - # of connections: 2",
          "torre cpu gamer core i9 11900 gpu 2gb hdmi 1tb 32gb pc - # of connections: 2",
          "teclado inalmbrico logitech k230 qwerty espaol color negro - # of connections: 1",
          "teclado inalmbrico logitech k230 qwerty espaol latinoamrica color negro - # of connections: 1",
          "access point router sistema wifi mesh tplink deco e4 blanco 100v240v 2 unidades - # of connections: 7",
          "access point router sistema wifi mesh tplink deco e4 blanco 100v240v 3 unidades - # of connections: 7",
          "access point router sistema wifi mesh tplink deco m5 blanco 100v240v 2 unidades - # of connections: 7",
          "access point router sistema wifi mesh tplink deco e4 blanco 100v240v - # of connections: 7",
          "access point router sistema wifi mesh tplink deco m4 blanco 100v240v 3 unidades - # of connections: 7",
          "access point router sistema wifi mesh tplink deco m5 blanco 100v240v 3 unidades - # of connections: 7",
          "access point router sistema wifi mesh tplink deco m4 blanco 100v240v - # of connections: 7",
          "access point router sistema wifi mesh tplink deco m5 blanco 100v240v - # of connections: 7",
          "cpu torre pc gamer amd ryzen 7 5700g ssd 480gb ram 16gb - # of connections: 2",
          "cpu torre pc gamer amd ryzen 7 5700g ssd 480 hdd 1tb ram 16 - # of connections: 3",
          "cpu torre pc gamer amd ryzen 7 5700g ssd 1tb ram 16 - # of connections: 3",
          "disco slido ssd interno adata ultimate su650 asu650ss240gtr 240gb negro - # of connections: 1",
          "disco slido ssd interno adata ultimate su650 asu650ss480gtr 480gb negro - # of connections: 1",
          "portatil lenovo amd ryzen 5 5500u ssd 512 hdd 1tb ram 16gb - # of connections: 4",
          "portatil lenovo amd ryzen 5 5500u ssd 512 hdd 1tb ram 12gb - # of connections: 4",
          "portatil lenovo amd ryzen 5 5500u ssd 512 hdd 1tb ram 20gb - # of connections: 2",
          "portatil lenovo amd ryzen 5 5500u ssd 256 hdd 1tb ram 12gb - # of connections: 3",
          "portatil lenovo amd ryzen 5 5500u ssd 256 hdd 1tb ram 8gb - # of connections: 3",
          "torre cpu intel core i5 10400 uhd 630 1tb 16gb pc - # of connections: 1",
          "torre cpu intel core i5 9400 uhd 630 1tb 8gb pc - # of connections: 2",
          "torre cpu gamer ryzen 5 5600g vega 7 1tb 16gb led 22 pc - # of connections: 1",
          "torre cpu gamer ryzen 5 5600g vega 7 1tb 16gb pc - # of connections: 1",
          "mouse juego logitech g series hero g502 negro - # of connections: 2",
          "mouse juego logitech g series hero 16k g502 negro - # of connections: 1",
          "mouse juego logitech g series hero g502 kda - # of connections: 1",
          "pc torre gamer core i5 3470 8gb ram tarjeta video r5 340 2gb - # of connections: 1",
          "pc torre gamer core i3 10100 8 ram tarjeta video r5 340 2gb - # of connections: 1",
          "disco slido ssd interno crucial ct500mx500ssd1 500gb - # of connections: 1",
          "teclado gamer redragon dragonborn k630 qwerty redragon brown ingls us color negro luz rgb - # of connections: 1",
          "teclado gamer redragon dragonborn k630 qwerty redragon brown ingls us color blanco luz rgb - # of connections: 1",
          "mouse inalmbrico logitech m170 negro - # of connections: 3",
          "mouse inalmbrico logitech m170 azul negro - # of connections: 1",
          "mouse inalmbrico logitech m170 rojo negro - # of connections: 1",
          "mouse inalmbrico logitech m170 plateado - # of connections: 1",
          "cpu torre pc intel core i5 10400 ssd 240gb ram 8gb - # of connections: 2",
          "cpu torre pc intel core i5 10400 ssd 240gb ram 16gb - # of connections: 2",
          "cpu torre pc intel core i5 10400 ssd 480gb ram 8gb - # of connections: 2",
          "audfonos gamer kotion g2000 negro rojo luz led - # of connections: 1",
          "audfonos gamer kotion g2000 negro azul luz led - # of connections: 1",
          "impresora color multifuncin canon pixma g3110 wifi negra 110v220v - # of connections: 1",
          "impresora color multifuncin canon pixma g6010 wifi negra 100v240v - # of connections: 1",
          "impresora color multifuncin epson ecotank l3210 negra 110v - # of connections: 2",
          "impresora color multifuncin epson ecotank l3110 negra 110v - # of connections: 3",
          "impresora color multifuncin epson ecotank l3250 wifi negra 110v - # of connections: 4",
          "teclado bluetooth logitech k380 qwerty espaol color negro - # of connections: 1",
          "teclado bluetooth logitech k380 qwerty espaol color rosa - # of connections: 1",
          "torre cpu intel core i3 10100 uhd 630 1tb 8gb pc led 22 - # of connections: 1",
          "torre cpu intel core i3 10100 uhd 630 1tb 8gb pc - # of connections: 2",
          "kit teclado mouse inalmbrico logitech mk470 espaol color negro - # of connections: 2",
          "kit teclado mouse inalmbrico logitech mk540 espaol color negro - # of connections: 3",
          "kit teclado mouse inalmbrico logitech mk295 espaol color negro - # of connections: 2",
          "pc torre gamer amd athlon 3000g ssd 240gb ram 16gb mon 22 - # of connections: 1",
          "pc torre gamer amd athlon 3000g hdd 1tb ram 16gb mon 22 - # of connections: 1",
          "fuente poder pc corsair cv series cv550 550w black 100v240v - # of connections: 2",
          "fuente poder pc corsair cv series cv450 450w black 100v240v - # of connections: 2",
          "fuente poder pc corsair cv series cv650 650w black 100v240v - # of connections: 2",
          "pc torre gamer amd ryzen 5 3600 ssd 1tb ram 16gb monitor 22 - # of connections: 2",
          "pc torre gamer amd ryzen 5 3600 ssd 1tb ram 16gb mon 22 - # of connections: 1",
          "pc torre gamer amd ryzen 5 3600 ssd 480gb ram 16 monitor 22 - # of connections: 1",
          "torre cpu gamer core i7 9700 gpu 2gb hdmi 1tb 16gb pc - # of connections: 4",
          "torre cpu gamer core i7 9700 gpu 2gb hdmi 1tb 16gb led 22 pc - # of connections: 2",
          "torre cpu gamer core i7 9700 gpu 2gb hdmi 1tb 8gb led 22 pc - # of connections: 2",
          "torre cpu gamer core i7 12700 gpu 2gb hdmi 1tb 8gb pc - # of connections: 1",
          "torre cpu gamer core i5 10400 gpu 2gb hdmi 1tb 16gb pc - # of connections: 2",
          "audfonos gamer inalmbricos logitech g series g733 negro luz rgb led - # of connections: 1",
          "audfonos gamer inalmbricos logitech g series g733 kda luz rgb led - # of connections: 1",
          "torre cpu gamer core i3 10100 gpu 2g hdmi 1tb 16gb led 22 pc - # of connections: 1",
          "torre cpu gamer core i5 10400 gpu 2g hdmi 1tb 16gb led 22 pc - # of connections: 2",
          "portatil lenovo idepad3 15al ryzen 55500u 8gb 256 ssd almon - # of connections: 2",
          "portatil lenovo idepad3 15al ryzen 55500u 8gb 256 ssd gris - # of connections: 2",
          "portatil lenovo idepad3 15al ryzen 55500u 8gb 256 ssd blue - # of connections: 2",
          "disco duro externo adata hd710 pro ahd710p2tu31 2tb amarillo - # of connections: 4",
          "disco duro externo adata hd710 pro ahd710p2tu31 2tb azul - # of connections: 5",
          "disco duro externo adata hd710 pro ahd710p2tu31 2tb negro - # of connections: 7",
          "disco duro externo adata hd710 pro ahd710p2tu31 2tb rojo - # of connections: 4",
          "disco duro externo adata hd710 pro ahd710p1tu31 1tb amarillo - # of connections: 3",
          "apc backups pro br1500m2lm 1500va entrada salida 120v negro - # of connections: 1",
          "apc backups pro br br1100m2lm 1100va entrada salida 120v negro - # of connections: 1",
          "portatil hp 245 g7 amd a4 9125 26ghz 1 tera 8gb radeon r3 - # of connections: 1",
          "portatil hp 245 g7 amd a4 9125 26ghz 1 tera 4gb radeon r3 - # of connections: 1",
          "switch tplink tlsf1005d - # of connections: 1",
          "switch tplink tlsf1008d - # of connections: 1",
          "lenovo ideapad ryzen 5 5600h rtx 3050 ram 16gb 512g 120h - # of connections: 1",
          "lenovo ideapad ryzen 5600h rtx 3050 8g 512g 120h portatil - # of connections: 1",
          "porttil dell vostro 3400 i51135g7 16gb ssd 250 1tb win10 - # of connections: 1",
          "porttil dell vostro 14 3400 i51135g7 ram 16gb 1tb win10 - # of connections: 1",
          "tablet samsung galaxy a7 lite smt225 87 red mvil 64gb plateada 4gb memoria ram - # of connections: 3",
          "torre gamer ryzen 5 16gb ram discos1000gb ssd 240 gb - # of connections: 1",
          "torre gamer ryzen 5 16gb ram 1000gb ssd 240 gb - # of connections: 1",
          "audfonos gamer redragon zeus 2 negro - # of connections: 1",
          "audfonos gamer redragon zeus black - # of connections: 1",
          "tableta digitalizadora wacom intuos s bluetooth black - # of connections: 1",
          "tableta digitalizadora wacom intuos m bluetooth black - # of connections: 1",
          "porttil asus x415j intel i5 1035g1 8gb256 gb ssd 14 fhd - # of connections: 1",
          "porttil asus x415j intel i5 1035g1 12gb256gb ssd 14 fhd - # of connections: 1",
          "porttil hp 15ef1005la athlon 3020e 8gb ssd 128gb windows - # of connections: 1",
          "porttil hp 15ef1005la athlon 3020e 4gb ssd 128gb windows - # of connections: 1",
          "switch tplink tlsg1024d - # of connections: 3",
          "switch tplink tlsg108 - # of connections: 5",
          "switch tplink tlsg105 - # of connections: 5",
          "switch tplink tlsg108e - # of connections: 5",
          "mouse juego inalmbrico recargable logitech pro series pro x superlight blanco - # of connections: 1",
          "mouse juego inalmbrico recargable logitech pro series pro x superlight negro - # of connections: 1",
          "cpu torre pc gamer amd ryzen 7 5700g ssd 128 hdd 1tb ram 16 - # of connections: 2",
          "torre cpu amd ryzen 9 5900x gpu hdmi 1tb 16gb pc - # of connections: 2",
          "apple ipad air 109 wifi 64gb gris espacial 4 generacin - # of connections: 1",
          "apple ipad air 109 wifi 256gb gris espacial 4 generacin - # of connections: 1",
          "ereader kindle paperwhite 10 gen 32gb negro pantalla 6 300ppp - # of connections: 3",
          "ereader kindle paperwhite 10 gen 8gb negro pantalla 6 300ppp - # of connections: 3",
          "ereader kindle paperwhite 10 gen 32gb azul pantalla 6 300ppp - # of connections: 3",
          "ereader kindle paperwhite 10 gen 8gb azul pantalla 6 300ppp - # of connections: 3",
          "disco slido ssd interno patriot burst elite pbe120gs25ssdr 120gb - # of connections: 1",
          "disco slido ssd interno patriot pbe120gs25ssdr 120 gb - # of connections: 1",
          "computador porttil asus x543 core i5 256gb ssd 12gb ram - # of connections: 2",
          "computador portatil asus x543 core i5 256gb ssd 8gb ram - # of connections: 1",
          "computador porttil asus x543 core i5 512gb ssd 12 gb ram - # of connections: 1",
          "apple ipad pro 129 wifi 256gb gris espacial 5 generacin - # of connections: 1",
          "apple ipad pro 11 wifi 256gb gris espacial 3 generacin - # of connections: 2",
          "porttil dell 14 3405 ryzen 53450u 16gb 256gb 1tb - # of connections: 2",
          "porttil dell 14 3405 ryzen 53450u 16gb 256 gb ssd - # of connections: 2",
          "porttil dell 14 3405 ryzen 53450u 8gb 256 gb ssd - # of connections: 2",
          "memoria usb sandisk ultra flair 32gb 30 plateado negro - # of connections: 1",
          "memoria usb sandisk ultra flair 64gb 30 plateado negro - # of connections: 1",
          "teclado genius slimstar 126 qwerty espaol color negro - # of connections: 1",
          "teclado genius slimstar 230 qwerty espaol color negro - # of connections: 2",
          "disco duro interno western digital wd purple wd10purz 1tb prpura - # of connections: 5",
          "disco duro interno western digital wd purple wd20purz 2tb prpura - # of connections: 5",
          "disco duro interno western digital wd purple wd80purz 8tb prpura - # of connections: 4",
          "disco duro interno western digital wd purple wd60purz 6tb prpura - # of connections: 3",
          "disco duro interno western digital wd purple wd20purx 2tb prpura - # of connections: 4",
          "disco duro interno western digital wd purple wd40purx 4tb prpura - # of connections: 3",
          "impresora color multifuncin hp deskjet ink advantage 2775 wifi blanca 100v240v - # of connections: 1",
          "impresora color multifuncin hp deskjet ink advantage 2375 blanca verde 100v240v - # of connections: 1",
          "torre cpu gamer athlon 3000g vega 3 1tb 16gb led 22 pc - # of connections: 1",
          "torre cpu gamer athlon 3000g vega 3 1tb 16gb pc - # of connections: 1",
          "disco duro externo adata hd710 pro ahd710p1tu31 1tb negro - # of connections: 7",
          "disco duro externo adata hd710 pro ahd710p1tu31 1tb azul - # of connections: 4",
          "disco duro externo adata hd710 pro ahd710p4tu31 4tb negro - # of connections: 2",
          "disco duro externo adata hd710 pro ahd710p5tu31 5tb negro - # of connections: 2",
          "tablet samsung galaxy a7 lite smt225 87 red mvil 64gb gris 4gb memoria ram - # of connections: 2",
          "porttil asus x513e core i5 1135g7 12 gb 512 ssd iris xe - # of connections: 1",
          "porttil asus x513e core i5 1135g7 20 gb 512 ssd iris xe - # of connections: 1",
          "pc computador gamer amd ryzen 7 5700g ssd 480 hdd 1tb ram 16 - # of connections: 2",
          "pc computador gamer amd ryzen 7 5700g ssd 1tb ram 16gb 22 - # of connections: 2",
          "pc computador gamer amd ryzen 7 5700g ssd 480gb ram 16gb 22 - # of connections: 2",
          "funda portatil protector teclado silicona 14 15 gs - # of connections: 1",
          "protector teclado silicona 14 15 gs - # of connections: 1",
          "tablet samsung galaxy tab s7 fe with s pen smt733 124 128gb mystic silver 6gb memoria ram - # of connections: 1",
          "tablet samsung galaxy tab s7 fe with s pen smt733 124 128gb mystic black 6gb memoria ram - # of connections: 1",
          "nuevo macbook pro 2021 14 pulgadas 16 gb ram 14 nucleos - # of connections: 1",
          "nuevo macbook pro 2021 16 pulgadas 16 gb ram 16 nucleos - # of connections: 1",
          "disco duro externo seagate expansion stea2000400 2tb negro - # of connections: 1",
          "disco duro externo seagate expansion stea4000400 4tb negro - # of connections: 1",
          "disco slido ssd interno adata ultimate su650 asu650ns38240gtc 240gb - # of connections: 2",
          "disco slido ssd interno adata ultimate su650 asu650ns38480gtc 480gb - # of connections: 1",
          "disco slido ssd interno adata ultimate su650 asu650ns38120gtc 120gb - # of connections: 1",
          "base soporte porttil ergonmicareclinable 7 niveles - # of connections: 1",
          "base soporte porttil ergonmica reclinable 6 niveles - # of connections: 1",
          "audfonos gamer logitech g series g335 negro - # of connections: 2",
          "audfonos gamer logitech g series g335 mint - # of connections: 2",
          "audfonos gamer logitech g series g335 blanco - # of connections: 2",
          "torre gamer i5 10400 board b460 grafica doble disco - # of connections: 2",
          "torre gamer i5 10400 disco ssd board b460 grafica - # of connections: 2",
          "torre gamer i5 10400 disco ssd240 board b460 grafica - # of connections: 2",
          "impresora color simple funcin epson surecolor f170 wifi blanca 100v240v - # of connections: 1",
          "impresora color simple funcin epson surecolor t3170 wifi blanca 110v240v - # of connections: 1",
          "impresora color multifuncin epson ecotank l4160 wifi negra 110v - # of connections: 3",
          "ups chicago digital power rseries rupr508 500va entrada salida 120v ca negro - # of connections: 1",
          "ups chicago digital power rseries rupr758 750va entrada salida 120v ca negro - # of connections: 1",
          "impresora color multifuncin epson ecotank l5190 wifi negra 110v220v - # of connections: 2",
          "audfonos gamer kotion each g4000 negro rojo - # of connections: 1",
          "audfonos gamer kotion each g4000 negro azul - # of connections: 1",
          "memoria ram valueram color verde 2gb 1 kingston kvr1333d3n92g - # of connections: 1",
          "memoria ram valueram color verde 8gb 1 kingston kvr1333d3n98g - # of connections: 1",
          "apple ipad air 109 wifi 64gb verde 4 generacin - # of connections: 1",
          "apple ipad air 109 wifi 64gb plata 4 generacin - # of connections: 2",
          "porttil lenovo ideapad 3 ryzen 3 4300u 12gb 1tb 250gb win - # of connections: 1",
          "porttil lenovo ideapad 3 ryzen 3 4300u 8gb 1tb windows 10 - # of connections: 1",
          "cable utp cat 6 gigabit red internet ponchado x 20 metros - # of connections: 2",
          "cable utp cat 6 gigabit red internet ponchado x 10 metros - # of connections: 2",
          "cable utp cat 6 gigabit red internet ponchado x 15 metros - # of connections: 2",
          "porttil hp 15 pavilion 8gb 512gb ssd windows 10 obsequio - # of connections: 1",
          "porttil hp 15 pavilion 8gb 512gb ssd windows 11 obsequio - # of connections: 1",
          "audfonos gamer kotion each g9000 black red - # of connections: 1",
          "audfonos gamer kotion each g9000 black blue - # of connections: 1",
          "switch tplink tlsg1016d - # of connections: 4",
          "switch tplink tlsg105e - # of connections: 4",
          "switch linksys se3005 - # of connections: 1",
          "switch linksys se3008 - # of connections: 1",
          "portatil dell 3501 intel core i3 1115g4 ram 12gb 1tb 240gb - # of connections: 1",
          "portatil dell 3501 intel core i3 1115g4 ram 8gb 1tb 240gb - # of connections: 1",
          "kindle amazon luz integrada 6pulg 10ma gen 8gb blanco - # of connections: 1",
          "kindle amazon luz integrada 6pulg 10ma gen 8gb negra - # of connections: 1",
          "teclado gamer genius scorpion k215 qwerty espaol color negro luz 7 colores - # of connections: 1",
          "teclado gamer genius gx gaming scorpion k220 qwerty espaol color negro luz 7 colores - # of connections: 1",
          "kit teclado mouse gamer redragon k551rgbba espaol latinoamrica color negro - # of connections: 1",
          "kit teclado mouse gamer redragon k552rgbba espaol latinoamrica color negro - # of connections: 1",
          "apple ipad pro 11 wifi 128gb gris espacial 3 generacin - # of connections: 1",
          "apple ipad air 109 wifi 64gb oro rosa 4 generacin - # of connections: 1",
          "portatil lenovo v14 are ryzen 7 12gb 1tb freedos 14 - # of connections: 2",
          "portatil lenovo v14 are ryzen 7 8gb 1tbssd 512gb freedos 14 - # of connections: 2",
          "portatil lenovo v14 are ryzen 7 12gb 1tbssd 512gb freedos14 - # of connections: 2",
          "computador portatil lenovo amd 3020e 8gb ram 1tera 128ssd - # of connections: 1",
          "computador portatil lenovo amd 3020e 8gb ram 1tera 250ssd - # of connections: 1",
          "memoria usb sandisk ultra fit 32gb 31 gen 1 negro - # of connections: 1",
          "memoria usb sandisk ultra fit 64gb 31 gen 1 negro - # of connections: 1",
          "memoria usb sandisk ultra dual drive go 128gb 31 gen 1 negro plateado - # of connections: 2",
          "memoria usb sandisk ultra dual drive typec 128gb 31 gen 1 negro plateado - # of connections: 2",
          "memoria usb sandisk ultra dual drive typec 64gb 31 gen 1 negro plateado - # of connections: 2",
          "mouse inalmbrico microsoft wireless mobile 1850 azul oscuro - # of connections: 1",
          "mouse inalmbrico microsoft wireless mobile 1850 magenta - # of connections: 1",
          "portatil hp intel i3 10110u ssd 256gb ram 12gb led 14 win10 - # of connections: 1",
          "portatil hp intel i3 10110u ssd 256gb ram 8gb led 14 win10 - # of connections: 1",
          "tableta digitalizadora wacom intuos s bluetooth pistachio green - # of connections: 1",
          "tableta digitalizadora wacom intuos m bluetooth pistachio green - # of connections: 1",
          "base gamer refrigerante porttil 5 niveles 1 ventilador - # of connections: 1",
          "base gamer refrigerante porttil 5 niveles 2ventiladores - # of connections: 1",
          "teclado genius slimstar 230 qwerty espaol color blanco - # of connections: 1",
          "disco duro externo toshiba 1tb tera estuche antigolpe new - # of connections: 1",
          "disco duro externo toshiba 1tb tera estuche antigolpe - # of connections: 1",
          "porttil lenovo ryzen 5 16gb 512gb ssd legin 5 156 gris - # of connections: 2",
          "porttil lenovo ryzen 7 16gb 512gb ssd legin 5 156 - # of connections: 1",
          "porttil lenovo intel ci7 16gb 512gb ssd legin 5 156 gris - # of connections: 1"
         ],
         "type": "scatter",
         "x": [
          -0.4018895958795433,
          -0.41430088022546774,
          -0.3970697783844047,
          -0.4853085086771327,
          -0.4879772109588859,
          -0.49767299394057574,
          -0.502141149613307,
          -0.3990390632958748,
          -0.39307209273917126,
          -0.41138253578968237,
          -0.49553773002923773,
          -0.501354285622552,
          0.7748010335537706,
          0.7446733898528808,
          0.6013569407252759,
          0.5950330199844304,
          0.5766437710742363,
          -0.7559270994244872,
          -0.7672113898823154,
          -0.7870774743949998,
          -0.74592108462005,
          -0.5115791452163797,
          -0.5116526216809196,
          -0.4985488586959522,
          -0.486926287815066,
          -0.519393264471665,
          -0.49189895607369977,
          -0.48381005994266657,
          -0.548588572253032,
          0.2470203005451749,
          0.2323343493000167,
          0.24786097808018473,
          0.21747202367292012,
          0.21476009287540967,
          0.23005486512200515,
          0.8183152488086328,
          0.836999244922618,
          0.8525012807143545,
          0.8629911962762324,
          -0.026972700977311893,
          -0.011425935470672935,
          -0.008668016562777422,
          -0.024157609780237895,
          -0.5316279083292029,
          -0.5491337317737026,
          -0.5510454853051768,
          0.9037979381018646,
          0.8857645023562055,
          -0.696577567589042,
          -0.7135922600774174,
          0.5443936704916812,
          0.5209622241850796,
          0.5324011370195666,
          0.11893405639445741,
          0.10479465983469469,
          0.131540233414627,
          -0.5749235568440627,
          -0.6014841173580763,
          -0.15594052936799044,
          -0.15929296140315433,
          -0.1392341042313386,
          -0.17800944733903457,
          -0.3639325376454578,
          -0.34801985624672277,
          -0.8948799805138973,
          -0.9232140614086389,
          -0.7443525647932693,
          -0.7602345838572077,
          -0.7290904442202951,
          -0.07176023109137149,
          -0.07638530039304733,
          -0.6894012894572994,
          -0.6640563598389319,
          0.006968829465072828,
          -0.003704642697287883,
          0.2159114927960968,
          0.23224093378817184,
          0.19587250809320467,
          0.6495590883108471,
          0.6804118648558027,
          0.650718242564895,
          0.6480295361812033,
          0.7135187176132676,
          0.7319406464942682,
          0.6682977973392689,
          0.13474011262331415,
          0.1381744353447329,
          0.1310870906087187,
          -0.6725714315038251,
          -0.6546737040294324,
          0.01811582790588834,
          0.0024841875621885766,
          0.006674786208859832,
          -0.2634696490748541,
          -0.2706596656923697,
          0.44338404200055265,
          0.4604048781333917,
          0.4545688005028823,
          0.4626026922084161,
          0.4669058332507243,
          0.44421069666356666,
          0.4507898635121368,
          0.44420884088979307,
          0.7994303424592211,
          0.8116296254213821,
          0.8211781886364415,
          -0.8268742526080518,
          -0.8489316846786357,
          -0.6769856900194425,
          -0.6839990549284793,
          -0.6971146842402507,
          -0.6836839366984756,
          -0.6943292943724494,
          0.30117674733179767,
          0.32007712000552974,
          -0.2367878007454346,
          -0.24573940440030695,
          0.5766090285567858,
          0.594897319350688,
          0.5526341920734457,
          -0.5117131627589614,
          -0.5285332643006082,
          -0.36134831392010464,
          0.6637105948174241,
          0.695562505864048,
          0.9321856089766425,
          0.9388992599491216,
          0.9378548844182777,
          0.9665257366208805,
          0.20852882589058924,
          0.21310022119119137,
          0.2257041528886606,
          0.6498127674400356,
          0.6322322217857933,
          0.03060297953155061,
          0.014378144729306024,
          -0.7181541826746172,
          -0.6998793705240954,
          -0.6891873041265487,
          -0.9405632993433856,
          -0.9334420481232574,
          0.35034541431093147,
          0.34193181475158724,
          -0.527209031121446,
          -0.5069984662030773,
          -0.49737477724841606,
          -0.814303216930887,
          -0.8501264055542107,
          -0.30217139531960685,
          -0.28339145064997806,
          -0.29219095223518327,
          0.4697801357359868,
          0.48517151050583435,
          0.4855252641731478,
          0.26101363022758994,
          0.266525969416481,
          0.2509309382640453,
          0.2884840083727685,
          0.26038308369932933,
          -0.4644251265274163,
          -0.48587853313318796,
          0.2757683622781664,
          0.26605196347099525,
          -0.7584688276638294,
          -0.7704704169078808,
          -0.7427489350340561,
          -0.051863278759080464,
          -0.0603211019422644,
          -0.07759846034802834,
          -0.06292974607938234,
          -0.06251913883725327,
          -0.26202351819841585,
          -0.27513012240243173,
          0.8953476640121022,
          0.8564487218537463,
          -0.11076449328167497,
          -0.11475739442107269,
          -0.7210702913624244,
          -0.6986683422938075,
          0.37044784405389547,
          0.35287152481417405,
          0.6682773975530042,
          -0.3911978368044837,
          -0.40399260950160704,
          0.44886238651029214,
          0.4357044025568453,
          0.5577137518874369,
          0.578041437271048,
          0.4378317740310745,
          0.41058765587062557,
          -0.15590669975957083,
          -0.16858168277318017,
          -0.13627351140676633,
          -0.14602868911387742,
          -0.12833096093281252,
          -0.13486377453352363,
          -0.829199097624524,
          -0.8476274450457327,
          0.8427822003476451,
          -0.18259987855029455,
          0.42491204985027337,
          0.4230053974866725,
          0.7977575513738263,
          0.7650989203260543,
          0.77750512535861,
          0.7844120641289122,
          -0.8415848326525235,
          -0.8346689688476202,
          -0.28447867617421807,
          -0.26756326750628057,
          -0.3052431422635952,
          0.3718668704258111,
          0.35860317817948845,
          0.24149569212262748,
          0.22540062083246856,
          0.23600996930115334,
          -0.8429426819330341,
          -0.8687737468682757,
          0.5026319065634375,
          0.5005021409673389,
          0.11100940232532606,
          0.09534887309147937,
          0.10994360626051279,
          0.10329964854918404,
          0.0965319670442106,
          0.10306538294988267,
          0.8949173765612989,
          0.8548793991264442,
          -0.08918616643760587,
          -0.0875159538403659,
          -0.0813732355843068,
          -0.07263171032041224,
          -0.10107729371212329,
          -0.1043013294091258,
          0.661795001132234,
          -0.14965573839717336,
          -0.15656878089669737,
          0.049460032664947945,
          0.042571844051940595,
          0.04524738562866856,
          -0.4991188481419921,
          -0.516602758742809,
          0.9215324026322568,
          0.8840124586345487,
          0.7618537094986991,
          0.7273975702741786,
          0.7445320163205739,
          0.7628959288635407,
          -0.7598492118812236,
          -0.7826969028621964,
          -0.7268903043031593,
          0.5657432965174081,
          0.5837825361367988,
          0.7511877769313143,
          0.740126231538848,
          0.7649638316520844,
          0.501498426699098,
          0.5117692811559188,
          0.525333547395565,
          -0.8978036977984174,
          -0.9110439344693857,
          -0.6753745770335765,
          -0.29655473664966375,
          -0.3059396847842058,
          -0.6741983672268796,
          -0.9669832712949058,
          -0.9529823237516424,
          0.4947606591086489,
          0.5130708153061927,
          0.2682648306838441,
          0.2506694613034154,
          -0.16134329637138026,
          -0.15173504208354055,
          -0.6121134042913835,
          -0.5843441483745132,
          -0.6043505492882956,
          -0.7524136993248901,
          -0.739315509950252,
          0.804940833691626,
          0.8350335316124659,
          -0.1302171857382839,
          -0.14692322413698272,
          -0.023541218910361827,
          -0.041483845761434435,
          -0.1549009527021692,
          -0.15192650585482276,
          0.6744927725907253,
          0.6439461775209235,
          0.3414574169787904,
          0.3263577681721651,
          0.6361155754362386,
          0.6108307468451133,
          0.3454442746645885,
          0.23060411900840114,
          -0.14273136130861472,
          -0.12333765025644608,
          -0.13744855212568133,
          0.05522249861958038,
          0.05220124478159974,
          -0.8541298737557035,
          -0.8949525225773426,
          0.6831555350954982,
          0.7045655809655632,
          0.7017273146104558,
          0.9108258739309596,
          0.8893675583770592,
          -0.5686842378761574,
          -0.5471311015453845,
          -0.5068753098584895,
          -0.5214233497741554,
          -0.8455185023878499,
          -0.8832680415640762,
          0.4995883032461935,
          -1,
          -0.9594062109919663,
          0.44900754802220905,
          0.432479175945569,
          0.46734740885564363
         ],
         "y": [
          -0.6347538085189093,
          -0.6610488124286573,
          -0.6512242329819842,
          0.07462446221283495,
          0.05915441910814539,
          0.05361633692950576,
          0.07105724917272661,
          0.6165987009150675,
          0.5988813571616467,
          0.6360129746511433,
          -0.8084668931637505,
          -0.8262949718290493,
          -0.15050284751345733,
          -0.14768228223867474,
          0.7949625604076369,
          0.7810190071649751,
          0.7606161895677125,
          -0.21390447687478617,
          -0.23001812110961015,
          -0.22525256667495586,
          -0.19453521815144825,
          0.05476056739866097,
          0.3852860800059085,
          0.3723916768088778,
          0.38704868528246344,
          0.415243062158284,
          0.3962095835968013,
          0.3711114822854955,
          0.38703351334365155,
          0.806850771885866,
          0.7992418925373613,
          0.8301264517925929,
          -0.8147773101385667,
          -0.8419640476791276,
          -0.8419772650314354,
          0.24717201711978867,
          0.24859009809751628,
          0.2607722141912908,
          0.253934386386562,
          -0.5750043300204088,
          -0.5733746626435224,
          -0.5879814143423792,
          -0.5919503823251244,
          -0.45315509324943903,
          -0.44849170462755794,
          -0.46713329340045834,
          0.2629372802343242,
          0.26590488713996707,
          -0.6137981782310442,
          -0.6268940587281642,
          0.5597799189615278,
          0.5492237859979878,
          0.5380945789840365,
          0.9384105812976029,
          0.9575700019232615,
          0.9654262008807699,
          0.6463516569622104,
          0.6759040050302808,
          -0.3476627563105243,
          -0.32640912826103946,
          -0.3330703087713533,
          -0.3583515729880046,
          -0.7968654820901065,
          -0.7796820815621337,
          0.2229187389945384,
          0.23024712956615814,
          0.5349852588991738,
          0.5556937798231185,
          0.53482162556728,
          0.9677312037173162,
          0.9866660962241895,
          0.6475716203930352,
          0.6226034818954639,
          0.8467955992519959,
          0.8625459402250649,
          0.8947761132795371,
          0.9114006673779639,
          0.8884430520820328,
          0.3133442367707991,
          0.3294686339554594,
          0.33270953858651464,
          0.28395066822902815,
          -0.48737274820604315,
          -0.4844427896658534,
          0.3136326671537075,
          -0.8856962418908074,
          -0.9117586775750544,
          -0.85390285095546,
          -0.5062810845298337,
          -0.4919330465090632,
          -0.8664731523400461,
          -0.8635447322545368,
          -0.8443018820970719,
          -0.8828487466264154,
          -0.9062070757206125,
          0.042712475751529345,
          0.04243975070855377,
          0.06490835445434527,
          0.05984064183045856,
          0.051024854903588567,
          0.06297093622343847,
          0.04698424811018549,
          0.054053617657900066,
          -0.034935533992559484,
          -0.020454699326309094,
          -0.03327749651106385,
          0.03816977700459381,
          0.04046712415505262,
          -0.025680318977880902,
          -0.0329661536770725,
          -0.0452353122660157,
          -0.008507307339284696,
          -0.016913230675804643,
          -0.8960876125704283,
          -0.884115052867954,
          -0.7181821963825982,
          -0.748991059433786,
          -0.5754781248721059,
          -0.5858131596664875,
          -0.5542663501400532,
          0.7160649204243519,
          0.7336038953648409,
          -0.8206502851268365,
          -0.6384377654328619,
          -0.665975433160351,
          -0.0800508928185231,
          -0.05784816593117986,
          -0.10276914480269485,
          -0.08191801405044988,
          -0.6998329299556036,
          -0.7203313053605048,
          -0.7067568885102136,
          -0.6663316497403945,
          -0.668048594463154,
          -0.7960461630026078,
          -0.7857898546096427,
          -0.34251071740300293,
          -0.3482166400789871,
          -0.3307457288391315,
          0.018964307779650358,
          0.03603855783624823,
          -0.8515880631347938,
          -0.8736760349764543,
          0.4364540426981785,
          0.41755619772053604,
          0.42856599090820285,
          0.1611200250959001,
          0.16764829310354168,
          0.7354299880453213,
          0.7225855170309613,
          0.7484102479673738,
          0.24851624176357118,
          0.23390264962831597,
          0.2715439502708007,
          0.0041537541995566715,
          -0.023288080138652058,
          -0.020299329585206246,
          -0.004625278205943359,
          0.04204904325615421,
          -0.7144680063163314,
          -0.7478720770409767,
          0.1022851520388332,
          0.07604586584888769,
          0.27995098646717126,
          0.295889200481835,
          0.2874177437582759,
          0.12037214159199139,
          0.1109520746531515,
          0.10876403857748101,
          0.0979137277244635,
          0.14246586967348232,
          0.905970941280757,
          0.9449545889442514,
          -0.5019314226396191,
          -0.4823282329271547,
          -0.9547780025337042,
          -0.9733420159953285,
          -0.4274103513105093,
          -0.4172070880735289,
          0.8318309353750797,
          0.7958758556846915,
          0.28537190273381163,
          0.8072968756810278,
          0.8321410685572896,
          -0.6293059236683781,
          -0.6111731933077575,
          -0.7106148120215735,
          -0.7392981146135686,
          -0.7684461028147136,
          -0.769423267443391,
          0.8198643928002368,
          0.8068602811294192,
          0.4491551121640776,
          0.43215809481996525,
          0.43288998560087394,
          0.4240343134059517,
          0.3778054517943302,
          0.38672156221391407,
          -0.022668848750361743,
          -0.3371396889700483,
          -0.7895224185006409,
          -0.7639379571163055,
          -0.26721397334737773,
          -0.26479397179375636,
          -0.2560787522693602,
          -0.2748601202406582,
          -0.35354446939133916,
          -0.3364911161117717,
          0.8277803867429901,
          0.8098386822631014,
          0.8274219016104942,
          0.7117431178555955,
          0.6816931005974894,
          0.7325520925714047,
          0.7239236314710039,
          0.7505321263426386,
          -0.07624038147581466,
          -0.07395736552671026,
          -0.30980313730885556,
          -0.28857947902955994,
          0.08981121403781016,
          0.08450308105618919,
          0.07744287680900039,
          0.06448341166633194,
          0.0985886030948539,
          0.11051494048755697,
          -0.21681100546880502,
          -0.20775284934345029,
          0.8110817041509676,
          0.7855288725491925,
          0.11892294552630693,
          0.13164049298721547,
          0.10029872917661527,
          0.12345068845561454,
          0.2647026730404301,
          -0.8022536657582044,
          -0.8332807809115881,
          0.8776211492048462,
          0.8602988067558266,
          0.8979401810132669,
          -0.6130913438172076,
          -0.6353252629709261,
          0.07365565639020286,
          0.06844757540429025,
          0.42561273393680765,
          0.4049809567527638,
          -0.5736851341704876,
          -0.5724040232296319,
          0.4549118313428874,
          0.4657107205795714,
          0.4369512083863611,
          0.45730253941384724,
          0.46109172686352495,
          0.6497901734976032,
          0.628711016467782,
          0.6407081552001695,
          0.6258444352954884,
          0.6497747092489904,
          0.642138514528076,
          -0.10557847643743995,
          -0.11735532807664117,
          -0.3412498041637099,
          -0.6594553112022706,
          -0.6813373879412552,
          -0.32191653588459235,
          -0.16674303310392868,
          -0.15469791809112024,
          -0.6916565388368671,
          -0.7211911972350891,
          -0.4641600757428904,
          -0.44377602086954243,
          0.9005159381785781,
          0.9160100992688375,
          -0.701029984583021,
          -0.6676884541497391,
          -0.6890290847635007,
          -0.5204770587178815,
          -0.5336434425470499,
          -0.3537675331099068,
          -0.36532528291010746,
          0.41217655187904795,
          0.4146616942740837,
          -0.8733674093483991,
          -0.8713645445436409,
          -0.7243307021860812,
          -0.7001245387260661,
          0.5827504313861505,
          0.5588594960707198,
          -0.7545940444593278,
          -0.7455122510260481,
          -0.48136030725007256,
          -0.46272971337073904,
          0.6525852105618773,
          -0.44712233150553077,
          -0.17839564766967217,
          -0.17021409841685495,
          -0.1591694737012964,
          0.7554564374746147,
          0.7274125367944373,
          0.30670803849348144,
          0.3216446929705587,
          -0.3688409857981595,
          -0.38180612363540656,
          -0.3644447613024772,
          0.4216258240040241,
          0.4121259411640225,
          -0.5631854296445683,
          -0.5431669485182382,
          0.7849176455182686,
          0.8034134942700754,
          -0.2379268547411182,
          -0.24995127549135004,
          -0.2673842532511157,
          0.13272214438236218,
          0.1268893765005186,
          0.7337519883435508,
          0.7130447169690818,
          0.7271235396845206
         ]
        }
       ],
       "layout": {
        "hovermode": "closest",
        "margin": {
         "b": 20,
         "l": 5,
         "r": 5,
         "t": 40
        },
        "showlegend": false,
        "template": {
         "data": {
          "bar": [
           {
            "error_x": {
             "color": "#2a3f5f"
            },
            "error_y": {
             "color": "#2a3f5f"
            },
            "marker": {
             "line": {
              "color": "#E5ECF6",
              "width": 0.5
             },
             "pattern": {
              "fillmode": "overlay",
              "size": 10,
              "solidity": 0.2
             }
            },
            "type": "bar"
           }
          ],
          "barpolar": [
           {
            "marker": {
             "line": {
              "color": "#E5ECF6",
              "width": 0.5
             },
             "pattern": {
              "fillmode": "overlay",
              "size": 10,
              "solidity": 0.2
             }
            },
            "type": "barpolar"
           }
          ],
          "carpet": [
           {
            "aaxis": {
             "endlinecolor": "#2a3f5f",
             "gridcolor": "white",
             "linecolor": "white",
             "minorgridcolor": "white",
             "startlinecolor": "#2a3f5f"
            },
            "baxis": {
             "endlinecolor": "#2a3f5f",
             "gridcolor": "white",
             "linecolor": "white",
             "minorgridcolor": "white",
             "startlinecolor": "#2a3f5f"
            },
            "type": "carpet"
           }
          ],
          "choropleth": [
           {
            "colorbar": {
             "outlinewidth": 0,
             "ticks": ""
            },
            "type": "choropleth"
           }
          ],
          "contour": [
           {
            "colorbar": {
             "outlinewidth": 0,
             "ticks": ""
            },
            "colorscale": [
             [
              0,
              "#0d0887"
             ],
             [
              0.1111111111111111,
              "#46039f"
             ],
             [
              0.2222222222222222,
              "#7201a8"
             ],
             [
              0.3333333333333333,
              "#9c179e"
             ],
             [
              0.4444444444444444,
              "#bd3786"
             ],
             [
              0.5555555555555556,
              "#d8576b"
             ],
             [
              0.6666666666666666,
              "#ed7953"
             ],
             [
              0.7777777777777778,
              "#fb9f3a"
             ],
             [
              0.8888888888888888,
              "#fdca26"
             ],
             [
              1,
              "#f0f921"
             ]
            ],
            "type": "contour"
           }
          ],
          "contourcarpet": [
           {
            "colorbar": {
             "outlinewidth": 0,
             "ticks": ""
            },
            "type": "contourcarpet"
           }
          ],
          "heatmap": [
           {
            "colorbar": {
             "outlinewidth": 0,
             "ticks": ""
            },
            "colorscale": [
             [
              0,
              "#0d0887"
             ],
             [
              0.1111111111111111,
              "#46039f"
             ],
             [
              0.2222222222222222,
              "#7201a8"
             ],
             [
              0.3333333333333333,
              "#9c179e"
             ],
             [
              0.4444444444444444,
              "#bd3786"
             ],
             [
              0.5555555555555556,
              "#d8576b"
             ],
             [
              0.6666666666666666,
              "#ed7953"
             ],
             [
              0.7777777777777778,
              "#fb9f3a"
             ],
             [
              0.8888888888888888,
              "#fdca26"
             ],
             [
              1,
              "#f0f921"
             ]
            ],
            "type": "heatmap"
           }
          ],
          "heatmapgl": [
           {
            "colorbar": {
             "outlinewidth": 0,
             "ticks": ""
            },
            "colorscale": [
             [
              0,
              "#0d0887"
             ],
             [
              0.1111111111111111,
              "#46039f"
             ],
             [
              0.2222222222222222,
              "#7201a8"
             ],
             [
              0.3333333333333333,
              "#9c179e"
             ],
             [
              0.4444444444444444,
              "#bd3786"
             ],
             [
              0.5555555555555556,
              "#d8576b"
             ],
             [
              0.6666666666666666,
              "#ed7953"
             ],
             [
              0.7777777777777778,
              "#fb9f3a"
             ],
             [
              0.8888888888888888,
              "#fdca26"
             ],
             [
              1,
              "#f0f921"
             ]
            ],
            "type": "heatmapgl"
           }
          ],
          "histogram": [
           {
            "marker": {
             "pattern": {
              "fillmode": "overlay",
              "size": 10,
              "solidity": 0.2
             }
            },
            "type": "histogram"
           }
          ],
          "histogram2d": [
           {
            "colorbar": {
             "outlinewidth": 0,
             "ticks": ""
            },
            "colorscale": [
             [
              0,
              "#0d0887"
             ],
             [
              0.1111111111111111,
              "#46039f"
             ],
             [
              0.2222222222222222,
              "#7201a8"
             ],
             [
              0.3333333333333333,
              "#9c179e"
             ],
             [
              0.4444444444444444,
              "#bd3786"
             ],
             [
              0.5555555555555556,
              "#d8576b"
             ],
             [
              0.6666666666666666,
              "#ed7953"
             ],
             [
              0.7777777777777778,
              "#fb9f3a"
             ],
             [
              0.8888888888888888,
              "#fdca26"
             ],
             [
              1,
              "#f0f921"
             ]
            ],
            "type": "histogram2d"
           }
          ],
          "histogram2dcontour": [
           {
            "colorbar": {
             "outlinewidth": 0,
             "ticks": ""
            },
            "colorscale": [
             [
              0,
              "#0d0887"
             ],
             [
              0.1111111111111111,
              "#46039f"
             ],
             [
              0.2222222222222222,
              "#7201a8"
             ],
             [
              0.3333333333333333,
              "#9c179e"
             ],
             [
              0.4444444444444444,
              "#bd3786"
             ],
             [
              0.5555555555555556,
              "#d8576b"
             ],
             [
              0.6666666666666666,
              "#ed7953"
             ],
             [
              0.7777777777777778,
              "#fb9f3a"
             ],
             [
              0.8888888888888888,
              "#fdca26"
             ],
             [
              1,
              "#f0f921"
             ]
            ],
            "type": "histogram2dcontour"
           }
          ],
          "mesh3d": [
           {
            "colorbar": {
             "outlinewidth": 0,
             "ticks": ""
            },
            "type": "mesh3d"
           }
          ],
          "parcoords": [
           {
            "line": {
             "colorbar": {
              "outlinewidth": 0,
              "ticks": ""
             }
            },
            "type": "parcoords"
           }
          ],
          "pie": [
           {
            "automargin": true,
            "type": "pie"
           }
          ],
          "scatter": [
           {
            "marker": {
             "colorbar": {
              "outlinewidth": 0,
              "ticks": ""
             }
            },
            "type": "scatter"
           }
          ],
          "scatter3d": [
           {
            "line": {
             "colorbar": {
              "outlinewidth": 0,
              "ticks": ""
             }
            },
            "marker": {
             "colorbar": {
              "outlinewidth": 0,
              "ticks": ""
             }
            },
            "type": "scatter3d"
           }
          ],
          "scattercarpet": [
           {
            "marker": {
             "colorbar": {
              "outlinewidth": 0,
              "ticks": ""
             }
            },
            "type": "scattercarpet"
           }
          ],
          "scattergeo": [
           {
            "marker": {
             "colorbar": {
              "outlinewidth": 0,
              "ticks": ""
             }
            },
            "type": "scattergeo"
           }
          ],
          "scattergl": [
           {
            "marker": {
             "colorbar": {
              "outlinewidth": 0,
              "ticks": ""
             }
            },
            "type": "scattergl"
           }
          ],
          "scattermapbox": [
           {
            "marker": {
             "colorbar": {
              "outlinewidth": 0,
              "ticks": ""
             }
            },
            "type": "scattermapbox"
           }
          ],
          "scatterpolar": [
           {
            "marker": {
             "colorbar": {
              "outlinewidth": 0,
              "ticks": ""
             }
            },
            "type": "scatterpolar"
           }
          ],
          "scatterpolargl": [
           {
            "marker": {
             "colorbar": {
              "outlinewidth": 0,
              "ticks": ""
             }
            },
            "type": "scatterpolargl"
           }
          ],
          "scatterternary": [
           {
            "marker": {
             "colorbar": {
              "outlinewidth": 0,
              "ticks": ""
             }
            },
            "type": "scatterternary"
           }
          ],
          "surface": [
           {
            "colorbar": {
             "outlinewidth": 0,
             "ticks": ""
            },
            "colorscale": [
             [
              0,
              "#0d0887"
             ],
             [
              0.1111111111111111,
              "#46039f"
             ],
             [
              0.2222222222222222,
              "#7201a8"
             ],
             [
              0.3333333333333333,
              "#9c179e"
             ],
             [
              0.4444444444444444,
              "#bd3786"
             ],
             [
              0.5555555555555556,
              "#d8576b"
             ],
             [
              0.6666666666666666,
              "#ed7953"
             ],
             [
              0.7777777777777778,
              "#fb9f3a"
             ],
             [
              0.8888888888888888,
              "#fdca26"
             ],
             [
              1,
              "#f0f921"
             ]
            ],
            "type": "surface"
           }
          ],
          "table": [
           {
            "cells": {
             "fill": {
              "color": "#EBF0F8"
             },
             "line": {
              "color": "white"
             }
            },
            "header": {
             "fill": {
              "color": "#C8D4E3"
             },
             "line": {
              "color": "white"
             }
            },
            "type": "table"
           }
          ]
         },
         "layout": {
          "annotationdefaults": {
           "arrowcolor": "#2a3f5f",
           "arrowhead": 0,
           "arrowwidth": 1
          },
          "autotypenumbers": "strict",
          "coloraxis": {
           "colorbar": {
            "outlinewidth": 0,
            "ticks": ""
           }
          },
          "colorscale": {
           "diverging": [
            [
             0,
             "#8e0152"
            ],
            [
             0.1,
             "#c51b7d"
            ],
            [
             0.2,
             "#de77ae"
            ],
            [
             0.3,
             "#f1b6da"
            ],
            [
             0.4,
             "#fde0ef"
            ],
            [
             0.5,
             "#f7f7f7"
            ],
            [
             0.6,
             "#e6f5d0"
            ],
            [
             0.7,
             "#b8e186"
            ],
            [
             0.8,
             "#7fbc41"
            ],
            [
             0.9,
             "#4d9221"
            ],
            [
             1,
             "#276419"
            ]
           ],
           "sequential": [
            [
             0,
             "#0d0887"
            ],
            [
             0.1111111111111111,
             "#46039f"
            ],
            [
             0.2222222222222222,
             "#7201a8"
            ],
            [
             0.3333333333333333,
             "#9c179e"
            ],
            [
             0.4444444444444444,
             "#bd3786"
            ],
            [
             0.5555555555555556,
             "#d8576b"
            ],
            [
             0.6666666666666666,
             "#ed7953"
            ],
            [
             0.7777777777777778,
             "#fb9f3a"
            ],
            [
             0.8888888888888888,
             "#fdca26"
            ],
            [
             1,
             "#f0f921"
            ]
           ],
           "sequentialminus": [
            [
             0,
             "#0d0887"
            ],
            [
             0.1111111111111111,
             "#46039f"
            ],
            [
             0.2222222222222222,
             "#7201a8"
            ],
            [
             0.3333333333333333,
             "#9c179e"
            ],
            [
             0.4444444444444444,
             "#bd3786"
            ],
            [
             0.5555555555555556,
             "#d8576b"
            ],
            [
             0.6666666666666666,
             "#ed7953"
            ],
            [
             0.7777777777777778,
             "#fb9f3a"
            ],
            [
             0.8888888888888888,
             "#fdca26"
            ],
            [
             1,
             "#f0f921"
            ]
           ]
          },
          "colorway": [
           "#636efa",
           "#EF553B",
           "#00cc96",
           "#ab63fa",
           "#FFA15A",
           "#19d3f3",
           "#FF6692",
           "#B6E880",
           "#FF97FF",
           "#FECB52"
          ],
          "font": {
           "color": "#2a3f5f"
          },
          "geo": {
           "bgcolor": "white",
           "lakecolor": "white",
           "landcolor": "#E5ECF6",
           "showlakes": true,
           "showland": true,
           "subunitcolor": "white"
          },
          "hoverlabel": {
           "align": "left"
          },
          "hovermode": "closest",
          "mapbox": {
           "style": "light"
          },
          "paper_bgcolor": "white",
          "plot_bgcolor": "#E5ECF6",
          "polar": {
           "angularaxis": {
            "gridcolor": "white",
            "linecolor": "white",
            "ticks": ""
           },
           "bgcolor": "#E5ECF6",
           "radialaxis": {
            "gridcolor": "white",
            "linecolor": "white",
            "ticks": ""
           }
          },
          "scene": {
           "xaxis": {
            "backgroundcolor": "#E5ECF6",
            "gridcolor": "white",
            "gridwidth": 2,
            "linecolor": "white",
            "showbackground": true,
            "ticks": "",
            "zerolinecolor": "white"
           },
           "yaxis": {
            "backgroundcolor": "#E5ECF6",
            "gridcolor": "white",
            "gridwidth": 2,
            "linecolor": "white",
            "showbackground": true,
            "ticks": "",
            "zerolinecolor": "white"
           },
           "zaxis": {
            "backgroundcolor": "#E5ECF6",
            "gridcolor": "white",
            "gridwidth": 2,
            "linecolor": "white",
            "showbackground": true,
            "ticks": "",
            "zerolinecolor": "white"
           }
          },
          "shapedefaults": {
           "line": {
            "color": "#2a3f5f"
           }
          },
          "ternary": {
           "aaxis": {
            "gridcolor": "white",
            "linecolor": "white",
            "ticks": ""
           },
           "baxis": {
            "gridcolor": "white",
            "linecolor": "white",
            "ticks": ""
           },
           "bgcolor": "#E5ECF6",
           "caxis": {
            "gridcolor": "white",
            "linecolor": "white",
            "ticks": ""
           }
          },
          "title": {
           "x": 0.05
          },
          "xaxis": {
           "automargin": true,
           "gridcolor": "white",
           "linecolor": "white",
           "ticks": "",
           "title": {
            "standoff": 15
           },
           "zerolinecolor": "white",
           "zerolinewidth": 2
          },
          "yaxis": {
           "automargin": true,
           "gridcolor": "white",
           "linecolor": "white",
           "ticks": "",
           "title": {
            "standoff": 15
           },
           "zerolinecolor": "white",
           "zerolinewidth": 2
          }
         }
        },
        "title": {
         "text": "Text Clustering Cosine-Similarity with TF IDF - 0.8"
        },
        "xaxis": {
         "showgrid": false,
         "showticklabels": false,
         "zeroline": false
        },
        "yaxis": {
         "showgrid": false,
         "showticklabels": false,
         "zeroline": false
        }
       }
      }
     },
     "metadata": {},
     "output_type": "display_data"
    }
   ],
   "source": [
    "G = nx.from_pandas_edgelist(matches_df, source = \"left_side\", target = 'right_side')\n",
    "text_similarity.plot_network(G)"
   ]
  },
  {
   "cell_type": "code",
   "execution_count": 25,
   "metadata": {},
   "outputs": [
    {
     "data": {
      "text/html": [
       "<div>\n",
       "<style scoped>\n",
       "    .dataframe tbody tr th:only-of-type {\n",
       "        vertical-align: middle;\n",
       "    }\n",
       "\n",
       "    .dataframe tbody tr th {\n",
       "        vertical-align: top;\n",
       "    }\n",
       "\n",
       "    .dataframe thead th {\n",
       "        text-align: right;\n",
       "    }\n",
       "</style>\n",
       "<table border=\"1\" class=\"dataframe\">\n",
       "  <thead>\n",
       "    <tr style=\"text-align: right;\">\n",
       "      <th></th>\n",
       "      <th>Group Number</th>\n",
       "      <th>Product Titles</th>\n",
       "    </tr>\n",
       "  </thead>\n",
       "  <tbody>\n",
       "    <tr>\n",
       "      <th>0</th>\n",
       "      <td>0</td>\n",
       "      <td>[switch tplink ls1008 serie litewave, switch t...</td>\n",
       "    </tr>\n",
       "    <tr>\n",
       "      <th>1</th>\n",
       "      <td>1</td>\n",
       "      <td>[laptop dell inspiron 3505 gris 156 amd ryzen ...</td>\n",
       "    </tr>\n",
       "    <tr>\n",
       "      <th>2</th>\n",
       "      <td>2</td>\n",
       "      <td>[laptop hp 245 g7 negra 14 amd athlon 3020e 8g...</td>\n",
       "    </tr>\n",
       "    <tr>\n",
       "      <th>3</th>\n",
       "      <td>3</td>\n",
       "      <td>[memoria usb kingston datatraveler 100 g3 dt10...</td>\n",
       "    </tr>\n",
       "    <tr>\n",
       "      <th>4</th>\n",
       "      <td>4</td>\n",
       "      <td>[laptop dell inspiron 3501 negra 156 intel cor...</td>\n",
       "    </tr>\n",
       "    <tr>\n",
       "      <th>...</th>\n",
       "      <td>...</td>\n",
       "      <td>...</td>\n",
       "    </tr>\n",
       "    <tr>\n",
       "      <th>105</th>\n",
       "      <td>105</td>\n",
       "      <td>[portatil hp intel i3 10110u ssd 256gb ram 12g...</td>\n",
       "    </tr>\n",
       "    <tr>\n",
       "      <th>106</th>\n",
       "      <td>106</td>\n",
       "      <td>[tableta digitalizadora wacom intuos m bluetoo...</td>\n",
       "    </tr>\n",
       "    <tr>\n",
       "      <th>107</th>\n",
       "      <td>107</td>\n",
       "      <td>[base gamer refrigerante porttil 5 niveles 1 v...</td>\n",
       "    </tr>\n",
       "    <tr>\n",
       "      <th>108</th>\n",
       "      <td>108</td>\n",
       "      <td>[disco duro externo toshiba 1tb tera estuche a...</td>\n",
       "    </tr>\n",
       "    <tr>\n",
       "      <th>109</th>\n",
       "      <td>109</td>\n",
       "      <td>[porttil lenovo ryzen 5 16gb 512gb ssd legin 5...</td>\n",
       "    </tr>\n",
       "  </tbody>\n",
       "</table>\n",
       "<p>110 rows × 2 columns</p>\n",
       "</div>"
      ],
      "text/plain": [
       "     Group Number                                     Product Titles\n",
       "0               0  [switch tplink ls1008 serie litewave, switch t...\n",
       "1               1  [laptop dell inspiron 3505 gris 156 amd ryzen ...\n",
       "2               2  [laptop hp 245 g7 negra 14 amd athlon 3020e 8g...\n",
       "3               3  [memoria usb kingston datatraveler 100 g3 dt10...\n",
       "4               4  [laptop dell inspiron 3501 negra 156 intel cor...\n",
       "..            ...                                                ...\n",
       "105           105  [portatil hp intel i3 10110u ssd 256gb ram 12g...\n",
       "106           106  [tableta digitalizadora wacom intuos m bluetoo...\n",
       "107           107  [base gamer refrigerante porttil 5 niveles 1 v...\n",
       "108           108  [disco duro externo toshiba 1tb tera estuche a...\n",
       "109           109  [porttil lenovo ryzen 5 16gb 512gb ssd legin 5...\n",
       "\n",
       "[110 rows x 2 columns]"
      ]
     },
     "execution_count": 25,
     "metadata": {},
     "output_type": "execute_result"
    }
   ],
   "source": [
    "group_network = text_similarity.return_groups_network(G, matches_df)\n",
    "group_network"
   ]
  },
  {
   "cell_type": "code",
   "execution_count": 26,
   "metadata": {},
   "outputs": [],
   "source": [
    "import tensorflow as tf\n",
    "import tensorflow_hub as hub\n",
    "from PIL import Image"
   ]
  },
  {
   "cell_type": "code",
   "execution_count": 134,
   "metadata": {},
   "outputs": [],
   "source": [
    "class Image_Similarity():\n",
    "\n",
    "    def __init__(self, image_shape):\n",
    "        \"\"\"\n",
    "        Initialization Text similarity object\n",
    "\n",
    "        Parameters:\n",
    "\n",
    "        :return (None):\n",
    "        \"\"\"\n",
    "        self.image_shape = image_shape \n",
    "        self.model = None  \n",
    "        self.database = pd.DataFrame()\n",
    "        self.root_folder = os.path.dirname(os.path.abspath(os.curdir)) + \"\\Mercado_libre\"\n",
    "        \n",
    "    def process_image_dir(self, image_dir):\n",
    "        image = tf.keras.preprocessing.image.load_img(image_dir, target_size = self.image_shape )\n",
    "        #image = np.stack((image,)*3, axis=-1)   \n",
    "        image = np.array(image)/255.0 \n",
    "        return image\n",
    "\n",
    "    def load_model(self, model_url):\n",
    "        layer = hub.KerasLayer(model_url, input_shape = self.image_shape+(3,))\n",
    "        model = tf.keras.Sequential([layer])\n",
    "        self.model = model\n",
    "        return None    \n",
    "\n",
    "    def embedding_image(self, image):\n",
    "        try: \n",
    "            embedding = self.model.predict(image[np.newaxis, ...])\n",
    "            embedding_np = np.array(embedding)\n",
    "            flattended_feature = embedding_np.flatten()\n",
    "            return flattended_feature\n",
    "        except:\n",
    "            print(\"No a cargado modelo\")\n",
    "\n",
    "    def generate_embedding_database(self, row):\n",
    "        image_dir = row['dir_image']\n",
    "        image = image_similarity.process_image_dir(image_dir)\n",
    "        embedding_image = image_similarity.embedding_image(image)\n",
    "\n",
    "        \n",
    "        database_dict = {}\n",
    "        # Manera optima de añadir informacion a dataframe\n",
    "        # link : https://stackoverflow.com/questions/27929472/improve-row-append-performance-on-pandas-dataframes\n",
    "        database_dict[row.name] = {index :embedding_image[index] for index in range(len(embedding_image))}\n",
    "        database_dict[row.name].update({\"title\" : row['title']})\n",
    "\n",
    "        database_offset = pd.DataFrame.from_dict(database_dict, \"index\")\n",
    "        self.database = self.database.append(database_offset)\n",
    "        return \n",
    "\n",
    "    def save(self):\n",
    "        \"\"\"\n",
    "        Save database\n",
    "\n",
    "        Parameters:\n",
    "\n",
    "        :return (pickel): API pickle object\n",
    "        \"\"\"\n",
    "        file_to_store = open(\"Images.pickle\", \"wb\")\n",
    "        pickle.dump(self, file_to_store)\n",
    "        file_to_store.close()\n",
    "\n",
    "    def delete(self):\n",
    "        \"\"\"\n",
    "        Delete pickle API object\n",
    "\n",
    "        Parameters:\n",
    "\n",
    "        :return (pickle): Database with the downloaded information\n",
    "        \"\"\"\n",
    "        if exists(\"Images.pickle\"):\n",
    "            os.remove(\"API.pickle\")\n",
    "\n",
    "    def download_images(self, row):\n",
    "        images_folder = self.root_folder + \"\\Images\"\n",
    "        filename = os.path.join(images_folder,\n",
    "                                '_'.join([str(row.name),\n",
    "                                            row['title']]))\n",
    "        filename += '.jpg'\n",
    "\n",
    "        # create folder if it doesn't exist\n",
    "        os.makedirs(os.path.dirname(filename), exist_ok=True)\n",
    "        url = row['thumbnail']\n",
    "        print(f\"Downloading {url} to {filename}\")\n",
    "        r = requests.get(url, allow_redirects=True)\n",
    "        with open(filename, 'wb') as f:\n",
    "            f.write(r.content)\n",
    "        return filename"
   ]
  },
  {
   "cell_type": "code",
   "execution_count": 135,
   "metadata": {},
   "outputs": [],
   "source": [
    "image_url = \"http://http2.mlstatic.com/D_937180-MLA49203208800_022022-I.jpg\"\n",
    "model_url = \"https://tfhub.dev/tensorflow/efficientnet/lite0/feature-vector/2\"\n",
    "IMAGE_SHAPE = (224, 224)\n",
    "\n",
    "image_similarity = Image_Similarity(IMAGE_SHAPE)\n",
    "image_similarity.load_model(model_url)"
   ]
  },
  {
   "cell_type": "code",
   "execution_count": null,
   "metadata": {},
   "outputs": [],
   "source": [
    "run_download_image = False\n",
    "if run_download_image:\n",
    "    information.database['dir_image'] = information.database.apply(lambda x: image_similarity.download_images(x), axis = 1)"
   ]
  },
  {
   "cell_type": "code",
   "execution_count": 136,
   "metadata": {},
   "outputs": [
    {
     "data": {
      "text/plain": [
       "0     None\n",
       "1     None\n",
       "2     None\n",
       "3     None\n",
       "4     None\n",
       "      ... \n",
       "45    None\n",
       "46    None\n",
       "47    None\n",
       "48    None\n",
       "49    None\n",
       "Length: 950, dtype: object"
      ]
     },
     "execution_count": 136,
     "metadata": {},
     "output_type": "execute_result"
    }
   ],
   "source": [
    "information.database.apply(lambda x: image_similarity.generate_embedding_database(x), axis = 1)"
   ]
  },
  {
   "cell_type": "code",
   "execution_count": 140,
   "metadata": {},
   "outputs": [],
   "source": [
    "from sklearn.metrics.pairwise import cosine_similarity"
   ]
  },
  {
   "cell_type": "code",
   "execution_count": 173,
   "metadata": {},
   "outputs": [],
   "source": [
    "database_notitle = image_similarity.database.drop(columns = ['title'])\n",
    "matrix_similarity = cosine_similarity(database_notitle)"
   ]
  },
  {
   "cell_type": "code",
   "execution_count": 171,
   "metadata": {},
   "outputs": [
    {
     "data": {
      "image/png": "[encoded data removed]",
      "text/plain": [
       "<Figure size 576x396 with 2 Axes>"
      ]
     },
     "metadata": {},
     "output_type": "display_data"
    }
   ],
   "source": [
    "result = kelbow_visualizer(KMeans(random_state=4), database_notitle , k = (3, 20))"
   ]
  },
  {
   "cell_type": "code",
   "execution_count": 176,
   "metadata": {},
   "outputs": [
    {
     "data": {
      "application/vnd.plotly.v1+json": {
       "config": {
        "plotlyServerURL": "https://plot.ly"
       },
       "data": [
        {
         "customdata": [
          [
           "mouse vertical inalmbrico delux m618c black"
          ],
          [
           "switch tplink ls1005g serie litewave"
          ],
          [
           "laptop dell inspiron 3505 negra 156 amd ryzen 5 3450u 12gb ram 1tb hdd 256gb ssd amd radeon rx vega 8 ryzen 20003000 60 hz 1920x1080px windows 10 home"
          ],
          [
           "sistema pos completo equipos gratis programa facturacion"
          ],
          [
           "tableta digitalizadora gaomon s620 black"
          ],
          [
           "monitor gamer curvo samsung f390 series c24f390fh led 24 black high glossy 100v240v"
          ],
          [
           "laptop hp 245 g7 negra 14 amd 3020e 8gb ram 1tb hdd amd radeon rx vega 3 1366x768px windows 10 home"
          ],
          [
           "torre gamer ryzen 5 3400g 16gb ram blindada disco 1000gb"
          ],
          [
           "memoria usb kingston datatraveler 100 g3 dt100g3 128gb 30 negro"
          ],
          [
           "mouse vertical inalmbrico klip xtreme everrest kmw390 negro"
          ],
          [
           "laptop dell inspiron 3501 negra 156 intel core i3 1005g1 4gb ram 1tb hdd intel uhd graphics g1 60 hz 1366x768px linux ubuntu"
          ],
          [
           "repetidor tplink tlwa850re blanco 220v"
          ],
          [
           "torre gamer amd athlon 3000g ssd 240gb ram 8gb vega 3 2gb"
          ],
          [
           "mouse inalmbrico logitech m280 negro"
          ],
          [
           "laptop dell inspiron 3505 silver 156 amd ryzen 5 3450u 8gb ram 256gb ssd amd radeon rx vega 8 ryzen 20003000 60 hz 1366x768px windows 11 home"
          ],
          [
           "kit teclado mouse inalmbrico logitech mk220 espaol latinoamrica color negro"
          ],
          [
           "disco slido ssd interno adata ultimate su630 asu630ss480gqr 480gb"
          ],
          [
           "computador pc torre ultra rapida intel core i5 3470 8gb ram"
          ],
          [
           "laptop hp 240 g7 plateado ceniza oscuro 14 intel celeron n4000 4gb ram 500gb hdd intel uhd graphics 600 1366x768px windows 10 home"
          ],
          [
           "teclado gamer redragon shiva k512 rgb qwerty espaol latinoamrica color negro luz rgb"
          ],
          [
           "audfonos gamer redragon ares negro rojo"
          ],
          [
           "disco duro externo adata ahd3301tu31 1tb negro"
          ],
          [
           "apple macbook pro 13 pulgadas 2020 chip m1 512 gb ssd 8 gb ram gris espacial"
          ],
          [
           "equipo torre cpu intel dualcore ssd 240gb ram 8gb monitor 22"
          ],
          [
           "audfonos logitech h390 negro"
          ],
          [
           "mouse juego inalmbrico logitech g series lightspeed g305 black"
          ],
          [
           "laptop dell inspiron 3501 plata 156 intel core i3 1005g1 4gb ram 1tb hdd intel uhd graphics g1 60 hz 1366x768px windows 10 home"
          ],
          [
           "servidor dell power edge t40 intel xeon 35 ghz 8g 1tb"
          ],
          [
           "teclado bluetooth logitech master series mx keys qwerty espaol color grafito luz blanca"
          ],
          [
           "mouse juego inalmbrico logitech g series lightspeed g305 lilac"
          ],
          [
           "apple macbook air 13 pulgadas 2020 chip m1 256 gb ssd 8 gb ram oro"
          ],
          [
           "tableta digitalizadora wacom intuos small black"
          ],
          [
           "servidor dell power edge t40 16gb ram intel xeon 35 ghz 1t"
          ],
          [
           "memoria ram color verde 8gb 1 samsung m471b1g73db0yk0"
          ],
          [
           "laptop lenovo ideapad s14514ast negra onix 14 amd a4series 9125 4gb ram 500gb hdd amd radeon r3 1366x768px windows 10 home"
          ],
          [
           "mouse juego logitech g series prodigy g203 black"
          ],
          [
           "torre gamer ryzen 7 5700g 16gb ram disco ssd"
          ],
          [
           "monitor gamer lg ultragear 24gn600 led 24 negro 100v240v"
          ],
          [
           "laptop dell inspiron 3505 gris 156 amd ryzen 5 3450u 8gb ram 1tb hdd 256gb ssd amd radeon rx vega 8 ryzen 20003000 60 hz 1366x768px windows 10 home"
          ],
          [
           "teclado gamer redragon kumara k552 qwerty outemu red espaol latinoamrica color blanco luz rgb"
          ],
          [
           "monitor gamer curvo samsung odyssey g5 c34g55tww led 34 negro 100v240v"
          ],
          [
           "torre gamer amd athlon 3000g hdd 1tb ram 16gb vega 3 2gb"
          ],
          [
           "dell inspiron 15 3501 core i31115g4 8gb 128 ssd 1tb 156"
          ],
          [
           "disco slido ssd interno pny ssd7cs900240rb 240gb negro"
          ],
          [
           "disco slido ssd interno adata swordfish aswordfish250gc 250gb gris"
          ],
          [
           "disco slido ssd interno kingston sa400s37120g 120gb"
          ],
          [
           "laptop hp 255 g7 negra 156 amd athlon 3020e 4gb ram 500gb hdd amd radeon rx vega 3 1366x768px windows 10 home"
          ],
          [
           "torre cpu gamer ryzen 9 5900x gpu 2gb hdmi 1tb 32gb pc"
          ],
          [
           "disco slido ssd interno crucial ct1000bx500ssd1 1tb"
          ],
          [
           "tablet amazon fire hd 8 2020 kfonwi 8 32gb black 2gb memoria ram"
          ],
          [
           "apple macbook pro 13 pulgadas 2020 chip m1 256 gb ssd 8 gb ram plata"
          ],
          [
           "pc torre gamer amd ryzen 3 4350g ssd 240gb hdd 1tb ram 16gb"
          ],
          [
           "bocina genius spq160 naranja"
          ],
          [
           "mouse juego logitech g series lightsync g203 blanco"
          ],
          [
           "laptop gamer asus tuf gaming fx506lh fortress gray 156 intel core i5 10300h 8gb ram 512gb ssd nvidia geforce gtx 1650 144 hz 1920x1080px freedos"
          ],
          [
           "disco duro externo adata dashdrive durable hd680 ahd6801tu31 1tb negro"
          ],
          [
           "pc torre gamer amd ryzen 3 3200g ssd 480gb ram 16gb mon 22"
          ],
          [
           "audfonos gamer logitech g series g332 black"
          ],
          [
           "laptop lenovo ideapad 15alc6 abyss blue 156 amd ryzen 5 5500u 8gb ram 256gb ssd amd radeon rx vega 7 1920x1080px windows 10 home"
          ],
          [
           "mouse juego redragon griffin m607 negro"
          ],
          [
           "memoria ram xlr8 gamer color negrorojo 8gb 1 pny md8gd43200xr"
          ],
          [
           "pc dell vostro sff 3681 intel ci5 10400 8gb 1t win 10 pro"
          ],
          [
           "laptop asus vivobook x543ua gris oscura 156 intel core i5 8250u 8gb ram 256gb ssd intel uhd graphics 620 1920x1080px windows 10 home"
          ],
          [
           "disco slido ssd interno crucial ct1000p2ssd8 1tb"
          ],
          [
           "memoria ram color azul 8gb 1 sk hynix hmt41gs6bfr8apb"
          ],
          [
           "torre gamer amd ryzen 3 3200g ssd 240gb ram 8gb vega 8 2gb"
          ],
          [
           "laptop lenovo ideapad d33010igl mineral gray tctil 101 intel celeron n4020 4gb ram 64gb ssd intel uhd graphics 600 1280x800px windows 10 home"
          ],
          [
           "tablet samsung galaxy tab a7 lite smt220 87 32gb gris 3gb memoria ram"
          ],
          [
           "disco slido ssd interno western digital wd green wds240g2g0a 240gb verde"
          ],
          [
           "tablet samsung galaxy tab a7 lite smt220 87 64gb gris 4gb memoria ram"
          ],
          [
           "laptop hp 245 g7 negra 14 amd ryzen 5 3500u 8gb ram 256gb ssd amd radeon rx vega 8 1366x768px windows 10 pro"
          ],
          [
           "pc gamer ryzen 5 3400g 16gb ram discos 1000gb ssd 240gb"
          ],
          [
           "monitor gamer lg ultrawide 34wl500 led 34 negro 100v240v"
          ],
          [
           "impresora simple funcin hp laserjet 107w wifi blanca negra 110v 127v"
          ],
          [
           "lenovo legin ryzen 7 5800h rtx 3050ti 16g 512 165h portatil"
          ],
          [
           "torre cpu intel core i5 11400 uhd 730 1tb 16gb pc"
          ],
          [
           "mouse juego razer viper mini negro"
          ],
          [
           "switch tplink ls1008 serie litewave"
          ],
          [
           "laptop lenovo ideapad 14iil05 platinum gray 14 intel core i5 1035g1 8gb ram 512gb ssd intel uhd graphics g1 1920x1080px windows 10 home"
          ],
          [
           "procesador gamer amd ryzen 5 5600g 100100000252box 6 ncleos 44ghz frecuencia grfica integrada"
          ],
          [
           "torre cpu gamer core i9 10900 gpu 2gb hdmi 1tb 16gb pc"
          ],
          [
           "teclado inalmbrico logitech k230 qwerty espaol color negro"
          ],
          [
           "laptop hp 245 g7 negra 14 amd athlon 3020e 8gb ram 1tb hdd amd radeon rx vega 3 1366x768px freedos"
          ],
          [
           "kit teclado mouse inalmbrico logitech mk270 espaol latinoamrica color negro"
          ],
          [
           "access point router sistema wifi mesh tplink deco e4 blanco 100v240v 2 unidades"
          ],
          [
           "cpu torre pc gamer amd ryzen 7 5700g ssd 480gb ram 16gb"
          ],
          [
           "dell inspiron 15 3501 core i31115g4 12gb 1tb 156"
          ],
          [
           "silla escritorio trust gxt 707 resto gamer ergonmica black red tapizado cuero sinttico"
          ],
          [
           "mouse juego vsg hero negro"
          ],
          [
           "disco slido ssd interno adata ultimate su650 asu650ss240gtr 240gb negro"
          ],
          [
           "portatil lenovo amd ryzen 5 5500u ssd 512 hdd 1tb ram 16gb"
          ],
          [
           "torre cpu intel core i5 10400 uhd 630 1tb 16gb pc"
          ],
          [
           "teclado gamer redragon kumara k552 qwerty outemu blue espaol latinoamrica color blanco luz rgb"
          ],
          [
           "mouse juego zelotes t80 negro"
          ],
          [
           "apple macbook pro 16 pulgadas intel core i7 512 gb ssd 16 gb ram amd radeon pro 5300m gris espacial"
          ],
          [
           "torre cpu gamer ryzen 5 5600g vega 7 1tb 16gb led 22 pc"
          ],
          [
           "monitor gamer samsung t45f f24t45 lcd 24 negro 100v240v"
          ],
          [
           "mouse juego logitech g series hero g502 negro"
          ],
          [
           "portatil hp 15 ef2126wm ryzen 55500u 8gb 256 gb ssd win 11"
          ],
          [
           "pc torre gamer core i5 3470 8gb ram tarjeta video r5 340 2gb"
          ],
          [
           "teclado gamer weibo wb539 qwerty espaol espaa color negro luz 3 colores"
          ],
          [
           "disco slido ssd interno crucial ct500mx500ssd1 500gb"
          ],
          [
           "laptop asus vivobook e410ma azul elctrica 14 intel celeron n4020 4gb ram 128gb ssd intel uhd graphics 600 60 hz 1366x768px windows 10 home"
          ],
          [
           "monitor gamer curvo samsung c27r500fhl led 27 dark blue gray 100v240v"
          ],
          [
           "torre gamer rgb amd ryzen 5 5600g 16gb ssd 240 win11 pd"
          ],
          [
           "teclado gamer redragon dragonborn k630 qwerty redragon brown ingls us color negro luz rgb"
          ],
          [
           "laptop dell inspiron 3505 negra 156 amd ryzen 5 3450u 8gb ram 256gb ssd amd radeon rx vega 8 ryzen 20003000 60 hz 1366x768px windows 10 home"
          ],
          [
           "mouse pad xtech voyager xta180 tela caucho 18cm x 22cm x 02cm negroazul"
          ],
          [
           "mouse juego redragon cobra chroma m711 negro"
          ],
          [
           "computador intel core i5 11400 uhd 730 1tb 8gb led 22 pc"
          ],
          [
           "asus m415dabv797 14 ryzen 3 8gb 256gb morral mouse"
          ],
          [
           "audfonos gamer hyperx cloud stinger negro"
          ],
          [
           "adaptador convertidor cable hdmi vga 1080p bogot"
          ],
          [
           "mouse inalmbrico logitech m170 negro"
          ],
          [
           "laptop asus vivobook k513ea plateada 156 intel core i7 1165g7 8gb ram 512gb ssd intel iris xe graphics g7 96eus 1920x1080px freedos"
          ],
          [
           "torre gamer arranque i5 10400 ssd 480gb 16gb ram"
          ],
          [
           "disco slido ssd interno adata swordfish aswordfish500gc 500gb"
          ],
          [
           "audfonos gamer inalmbricos logitech g series g435 negro amarillo fluorescente"
          ],
          [
           "portatil asus x415 intel cel solido 256gb ssd ram 4gb win10"
          ],
          [
           "cpu torre pc intel core i5 10400 ssd 240gb ram 8gb"
          ],
          [
           "audfonos gamer kotion g2000 negro rojo luz led"
          ],
          [
           "impresora color multifuncin canon pixma g3110 wifi negra 110v220v"
          ],
          [
           "laptop lenovo ideapad 14igl05 ice blue 14 intel celeron n4020 4gb ram 128gb ssd intel uhd graphics 600 1366x768px windows 10 home"
          ],
          [
           "servidor dell power edge t40 intel xeon 35 ghz 16g 1tb"
          ],
          [
           "impresora color simple funcin epson ecotank l121 negra 110v"
          ],
          [
           "disco duro interno toshiba mq04abf series mq04abf100 1tb"
          ],
          [
           "laptop asus vivobook x543ua gris oscura 156 intel core i5 8250u 4gb ram 256gb ssd intel uhd graphics 620 1920x1080px windows 10 home"
          ],
          [
           "impresora color multifuncin epson ecotank l3210 negra 110v"
          ],
          [
           "torre gamer amd ryzen 3 3200g ssd 480gb ram 16gb vega 8 2gb"
          ],
          [
           "disco slido ssd interno kingston sa400s37960g 960gb"
          ],
          [
           "asus strix g15 ryzen 7 5800h rtx 3050 16g 512g 144h portatil"
          ],
          [
           "teclado bluetooth logitech k380 qwerty espaol color negro"
          ],
          [
           "mouse pad gamer logitech g240 tela clsico 280mm x 340mm x 1mm negroblanco"
          ],
          [
           "torre pc gamer ryzen 5 5600g 16gb ram disco ssd 500 gb"
          ],
          [
           "laptop dell vostro 3405 negra 14 amd ryzen 5 3450u 8gb ram 256gb ssd amd radeon rx vega 8 60 hz 1366x768px linux ubuntu"
          ],
          [
           "disco slido ssd interno crucial ct500p2ssd8 500gb"
          ],
          [
           "disco slido ssd interno adata ultimate su650 asu650ss480gtr 480gb negro"
          ],
          [
           "mouse juego logitech g series lightsync g203 azul"
          ],
          [
           "apple macbook air 13 pulgadas 2020 chip m1 512 gb ssd 8 gb ram plata"
          ],
          [
           "torre cpu intel core i3 10100 uhd 630 1tb 8gb pc led 22"
          ],
          [
           "kit teclado mouse inalmbrico logitech mk220 espaol color negro"
          ],
          [
           "memoria ram premier 4gb 1 adata ad4s2666j4g19s"
          ],
          [
           "laptop gamer acer predator helios 300 ph31554 negra azul 156 intel core i7 11800h 16gb ram 512gb ssd nvidia geforce rtx 3060 144 hz 1920x1080px windows 11 home"
          ],
          [
           "pc torre gamer amd athlon 3000g ssd 240gb ram 16gb mon 22"
          ],
          [
           "mouse trackball inalmbrico recargable logitech mx ergo negro"
          ],
          [
           "fuente poder pc corsair cv series cv550 550w black 100v240v"
          ],
          [
           "porttil hp 255 g7 amd 3020e 8gb 1tb 156 radeon vega 3 dvd"
          ],
          [
           "mouse vertical inalmbrico recargable delux m618 mini jet black"
          ],
          [
           "cpu torre pc intel core i5 10400 ssd 240gb ram 16gb"
          ],
          [
           "monitor gamer lg ultrawide 29wp60g led 29 negro 100v240v"
          ],
          [
           "laptop dell inspiron 3505 gris 156 amd ryzen 5 3450u 12gb ram 256gb ssd amd radeon rx vega 8 ryzen 20003000 60 hz 1366x768px windows 10 home"
          ],
          [
           "mouse inalmbrico logitech triathlon m720 negro"
          ],
          [
           "pc torre gamer amd ryzen 5 3600 ssd 1tb ram 16gb monitor 22"
          ],
          [
           "audfonos gamer redragon scylla negro"
          ],
          [
           "porttil dell core i3 11gen 12g ram 1tb dd 128g ssd 156"
          ],
          [
           "impresora simple funcin hp laserjet 107w wifi blanca negra 110v240v"
          ],
          [
           "monitor gamer lg ultragear 27gp850 lcd 27 negro 100v240v"
          ],
          [
           "torre cpu gamer core i7 9700 gpu 2gb hdmi 1tb 16gb pc"
          ],
          [
           "laptop asus x543ma star gray 156 intel celeron n4000 4gb ram 500gb hdd intel uhd graphics 600 60 hz 1366x768px windows 10 home"
          ],
          [
           "audfonos gamer kotion g2000 negro azul luz led"
          ],
          [
           "mouse pad gamer logitech g440 serie g caucho tela 280mm x 340mm x 3mm negro"
          ],
          [
           "audfonos gamer inalmbricos logitech g series g733 negro luz rgb led"
          ],
          [
           "porttil lenovo ryzen 7 16gb 512gb ssd legion 5 pro 16 grey"
          ],
          [
           "torre cpu gamer core i3 10100 gpu 2g hdmi 1tb 16gb led 22 pc"
          ],
          [
           "regulador voltaje unitec 2000va reales 8 tomas"
          ],
          [
           "tablet samsung galaxy tab s6 lite smp610 104 64gb angora blue 4gb memoria ram"
          ],
          [
           "portatil lenovo idepad3 15al ryzen 55500u 8gb 256 ssd almon"
          ],
          [
           "cpu torre pc intel core i5 10400 ssd 480gb ram 8gb"
          ],
          [
           "disco duro externo adata hd710 pro ahd710p2tu31 2tb amarillo"
          ],
          [
           "audfonos gamer redragon lamia rgb negro luz rgb led"
          ],
          [
           "laptop hp 240 g7 plateado ceniza oscuro 14 intel core i3 1005g1 8gb ram 1tb hdd intel uhd graphics g1 ice lake 32 eu 1366x768px windows 10 home"
          ],
          [
           "mouse juego logitech g series hero g502 kda"
          ],
          [
           "pc computador gamer amd ryzen 7 ssd 1tb ram 16gb nvidia 2gb"
          ],
          [
           "mouse juego redragon impact m908 negro"
          ],
          [
           "computador portatil huawei 156 pulgadas matebook d intel"
          ],
          [
           "base soporte porttil laptop plegable aluminio ergonmica"
          ],
          [
           "apc backups pro br1500m2lm 1500va entrada salida 120v negro"
          ],
          [
           "torre gamer ryzen 5 5600g 16gb ram ssd 480gb pcolombia"
          ],
          [
           "portatil hp 245 g7 amd a4 9125 26ghz 1 tera 8gb radeon r3"
          ],
          [
           "monitor gamer lg 27gl650f led 27 negro 100v240v"
          ],
          [
           "kit teclado mouse inalmbrico logitech mk470 espaol color negro"
          ],
          [
           "imac apple chip m1 2021 24 45k 8gb ram 256gb ssd nuevo"
          ],
          [
           "porttil lenovo ideapad 3 ryzen 5 5500u 8gb 1tb 14 huella"
          ],
          [
           "switch tplink tlsf1005d"
          ],
          [
           "monitor gamer lg 27mp400 led 27 negro 100v240v"
          ],
          [
           "memoria ram valueram color verde 8gb 1 kingston kvr24s17s88"
          ],
          [
           "lenovo ideapad ryzen 5 5600h rtx 3050 ram 16gb 512g 120h"
          ],
          [
           "dekstop hp pavilion gaming tg01103la"
          ],
          [
           "mouse pad gamer redragon flick caucho tela xl 400mm x 900mm x 4mm negro"
          ],
          [
           "mouse juego logitech g series hero 16k g502 negro"
          ],
          [
           "porttil dell vostro 3400 i51135g7 16gb ssd 250 1tb win10"
          ],
          [
           "torre tipo gamer i54570 ssd 240gb ram 8gb"
          ],
          [
           "tablet samsung galaxy tab a7 lite smt220 87 64gb plateada 4gb memoria ram"
          ],
          [
           "disco slido ssd interno kingston nv1 snvs500g 500gb"
          ],
          [
           "laptop asus vivobook x543ua gris oscura 156 intel core i3 6100u 4gb ram 1tb hdd intel hd graphics 520 1366x768px windows 10 home"
          ],
          [
           "control joystick logitech extreme 3d pro negro"
          ],
          [
           "torre gamer ryzen 5 16gb ram discos1000gb ssd 240 gb"
          ],
          [
           "mouse inalmbrico recargable logitech master series mx master 3 grafito"
          ],
          [
           "portatil asus x543ua gq3521 core i5 8250u ram 8gb ssd 512gb"
          ],
          [
           "audfonos gamer redragon zeus 2 negro"
          ],
          [
           "mouse inalmbrico logitech pebble m350 rosa"
          ],
          [
           "computador clone intel core i5 34ghz8gb10tbmon22 nuevo"
          ],
          [
           "porttil asus m513i ryzen 7 4700u 12gb ssd 512gb vega 10 win"
          ],
          [
           "tableta digitalizadora wacom intuos s bluetooth black"
          ],
          [
           "router mercusys mw301r v1 blanco 220v"
          ],
          [
           "memoria ram premier color verde 8gb 1 adata ad4s320088g22sgn"
          ],
          [
           "porttil lenovo ci5 8gb 512gb ssd ip gaming 3 156 negro"
          ],
          [
           "torre cpu intel pentium g6400 uhd 610 1tb 16gb pc"
          ],
          [
           "tablet samsung galaxy tab s6 lite smp610 104 64gb oxford gray 4gb memoria ram"
          ],
          [
           "mouse vertical inalmbrico trust verro negro"
          ],
          [
           "porttil hp 245 g7 amd athlon 3020e 8gb 1tb ssd 240gb win"
          ],
          [
           "torre cpu intel core i9 10900 uhd 630 1tb 32gb pc"
          ],
          [
           "hub multipuerto multiplicador usb gs"
          ],
          [
           "disco slido ssd externo sandisk extreme sdssde611t00g25 1tb negro"
          ],
          [
           "porttil asus x415j intel i5 1035g1 8gb256 gb ssd 14 fhd"
          ],
          [
           "torre tipo gamer intel i3 3220 ssd 240gb ram 8gb"
          ],
          [
           "mouse juego inalmbrico redragon m601wlba negro rojo"
          ],
          [
           "access point router sistema wifi mesh tplink deco e4 blanco 100v240v"
          ],
          [
           "porttil hp 15ef1005la athlon 3020e 8gb ssd 128gb windows"
          ],
          [
           "monitor gamer curvo samsung c24rg5 lcd 235 negro 100v240v"
          ],
          [
           "torre cpu gamer core i5 10400 gpu 2gb hdmi 1tb 16gb pc"
          ],
          [
           "mouse juego logitech g series lightsync g203 lila"
          ],
          [
           "laptop lenovo ideapad 15iml05 abyss blue 156 intel core i3 10110u 8gb ram 256gb ssd intel uhd graphics 620 1366x768px freedos"
          ],
          [
           "audfonos genius hs200c negro"
          ],
          [
           "procesador amd ryzen 7 5700g 100100000263box 8 ncleos 46ghz frecuencia grfica integrada"
          ],
          [
           "pc core i7 nov gen 8gb1tera monitor 215 tecladomouse"
          ],
          [
           "laptop hp 240 g7 plateado ceniza oscuro 14 intel celeron n4100 4gb ram 500gb hdd intel uhd graphics 600 1366x768px windows 10 home"
          ],
          [
           "kit teclado mouse inalmbrico logitech mk345 espaol latinoamrica color negro"
          ],
          [
           "switch tplink tlsg1024d"
          ],
          [
           "teclado bluetooth logitech k380 qwerty espaol color rosa"
          ],
          [
           "porttil dell 3505 ryzen 5 3500u 8gb ssd 2561tb 156 win10"
          ],
          [
           "pc equipo torre gamer amd ryzen 5600g ssd 240gb ram 16gb"
          ],
          [
           "mouse juego inalmbrico recargable logitech pro series pro x superlight blanco"
          ],
          [
           "mouse pad redragon p003 suzaku caucho tela xl 300mm x 800mm x 3mm negrorojo"
          ],
          [
           "porttil lenovo e4155 ryzen 33250u 8gb ssd 256gb 14"
          ],
          [
           "cpu torre pc gamer amd ryzen 7 5700g ssd 480 hdd 1tb ram 16"
          ],
          [
           "mouse pad xtech colonist xta181 tela 18cm x 22cm x 02cm negro"
          ],
          [
           "mouse trackball inalmbrico logitech ergo m575 negro"
          ],
          [
           "asus tuf dash 15 i7 11370h rtx 3050 8g 144h portatil game"
          ],
          [
           "torre cpu amd ryzen 9 5900x gpu hdmi 1tb 16gb pc"
          ],
          [
           "base refrigerante a2 cooling pad 2 ventiladores 6 nivelesgs"
          ],
          [
           "apple ipad air 109 wifi 64gb gris espacial 4 generacin"
          ],
          [
           "laptop lenovo vseries v14iil iron gray 14 intel core i3 1005g1 8gb ram 256gb ssd intel uhd graphics g1 1366x768px windows 10 pro"
          ],
          [
           "ereader kindle paperwhite 10 gen 32gb negro pantalla 6 300ppp"
          ],
          [
           "pc intel core i5 9400 ram 8gb 1 tera monitor 22 teclmous"
          ],
          [
           "mouse juego redragon centrophorus2 m601rgb black"
          ],
          [
           "portatil asus fx506lh core i510300h 512 ssd 8 gb gtx 1650"
          ],
          [
           "mouse juego xtrike gm216 negro"
          ],
          [
           "disco slido ssd interno western digital wd green wds100t3g0a 1tb verde"
          ],
          [
           "torre cpu gamer ryzen 9 5900x gpu 2gb hdmi 1tb 16gb pc"
          ],
          [
           "portatil lenovo amd ryzen 5 5500u ssd 512 hdd 1tb ram 20gb"
          ],
          [
           "disco slido ssd interno patriot burst elite pbe120gs25ssdr 120gb"
          ],
          [
           "mouse logitech m90 negro"
          ],
          [
           "bocina logitech s120 black"
          ],
          [
           "computador porttil asus x543 core i5 256gb ssd 12gb ram"
          ],
          [
           "torre cpu gamer ryzen 7 5800x gpu 2gb hdmi 1tb 16gb pc"
          ],
          [
           "mouse juego inalmbrico recargable logitech pro series pro x superlight negro"
          ],
          [
           "monitor gamer lg 24mk430h led 238 negro 100v240v"
          ],
          [
           "portatil asus x509uaej345 core i3 4gb ssd 256gb 156 fhd"
          ],
          [
           "torre cpu gamer ryzen 5 5600g vega 7 1tb 16gb pc"
          ],
          [
           "disco slido ssd interno western digital wd green sn350 wds240g2g0c 240gb"
          ],
          [
           "apple ipad pro 129 wifi 256gb gris espacial 5 generacin"
          ],
          [
           "porttil dell 14 3405 ryzen 53450u 16gb 256gb 1tb"
          ],
          [
           "kit teclado mouse inalmbrico logitech mk540 espaol latinoamrica color negro"
          ],
          [
           "cpu torre pc gamer amd ryzen 7 5700g ssd 128 hdd 1tb ram 16"
          ],
          [
           "memoria usb kingston datatraveler exodia dtx32 32gb 32 gen 1 negro"
          ],
          [
           "lenovo legion 5 pro ryzen 7 5800h rtx 3060 2k 165h portatil"
          ],
          [
           "memoria usb sandisk ultra flair 32gb 30 plateado negro"
          ],
          [
           "cpu torre pc gamer amd ryzen 5 5600g ssd 240 hdd 1tb ram 16"
          ],
          [
           "teclado genius slimstar 126 qwerty espaol color negro"
          ],
          [
           "laptop hp pavilion 15eh0011la azul 156 amd ryzen 7 4700u 16gb ram 512gb ssd amd radeon rx vega 7 1920x1080px windows 10 home"
          ],
          [
           "impresora simple funcin hp neverstop 1000w wifi blanca gris 110v240v"
          ],
          [
           "kit 4 tintas epson 544 original t544 l1110l3110"
          ],
          [
           "torre cpu gamer core i7 9700 gpu 2gb hdmi 1tb 16gb led 22 pc"
          ],
          [
           "lenovo ideapad ryzen 5600h rtx 3050 8g 512g 120h portatil"
          ],
          [
           "disco duro interno western digital wd purple wd10purz 1tb prpura"
          ],
          [
           "impresora color multifuncin hp deskjet ink advantage 2775 wifi blanca 100v240v"
          ],
          [
           "disco duro externo western digital wd elements portable wdbu6y0020bbk 2tb negro"
          ],
          [
           "laptop gamer msi thin gf63 negra 156 intel core i5 10300h 8gb ram 512gb ssd nvidia geforce gtx 1650 maxq 60 hz 1920x1080px windows 10 home"
          ],
          [
           "pc gamer ryzen 5 5600g 16gb ssd 240 monitor 22 win11 pd"
          ],
          [
           "fuente poder pc corsair cv series cv650 650w black 100v240v"
          ],
          [
           "soporte north bayou nb h80 mesa tvmonitor 17 30 negroblanco"
          ],
          [
           "portatil hp 245 g7 amd 3020e 14 4gb 1 tera linux negro"
          ],
          [
           "torre cpu gamer athlon 3000g vega 3 1tb 16gb led 22 pc"
          ],
          [
           "disco duro interno western digital wd black wd10spsx 1tb"
          ],
          [
           "disco duro externo adata hd710 pro ahd710p1tu31 1tb negro"
          ],
          [
           "dell inspiron 15 3501 core i31005g1 8gb ssd 256 gb 156plg"
          ],
          [
           "teclado bluetooth logitech k780 qwerty espaol latinoamrica color negro blanco"
          ],
          [
           "torre cpu gamer core i5 10400 gpu 2g hdmi 1tb 16gb led 22 pc"
          ],
          [
           "mouse microsoft bluetooth negro mate"
          ],
          [
           "portatil hp ryzen 5 5500u 16gb 512gb ssd 156 fhd windows 11"
          ],
          [
           "pasta trmica disipadora arctic mx4 4g original sellada"
          ],
          [
           "torre cpu gamer janus ryzen 5 4650g ssd 240 hdd 1tb ram 16"
          ],
          [
           "disco duro externo adata hd710 pro ahd710p2tu31 2tb negro"
          ],
          [
           "porttil asus laptop x509ua 15 core i3 8gb 256gb ssd endless"
          ],
          [
           "tablet samsung galaxy a7 lite smt225 87 red mvil 64gb gris 4gb memoria ram"
          ],
          [
           "bocina logitech s150 porttil black"
          ],
          [
           "torre cpu intel core i7 12700 uhd 770 1tb 16gb pc"
          ],
          [
           "porttil asus x513e core i5 1135g7 12 gb 512 ssd iris xe"
          ],
          [
           "disco duro externo adata hd710 pro ahd710p4tu31 4tb negro"
          ],
          [
           "repetidor router tenda ac23 negro 100v240v"
          ],
          [
           "audfonos gamer jbl quantum 200 negro"
          ],
          [
           "portatil lenovo idepad3 15al ryzen 55500u 8gb 256 ssd blue"
          ],
          [
           "pc computador gamer amd ryzen 7 5700g ssd 480 hdd 1tb ram 16"
          ],
          [
           "disco duro externo western digital wd elements wdbuzg0010bbk 1tb negro"
          ],
          [
           "memoria usb kingston datatraveler 100 g3 dt100g3 16gb 30 negro"
          ],
          [
           "porttil lenovo ryzen 5 5500u ram 20gb ssd256gb fhd 156 w10"
          ],
          [
           "pc torre gamer ryzen 3 3200g a320m ssd 240gb ram 8gb mon 22"
          ],
          [
           "funda portatil protector teclado silicona 14 15 gs"
          ],
          [
           "disco duro interno western digital wd10spzx 1tb azul"
          ],
          [
           "porttil asus x543ma celeron n4020 4gb ssd 128gb endless 15"
          ],
          [
           "bocina hp dhe6000 black"
          ],
          [
           "pc torre intel core i5 10400 ssd 240 hdd 1tb ram 16gb mon 22"
          ],
          [
           "tablet samsung galaxy tab s7 fe with s pen smt733 124 128gb mystic silver 6gb memoria ram"
          ],
          [
           "portatil asus k513eabq370 core i7 1165g7 8gb 256gb 156"
          ],
          [
           "mouse juego inalmbrico recargable logitech g series lightspeed g502 negro"
          ],
          [
           "disco duro externo adata dashdrive durable hd680 ahd6801tu31 1tb azul"
          ],
          [
           "equipo torre intel core i5 disco 1000gb ram 8gb monitor 22"
          ],
          [
           "nuevo macbook pro 2021 14 pulgadas 16 gb ram 14 nucleos"
          ],
          [
           "cable convertidor hdmi vga pc laptop tv monitor pasivo"
          ],
          [
           "teclado gamer redragon yama k550 qwerty outemu purple espaol latinoamrica color negro luz rgb"
          ],
          [
           "cpu torre pc gamer intel core i5 10400 ssd 240gb nvidia 1030"
          ],
          [
           "laptop asus vivobook x543ua gray 156 intel core i5 8250u 8gb ram 1tb hdd intel uhd graphics 620 1366x768px windows 10 home"
          ],
          [
           "disco duro externo seagate expansion stea2000400 2tb negro"
          ],
          [
           "memoria ram color verde 8gb 1 crucial ct8g4sfs8266"
          ],
          [
           "disco slido ssd interno adata ultimate su650 asu650ns38240gtc 240gb"
          ],
          [
           "computador portatil asus x543 core i5 256gb ssd 8gb ram"
          ],
          [
           "sistema pos facturacion inventarios registradora balanza inc"
          ],
          [
           "monitor gamer aoc g2 24g2 led 24 negro rojo 100v240v"
          ],
          [
           "pad mouse ergonmico soporte gel gs"
          ],
          [
           "porttil dell 3505 ryzen 5 3450u 16gb ssd 256gb 156 win10"
          ],
          [
           "pc torre nuevo economico 16gb ram ssd 240gb gabinete gamer"
          ],
          [
           "access point repetidor router tenda f6 blanco 100v240v"
          ],
          [
           "tableta digitalizadora wacom one by wacom ctl472 negra roja"
          ],
          [
           "portatil lenovo amd ryzen 5 5500u ssd 512 hdd 1tb ram 12gb"
          ],
          [
           "base soporte porttil ergonmicareclinable 7 niveles"
          ],
          [
           "pc torre gamer core i3 10100 8 ram tarjeta video r5 340 2gb"
          ],
          [
           "audfonos gamer logitech g series g335 negro"
          ],
          [
           "portatil asus x543ua intel corei5 156 8 ram 512 ssd endless"
          ],
          [
           "access point router sistema wifi mesh tplink deco m5 blanco 100v240v"
          ],
          [
           "caddy adaptador segundo disco duro sata ssd cd dvd 95mm"
          ],
          [
           "torre gamer athlon 3000g ssd 240 hdd 1tb ram 8gb vega 3 2gb"
          ],
          [
           "computador portatil lenovo ryzen 3 ram 4gb solido ssd 256gb"
          ],
          [
           "memoria ram color verde 16gb 1 crucial ct16g4sfra266"
          ],
          [
           "fuente poder pc corsair cv series cv450 450w black 100v240v"
          ],
          [
           "router range extender access point wisp mercusys mw302r v1 blanco"
          ],
          [
           "computador portatil asus ryzen 3 ssd 256 gb 8gb ram"
          ],
          [
           "torre gamer i5 10400 board b460 grafica doble disco"
          ],
          [
           "memoria ram premier color verde 8gb 1 adata ad4s266638g19s"
          ],
          [
           "mouse inalmbrico hp z3700 azul"
          ],
          [
           "porttil lenovo ideapad 3 ryzen 5 5500u 20gb 1tb 256gb"
          ],
          [
           "torre cpu gamer amd ryzen 5 5600g ssd 1tb ram 16gb rgb"
          ],
          [
           "disco slido ssd interno gigabyte gpgstfs31480gntd 480gb negro"
          ],
          [
           "router wisp access point repetidor tenda ac8 negro 100v240v"
          ],
          [
           "laptop lenovo thinkbook 14 iml mineral gray 14 intel core i3 10110u 8gb ram 1tb hdd intel uhd graphics 1920x1080px windows 10 pro"
          ],
          [
           "torre cpu gamer ryzen 5 5600g ssd 120g hdd 1tb ram 16g rgb"
          ],
          [
           "fuente poder pc cougar vtc series cgr bs600 600w negra 100v240v"
          ],
          [
           "router tplink tlwr850n blanco"
          ],
          [
           "portatil asus x543uagq3521 corei5 156 8ram 512 ssd endless"
          ],
          [
           "tablet amazon fire hd 8 2020 kfonwi 8 32gb twilight blue 2gb memoria ram"
          ],
          [
           "pc torre nuevo economico 16gb ram ssd 240gb actualizable"
          ],
          [
           "regulador voltaje automtico unitec u1200 8 tomas 1200va"
          ],
          [
           "portatil corporativo lenovo t460 core i5 6th 16gb 500 ssd"
          ],
          [
           "mouse juego inalmbrico logitech g series lightspeed g305 white"
          ],
          [
           "teclado gamer nibio strike k200 qwerty color negro luz rgb"
          ],
          [
           "pc torre gamer basico 16gb ram ssd 240gb actualizable"
          ],
          [
           "dell inspiron 15 3501 intel core i31005g1 8gb 1tb 156"
          ],
          [
           "monitor gamer lg 20mk400h led 195 negro 100v240v"
          ],
          [
           "ereader kindle paperwhite 10 gen 8gb negro pantalla 6 300ppp"
          ],
          [
           "teclado microsoft lxn00003 qwerty espaol espaa color negro"
          ],
          [
           "porttil ideapad 3 ryzen 7 12gb 512gb ssd 156 gris"
          ],
          [
           "pc torre gamer amd athlon 3000g hdd 1tb ram 16gb mon 22"
          ],
          [
           "impresora color simple funcin epson surecolor f170 wifi blanca 100v240v"
          ],
          [
           "monitor gamer asus eye care va27ehe led 27 negro 100v240v"
          ],
          [
           "porttil asus x415eaek021 corei31115g4 4gb 256ssd 14 fhd"
          ],
          [
           "ryzen 7 5700g pc gamer 16gb ram gabinete rgb ventiladores"
          ],
          [
           "mouse vertical ergonmico gs"
          ],
          [
           "tablet samsung galaxy tab a7 lite smt220 87 32gb plateada 3gb memoria ram"
          ],
          [
           "apple macbook air 13 pulgadas 2020 chip m1 512 gb ssd 8 gb ram gris espacial"
          ],
          [
           "torre cpu intel core i3 10100 uhd 630 1tb 8gb pc"
          ],
          [
           "disco duro externo toshiba canvio advance hdtc940x 4tb negro"
          ],
          [
           "mouse inalmbrico genius nx7000 calm black"
          ],
          [
           "portatil asus k513ea oled corei51135g7 8gb 256ssd iris plus"
          ],
          [
           "impresora multifuncin hp laserjet pro 135w wifi blanca negra 110v 127v mfp 135w"
          ],
          [
           "torre gamer amd ryzen 3 3200g ssd 240gb ram 8gb"
          ],
          [
           "camara web 1080p pc laptop usb web cam microfono"
          ],
          [
           "porttil lenovo ideapad 3 ryzen 3 4300u 4gb ssd 256g freedos"
          ],
          [
           "mouse vertical trust verto ergonomic negro"
          ],
          [
           "memoria ram xlr8 gaming epicx rgb gamer color negro 8gb 1 pny md8gd4320016xrgb"
          ],
          [
           "equipo intel i5 4570 ssd 240gb 8gb 600w monitor 22"
          ],
          [
           "lenovo legin ryzen 7 5800h rtx 3050ti 32g 512 165h portatil"
          ],
          [
           "tablet lenovo tab m10 fhd plus 2nd gen tbx606f 103 128gb platinum gray 4gb memoria ram"
          ],
          [
           "disco duro externo adata ahd3301tu31 1tb azul"
          ],
          [
           "kit teclado mouse inalmbrico logitech mk295 espaol color negro"
          ],
          [
           "macbook air 13 2020 m1 256 gb 8 gb ram espaol"
          ],
          [
           "torre gamer i5 10400 disco ssd board b460 grafica"
          ],
          [
           "disco slido ssd externo samsung t5 mupa1t0b 1tb negro"
          ],
          [
           "mouse vertical inalmbrico recargable logitech mx vertical negro"
          ],
          [
           "porttil lenovo ideapad 3 ryzen 5 5500u 8gb 1tb 14 huella"
          ],
          [
           "pc cpu gamer core i5 12 generacion 8 gb ssd 240"
          ],
          [
           "audfonos inalmbricos logitech h600 black"
          ],
          [
           "disco duro externo adata hd710 pro ahd710p5tu31 5tb negro"
          ],
          [
           "laptop lenovo vseries v15igl iron gray 156 intel celeron n4020 4gb ram 500gb hdd intel uhd graphics 600 1366x768px windows 10 home"
          ],
          [
           "tableta digitalizadora huion 420 black"
          ],
          [
           "cpu gamer core i5 11 gen mem 16 gb dduro 1 tb ssd 240"
          ],
          [
           "disco slido ssd interno samsung 980 mzv8v1tobw 1tb negro"
          ],
          [
           "laptop hp 240 g7 gris 14 intel celeron n4020 8gb ram 1tb hdd intel uhd graphics 600 1366x768px windows 10 home"
          ],
          [
           "disco duro interno seagate barracuda st4000dm004 4tb"
          ],
          [
           "torre pc work station pro"
          ],
          [
           "disco slido ssd interno adata falcon afalcon512gc 512gb"
          ],
          [
           "computador porttil lenovo cpu amd 3020e 8gb1tb 14p"
          ],
          [
           "ereader kindle 10 gen 4gb negro pantalla 6 167ppp"
          ],
          [
           "disco duro externo toshiba canvio basics hdtb440xk3ca 4tb negro"
          ],
          [
           "pc torre gamer amd ryzen 5 3600 m2 512gb ram16gb nvidia 2gb"
          ],
          [
           "porttil msi gf65 thin core i7 32gb 512gb gtx 1660ti 156"
          ],
          [
           "access point interior mikrotik routerboard hap lite rb9412ndtc azul blanco"
          ],
          [
           "impresora color multifuncin epson ecotank l3110 negra 110v"
          ],
          [
           "access point repetidor tplink tlwa855re blanco"
          ],
          [
           "portatil asus pro m3401qc ryzen 75800h 16gb 512ssd rtx3050"
          ],
          [
           "pc gamer torre power ryzen 5 3600 ssd 480gb ram 16gb gt 1030"
          ],
          [
           "monitor gamer lg 32gn650 led 315 negro 100v240v"
          ],
          [
           "soporte base computador portatil ajustable plegableobsequio"
          ],
          [
           "porttil dell intel core i3 11 gen 8ram 1tb 128ssd 156"
          ],
          [
           "pc computador gamer amd ryzen 7 5700g ssd 1tb ram 16gb 22"
          ],
          [
           "mouse juego logitech g series prodigy g203 white"
          ],
          [
           "mouse pad gamer logitech g640 serie g tela logitech l 400mm x 460mm x 3mm negro"
          ],
          [
           "portatil asus x543uagq2087 core i3 1tb 8gb 156 hd endless"
          ],
          [
           "kit teclado mouse gamer redragon s101ba espaol color negro"
          ],
          [
           "hp pavilion torre gamer i5 11400f gtx 1650 8gb 512gb"
          ],
          [
           "ups chicago digital power rseries rupr508 500va entrada salida 120v ca negro"
          ],
          [
           "porttil hp 15ef1005la athlon 3020e 4gb ssd 128gb windows"
          ],
          [
           "mini teclado inalmbrico airmouse android smart tv iluminado"
          ],
          [
           "switch tplink tlsf1008d"
          ],
          [
           "pc computador gamer amd ryzen 7 5700g ssd 480gb ram 16gb 22"
          ],
          [
           "dell inspiron 15 3501 core i31115g4 8gb ssd 256 gb 156plg"
          ],
          [
           "access point router sistema wifi mesh tplink deco e4 blanco 100v240v 3 unidades"
          ],
          [
           "disco slido ssd interno crucial ct1000mx500ssd1 1tb"
          ],
          [
           "pc equipo gamer ryzen 5 5600x ssd 480gb hdd 1tb ram 16gb"
          ],
          [
           "portatil lenovo s145 ci5 10gen ssd 240 gb 1tb ram 12gb"
          ],
          [
           "router huawei b311521 blanco 100v240v"
          ],
          [
           "monitor gamer aoc 27g2 led 27 negro 100v240v"
          ],
          [
           "receptor usb bluetooth pc mac control ps4 xbox one"
          ],
          [
           "porttil asus x415j intel i5 1035g1 12gb256gb ssd 14 fhd"
          ],
          [
           "pc torre gamer amd ryzen 5 3600 ssd 1tb ram 16gb mon 22"
          ],
          [
           "apple ipad 9 generacin 102 wifi 256gb gris espacial"
          ],
          [
           "impresora color multifuncin epson ecotank l3250 wifi negra 110v"
          ],
          [
           "computador porttil hp 240 g7 intel celeron ram 8gb hdd 1 tb"
          ],
          [
           "pc torre gamer core i5 9400 ssd 480 hdd 1tb ram 16gb mon 22"
          ],
          [
           "audfonos gamer kotion each g4000 negro rojo"
          ],
          [
           "mouse vertical zelotes t20 negro"
          ],
          [
           "macbook air 13 8gb 256gb m1 modelo 2020 sellado"
          ],
          [
           "cargador computador macbook pro 2012 13 pulgadas 60w"
          ],
          [
           "torre gamer intel i7 4790 ssd 240gb ram 8gb fuente 600w"
          ],
          [
           "tarjeta video nvidia asus phoenix geforce gtx 16 series gtx 1650 phgtx1650o4g oc edition 4gb"
          ],
          [
           "portatil asus k513e core i5 11va ssd 256gb 8gb 156 oled fhd"
          ],
          [
           "memoria ram valueram color verde 2gb 1 kingston kvr1333d3n92g"
          ],
          [
           "regulador automtico voltaje 1200va 8 tomas protegidas"
          ],
          [
           "pc gamer ryzen 5 pro 4650g 16 120gb ssd 1tb monitor 22"
          ],
          [
           "portatil asus vivobook x415ja i3 1005g1 8gb ssd 256gb win 10"
          ],
          [
           "audfonos gamer logitech g series g433 black"
          ],
          [
           "caja externa case sata disco duro 25 usb 30 laptop port"
          ],
          [
           "base soporte porttil laptop plegable gs"
          ],
          [
           "apple macbook pro 13 pulgadas 2020 chip m1 512 gb ssd 8 gb ram plata"
          ],
          [
           "imac apple chip m1 8gb 256gb azul pantalla 45k 24"
          ],
          [
           "kit 4 tintas canon gl190 originales g2100 g3100 g4100"
          ],
          [
           "filamento pla 175mm impresin 3d"
          ],
          [
           "portatil asus proces ryzen 5 ram 12gb doble disco 512ssd1tb"
          ],
          [
           "torre gamer i5 10400 disco ssd240 board b460 grafica"
          ],
          [
           "audfonos genius hs02b azul"
          ],
          [
           "apple ipad air 109 wifi 64gb verde 4 generacin"
          ],
          [
           "laptop hp 240 g7 plateado ceniza oscuro 14 intel celeron n4020 4gb ram 500gb hdd intel uhd graphics 600 1366x768px windows 10 home"
          ],
          [
           "computador intel core i5 9400 uhd 630 1tb 8gb led 22 pc"
          ],
          [
           "funda estuche portatil impermeable protector teclado pd"
          ],
          [
           "mouse juego redragon griffin m607 blanco"
          ],
          [
           "porttil lenovo ideapad 3 ryzen 3 4300u 12gb 1tb 250gb win"
          ],
          [
           "cable utp cat 6 gigabit red internet ponchado x 20 metros"
          ],
          [
           "cpu torre pc gamer amd ryzen 7 5700g ssd 1tb ram 16"
          ],
          [
           "tableta digitalizadora huion inspiroy h610 pro v2 black"
          ],
          [
           "porttil hp 15 pavilion 8gb 512gb ssd windows 10 obsequio"
          ],
          [
           "audfonos gamer kotion each g9000 black red"
          ],
          [
           "switch tplink tlsg1016d"
          ],
          [
           "torre cpu gamer ryzen 5 5600x ssd 480gb hdd 1tb ram 16gb"
          ],
          [
           "portatil hp 15eh0002la r54500u 8gb 512ssd 15 hd tn"
          ],
          [
           "disco duro interno western digital wd purple wd20purz 2tb prpura"
          ],
          [
           "mouse inalmbrico logitech m280 plateado"
          ],
          [
           "switch linksys se3005"
          ],
          [
           "portatil dell 3501 intel core i3 1115g4 ram 12gb 1tb 240gb"
          ],
          [
           "pc torre gamer amd ryzen 5 3600 ssd 480gb ram 16 monitor 22"
          ],
          [
           "router tplink archer c20 azul blanco 100v240v"
          ],
          [
           "disco duro interno western digital wd purple wd40purx 4tb prpura"
          ],
          [
           "portatil asus intel core i3 ram 8gb solido 256gb 156"
          ],
          [
           "torre pc gamer ryzen 5 5600g board 16gb ram disco ssd"
          ],
          [
           "disco slido ssd interno kingston sa400m8240g 240gb"
          ],
          [
           "micrfono trust gxt 212 22191 condensador omnidireccional negro"
          ],
          [
           "laptop lenovo chromebook c330 blizzard white tctil 116 mediatek mt8173c 4gb ram 64gb ssd powervr gx6250 1366x768px google chrome"
          ],
          [
           "pc computador gamer amd ryzen 7 ssd 240gb hdd 1tb ram 16gb"
          ],
          [
           "base soporte porttil ergonmica reclinable 6 niveles"
          ],
          [
           "audfonos gamer kotion each g9000 black blue"
          ],
          [
           "porttil asus m513 ryzen 7 4700u ram 16gb ssd 512gb rxvega 8"
          ],
          [
           "apple ipad 9 generacin 102 wifi 64gb color plata"
          ],
          [
           "pc gamer amd ryzen 5 5600g 16gb ram ssd m2 500gb nvme b450"
          ],
          [
           "mouse juego redragon cobra m711fps negro"
          ],
          [
           "m513ia asus vivobook amdryzen74700u 512ssd 16g"
          ],
          [
           "disco duro externo seagate expansion stea4000400 4tb negro"
          ],
          [
           "disco duro externo adata ahd3301tu31 1tb rojo"
          ],
          [
           "torre cpu intel core i5 9400 uhd 630 1tb 8gb pc"
          ],
          [
           "porttil asus laptop x415ma celeron 4gb 128gb ssd windows 10"
          ],
          [
           "access point exterior tplink pharos cpe210 blanco 110v220v"
          ],
          [
           "switch tplink tlsg105"
          ],
          [
           "impresora color multifuncin epson ecotank l5190 wifi negra 110v220v"
          ],
          [
           "nuevo macbook pro 2021 16 pulgadas 16 gb ram 16 nucleos"
          ],
          [
           "computador pc torre ultra rapida intel core i3 4130 8gb ram"
          ],
          [
           "mouse vertical inalmbrico recargable zelotes f35 negro"
          ],
          [
           "apc backups pro br br1100m2lm 1100va entrada salida 120v negro"
          ],
          [
           "porttil asus pro amd ryzen 7 5800h 16gb 512ssd 15 fhd oled"
          ],
          [
           "pc computador gamer amd ryzen 5 5600g ssd 480gb ram 16gb rgb"
          ],
          [
           "tablet lenovo tab m10 hd 2nd gen tbx306f 101 64gb iron gray 4gb memoria ram"
          ],
          [
           "ups powest micronet 2000 2000va entrada 110v220v salida 120v negro"
          ],
          [
           "porttil lenovo ideapad 3 ryzen 3 4300u 8gb 1tb windows 10"
          ],
          [
           "tableta digitalizadora wacom cintiq 16 black"
          ],
          [
           "pc computador gamer amd ryzen 5 5600g ssd 240 hdd 1tb ram 16"
          ],
          [
           "mouse pad genius gwmp 100 tela caucho 230mm x 250mm x 25mm negro"
          ],
          [
           "porttil asus x509uaej345 15 core i3 8gb 256gb ssd win 10"
          ],
          [
           "kindle amazon luz integrada 6pulg 10ma gen 8gb blanco"
          ],
          [
           "mesa gamer trust gxt 711 dominus"
          ],
          [
           "memoria ram fury ddr3 gamer color azul 8gb 1 hyperx hx316c10f8"
          ],
          [
           "porttil gamer asus rgb core i5 10a gen ram16gb 512gb ssd"
          ],
          [
           "teclado gamer genius scorpion k215 qwerty espaol color negro luz 7 colores"
          ],
          [
           "tableta digitalizadora xppen star g430s black"
          ],
          [
           "torre cpu gamer ryzen 9 5950x gpu 2gb hdmi 1tb 32gb pc"
          ],
          [
           "asus tuf f15 intel i7 11800h rtx 3060 16g 512g 144h portatil"
          ],
          [
           "micrfono trust mico 20378 condensador omnidireccional negro"
          ],
          [
           "switch tplink tlsg108"
          ],
          [
           "kit teclado mouse gamer redragon k551rgbba espaol latinoamrica color negro"
          ],
          [
           "porttil asus tuf fx506l core i5 h 10ma 20gb ssd 512g tv 4g"
          ],
          [
           "monitor gamer curvo asus tuf gaming vg27vq led 27 negro 100v240v"
          ],
          [
           "soporte ergonmico pc porttil plegable metalico"
          ],
          [
           "porttil asus pro m3500qal1224 ryzen7 16gb ssd512 156 fhd"
          ],
          [
           "torre cpu amd apu a6 7480 radeon r5 1tb 8gb pc"
          ],
          [
           "kit teclado mouse inalmbrico logitech mk295 espaol latinoamrica color negro"
          ],
          [
           "audfonos logitech h151 negro"
          ],
          [
           "portatil lenovo amd ryzen 5 5500u ssd 512 hdd 1tb ram 20gb"
          ],
          [
           "apple ipad pro 11 wifi 256gb gris espacial 3 generacin"
          ],
          [
           "torre cpu amd ryzen 9 5900x gpu hdmi 1tb 32gb pc"
          ],
          [
           "access point router sistema wifi mesh tplink deco m5 blanco 100v240v 3 unidades"
          ],
          [
           "porttil lenovo ryzen7 16gb 512gb ssd thinkbook 15 156gris"
          ],
          [
           "mouse genius dx110 usb negro suave"
          ],
          [
           "cable utp cat 6 gigabit red internet ponchado x 10 metros"
          ],
          [
           "pc equipo gamer amd ryzen 5 3400g ssd 240gb ram 16 led 22"
          ],
          [
           "portatil lenovo 315ada05 amd ryzen 5 3500u8gb256gb156"
          ],
          [
           "base soporte porttil laptop plegable gs"
          ],
          [
           "kit 4 tintas epson original l380 l395 l495 l375 l575 ecotank"
          ],
          [
           "torre cpu intel core i9 12900 uhd 770 1tb 16gb pc"
          ],
          [
           "porttil asus vivobook14 ryzen5 512gb ssd ram 8 gb huella"
          ],
          [
           "apple ipad air 109 wifi 64gb azul cielo 4 generacin"
          ],
          [
           "disco slido ssd interno pny ssd7cs900480rb 480gb negro"
          ],
          [
           "apple ipad air 109 wifi 64gb oro rosa 4 generacin"
          ],
          [
           "portatil lenovo idepad3 15al ryzen 55500u 8gb 256 ssd gris"
          ],
          [
           "torre cpu gamer core i9 11900 gpu 2gb hdmi 1tb 16gb pc"
          ],
          [
           "lpiz ptico capacitivo pasivo mac ipad android windows"
          ],
          [
           "adaptador usb tipo c ethernet gigabit rj45 lan cable red"
          ],
          [
           "portatil acer aspire intel ci5 10210u ssd 512 hdd 1tb ram 20"
          ],
          [
           "cpu gamer core i3 decima gen ram 8 gb disco 1tb ssd 240"
          ],
          [
           "adaptador vga hdmi audio convertidor pc porttil"
          ],
          [
           "impresora multifuncin hp laserjet 137fnw wifi blanca negra 110v240v"
          ],
          [
           "porttil lenovo v14 core i3 10th 12gb 1tb128gb 14 windows"
          ],
          [
           "memoria ram valueram color verde 8gb 1 kingston kvr1333d3n98g"
          ],
          [
           "torre cpu gamer athlon 3000g vega 3 1tb 16gb pc"
          ],
          [
           "impresora color multifuncin hp deskjet ink advantage 2375 blanca verde 100v240v"
          ],
          [
           "computador portatil hp 156 pulgadas r3 12gb ram 256gb ssd"
          ],
          [
           "teclado gamer xtrike gk979 qwerty blue ingls us color negro luz rainbow"
          ],
          [
           "tableta digitalizadora wacom intuos m bluetooth black"
          ],
          [
           "mesa gamer trust gxt 711 dominus"
          ],
          [
           "porttil dell vostro 14 3400 i51135g7 ram 16gb 1tb win10"
          ],
          [
           "procesador gamer amd ryzen 5 5600x 100100000065box 6 ncleos 46ghz frecuencia"
          ],
          [
           "disco slido ssd interno samsung 970 evo plus mzv7s1t0bw 1tb negro"
          ],
          [
           "disco duro interno western digital wd purple wd60purz 6tb prpura"
          ],
          [
           "porttil lenovo v130 intel n4000 8va gen 1tb 8gb obs win"
          ],
          [
           "torre cpu gamer core i9 11900 gpu 2gb hdmi 1tb 32gb pc"
          ],
          [
           "kindle amazon luz integrada 6pulg 10ma gen 8gb negra"
          ],
          [
           "disco slido ssd interno kingston nv1 snvs250g 250gb"
          ],
          [
           "portatil lenovo v14 are ryzen 7 12gb 1tb freedos 14"
          ],
          [
           "torre cpu gamer core i7 12700 gpu 2gb hdmi 1tb 8gb pc"
          ],
          [
           "audfonos gamer hyperx cloud ii gun metal luz led"
          ],
          [
           "combo inalmbrico teclado mouse gs"
          ],
          [
           "computador portatil lenovo amd 3020e 8gb ram 1tera 128ssd"
          ],
          [
           "torre intel i3 7100 ssd 240gb ram 8gb fuente 600w"
          ],
          [
           "teclado mano gamer redragon diti k585rgb outemu blue color negro luz rgb"
          ],
          [
           "mouse vertical ergonmico inalmbrico delux m618mini 6 keys"
          ],
          [
           "computador portatil lenovo amd 3020e 8gb ram 1tera 250ssd"
          ],
          [
           "disco duro interno western digital wd black wd5000lplx 500gb negro"
          ],
          [
           "computador intel core i7 11700 uhd 750 1tb 16gb led 22 pc"
          ],
          [
           "disco duro externo adata ahd3302tu31 2tb negro"
          ],
          [
           "portatil asus procesador i7 11 gen disco duro 512ssd ram 12"
          ],
          [
           "audfonos gamer logitech g series g635 negro luz rgb led"
          ],
          [
           "monitor gamer asus gaming vg248qg led 24 negro 100v240v"
          ],
          [
           "pc torre gamer athlon 3000g ssd 128 hdd 1tb ram 8gb mon 22"
          ],
          [
           "porttil hp 245 g8 amd ryzen 3 3250u 8gb 256gb ssd 14 linux"
          ],
          [
           "mouse inalmbrico logitech m170 azul negro"
          ],
          [
           "memoria usb sandisk ultra fit 32gb 31 gen 1 negro"
          ],
          [
           "procesador gamer amd ryzen 9 5900x 100100000061wof 12 ncleos 48ghz frecuencia"
          ],
          [
           "porttil asus x513e core i5 1135g7 20 gb 512 ssd iris xe"
          ],
          [
           "pc gamer amd ryzen 7 5700g 16gb ram ssd m2 500gb nvme b550"
          ],
          [
           "kit teclado mouse inalmbrico logitech mk540 espaol color negro"
          ],
          [
           "memoria usb sandisk ultra fit 64gb 31 gen 1 negro"
          ],
          [
           "portatil lenovo flex 5 2 1 ryzen 3128gb4gbwin10 funda"
          ],
          [
           "pc torre gamer amd ryzen 7 ssd 1tb ram 16gb nvidia 1030 2gb"
          ],
          [
           "memoria usb sandisk ultra dual drive go 128gb 31 gen 1 negro plateado"
          ],
          [
           "mouse inalmbrico microsoft wireless mobile 1850 azul oscuro"
          ],
          [
           "acer nitro intel ci5 hdd 1tb256gb ram 16gb nvidia 3050 4gb"
          ],
          [
           "torre gamer ryzen 5 16gb ram 1000gb ssd 240 gb"
          ],
          [
           "disco duro interno western digital wd green power wd5000avvs 500gb verde"
          ],
          [
           "mouse logitech m535 gris negro"
          ],
          [
           "lenovo legion ryzen 7 5800h rtx 3060 ram 32gb 165h portatil"
          ],
          [
           "cable vga 15 metros doble filtro monitor nuevo"
          ],
          [
           "torre cpu gamer core i7 9700 gpu 2gb hdmi 1tb 8gb led 22 pc"
          ],
          [
           "teclado gamer redragon dyaus k509 qwerty espaol latinoamrica color negro luz 7 colores"
          ],
          [
           "portatil lenovo v14 igl celeron n4020 14 8gb 256 ssd win10"
          ],
          [
           "memoria ram vengeance lpx gamer color negro 16gb 2 corsair cmk16gx4m2d3600c18"
          ],
          [
           "cable convertidor adaptador displayport vga hembra"
          ],
          [
           "cpu dell optiplex 5050 intel 4400 win 10pro 4gb 500gb"
          ],
          [
           "porttil gigabyte g5 i511400h rtx 3050 ram 16gb m2512gb"
          ],
          [
           "ereader kindle paperwhite 10 gen 32gb azul pantalla 6 300ppp"
          ],
          [
           "tableta digitalizadora genius easypen i405x"
          ],
          [
           "audfonos gamer onikuma k10 negro luz rgb led"
          ],
          [
           "portatil hp intel i3 10110u ssd 256gb ram 12gb led 14 win10"
          ],
          [
           "computador intel core i7 9700 uhd 630 1tb 16gb led 22 pc"
          ],
          [
           "mouse pad redragon p006 kunlun caucho tela l 420mm x 880mm x 4mm negrorojo"
          ],
          [
           "tableta digitalizadora wacom intuos s bluetooth pistachio green"
          ],
          [
           "porttil asus vivobook 14 x415ja ci5 12gb 256gb ssd 14 fda"
          ],
          [
           "pc mesa core i3 9gen monitor 22 1tb ram 8gb ddr4 nvdia 1g"
          ],
          [
           "switch mercusys ms105g serie desktop"
          ],
          [
           "teclado gamer nibio impact mk500 qwerty espaol espaa color negro luz rgb"
          ],
          [
           "porttil hp 245 g8 amd ryzen 3 3250u 8gb 256gb ssd 14 linux"
          ],
          [
           "equipo smart ryzen a6 7480 ssd 240gb ram 8gb fuente 600w"
          ],
          [
           "apple ipad pro 11 wifi 128gb gris espacial 3 generacin"
          ],
          [
           "memoria 4gb ddr3 pc3l12800s 1600mhz porttil ddr3l"
          ],
          [
           "porttil dell intel core i3 11gen 8g ram 256g ssd gris 156"
          ],
          [
           "regulador voltaje ups chicago digital power rseries rsmart2010 2000va entrada salida 120v ca negro"
          ],
          [
           "pc gamer intel ci5 9400 disc ssd 240gb ram 16gb gtx 1650 4gb"
          ],
          [
           "control joystick inalmbrico logitech f710 plata negro"
          ],
          [
           "porttil hp 15 pavilion 8gb 512gb ssd windows 11 obsequio"
          ],
          [
           "audfonos gamer redragon zeus black"
          ],
          [
           "memoria usb sandisk ultra dual drive typec 128gb 31 gen 1 negro plateado"
          ],
          [
           "portatil asus i7 1065g7 20gb 256gb 1tb 156 fhd touch"
          ],
          [
           "mouse inalmbrico logitech m280 rojo"
          ],
          [
           "audfonos microsoft lifechat lx3000 negro"
          ],
          [
           "disco duro externo adata hd710 pro ahd710p2tu31 2tb rojo"
          ],
          [
           "computador portatil lenovo amd 3020e 8gb ram 1tera 128ssd"
          ],
          [
           "combo gamer teclado mouse usb gs"
          ],
          [
           "mesa laptop portatil computador tablet cama mesita negra"
          ],
          [
           "audfonos gamer kotion g2000 negro naranja luz led"
          ],
          [
           "portatil dell 3501 intel core i3 1115g4 ram 8gb 1tb 240gb"
          ],
          [
           "disco duro interno western digital wd purple wd80purz 8tb prpura"
          ],
          [
           "memoria ram vengeance lpx gamer color negro 8gb 1 corsair cmk8gx4m1d3000c16"
          ],
          [
           "audfonos gamer redragon chroma lamia 2 lunar white luz rgb led"
          ],
          [
           "apple macbook pro 13 chip m1 256gb nuevo sellado"
          ],
          [
           "disco duro interno western digital wd20ezaz 2tb azul"
          ],
          [
           "ups chicago digital power rseries rupr758 750va entrada salida 120v ca negro"
          ],
          [
           "mouse vertical inalmbrico delux m618gx grey black"
          ],
          [
           "porttil lenovo ideapad 3 14alc6 amd ryzen 3 5300u 8gb 1tb"
          ],
          [
           "tarjeta video nvidia gigabyte geforce gtx 16 series gtx 1660 gvn166toc6gd oc edition 6gb"
          ],
          [
           "tarjeta video nvidia gigabyte geforce 10 series gt 1030 gvn1030oc2gi oc edition 2gb"
          ],
          [
           "mouse inalmbrico logitech m170 plateado"
          ],
          [
           "portatil asus intel core i3 ram 12gb solido 512 gb 156"
          ],
          [
           "impresora trmica pos 58mm alta velocidad 3bumen easyprint"
          ],
          [
           "teclado gamer vsg quasar rgb qwerty outemu red lineal espaol latinoamrica color blanco luz rgb"
          ],
          [
           "procesador gamer amd ryzen 5 3600 100100000031box 6 ncleos 42ghz frecuencia"
          ],
          [
           "porttil lenovo core i7 16gb 512gb ssd thinkbook 14s 14gris"
          ],
          [
           "mesa multifuncional graduable laptop"
          ],
          [
           "combo gamer teclado mouse usb gs"
          ],
          [
           "tablet lenovo tab m7 2nd gen tb7305f 7 16gb onyx black 1gb memoria ram"
          ],
          [
           "portatil lenovo ideapad 3 ryzen 5 5500 12 ram 1tb256ssd 14"
          ],
          [
           "disco slido ssd interno patriot pbe120gs25ssdr 120 gb"
          ],
          [
           "disco slido ssd interno western digital wd green wds240g2g0b 240gb verde"
          ],
          [
           "mouse pad gamer aoas s4000 caucho poliuretano xl 30cm x 80cm x 04cm negro"
          ],
          [
           "computador portatil hp 14 intel core i3 12ram 512 ssd"
          ],
          [
           "monitor samsung gaming 32 curvo wqhd amd freesync 144hz 1ms"
          ],
          [
           "mouse inalmbrico logitech m170 rojo negro"
          ],
          [
           "mouse inalmbrico logitech pebble m350 gris azulado"
          ],
          [
           "msi gf65 thin i5 10500h rtx 3060 512gb 144hz portatil gamer"
          ],
          [
           "disco slido ssd interno xpg asx6000np128gtc 128gb negro"
          ],
          [
           "cable convertidor adaptador displayport hdmi pc tv"
          ],
          [
           "repetidor router tenda ac7 negro 100v240v"
          ],
          [
           "portatil asus x513eabq550 core i5 8 gb ssd 512gb 156 fhd"
          ],
          [
           "router access point tplink archer c60 blanco"
          ],
          [
           "camara logitech web brio 4k ultra hd"
          ],
          [
           "memoria ram color verde 8gb 1 crucial ct8g4dfra266"
          ],
          [
           "computador porttil hp 240 g7 intel celeron ram 8gb hdd 1 tb"
          ],
          [
           "disco slido ssd externo adata asd600q480gu31c 480gb azul"
          ],
          [
           "disco slido ssd interno kingston sa400m8480g 480gb verde"
          ],
          [
           "ereader kindle paperwhite 10 gen 8gb azul pantalla 6 300ppp"
          ],
          [
           "porttil hp 245 g8 amd ryzen 3 8gb 256gb ssd kit escolar"
          ],
          [
           "cable corriente poder pc monitor 12mts"
          ],
          [
           "apple magic mouse 2 plateado"
          ],
          [
           "kit combo hp 664 negro color 2n 2c original"
          ],
          [
           "porttil asus x543ua 156 ci5 ssd256 8gb endless morral"
          ],
          [
           "base gamer refrigerante porttil 5 niveles 1 ventilador"
          ],
          [
           "mouse inalmbrico xiaomi dual mode wireless silent edition wxsmsbmw02 blanco"
          ],
          [
           "access point repetidor tplink re450 blanco"
          ],
          [
           "computador portatil hp 255 g7 3020e 8gb 1tb 15 pulgadas"
          ],
          [
           "cable splitetr hdmi 1 x 2 salidas"
          ],
          [
           "mouse inalmbrico logitech pebble m350 blanco crudo"
          ],
          [
           "protector voltaje multimatic electrodomesticos tv xbox"
          ],
          [
           "portatil lenovo ideapad ryzen 5 4500u ram 20gb ssd 256gb 14"
          ],
          [
           "mouse juego inalmbrico logitech g series lightspeed g305 blue"
          ],
          [
           "mouse inalmbrico microsoft wireless mobile 1850 magenta"
          ],
          [
           "teclado genius slimstar 230 qwerty espaol color negro"
          ],
          [
           "computador porttil asus x543 core i5 256gb ssd 12gb ram"
          ],
          [
           "papel fotogrfico premium alto brillo 135g resma x 100 hojas"
          ],
          [
           "kit teclado mouse logitech mk120 espaol latinoamrica color negro"
          ],
          [
           "teclado bluetooth apple magic qwerty ingls us color plata blanco"
          ],
          [
           "computador porttil asus x543 core i5 512gb ssd 12 gb ram"
          ],
          [
           "teclado gamer redragon kumara k552 qwerty outemu blue espaol latinoamrica color negro luz roja"
          ],
          [
           "tablet amazon fire hd 10 2021 kftrwi 101 32gb black 3gb memoria ram"
          ],
          [
           "mouse juego redragon invader m719rgb negro"
          ],
          [
           "porttil lenovo thinkbook win 10 pro ryzen 7 512gb 16gb 156"
          ],
          [
           "monitor gamer asus gaming vp249qgr led 238 negro 100v240v"
          ],
          [
           "disco slido ssd interno kingston sq500s37480g 480gb"
          ],
          [
           "disco duro externo adata hd710 pro ahd710p2tu31 2tb azul"
          ],
          [
           "portatil asus rog g713ih ryzen74800h 512gb ssd 8gb gtx1650"
          ],
          [
           "memoria ram color verde 4gb 1 samsung m471b5173qh0yk0"
          ],
          [
           "monitor huawei ad80hw lcd 238 negro 110v240v"
          ],
          [
           "memoria ram valueram color verde 8gb 1 kingston kvr16ls118"
          ],
          [
           "portatil hp 245 g7 amd a4 9125 26ghz 1 tera 4gb radeon r3"
          ],
          [
           "disco slido ssd interno crucial ct960bx500ssd1 960gb"
          ],
          [
           "disco duro interno hitachi ultrastar 7k3000 hua723030ala640 3tb"
          ],
          [
           "audfonos gamer inalmbricos logitech g series g935 negro azul luz rgb led"
          ],
          [
           "apple macbook pro 2020 13 chip apple m1 8gb 256gb ssd retina"
          ],
          [
           "apple ipad air 109 wifi 64gb plata 4 generacin"
          ],
          [
           "disco slido ssd interno xpg sx6000 pro asx6000pnp512gtc 512gb negro"
          ],
          [
           "audfonos gamer corsair hs35 stereo carbon"
          ],
          [
           "porttil lenovo s14514ast amd a6 9225 14 4gb 1tb windows10"
          ],
          [
           "disco slido ssd interno samsung 870 qvo mz77q1t0 1tb"
          ],
          [
           "memoria usb sandisk ultra dual m30 64gb 30 negro"
          ],
          [
           "memoria usb sandisk cruzer glide 64gb 30 negro rojo"
          ],
          [
           "portatil asus k513ea i51135g7 ram 12gb ssd 512 gb win 10"
          ],
          [
           "protector voltaje 120v 10a refrimatic nevera congela"
          ],
          [
           "switch linksys se3008"
          ],
          [
           "monitor gamer curvo lg ultrawide 34wn80c led 34 negro 100v240v"
          ],
          [
           "portatil asus tuf core i5 10ma 8gb ssd 512gb gtx1650 4gb"
          ],
          [
           "silla ergonmica gaming reclinable largas jornadas"
          ],
          [
           "memoria usb sandisk ultra dual drive typec 64gb 31 gen 1 negro plateado"
          ],
          [
           "memoria usb sandisk ultra flair 64gb 30 plateado negro"
          ],
          [
           "porttil dell inspiron 3515 ryzen 5 16gb 256gb 156"
          ],
          [
           "tapete pad mouse gamer rgb almohadilla largo 80x30 xl xxl"
          ],
          [
           "disco duro interno western digital wd purple wd20purx 2tb prpura"
          ],
          [
           "papel fotografico 135 gr premium a4 x 100 unidades"
          ],
          [
           "lenovo legion pro ryzen 7 5800h rtx 3070 2k 1tb 165 portatil"
          ],
          [
           "bocina genius sphf180 madera"
          ],
          [
           "ups forza nt series nt762c 750va entrada salida 220v negro"
          ],
          [
           "estuche smart case soporte pencil ipad"
          ],
          [
           "portatil dell latitude 5420 ci7 16gb ssd 512gb 14 fhd w10pro"
          ],
          [
           "regulador voltaje automatico forza 1200va600w 8 salidas usb"
          ],
          [
           "base soporte porttil laptop plegable pasta celular tablet"
          ],
          [
           "50 hojas papel foto adhesivo brillante tamao a4 carta"
          ],
          [
           "apple macbook air 13 2020 chip m1 256gb teclado espaol"
          ],
          [
           "tarjeta video nvidia evga xc gaming geforce rtx 30 series rtx 3060 12gp53657kr 12gb"
          ],
          [
           "teclado gamer bluetooth logitech serie g g915 qwerty gl tactile ingls us color negro luz rgb"
          ],
          [
           "range extender access point wmm tplink re200 v4 blanco 220v"
          ],
          [
           "portatil asus vivobook 156 ryzen 5 ram 8gb ssd 512gb"
          ],
          [
           "tablet samsung galaxy tab s7 fe with s pen smt733 124 128gb mystic black 6gb memoria ram"
          ],
          [
           "teclado gamer genius gx gaming scorpion k220 qwerty espaol color negro luz 7 colores"
          ],
          [
           "tarjeta video nvidia gigabyte geforce 10 series gt 1030 gvn1030d42gl 2gb"
          ],
          [
           "apple macbook pro 16 pulgadas intel core i7 16 gb ram"
          ],
          [
           "disco slido ssd interno kingspec mt256 256gb"
          ],
          [
           "tarjeta video nvidia msi gaming x geforce 10 series gtx 1050 geforce gtx 1050 gaming x 4g 4gb"
          ],
          [
           "disco slido ssd interno samsung 980 mzv8v500bw 500gb"
          ],
          [
           "portatil lenovo v14 are ryzen 7 12gb 1tbssd 512gb freedos14"
          ],
          [
           "impresora color multifuncin canon pixma g6010 wifi negra 100v240v"
          ],
          [
           "base refrigerante porttil gs"
          ],
          [
           "router repetidor access point wisp pixlink lvwr09 blanco negro 100v240v"
          ],
          [
           "laptop asus vivobook f415ea slate gray 14 intel core i5 1135g7 8gb ram 256gb ssd intel iris xe graphics g7 80eus 60 hz 1920x1080px windows 10 home"
          ],
          [
           "impresora creality 3d ender3 v2 color black 115v230v tecnologa impresin fdm"
          ],
          [
           "cable hdmi 3 metros doble filtro mallado punta dorada"
          ],
          [
           "memoria usb adata uv240 16gb 20 negro"
          ],
          [
           "porttil dell 14 3405 ryzen 53450u 16gb 256 gb ssd"
          ],
          [
           "silla gamer gaming consola pc ergonomica reclinable"
          ],
          [
           "teclado genius slimstar 230 qwerty espaol color blanco"
          ],
          [
           "mouse genius dx120 elegant white"
          ],
          [
           "portatil lenovo amd ryzen 5 5500u ssd 256 hdd 1tb ram 12gb"
          ],
          [
           "mouse microsoft bluetooth azul pastel"
          ],
          [
           "teclado logitech k120 qwerty espaol espaa color negro"
          ],
          [
           "audfonos gamer logitech g series g335 mint"
          ],
          [
           "porttil lenovo amd ryzen 7 16gb 512gb ssd tp e15 156negro"
          ],
          [
           "disco slido ssd interno adata ultimate su650 asu650ns38120gtc 120gb"
          ],
          [
           "disco slido ssd interno kingston nv1 snvs1000g 1000gb"
          ],
          [
           "rollo trmico 80x60 caja x 60 unidades posfabricantes"
          ],
          [
           "porttil asus 14 corei5 8gb 512gb ssd antireflejo liviano"
          ],
          [
           "tablet lenovo tab p11 with keyboard pack and precision pen 2 tbj606l 11 red mvil 128gb slate grey 6gb memoria ram"
          ],
          [
           "teclado logitech k835 tkl qwerty logitech red linear ingls us color negro"
          ],
          [
           "monitor gamer curvo lg ultragear 34gl750 led 34 negro rojo 100v240v"
          ],
          [
           "porttil asus gamer tuf dash corei7 11gn 16gb 512gb ssd 3060"
          ],
          [
           "apple ipad pro 11 wifi 128gb plata 2 generacin"
          ],
          [
           "procesador gamer amd ryzen 7 5800x 100100000063wof 8 ncleos 47ghz frecuencia"
          ],
          [
           "disco duro externo adata hd710 pro ahd710p1tu31 1tb azul"
          ],
          [
           "porttil asus tuf fx506lh i5 10300h 16gb 512gb ssd tvi 4gb"
          ],
          [
           "teclado gamer logitech serie g g513 qwerty gx brown tactile ingls us internacional color carbn luz rgb"
          ],
          [
           "disco duro externo toshiba 1tb tera estuche antigolpe new"
          ],
          [
           "router tenda ac11 negro 100v240v"
          ],
          [
           "portatil lenovo amd ryzen 5 5500u ssd 256 hdd 1tb ram 8gb"
          ],
          [
           "maxell mdf30 ventilador escritorio"
          ],
          [
           "memoria ram color verde 8gb 1 samsung m471a1k43cb1crc"
          ],
          [
           "kindle paperwhite 11 pantalla 68 resistente agualibros"
          ],
          [
           "portatil hp intel i3 10110u ssd 256gb ram 8gb led 14 win10"
          ],
          [
           "memoria ram valueram color verde 8gb 1 kingston kvr26s19s68"
          ],
          [
           "disco slido ssd interno lexar lns100256rbna 256gb gris"
          ],
          [
           "disco slido ssd interno pny ssd7cs900120rb 120gb negro"
          ],
          [
           "porttil dell inspiron 3505 ryzen 5 3450u 8gb ssd 256g win10"
          ],
          [
           "ups unitec i 1500va 1500va entrada salida 100v 110v 120v negro"
          ],
          [
           "teclado gamer redragon dragonborn k630 qwerty redragon brown ingls us color blanco luz rgb"
          ],
          [
           "lapiz pencil generico compatible ipad 678 129 air 3 kit"
          ],
          [
           "porttil acer gateway ryzen 7 8gb 512gb ssd w11 156 fhd"
          ],
          [
           "tablet lenovo smart tab m8 with smart charging station tb8505fs 8 32gb iron gray 2gb memoria ram"
          ],
          [
           "regulador voltaje 1200va voltimax 8 tomas protegidas"
          ],
          [
           "memoria usb hp v150w 64gb 20 celeste negro"
          ],
          [
           "computador portatil hp corei5 8gb256ssd 14 pulgadas"
          ],
          [
           "mesa auxiliar trabajar estudiar g19944 ruedas negra"
          ],
          [
           "teclado inalmbrico logitech k230 qwerty espaol latinoamrica color negro"
          ],
          [
           "impresora simple funcin hp laserjet pro m203dw wifi blanca 110v 127v"
          ],
          [
           "porttil lenovo intel core i5 1035g1 ssd 512 hdd 1tb ram 12"
          ],
          [
           "tarjeta adaptador convertidor lan red rj45 usb 30"
          ],
          [
           "impresora color simple funcin epson surecolor t3170 wifi blanca 110v240v"
          ],
          [
           "teclado dell kb216 qwerty espaol latinoamrica color negro"
          ],
          [
           "portatil hp 245 g8 athlon 3020e ssd 256gb 8gb radeon win 10"
          ],
          [
           "disco duro interno seagate mobile hdd st2000lm007 2tb"
          ],
          [
           "memoria ram fury ddr4 gamer color negro 8gb 1 hyperx hx432c16fb38"
          ],
          [
           "base gamer refrigerante porttil 5 niveles 2ventiladores"
          ],
          [
           "laptop lenovo ideapad 14igl05 ice blue 14 intel pentium silver n5030 4gb ram 128gb ssd intel uhd graphics 605 1366x768px windows 10 home"
          ],
          [
           "adaptador sata usb 30"
          ],
          [
           "impresora wifi sistema original canon g3110 tinta koreana"
          ],
          [
           "cable utp cat 5e uso exterior aleacin 305 metros"
          ],
          [
           "portatil asus ryzen 5 41 ghz ssd 256 hdd1tb ram12gb"
          ],
          [
           "caja externa disco duro externo 25 usb 30 transparente"
          ],
          [
           "disco duro externo seagate expansion desktop steb8000100 8tb negro"
          ],
          [
           "impresora multifuncin hp laserjet m236sdw wifi blanca gris 115v 127v"
          ],
          [
           "porttil asus m409da ryzen 5 8gb ram ssd 256 1 tera hdd"
          ],
          [
           "switch tplink tlsg105e"
          ],
          [
           "forro estuche portatil protector teclado silicona 14 15"
          ],
          [
           "teclado gamer redragon kumara k552 qwerty outemu blue ingls us color negro luz rainbow"
          ],
          [
           "portatil dell vostro 3400 ci5 gen11 ssd 240gb 8g antivirus"
          ],
          [
           "ponchadora rj45 pelacable tester red 10 plug rj45"
          ],
          [
           "tablet samsung galaxy a7 lite smt225 87 red mvil 32gb gris 3gb memoria ram"
          ],
          [
           "caja externa antigolpes usb 31 adata ed600 disco duro 25"
          ],
          [
           "computador portatil acer core i5 12gb ram 256gb ssd disco"
          ],
          [
           "memoria ram valueram color verde 2gb 1 kingston kvr800d2s62g"
          ],
          [
           "disco duro externo adata hd710 pro ahd710p1tu31 1tb amarillo"
          ],
          [
           "cable hdmi 5 metros mallado doble filtro ncleo ferrita"
          ],
          [
           "computador porttil asus x509ua ci3 8gb 256gb 156 pulgadas"
          ],
          [
           "mouse plegable inalmbrico microsoft arc salvia"
          ],
          [
           "capturadora video liv streaming fhd hd 1080 hdmi usb 4k f"
          ],
          [
           "disco slido ssd interno adata ultimate su650 asu650ns38480gtc 480gb"
          ],
          [
           "macbook pro 16 16gb 1tb m1 pro"
          ],
          [
           "switch selector puertos hdmi 3 entradas 1 salida"
          ],
          [
           "mouse juego redragon gainer m610 negro"
          ],
          [
           "clips organizador cables adhesivo x 20 pcs"
          ],
          [
           "porttil lenovo ideapad 5 ryzen 7 256gb 8gb 156 fhd"
          ],
          [
           "cable convertidor adaptador usb hdmi"
          ],
          [
           "monitor asus proart pa278qv led 27 negro 100v240v"
          ],
          [
           "silla escritorio redragon c502 capricornus gamer ergonmica negra tapizado cuero sinttico"
          ],
          [
           "portatil lenovo 14itl6 core i3 11va ssd 256gb pcie 8 gb"
          ],
          [
           "disco slido ssd interno xpg sx6000 pro asx6000pnp256gtc 256gb"
          ],
          [
           "impresora color multifuncin epson ecotank l4160 wifi negra 110v"
          ],
          [
           "cable utp cat 6 gigabit red internet ponchado x 15 metros"
          ],
          [
           "macbook air m1 8gb 256ssd grt selladas"
          ],
          [
           "funda protector silicona apple pencil 2 generacin 3 pzas"
          ],
          [
           "audfonos gamer onikuma k20 camuflaje blanco luz rgb led"
          ],
          [
           "multitomas electrico 6 entradas proteccin"
          ],
          [
           "portatil gamer msi bravo 15 ryzen 7 5800h 16g rx 5500m 144hz"
          ],
          [
           "access point router sistema wifi mesh tplink deco m4 blanco 100v240v 3 unidades"
          ],
          [
           "mesa cama computador multifuncional plegable ajustab"
          ],
          [
           "procesador amd athlon 3000g yd3000c6fhbox 2 ncleos 35ghz frecuencia grfica integrada"
          ],
          [
           "portatil asus x543ua intel core i3 1 tb 8 gb 156 hd endless"
          ],
          [
           "silla escritorio corsair t3 rush gamer ergonmica gray white tapizado tela"
          ],
          [
           "convertidor adaptador conector hembra usb macho tipo c 1 und"
          ],
          [
           "kit combo cartucho hp 667 negro tricolor"
          ],
          [
           "portatil asus m515dabq1415 amd ryzen5 8gb 1tb 156 fhd"
          ],
          [
           "disco slido ssd interno samsung 870 evo mz77e500 500gb negro"
          ],
          [
           "monitor viewsonic va2261h2 led 22 negro 100v240v"
          ],
          [
           "kit teclado mouse gamer redragon k552rgbba espaol latinoamrica color negro"
          ],
          [
           "portatil lenovo ryzen 5 ram 12gb doble disco 256ssd1tb 2vid"
          ],
          [
           "disco duro externo toshiba 1tb tera estuche antigolpe"
          ],
          [
           "switch tplink ls1005 serie litewave"
          ],
          [
           "receptor usb bluetooth 50 pc diadema control xbox one ps4"
          ],
          [
           "lenovo thinkpad l15 156 full hd 1080p portatil 20u30022us"
          ],
          [
           "memoria usb kingston datatraveler 50 dt50 64gb 31 gen 1 plateado azul"
          ],
          [
           "mouse inalmbrico microsoft sculpt ergonomic negro"
          ],
          [
           "audfonos gamer kotion each g4000 negro azul"
          ],
          [
           "portatil lenovo v14 are ryzen 7 8gb 1tbssd 512gb freedos 14"
          ],
          [
           "amazon kindle 10 ma generacin luz frontal integrada"
          ],
          [
           "base refrigerante portatil 6 ventiladores laptop reclinable"
          ],
          [
           "repetidor amplificador wifi xiaomi pro rompemuros"
          ],
          [
           "portatil dell inspiron 3501 156 core i3 11ava 4gb 1tb negro"
          ],
          [
           "multiplicador splitter hdmi 1 entrada x 2 salidas 1080 1x2"
          ],
          [
           "impresora trmica pos 80mm alta velocidad cortadora"
          ],
          [
           "audfonos gamer diadema micrfono vsg kuiper pc xbox ps"
          ],
          [
           "porttil ideapad 5 pro intel core i7 16gb 512gb ssd 14 gris"
          ],
          [
           "mouse pad gamer havit hvmp830 caucho tela magic eagle 300mm x 900mm x 3mm negro"
          ],
          [
           "adaptador usbc 7 1 hdmi 4k usb 30 lector tarjetas hub"
          ],
          [
           "bocina genius sphf280 wood"
          ],
          [
           "lenovo gamer legion 5 pro 16ith6h core i711800h rtx 3050"
          ],
          [
           "mesa cama porttil"
          ],
          [
           "tarjeta video nvidia msi ventus xs geforce gtx 16 series gtx 1660 super geforce gtx 1660 super ventus xs oc oc edition 6gb"
          ],
          [
           "control joystick inalmbrico ipega pg9078 negro"
          ],
          [
           "portatil asus x543uaintel core i3 1tb 4gb 156 hd endless"
          ],
          [
           "control joystick inalmbrico redragon harrow g808 negro"
          ],
          [
           "audfonos gamer razer blackshark v2 x classic black"
          ],
          [
           "access point router sistema wifi mesh tplink deco m5 blanco 100v240v 2 unidades"
          ],
          [
           "asus x415ea i3 1115g4 ram 12gb ssd 512gb 140 win 11"
          ],
          [
           "apple ipad air 109 wifi 256gb gris espacial 4 generacin"
          ],
          [
           "audfonos gamer astro a10 gris rojo"
          ],
          [
           "audfonos gamer inalmbricos logitech g series g733 kda luz rgb led"
          ],
          [
           "portatil acer nitro 5 an5155553e5 16gb 512gb rtx 3050"
          ],
          [
           "audfonos gamer logitech g series g335 blanco"
          ],
          [
           "impresora canon multifucional g3110 wifi tintas originales"
          ],
          [
           "mouse juego logitech g series g600 negro"
          ],
          [
           "porttil asus x415eaek1182 corei31115g4 12gb 256ssd 14 fhd"
          ],
          [
           "audfonos logitech h111 gris"
          ],
          [
           "soporte base brazo laptop portatil north bayou ergonomica"
          ],
          [
           "tableta digitalizadora wacom intuos m bluetooth pistachio green"
          ],
          [
           "porttil lenovo ryzen 5 16gb 512gb ssd legin 5 156 gris"
          ],
          [
           "capturadora video streaming fhd hd hdmi 4k usb xbox ps4"
          ],
          [
           "monitor gamer curvo asus tuf gaming vg24vq led 236 negro 100v240v"
          ],
          [
           "teclado gamer redragon vata pro k580rgbpro qwerty outemu brown espaol latinoamrica color negro luz rgb"
          ],
          [
           "porttil msi crosshair 15 core i7 512gb 32gb rtx 3050 w10"
          ],
          [
           "teclado gamer redragon kumara k552 qwerty cherry mx blue ingls us color blanco luz rainbow"
          ],
          [
           "teclado gamer delux k9600 rgb programable macros multimedia"
          ],
          [
           "audfonos gamer inalmbricos logitech g series g435 blanco crudo lila"
          ],
          [
           "porttil dell 14 3405 ryzen 53450u 8gb 256 gb ssd"
          ],
          [
           "cable hdmi 8k alta velocidad ultra hd 48gbps 21 vdeo audio"
          ],
          [
           "teclado gamer vsg mintaka qwerty kailh red espaol latinoamrica color negro luz rgb"
          ],
          [
           "mini proyector videobeam wifi led 5500 lumens 250 pulgadas"
          ],
          [
           "portatil lenovo amd ryzen 3 4300u hdd 1tb ssd 256gb ram 12gb"
          ],
          [
           "switch tplink tlsg108e"
          ],
          [
           "access point router sistema wifi mesh tplink deco m4 blanco 100v240v"
          ],
          [
           "mouse inalmbrico logitech m280 azul"
          ],
          [
           "porttil hp gamer corei5 10 gen ram16gb ssd512gb4gb video"
          ],
          [
           "sistema wifi mesh jensen of scandinavia omni lite mesh blanco 3 unidades"
          ],
          [
           "mouse juego logitech pro series g pro hero 16k negro"
          ],
          [
           "apple ipad air 5 generacin 109 wifi 64 gb chip m1 gris espacial"
          ],
          [
           "porttil lenovo ryzen 7 16gb 512gb ssd legin 5 156"
          ],
          [
           "tablet lenovo yoga tab 11 ytj706f 11 256gb storm gray 8gb memoria ram"
          ],
          [
           "sistema wifi mesh tenda mw3 blanco 100v240v 2 unidades"
          ],
          [
           "protector teclado silicona 14 15 gs"
          ],
          [
           "porttil lenovo intel ci7 16gb 512gb ssd legin 5 156 gris"
          ],
          [
           "tablet mobulaa tab 1 101 red mvil 32gb gris 3gb memoria ram"
          ],
          [
           "tablet samsung galaxy a7 lite smt225 87 red mvil 64gb plateada 4gb memoria ram"
          ],
          [
           "teclado gamer redragon magic wand pro k587pro qwerty redragon optomecnico espaol latinoamrica color negro luz rgb"
          ],
          [
           "computador core2 duo ram 2gb ddr2 hdd 160gb monitor 17p"
          ],
          [
           "cpu desktop hp pro 6005"
          ]
         ],
         "hovertemplate": "0=%{x}<br>1=%{y}<br>titles=%{customdata[0]}<br>color=%{marker.color}<extra></extra>",
         "legendgroup": "",
         "marker": {
          "color": [
           7,
           4,
           1,
           2,
           3,
           1,
           5,
           8,
           2,
           7,
           1,
           3,
           8,
           7,
           1,
           4,
           3,
           8,
           1,
           4,
           6,
           7,
           1,
           1,
           6,
           7,
           1,
           8,
           4,
           7,
           1,
           3,
           8,
           4,
           5,
           7,
           8,
           1,
           1,
           4,
           1,
           8,
           5,
           3,
           4,
           3,
           1,
           0,
           3,
           3,
           1,
           4,
           7,
           7,
           3,
           8,
           4,
           6,
           5,
           7,
           4,
           1,
           1,
           4,
           4,
           8,
           1,
           1,
           3,
           1,
           5,
           8,
           4,
           3,
           5,
           0,
           7,
           4,
           1,
           3,
           0,
           4,
           1,
           4,
           3,
           8,
           5,
           2,
           7,
           3,
           5,
           0,
           4,
           7,
           1,
           1,
           1,
           7,
           5,
           8,
           4,
           1,
           5,
           1,
           8,
           4,
           1,
           3,
           7,
           8,
           5,
           6,
           2,
           7,
           1,
           8,
           4,
           6,
           5,
           8,
           6,
           2,
           5,
           8,
           2,
           3,
           1,
           2,
           8,
           3,
           5,
           4,
           3,
           8,
           1,
           4,
           3,
           7,
           1,
           8,
           4,
           2,
           1,
           4,
           7,
           2,
           5,
           2,
           8,
           4,
           1,
           7,
           4,
           6,
           5,
           3,
           1,
           0,
           1,
           6,
           3,
           6,
           5,
           1,
           2,
           1,
           5,
           8,
           8,
           6,
           1,
           7,
           4,
           7,
           5,
           2,
           3,
           8,
           8,
           1,
           4,
           1,
           5,
           2,
           1,
           2,
           5,
           8,
           4,
           7,
           5,
           4,
           3,
           4,
           1,
           6,
           8,
           7,
           5,
           6,
           7,
           1,
           5,
           3,
           3,
           4,
           5,
           0,
           1,
           7,
           8,
           0,
           2,
           3,
           5,
           4,
           7,
           3,
           5,
           4,
           0,
           7,
           5,
           6,
           8,
           8,
           1,
           4,
           4,
           4,
           5,
           4,
           7,
           8,
           5,
           8,
           3,
           7,
           5,
           0,
           2,
           1,
           1,
           3,
           1,
           7,
           5,
           7,
           3,
           0,
           5,
           3,
           7,
           7,
           5,
           0,
           7,
           1,
           5,
           0,
           4,
           1,
           5,
           4,
           8,
           2,
           5,
           2,
           8,
           4,
           1,
           2,
           8,
           1,
           5,
           3,
           2,
           3,
           1,
           8,
           4,
           2,
           5,
           1,
           3,
           8,
           5,
           4,
           1,
           7,
           5,
           2,
           8,
           8,
           5,
           1,
           7,
           0,
           5,
           8,
           2,
           6,
           5,
           4,
           3,
           2,
           5,
           4,
           2,
           3,
           5,
           8,
           1,
           1,
           5,
           7,
           6,
           1,
           1,
           2,
           4,
           8,
           1,
           3,
           4,
           4,
           5,
           2,
           1,
           7,
           5,
           8,
           2,
           3,
           5,
           2,
           8,
           6,
           5,
           3,
           2,
           8,
           5,
           4,
           2,
           3,
           5,
           8,
           4,
           7,
           5,
           8,
           3,
           2,
           1,
           8,
           2,
           2,
           5,
           3,
           8,
           2,
           5,
           7,
           4,
           8,
           5,
           1,
           3,
           4,
           5,
           4,
           2,
           1,
           5,
           8,
           7,
           3,
           1,
           8,
           3,
           7,
           5,
           2,
           4,
           2,
           5,
           7,
           4,
           4,
           5,
           1,
           7,
           4,
           5,
           8,
           3,
           7,
           5,
           3,
           6,
           8,
           1,
           1,
           3,
           4,
           1,
           3,
           8,
           4,
           5,
           3,
           3,
           4,
           5,
           3,
           8,
           2,
           1,
           4,
           1,
           2,
           5,
           4,
           7,
           3,
           5,
           4,
           8,
           8,
           5,
           4,
           4,
           4,
           5,
           3,
           1,
           4,
           5,
           3,
           1,
           3,
           1,
           4,
           1,
           2,
           5,
           4,
           6,
           7,
           5,
           3,
           4,
           2,
           5,
           4,
           2,
           2,
           5,
           6,
           2,
           2,
           1,
           1,
           2,
           6,
           5,
           8,
           6,
           1,
           1,
           8,
           2,
           7,
           5,
           2,
           8,
           4,
           5,
           6,
           4,
           8,
           5,
           3,
           7,
           4,
           5,
           4,
           2,
           3,
           5,
           8,
           4,
           2,
           1,
           4,
           2,
           6,
           5,
           1,
           8,
           7,
           5,
           3,
           7,
           8,
           5,
           3,
           2,
           2,
           1,
           8,
           7,
           3,
           5,
           4,
           1,
           8,
           5,
           1,
           8,
           7,
           5,
           3,
           2,
           4,
           5,
           4,
           3,
           0,
           5,
           2,
           2,
           2,
           5,
           1,
           2,
           5,
           0,
           4,
           6,
           5,
           1,
           0,
           2,
           5,
           7,
           2,
           4,
           5,
           2,
           8,
           0,
           5,
           1,
           3,
           1,
           1,
           0,
           2,
           2,
           5,
           8,
           2,
           2,
           5,
           4,
           0,
           2,
           5,
           4,
           3,
           2,
           5,
           8,
           4,
           3,
           5,
           0,
           3,
           4,
           5,
           8,
           6,
           5,
           5,
           4,
           2,
           7,
           5,
           3,
           8,
           7,
           5,
           6,
           1,
           4,
           5,
           7,
           2,
           3,
           5,
           8,
           4,
           2,
           5,
           4,
           4,
           7,
           5,
           0,
           3,
           7,
           5,
           6,
           1,
           4,
           5,
           4,
           2,
           8,
           5,
           3,
           3,
           6,
           5,
           8,
           4,
           3,
           5,
           2,
           2,
           4,
           5,
           4,
           1,
           2,
           5,
           3,
           4,
           2,
           5,
           6,
           3,
           5,
           7,
           6,
           8,
           5,
           2,
           2,
           6,
           5,
           3,
           4,
           6,
           1,
           3,
           8,
           7,
           5,
           4,
           8,
           7,
           5,
           2,
           4,
           8,
           5,
           5,
           2,
           3,
           5,
           3,
           4,
           4,
           5,
           1,
           7,
           7,
           5,
           4,
           2,
           2,
           5,
           2,
           2,
           4,
           5,
           2,
           4,
           3,
           5,
           6,
           2,
           4,
           5,
           2,
           7,
           2,
           5,
           6,
           7,
           3,
           5,
           7,
           7,
           4,
           5,
           4,
           4,
           4,
           5,
           4,
           1,
           7,
           5,
           1,
           3,
           8,
           5,
           4,
           1,
           2,
           8,
           3,
           3,
           6,
           5,
           1,
           4,
           6,
           5,
           3,
           2,
           2,
           5,
           3,
           2,
           1,
           5,
           2,
           2,
           2,
           5,
           2,
           3,
           1,
           5,
           8,
           3,
           8,
           5,
           2,
           2,
           1,
           1,
           2,
           4,
           3,
           5,
           1,
           4,
           8,
           1,
           4,
           2,
           4,
           5,
           3,
           2,
           2,
           1,
           2,
           6,
           2,
           5,
           2,
           4,
           7,
           5,
           7,
           4,
           6,
           5,
           4,
           4,
           2,
           5,
           1,
           4,
           4,
           5,
           1,
           8,
           8,
           5,
           4,
           2,
           2,
           5,
           2,
           4,
           3,
           5,
           4,
           3,
           3,
           5,
           8,
           4,
           2,
           5,
           3,
           2,
           3,
           5,
           2,
           4,
           2,
           5,
           2,
           2,
           4,
           5,
           3,
           4,
           5,
           5,
           2,
           2,
           2,
           5,
           2,
           4,
           2,
           5,
           2,
           2,
           4,
           5,
           2,
           1,
           3,
           3,
           4,
           8,
           6,
           5,
           2,
           2,
           4,
           1,
           6,
           7,
           2,
           5,
           2,
           1,
           2,
           5,
           4,
           2,
           2,
           5,
           2,
           6,
           6,
           5,
           3,
           2,
           3,
           5,
           2,
           2,
           4,
           5,
           3,
           1,
           2,
           5,
           2,
           4,
           4,
           5,
           2,
           7,
           6,
           5,
           3,
           2,
           2,
           5,
           2,
           2,
           6,
           5,
           4,
           2,
           3,
           3,
           2,
           2,
           2,
           5,
           2,
           6,
           2,
           1,
           1,
           6,
           6,
           5,
           6,
           2,
           7,
           5,
           6,
           5,
           3,
           5,
           2,
           1,
           4,
           5,
           4,
           2,
           6,
           5,
           2,
           4,
           0,
           5,
           2,
           3,
           7,
           5,
           3,
           7,
           1,
           5,
           1,
           3,
           5,
           5,
           1,
           1,
           4,
           8,
           2
          ],
          "coloraxis": "coloraxis",
          "symbol": "circle"
         },
         "mode": "markers",
         "name": "",
         "orientation": "v",
         "showlegend": false,
         "type": "scatter",
         "x": [
          0.08629741141153165,
          0.043691264990369266,
          0.4353517460178955,
          0.08371675208608188,
          0.08243626323042366,
          0.12160559653735697,
          0.32612615302713116,
          0.3880024402878112,
          0.13185635165218584,
          0.08124703745463419,
          0.2964369842275271,
          0.060836992945023156,
          0.412223319657145,
          0.14368260180250003,
          0.3944499034514303,
          0.19240297280164984,
          0.13555652655965783,
          0.3116587574357945,
          0.3025403187391128,
          0.19489037482094743,
          0.14584959646899667,
          0.12255448824555402,
          0.19871332858566595,
          0.3481599843893521,
          0.08306830435421936,
          0.1239299963756032,
          0.33004047385405916,
          0.13311413324156843,
          0.13181590372895233,
          0.11544713864208003,
          0.18007143094003003,
          0.0799618691819053,
          0.19295847135169172,
          0.11166619612381279,
          0.2680736615184544,
          0.0914691287195076,
          0.43664215797702893,
          0.17728654528549886,
          0.4409841166850288,
          0.17132178922853225,
          0.12810589295289931,
          0.40258850275845426,
          0.24184206681319922,
          0.1876927627319277,
          0.1103463021415979,
          0.15595964247168825,
          0.31532005447031325,
          0.3186382319941173,
          0.16951660248075962,
          0.13941241445566843,
          0.19851251308410156,
          0.5125249061260181,
          0.030648758058656512,
          0.0890777340099629,
          0.2943763703740002,
          0.09839027474025677,
          0.4884000360541638,
          0.1385964755886696,
          0.36690378081949215,
          0.07750132537784585,
          0.15076663773620558,
          0.16913800670293427,
          0.32937719539201554,
          0.16713151523736255,
          0.09297264144956194,
          0.46135021378352004,
          0.2761244438038058,
          0.12241702211204401,
          0.17636170670145776,
          0.12121935856047865,
          0.3915925365181963,
          0.44565256005005305,
          0.1581798011873963,
          0.08487783579829568,
          0.23563522707216808,
          0.3301253940836523,
          0.08211269560027212,
          0.035441413960179254,
          0.3350394300411529,
          0.22124358290122867,
          0.3512185125989852,
          0.17215761531869037,
          0.2973110972680361,
          0.18853239396896707,
          0.09556139180875699,
          0.48746492729834295,
          0.21703554985572268,
          0.10575318058405779,
          0.06511813441152887,
          0.17669961429699946,
          0.5068277297984017,
          0.35599229878649413,
          0.1695276128480606,
          0.05181168922108434,
          0.30040616174612067,
          0.4129588764013133,
          0.12865157296674457,
          0.10816906208003402,
          0.27040578986111014,
          0.26781329191929837,
          0.1473966121001815,
          0.15973729762976355,
          0.28504218117498864,
          0.14504634212879636,
          0.4272896207212153,
          0.14266149320699825,
          0.4147057904574494,
          0.05976846259285675,
          0.08039893270415811,
          0.29713243202368583,
          0.19407723156517506,
          0.09760042372609112,
          0.10114579557132422,
          0.1450797963260851,
          0.27903863116330485,
          0.32562041180334445,
          0.10863243344471053,
          0.15956434204342834,
          0.31508315996731484,
          0.4314765038692721,
          0.14912923627310545,
          0.08692467562813912,
          0.31974780722905866,
          0.1470365612049223,
          0.07619422130947928,
          0.07996948840905267,
          0.3207200422342784,
          0.07770871103715138,
          0.45927465796105843,
          0.13034675554761613,
          0.20703363071922815,
          0.13182530525957353,
          0.12085425164872657,
          0.46485699890485715,
          0.31725181907748873,
          0.16033291883067047,
          0.16347432334427217,
          0.08406746182404817,
          0.18266635754531713,
          0.33661127126257373,
          0.187512788151141,
          0.0901056660368013,
          0.29417273779511394,
          0.4525513517689446,
          0.1152871262464798,
          0.11232804289116502,
          0.24438272259424076,
          0.08756138464399665,
          0.4545265450011661,
          0.1411592386950768,
          0.41007818050963535,
          0.13443035516959018,
          0.5109386429140932,
          0.12885545765595702,
          0.33237604828256134,
          0.09119850442170419,
          0.13424855905983857,
          0.361538276217703,
          0.30065415392698813,
          0.15710853181763432,
          0.12065388663382738,
          0.19858693595785668,
          0.393178426310493,
          0.36373133340930064,
          0.06540120677897793,
          0.11939391926851586,
          0.30824755735236503,
          0.40634666655296625,
          0.0995747476033445,
          0.18668671768944178,
          0.29723129876993154,
          0.08622754528990142,
          0.45536172486264653,
          0.06744642974362652,
          0.18354991153454486,
          0.1381118620799053,
          0.08326960512885592,
          0.3982454956315503,
          0.19062245208785314,
          0.15017323670124108,
          0.18338132688956027,
          0.17168056101865325,
          0.33848685900151876,
          0.02231820981645784,
          0.16791383153789138,
          0.13628633738883947,
          0.3090577209098141,
          0.05917599874440047,
          0.09849201474157995,
          0.11054582611033038,
          0.24964827659189542,
          0.29523961129177706,
          0.12202993999209173,
          0.16568143992821616,
          0.3146078099611327,
          0.06436420445331761,
          0.4708627642576061,
          0.12760051248173113,
          0.2877333152428912,
          0.1359920717064445,
          0.11227517136880391,
          0.15601042635400328,
          0.307026246724572,
          0.07933970165368527,
          0.05241721665759728,
          0.12181577296707075,
          0.3268229124562582,
          0.23381487872022036,
          0.11890492740994643,
          0.10056181629763201,
          0.32381608048940985,
          0.2788673620384909,
          0.04189297947817027,
          0.13491887059340993,
          0.2661702703289003,
          0.3412449684342422,
          0.10260246282379616,
          0.09974667105319132,
          0.23760426970008122,
          0.14389980270652702,
          0.3982007297024161,
          0.0796777468068007,
          0.3222218293075786,
          0.06577451808264385,
          0.18841902641802846,
          0.16787020246460624,
          0.29556867521168856,
          0.1887321053513621,
          0.015675148646994402,
          0.11845515308184613,
          0.3227386508109638,
          0.46781658326181247,
          0.12706019271274802,
          0.07397664512126888,
          0.33143540432649765,
          0.48779374609091025,
          0.0654406374318799,
          0.10889188954972252,
          0.15724750586703728,
          0.30962498168536484,
          0.08712674405263834,
          0.10915488034940778,
          0.34507648340514546,
          0.12522418661465948,
          0.2613479399239929,
          0.06589855103595423,
          0.22098828827920333,
          0.053302100933899234,
          0.16355310633192885,
          0.3511306039500655,
          0.46792820067021396,
          0.11539503599153782,
          0.09266817284764928,
          0.06401552577078987,
          0.41088164813908284,
          0.3778930257746495,
          0.13312012581420105,
          0.16196771714608788,
          0.2910380716368908,
          0.414573600602427,
          0.15848565949732976,
          0.14762257591771766,
          0.3109209724573992,
          0.18980798984622005,
          0.47119227008734865,
          0.10741500755774239,
          0.23627500557722442,
          0.11603977298037017,
          0.536708766479184,
          0.12518148707522442,
          0.32449226419553107,
          0.10002721858711705,
          0.03958284890028041,
          0.3675743831964018,
          0.25794812080022567,
          0.11374338086856897,
          0.09221423360140225,
          0.11132953327538662,
          0.30002588435685673,
          0.3556701678176794,
          0.10585245955706804,
          0.08331870117791407,
          0.2082878989526964,
          0.3501624109858315,
          0.1105518103451677,
          0.1268050707139483,
          0.24503938641538675,
          0.14535238888139856,
          0.3721280935784182,
          0.062397976884935556,
          0.3929226246450431,
          0.06112794735758407,
          0.3873784841036584,
          0.10996215665427383,
          0.2900436667616825,
          0.12494674790725475,
          0.12232174673364057,
          0.31537643177517655,
          0.2514363312230108,
          0.10525638935407505,
          0.10380437389959149,
          0.1013107805582761,
          0.31029498321876514,
          0.46487534219970106,
          0.09864838585437552,
          0.14363333276406393,
          0.37083586634418614,
          0.3730770983335081,
          0.16417798392178923,
          0.12100217408996489,
          0.2299136026622768,
          0.054640460852181584,
          0.48639712285781656,
          0.12487478818090593,
          0.237704850687888,
          0.12944914397727045,
          0.08922550155610783,
          0.3651352156149707,
          0.15250328803834057,
          0.126633045274912,
          0.17898595381219043,
          0.3863640035606102,
          0.3301497621328123,
          0.10823646547108787,
          0.12400149692006135,
          0.14990927534667542,
          0.39996914450067794,
          0.06161570593063834,
          0.16451510360384386,
          0.1055000182871593,
          0.36473514868297613,
          0.2971902631700483,
          0.10446271518953963,
          0.060337965385845745,
          0.49422872141643787,
          0.1246617285543031,
          0.25833391751996415,
          0.15652437382531237,
          0.2888799982904557,
          0.10082407078994386,
          0.09491906221950934,
          0.4154739070162682,
          0.4147676084981764,
          0.14441949310603852,
          0.10776988135819093,
          0.08155549989496225,
          0.4253326233849234,
          0.17543545363380184,
          0.12236172475395954,
          0.09593131917557289,
          0.3786572988389557,
          0.5525345101047663,
          0.15011022026911047,
          0.10541228140005185,
          0.3081466909815996,
          0.4564784657257813,
          0.11147304272845751,
          0.03740259695006152,
          0.21058320388743945,
          0.1277213220877529,
          0.2533487325110061,
          0.06576920190381653,
          0.2692213047806516,
          0.11624369078027935,
          0.1440042883558376,
          0.30656405913677665,
          0.250492268460927,
          0.17037107646795965,
          0.12352232767713836,
          0.10211276145764735,
          0.36659890478106893,
          0.42116846580332123,
          0.09994121878250796,
          0.18273229139083555,
          0.18019894540427087,
          0.29886108436476144,
          0.06329623652781821,
          0.12485831418887726,
          0.18847447869647835,
          0.32269379149438004,
          0.0873284980546642,
          0.1053636910295807,
          0.18768931061258376,
          0.08190338920539939,
          0.48777485451677255,
          0.06957969851160906,
          0.3024559809082002,
          0.06470521531331608,
          0.15945578389526552,
          0.23437653615237564,
          0.2175263652731074,
          0.16711491583644097,
          0.10701726514872965,
          0.17829677675201075,
          0.1622376514677953,
          0.20637057770469633,
          0.14366118899436126,
          0.11924788256074534,
          0.33848685900151876,
          0.30596064011649293,
          0.11193988170201549,
          0.10397319878800218,
          0.29996350658707466,
          0.0726019745952225,
          0.29972070122526867,
          0.14836201846552555,
          0.31831884204885624,
          0.0793625333729835,
          0.11965913982008983,
          0.13309693586221413,
          0.2927944343915913,
          0.11677973995828322,
          0.0809601846419536,
          0.3767588835790367,
          0.18498260339107056,
          0.061540826028706586,
          0.07916639063491197,
          0.06560601130667455,
          0.23779231159601383,
          0.40514058896123817,
          0.1675049539344366,
          0.17265737393861555,
          0.3386250625574063,
          0.49746807875386234,
          0.08436822900452393,
          0.12892546676583627,
          0.24216520069676134,
          0.18854999321807858,
          0.22088167323468733,
          0.09342180493609364,
          0.2273324019207368,
          0.07499378385508096,
          0.020573278600588333,
          0.47327692187524617,
          0.23808067654230694,
          0.09960114473088828,
          0.17202351395508306,
          0.3935128432571254,
          0.3577750222239062,
          0.06495085559915698,
          0.163282842983935,
          0.06310641418185134,
          0.2782506126062938,
          0.5193606470203904,
          0.1275373222165661,
          0.08389735504796757,
          0.32079744311413566,
          0.44386060591201887,
          0.13541358604288214,
          0.06037942127575871,
          0.14397399009590647,
          0.1268386341333901,
          0.3219357121519765,
          0.0901590949063989,
          0.2972200776939484,
          0.12999350226869802,
          0.06896962240820263,
          0.34178589926501757,
          0.26262315839541905,
          0.13719929641239054,
          0.11892879657128079,
          0.17215653554248805,
          0.19360260702861765,
          0.11798718745569081,
          0.0630609725963912,
          0.03756116264056237,
          0.31272435010458527,
          0.20368616686327315,
          0.04938271694615418,
          0.09933932063993425,
          0.2965449266694355,
          0.29726323088085904,
          0.1317818359847485,
          0.06683680324551776,
          0.3418816219875361,
          0.07414682100711609,
          0.4949182193217489,
          0.08476274398597093,
          0.2314776526306099,
          0.11496399686189906,
          0.017610128499166742,
          0.48339122932213535,
          0.18968733959070355,
          0.09629287602691787,
          0.13124728728476123,
          0.023244742751969014,
          0.3457848100642035,
          0.4435393447524153,
          0.08972083018574309,
          0.096349648022227,
          0.39182833178639137,
          0.401633232664072,
          0.1784290765307086,
          0.05719316542828209,
          0.14714080573771857,
          0.5198676475352768,
          0.12535464788544182,
          0.11302857357422844,
          0.352086660795568,
          0.11593603980299119,
          0.35837342784498966,
          0.0736925088258235,
          0.17134076517340846,
          0.10933825405894883,
          0.1157283570084614,
          0.3084211510894371,
          0.25110781599988297,
          0.07215043186783342,
          0.016592590684618696,
          0.07901321325790815,
          0.14856736063169548,
          0.2940231379919011,
          0.09604504593455071,
          0.07970661914770075,
          0.3218216942273206,
          0.49526101386776256,
          0.1684294201995667,
          0.08675498543568586,
          0.33557427686653307,
          0.08196453330133095,
          0.5124293039794929,
          0.08384968785169832,
          0.29227076832379395,
          0.13532502182137954,
          0.06154477037148546,
          0.12869462374245969,
          0.3893979548169474,
          0.1864082859176348,
          0.07048916737752482,
          0.3036222626066105,
          0.18401101219090218,
          0.061962080409200676,
          0.018492534443500158,
          0.18749900118264975,
          0.22101191684227267,
          0.18886845221237805,
          0.14220170624838546,
          0.23049252482614768,
          0.21015078240199953,
          0.18475188906959072,
          0.07874591041384402,
          0.46792820067021396,
          0.14558186701191284,
          0.28105083919403506,
          0.10054795161238846,
          0.32851336328141506,
          0.08331960155903624,
          0.0783657916657314,
          0.4036390692109622,
          0.2620605653184988,
          0.17215653554248805,
          0.03217071742456329,
          0.29247606865625836,
          0.2969431005069781,
          0.09463488700617094,
          0.17018752550681962,
          0.09382004611881162,
          0.31964185263663714,
          0.34520948107690225,
          0.06674706349257639,
          0.06258485669122682,
          0.33347986375750277,
          0.3394720032984446,
          0.14668230686899927,
          0.0839554311957182,
          0.28420358935188067,
          0.13407546502490938,
          0.34482081955423943,
          0.09100756915994453,
          0.32995346128630343,
          0.14327094322479536,
          0.07961619611588672,
          0.06154477037148546,
          0.24624499255347268,
          0.1960331506374774,
          0.15410254294066147,
          0.09366185884233419,
          0.2316694492381013,
          0.3127541798680699,
          0.1439367207681777,
          0.1435567490709439,
          0.3105128034042384,
          0.34880449689771503,
          0.08846469861473161,
          0.12918134996562886,
          0.3557721823613772,
          0.3181710159003482,
          0.1610114368713311,
          0.07795821482568588,
          0.3512135916533544,
          0.13999746406974226,
          0.30386908719126937,
          0.10177894935878122,
          0.27951054734724246,
          0.18430071963483258,
          0.20451549382793358,
          0.3988203777442665,
          0.33466336697990823,
          0.13517422927707604,
          0.11592619420307115,
          0.17582356477627065,
          0.25067762379691017,
          0.34169980100991665,
          0.1842204894438088,
          0.10877063753390857,
          0.18597442689949378,
          0.46539324148281835,
          0.13476303773352297,
          0.08065288719684684,
          0.2787415347655239,
          0.5492004626008554,
          0.14518956466902647,
          0.10002756010526306,
          0.2719851923232647,
          0.0843054296096669,
          0.34751572196446295,
          0.19005372656352462,
          0.2444786846237419,
          0.1698083197680569,
          0.10738112647480914,
          0.14434261705437065,
          0.19062104900841131,
          0.10997855548326135,
          0.07023790551627863,
          0.14590571830799934,
          0.3734286897406286,
          0.3072382131158727,
          0.06369363902598925,
          0.07599489084170348,
          0.24588149802524217,
          0.20899484870278834,
          0.04396122467394931,
          0.15052324752320442,
          0.33466336697990823,
          0.23723309715598526,
          0.13717001506198392,
          0.1047206785670249,
          0.34011116337874225,
          0.10285558750425745,
          0.32929858935114975,
          0.09545126763833074,
          0.2255857385058591,
          0.1265970481543608,
          0.12031429704428018,
          0.25220332560828745,
          0.12005672875755614,
          0.058454463209218155,
          0.10521440992736347,
          0.3557721823613772,
          0.13922518567261416,
          0.17940969629456652,
          0.12741475503818958,
          0.33655209041882783,
          0.09564959851427783,
          0.15800710476022506,
          0.1257436627166577,
          0.1332903062333245,
          0.10316445103827218,
          0.08488749455260211,
          0.08470743571503561,
          0.3031671030354568,
          0.08259725300077429,
          0.08761383719461142,
          0.13243924301187043,
          0.37715078450155587,
          0.047903006720459884,
          0.1585694610520287,
          0.19386192521291204,
          0.29831406229833146,
          0.0629625044595887,
          0.13922518567261416,
          0.1486596550799434,
          0.3673234477127174,
          0.12524486634758222,
          0.17804901946554175,
          0.0832615120856786,
          0.3317618199066834,
          0.1023984354107542,
          0.13297597413152293,
          0.13062105226107748,
          0.18440793095252683,
          0.15651341574002134,
          0.13589504072927494,
          0.1096017582493054,
          0.29158734886099874,
          0.07710403557778675,
          0.059623490074793756,
          0.12444397545664888,
          0.32079744311413566,
          0.1375354264150211,
          0.17537536748008295,
          0.10817528318045581,
          0.30941623229244786,
          0.1407965378944963,
          0.0630554616171136,
          0.08135800685087131,
          0.20202585587274757,
          0.17935031823361777,
          0.07791623191790092,
          0.06655140803676743,
          0.2527832608608747,
          0.05652862435560998,
          0.1159628727144145,
          0.05367016585118363,
          0.42613062595367773,
          0.12269172378946815,
          0.08113285338759824,
          0.12751166039398298,
          0.41088164813908284,
          0.05547183627078758,
          0.16548990472231997,
          0.10276450366242378,
          0.4007915040666038,
          0.174415660397632,
          0.13958652535404728,
          0.09847891297507144,
          0.3460447696887758,
          0.1859042870991013,
          0.15376075893204422,
          0.09831799759852257,
          0.2313301036738547,
          0.10204777131004347,
          0.07700775289008066,
          0.14132768150996752,
          0.18115355300347522,
          0.1314824187257232,
          0.07553422678635587,
          0.19936089118893713,
          0.17675729709552285,
          0.10389607571219532,
          0.18303316647445433,
          0.09394649543777717,
          0.20326430929301184,
          0.13913166547397676,
          0.10055362046725132,
          0.10591574289501013,
          0.2757504088533451,
          0.07291388261471826,
          0.021453250773110853,
          0.14893243525903513,
          0.28935031461989263,
          0.06726521074577248,
          0.11045259994141625,
          0.1078887961298955,
          0.3360760008913292,
          0.09716073802343489,
          0.09837518759624043,
          0.06405412751235785,
          0.24583374143671669,
          0.03709614385382133,
          0.05096154583405661,
          0.06590751491840838,
          0.22921867514650712,
          0.06521246369598582,
          0.1469058928895807,
          0.05895133589898896,
          0.133458456787672,
          0.10158804977703814,
          0.17282541108966,
          0.06973319176903374,
          0.37677446786477986,
          0.124381210057182,
          0.20355507135161427,
          0.08513242454914285,
          0.22784398558616006,
          0.16499607212464434,
          0.10025378839537422,
          0.13541425346864797,
          0.3124461555134901,
          0.10161851225300537,
          0.1125100105064489,
          0.10746514762018443,
          0.2991853619297577,
          0.05676631725061488,
          0.07603741924178997,
          0.14237711876726852,
          0.3084699895899667,
          0.12268161968547671,
          0.1164352428428144,
          0.05916533845377598,
          0.5084315534980851,
          0.05084332245274397,
          0.13381710207233852,
          0.14365083814220628,
          0.3805530012800829,
          0.13413340447092806,
          0.18127455762849037,
          0.046599075263344114,
          0.2210747382359384,
          0.147769018275401,
          0.12427697173223903,
          0.15237761790257434,
          0.28291738373607933,
          0.13179235426656855,
          0.17916571880381987,
          0.11466624726095516,
          0.22980988279511275,
          0.16577368605217088,
          0.09429407407373529,
          0.09910716801295141,
          0.49937759564640694,
          0.067563328667621,
          0.11038699172093773,
          0.052882978139145574,
          0.3642811914028925,
          0.13691998831763247,
          0.1688446632277809,
          0.17536158698692675,
          0.31917167559635157,
          0.08640294167940406,
          0.13591049979645475,
          0.08764830981087249,
          0.28279687180995594,
          0.14109716672925451,
          0.05630658617126766,
          0.09703051103429093,
          0.24300974224978728,
          0.03169048437311502,
          0.17864750276774344,
          0.07508315157344833,
          0.4285019789502401,
          0.1045855584500303,
          0.09458233574688696,
          0.1369855864033551,
          0.28880364808650877,
          0.101245069969432,
          0.13546161379721425,
          0.1741501538539382,
          0.2860902971191002,
          0.07634770502769725,
          0.07065851110166907,
          0.0544031430051064,
          0.3079158172768247,
          0.08823573065360715,
          0.10387333660394488,
          0.07095889530582764,
          0.32836105399452614,
          0.015799699987578592,
          0.16903395309226754,
          0.16370415538245078,
          0.18821700322854792,
          0.07006106442007276,
          0.12675601954405055,
          0.07684285581350309,
          0.4212304903466644,
          0.132828225120377,
          0.11497641168868741,
          0.06761947697369393,
          0.26370893593154027,
          0.08445621311791117,
          0.09370724264578356,
          0.13960023145895464,
          0.17668308032940766,
          0.08190411242147831,
          0.09845603354684808,
          0.056042894929948135,
          0.35756266412761356,
          0.12453769203328559,
          0.1383132410012628,
          0.12969820024060047,
          0.26454832413537693,
          0.16325915430176097,
          0.08007637365080546,
          0.07760403387011491,
          0.12795212492996477,
          0.08668419291734317,
          0.11604846839494341,
          0.05220181457489895,
          0.23049215721388092,
          0.09993852718332515,
          0.1008643302856272,
          0.13634075904086676,
          0.2845576734749784,
          0.11192325189869788,
          0.09697742940679178,
          0.07077287626650945,
          0.24913777081314714,
          0.1748431599224364,
          0.10152516178651437,
          0.18867625483473535,
          0.33548218664456453,
          0.09599590425706836,
          0.04018252461745063,
          0.07011369404514144,
          0.15057841877549655,
          0.11579521177178718,
          0.07952006185985548,
          0.13849156494167855,
          0.3274911698690799,
          0.10630288149971023,
          0.1509664056627907,
          0.07735698540561826,
          0.26548970206583633,
          0.08591976835038741,
          0.07812773508304094,
          0.09329981503493386,
          0.39667222149996556,
          0.0847482322145952,
          0.09204719836100501,
          0.029420682954641137,
          0.18916237873551556,
          0.10043899820051513,
          0.09297126674555779,
          0.06368331500789155,
          0.2910812687501961,
          0.06974665887597443,
          0.08592251463442509,
          0.09649537656739915,
          0.23878594422333171,
          0.1310409725876977,
          0.13596094975118234,
          0.17218675520469257,
          0.18799664907238406,
          0.14314746276140408,
          0.06461379668940515,
          0.12910325846829876,
          0.18502095918391012,
          0.08015340652659164,
          0.10935548648548128,
          0.07627591874735307,
          0.4119845204179696,
          0.07281743241737362,
          0.18186398189862762,
          0.16978661467400175,
          0.19439577928946045,
          0.14491898848955556,
          0.13208510984549995,
          0.15488915731426414,
          0.29706733975758265,
          0.06872794122420958,
          0.15980456703148693,
          0.0992633097239146,
          0.5007537266386206,
          0.017585680237394836,
          0.10012129813135662,
          0.12234433611368777,
          0.3130438263644714,
          0.05206750764119145,
          0.12981112989376992,
          0.11507844376028205,
          0.4270755158664993,
          0.16194494241674295,
          0.06944975255746459,
          0.10974188587958644,
          0.3828210843958674,
          0.13145826235679114,
          0.12576118182991705,
          0.16573551409987514,
          0.21369977757515762,
          0.07996972229060033
         ],
         "xaxis": "x",
         "y": [
          0.27034276932391915,
          0.106388592121746,
          -0.12956124914175976,
          0.05156112830778563,
          0.10135674057312616,
          0.0944128315009164,
          -0.07592308231480498,
          -0.04899148745438604,
          0.06977090417627488,
          0.2289128340577165,
          -0.01651146656493563,
          0.06481612970275748,
          -0.09114422175323217,
          0.5720206388616558,
          -0.1311782552662844,
          0.6444241934646734,
          0.04516829612807721,
          -0.02947149693212777,
          -0.01389034720557459,
          0.39065687580849623,
          0.25280769048977714,
          0.11341270172876684,
          0.016092649538403187,
          -0.06788305136645625,
          0.3324037121349136,
          0.4825757029021454,
          -0.04295729171391493,
          0.016312546650042815,
          0.38872176326104074,
          0.45141348675135334,
          -0.02311530124837821,
          0.10284789298355398,
          -0.004921588280648219,
          0.0391820973855831,
          -0.03700297026876112,
          0.37291074748962194,
          -0.08850749837488446,
          0.10946042502076003,
          -0.15210767764007796,
          0.38753272698498475,
          0.08080715405139052,
          -0.10592538539247742,
          -0.06357128033422467,
          0.06754446109388283,
          0.028986689793917927,
          0.04892498307084957,
          -0.07000452086561981,
          -0.08712814940695897,
          0.04409627565521681,
          0.018510958490728646,
          -0.005463862184605811,
          -0.15889329879286068,
          0.048385275159226915,
          0.3769749950914526,
          -0.034196865089304695,
          0.09015541014704731,
          -0.13159541656847418,
          0.36287556881879485,
          -0.1366675552186923,
          0.23069844261694594,
          0.08844721779657871,
          -0.007038940768171106,
          -0.06937679085450524,
          0.047193551965888154,
          0.030356433358078493,
          -0.1304877190170921,
          -0.04069128355996114,
          0.043638500625600006,
          0.07371099233742791,
          0.04792796384203444,
          -0.10889654385418272,
          -0.0911311853197301,
          0.09802022683776136,
          0.110519520002225,
          -0.08638979922362673,
          -0.07395966582781806,
          0.19159322990942612,
          0.10317516927070247,
          -0.0627192845958672,
          0.008650719327305089,
          -0.07219381295012677,
          0.5882826889865959,
          -0.06582279139998846,
          0.6331621892346071,
          0.11738293257624385,
          -0.15220036086946737,
          -0.05221673215951059,
          0.129683440657603,
          0.2256494182050297,
          0.0814929243235072,
          -0.2344473476597876,
          -0.07801309637029921,
          0.3890278396316709,
          0.20432459752044252,
          -0.008287398659799099,
          -0.11296577659075238,
          0.08470981113996605,
          0.4355108028362489,
          -0.11566847779342337,
          -0.030024686717047985,
          0.3145523079524019,
          0.03840343887642463,
          -0.022988827729994374,
          0.05668530480062517,
          -0.11157882276787863,
          0.29441769676172264,
          -0.11869940270245867,
          0.13342773549450113,
          0.22882458407662526,
          -0.028057067918515522,
          -0.020697097617545863,
          0.1490239273244825,
          0.051165512298004895,
          0.5733922761344501,
          -0.03839850420028392,
          -0.06284179980326872,
          0.028638791898444944,
          0.37834493185709606,
          -0.08687910196521219,
          -0.09808911290355195,
          0.21864210993315253,
          0.12584505628891027,
          -0.05821346687699949,
          0.010796489140127943,
          0.12101692407102561,
          0.06657831706235366,
          -0.06500046319441777,
          0.12621629650203442,
          -0.1374496764743873,
          0.04737618236188051,
          -0.0766743219282499,
          0.44004738906487767,
          0.2527410081364857,
          -0.10333147219376682,
          -0.08185447481183164,
          0.04160333278910632,
          0.07684477655504554,
          0.3593822052481379,
          -0.012057829018822096,
          -0.05919551849122584,
          0.6417822019262249,
          0.01248015908871138,
          -0.009399505160630763,
          -0.09166903454898315,
          0.4146782734338148,
          0.07688015067802655,
          -0.08991526798237937,
          0.25335496914250955,
          -0.10957366718565631,
          0.08841246967447038,
          -0.14053671862474393,
          0.43605694226973857,
          -0.1357640076062938,
          0.21827381309742602,
          -0.10495702083724935,
          0.12081967012948992,
          0.10851812247437825,
          -0.07740520540109237,
          -0.04737602483506999,
          0.20545296209059316,
          0.24744459185974574,
          0.48295249755292025,
          -0.13748802615016212,
          -0.0625894579088649,
          0.0880971028248264,
          0.04891734329622631,
          -0.11894875714807614,
          -0.09527474723001243,
          0.07828188611401464,
          0.2531781912776465,
          -0.011600694624111181,
          0.3694824183147689,
          -0.11538996119690936,
          0.22799738378346396,
          -0.019260854202368234,
          0.04146591309215916,
          0.06920115220600173,
          -0.09431707065558011,
          -0.048575303027493515,
          0.1015402199024317,
          0.6254581623053023,
          -0.04097297312084433,
          -0.1554764846265587,
          0.048598048808363103,
          0.10810346223756684,
          0.039784999007066085,
          -0.12997539213254922,
          0.01881764446357922,
          0.15408426140622875,
          0.3936884427568453,
          -0.08149556169385092,
          -0.04478903648110565,
          0.058748083437508675,
          0.037677596768506655,
          -0.05969968033618543,
          0.2162707740219806,
          -0.1063751207529397,
          0.36533360368580764,
          -0.10485023609590197,
          0.22069576620652956,
          0.4119095976921459,
          0.0014813660074671949,
          -0.12575402553352594,
          0.12244267936570319,
          0.06512415856423673,
          0.04516708418284848,
          -0.05480745605001429,
          -0.05091585920212913,
          0.03504013370723524,
          0.3084843514676391,
          -0.11244384799977372,
          -0.051065203149927206,
          0.05904942383300978,
          0.06624079742339511,
          -0.09353502370680662,
          -0.04138510277580891,
          0.3460853904608847,
          0.12256045991663314,
          -0.07830297761764472,
          0.0995365455772125,
          -0.08496899013366198,
          0.34419037813190295,
          -0.06658107208880303,
          0.148866034375852,
          0.0022543689389554773,
          0.11112264544787277,
          -0.012664847075070321,
          0.6210842158885341,
          0.04678066575171344,
          0.38967937139871667,
          -0.14431786225398077,
          -0.13767021231946086,
          0.43054432558003336,
          0.13127733584213255,
          -0.14826846368744284,
          -0.1524516010558697,
          0.13986526365358226,
          0.40996530151410027,
          -0.030165421134940237,
          -0.12744660059411975,
          0.05613643059891818,
          0.0723751416333452,
          -0.035366417688069154,
          0.0789911547211031,
          0.06682103163828647,
          0.1727394272315123,
          -0.06861871615759317,
          0.1766655098198825,
          0.07601729286835539,
          -0.10195495007951559,
          -0.2150415793862805,
          0.04840550730353144,
          0.4171427786793851,
          0.25754967484867225,
          -0.12427101040822452,
          -0.1126416416327731,
          0.44647161943040636,
          0.1030260033309924,
          -0.10413812580367855,
          -0.12501222843093704,
          0.07300565278988266,
          0.06212662684962318,
          -0.14129683734246398,
          0.6308316115107028,
          -0.15312445853240955,
          0.061068591664250105,
          -0.06360084724436216,
          0.1054150814246414,
          -0.17105804420978205,
          0.29565417481832046,
          -0.10911106400521542,
          0.08910230566433186,
          0.04946402251013976,
          -0.07111150060567259,
          -0.10498317330324133,
          0.08858125210987743,
          0.11729852899908924,
          0.11011370721884779,
          -0.02805781023419301,
          -0.0698759713011902,
          0.08306786991712327,
          0.06126170884527568,
          0.0002028698131969148,
          -0.06812323653636611,
          0.10802617995804943,
          0.11115298813430913,
          -0.06232484510166786,
          0.4648582533259161,
          -0.06818778526129844,
          0.1922954411863846,
          -0.18057546746708103,
          0.08804010061985072,
          -0.11451628964592667,
          0.11749326355281788,
          -0.07716286315144118,
          0.048978810340685304,
          0.20141762819765727,
          -0.06820092977499255,
          -0.08449130916553091,
          0.11231201693736831,
          0.12482771361428652,
          0.1336195872169507,
          -0.12108394049979415,
          -0.11621816555419774,
          0.10545007849320322,
          0.06435457092511916,
          -0.16863390676053247,
          -0.08666032588390146,
          0.11543823917755365,
          0.09830919695480385,
          -0.059551437472745314,
          0.059588971266136034,
          -0.10691076979495215,
          0.02459122683488377,
          -0.07151162851584413,
          0.4809063356033221,
          0.06764089899313307,
          -0.018373445631877917,
          -0.01836003076046714,
          0.047673581346551606,
          0.3917554741460634,
          -0.04199788960158975,
          -0.07310170507384113,
          0.11157517612711071,
          0.04096280354718699,
          0.051183535241875244,
          -0.11405868640789332,
          0.06571587315306279,
          0.09921425809896631,
          0.12854838806856067,
          -0.16265973835363032,
          -0.013787233064913772,
          0.11905168797029214,
          0.08084828084963319,
          -0.22957938164543706,
          0.061192071832030216,
          -0.018957709108193395,
          0.4114959326425307,
          -0.0850923424407548,
          0.12979190677820573,
          0.05466810485090247,
          -0.09285689409597887,
          -0.12010785280654009,
          0.03152011879827624,
          0.08036140997291133,
          0.0618197536189217,
          -0.146431007487487,
          0.03061994789898457,
          0.0466608899789515,
          0.25764253523116,
          -0.17420064773182997,
          -0.17174134206667302,
          0.06627657285314628,
          0.11644959451610294,
          -0.05382704961482397,
          -0.12937956886439264,
          0.08737152866497085,
          0.06800822193871414,
          -0.0753756500096111,
          0.021917998305585953,
          -0.020614919245746245,
          0.08167727318357652,
          -0.06006407364584951,
          0.46074587278506046,
          0.2786080103825996,
          -0.018716941569099928,
          -0.04175235652938497,
          0.10557849423138174,
          0.08115281388771597,
          0.2894384667955574,
          -0.16247942844515117,
          -0.09641860198382567,
          0.1551031524866495,
          0.08785602859744279,
          -0.06949309171851438,
          -0.02656861588898928,
          0.20236233395200265,
          0.05380829970597879,
          0.00822039927535277,
          -0.06094761236534235,
          0.09211727025461576,
          0.2716619073531748,
          -0.04878820770761918,
          0.10056397418849002,
          -0.13682135316371213,
          0.032223602276715176,
          -0.13269435287869247,
          0.1848119408090536,
          0.09277574275121452,
          -0.02327258389706716,
          -0.07795277954144911,
          0.004130427997202875,
          0.07750080655622466,
          0.6183353923967934,
          0.01972945578894156,
          0.013910269166185252,
          0.08021961738345916,
          0.4100699198273068,
          -0.1554764846265587,
          -0.025077996032562624,
          0.39810224413352024,
          0.11055792559991681,
          -0.029915651877767496,
          0.1011081352628028,
          -0.022660713362458732,
          0.08106006978635809,
          -0.053280971445647037,
          0.06282686228879295,
          -0.007225891998077046,
          0.02915990723262198,
          -0.09503313050583537,
          0.06739218366441457,
          0.08947853741655287,
          -0.11172077784326861,
          -0.05858910876517005,
          0.08341051148941385,
          0.1273308687142253,
          0.06980481442081195,
          -0.07840657508537098,
          -0.09196702534833062,
          0.11023937294800186,
          0.01173373337971078,
          -0.08643159612772083,
          -0.12953320219151512,
          0.3531860220617744,
          0.3223015982034136,
          -0.07645774952748946,
          0.40121493890845017,
          -0.02936263955185078,
          0.14482442058909262,
          -0.07304587037736722,
          0.23427787128974337,
          0.048637427456828475,
          -0.11871885902871677,
          -0.06416976316976516,
          0.11531929786470674,
          0.04538234604098443,
          -0.1184380728404831,
          -0.12066008332640933,
          0.07352593892250618,
          0.10155762203139601,
          0.060019125073042585,
          -0.09891749355364016,
          -0.15295621991047043,
          0.05352356056105428,
          0.12362443535798148,
          -0.06183726091994192,
          -0.08678585475319103,
          0.2098015232197369,
          0.18616582366915274,
          0.007162244132313957,
          0.037309255834167054,
          -0.0453229476512456,
          0.0373720798882792,
          -0.09158868627856699,
          0.03997228325427776,
          0.059725378679464904,
          -0.04871118983257411,
          -0.0907119679110969,
          0.3609455371634069,
          0.08204135172262594,
          0.013939007253634587,
          -0.004056023036787084,
          0.006282885452361856,
          0.08045191808377748,
          0.031521349093710085,
          -0.0801117599931047,
          0.0200288908665597,
          0.10696654325606482,
          0.04302743556426439,
          -0.013892527121421631,
          -0.025889554039294077,
          0.1129044132798829,
          0.20563471463560423,
          -0.1509756614897497,
          0.07661320813954056,
          -0.15659815719361808,
          0.09082412206757001,
          -0.0790409914935169,
          0.17504186582722397,
          0.04705342757682895,
          -0.15810529954233915,
          -0.0746771217864437,
          0.09339710610673839,
          0.4901549486875116,
          0.05341521710469402,
          -0.09103451110748008,
          -0.10900948844982253,
          0.11270518374462007,
          0.09145702025460622,
          -0.09462747828646727,
          -0.08913348513309435,
          0.051110606451597845,
          0.08582891693978673,
          -0.009553094705074778,
          -0.13902517935377845,
          0.07450892605793692,
          0.16980639691985502,
          -0.1551461965965569,
          0.08355644657904286,
          -0.11175244516532329,
          0.22482864084476717,
          -0.07367683980581799,
          0.10914233945490145,
          0.07227613714206998,
          -0.06219107825396779,
          -0.05621893417023953,
          0.09654869687505363,
          0.051212256324259874,
          0.12321204041943207,
          -0.01686818581427907,
          -0.029140449414196922,
          0.301647473034821,
          0.07922269816352548,
          -0.12372877676593493,
          -0.11614386562476058,
          -0.0070118666339336975,
          0.0810493068183526,
          -0.14561368542852127,
          0.08416604361663406,
          -0.13302553695381442,
          0.12244049072331184,
          -0.09957859683017131,
          0.06366350909769634,
          0.03492339786538047,
          0.04388557010208827,
          -0.0806591253619776,
          0.3234867874681435,
          0.08492610432628525,
          -0.08312763250636891,
          -0.049044166472224496,
          0.114842262038804,
          0.051154036118075126,
          0.42858166504097167,
          -0.06712666124270904,
          0.09035212892470798,
          0.05418109365771659,
          -0.07651057157982619,
          -0.06644561517268711,
          0.625727754257972,
          0.3155302234266825,
          -0.2150415793862805,
          0.06745711845255577,
          -0.1128666690650013,
          0.12178672963966072,
          -0.1386351333997205,
          0.15656636962040857,
          0.07621558610371207,
          -0.10241384850261305,
          -0.12047581977273762,
          0.013939007253634587,
          0.0568663882736782,
          -0.06242466552926857,
          -0.1290369022258522,
          0.04761535416759082,
          0.06456808663936753,
          0.05339961541702445,
          -0.13278643018035968,
          -0.0721542036796399,
          0.02425754502566958,
          0.06756310159981771,
          -0.10364139881279204,
          -0.02991468542992602,
          0.029038138907405628,
          0.11590878146045387,
          -0.0960017049965877,
          0.03932095657210438,
          -0.07534484078999441,
          0.11787275880600863,
          -0.09913661710536831,
          0.2486543888475806,
          0.12129797740617305,
          0.03492339786538047,
          -0.07949491467848827,
          -0.011385557784044082,
          0.07971280367328851,
          0.08978662885068645,
          -0.057765804234828154,
          -0.058187714949814055,
          0.0689431167622843,
          0.0396147081668044,
          -0.12293224161227187,
          -0.06972223810091105,
          0.10015359862569594,
          0.388871355916187,
          -0.09969743663560866,
          -0.06178496389756348,
          0.27703352982349916,
          0.24040132024697544,
          -0.10023061093069915,
          0.13218135370131834,
          -0.02943598114574105,
          0.11762187115624165,
          -0.018441081621838704,
          0.4055352471612086,
          0.10281093567451685,
          -0.0810778326793226,
          -0.14434499452826025,
          0.5205433918734239,
          0.08145962727196454,
          -0.003153035733183578,
          -0.07914644538918666,
          -0.10434711720956324,
          0.6249329243295295,
          0.08834980695753145,
          -0.07260871460115614,
          -0.13959234277960633,
          0.10285939311275384,
          0.21133684344439937,
          -0.04567689829036161,
          -0.14526826073276816,
          0.08503336479268023,
          0.3545061578176298,
          -0.08938661984328052,
          0.07179193432550227,
          -0.06210050556395777,
          0.3919723276305749,
          -0.08235991786469592,
          0.0785774491789134,
          0.06527772078805501,
          -0.006716143356189004,
          -0.0548704449930332,
          0.047422135737001825,
          0.06707806068776674,
          0.20322150370127157,
          -0.11616857531420449,
          -0.033794533704139866,
          0.13179453760398974,
          0.10363160993149018,
          -0.09625860715410504,
          -0.01717887431796438,
          0.0772427603165624,
          0.3349936156169353,
          -0.14434499452826025,
          -0.06398652170878295,
          0.07440897892427717,
          -0.020429906874445465,
          -0.07719365710457878,
          0.14820933719875476,
          -0.042585825370376404,
          0.3438134445483841,
          -0.07897331564025332,
          0.19684422723724893,
          0.09083562587460277,
          -0.09726849294976395,
          0.49356042085067814,
          0.13473482552278662,
          0.0851836756521997,
          -0.09969743663560866,
          0.2508317683423432,
          0.052021370130033835,
          0.176208259689671,
          -0.08494683802873124,
          0.0906019564046974,
          0.08649058838628101,
          0.17943543396590567,
          0.03815504283638762,
          0.10293323516546314,
          0.13977498485595002,
          0.244592081549701,
          -0.13964661877334886,
          0.03882352984056075,
          0.04659769876292732,
          0.4910244296762467,
          -0.09437612892391757,
          0.044791379590999325,
          0.326428216222961,
          -0.006866926478859741,
          -0.1059972258982358,
          0.06668015528864743,
          0.2508317683423432,
          0.001418121376768229,
          -0.1597781320696448,
          0.04110449879747962,
          0.07205819511307365,
          0.09446671057004206,
          -0.06689283312506754,
          0.014368596248917362,
          0.514294010378969,
          0.4032628585979459,
          -0.044888298510773826,
          0.06814183915847527,
          0.041177724974269095,
          0.13048804907227685,
          -0.10571339737540757,
          0.08529682083605214,
          0.18376746842798106,
          0.04111137763705798,
          -0.06183726091994192,
          0.04419744223468289,
          0.045602786211830074,
          0.049273749808497413,
          -0.09374596815440928,
          0.03830507909921972,
          0.13204069011884348,
          0.13608779405422552,
          -0.06728968385724914,
          0.049154176597562875,
          0.1729222229725606,
          0.08910366109066414,
          -0.06461601072819737,
          0.04475652379454996,
          0.40624632550010625,
          0.07111162627779073,
          -0.1842248085905981,
          0.47638955427764146,
          0.21396566912875595,
          0.3126391237702159,
          -0.12427101040822452,
          0.05170905975669113,
          0.5486247513270308,
          0.2226881720421506,
          -0.1214562026185437,
          0.4049773572444561,
          0.01312381211114469,
          0.22798653722666953,
          -0.11905326922069386,
          0.10268229390581475,
          0.039673882874876255,
          0.08934309081314207,
          -0.089802468731804,
          0.041869542826965506,
          0.07126260478624438,
          0.04137975916535167,
          -0.04303688316423359,
          0.040817489474483784,
          0.05311915720191455,
          0.46413361446998824,
          0.014838743998459147,
          0.051519841796537846,
          0.06278644406685593,
          0.10007076206462363,
          -0.07428217285799456,
          0.05422579534188245,
          0.09212817652581183,
          0.09467034439018754,
          -0.10143321603268046,
          0.07679451719064977,
          0.0533901372093637,
          0.09897632789517344,
          -0.08751909284938822,
          0.1117262367813611,
          0.09557267641400304,
          0.11014610353555636,
          -0.1345764622754781,
          0.10923034949197749,
          0.0937058002330697,
          0.040530043914946905,
          -0.06278530986823135,
          0.04863485628225249,
          0.09416907082177331,
          0.02609446453191494,
          -0.06828669783325755,
          0.06472181482076116,
          0.03556618648215682,
          0.030650107776983578,
          0.1254262939371647,
          0.03177259084342161,
          0.3824662033418508,
          0.0748503481933976,
          -0.16782381084440887,
          0.03494825882842685,
          0.3332517693370357,
          0.04551207480369005,
          -0.001294193786510251,
          0.034696740785065586,
          0.055732931066215,
          0.04581381851995733,
          -0.13590529340514684,
          0.13233878881322597,
          0.01144422734019359,
          0.12849084429972854,
          -0.05046297961844329,
          0.11017881884742761,
          0.07219479283979068,
          0.07693061537981989,
          -0.14026982142882657,
          0.11300879740740172,
          0.2820215004256286,
          0.11532163625919103,
          -0.23361433765982345,
          0.1367180441604601,
          0.4658821185026321,
          0.3565682977057791,
          -0.13393410878698786,
          0.05187236915678316,
          0.047187142524610655,
          0.07570820870910668,
          -0.061137919001750196,
          0.01932201063491876,
          0.40222516080857296,
          0.12031546406499669,
          -0.06425683484595159,
          0.05654981637380771,
          -0.005897689853402799,
          0.08261787607184483,
          -0.09032063360333821,
          0.3089533084523201,
          0.07713603368007708,
          0.12591687292971315,
          -0.22777852337511484,
          0.03967868769860884,
          0.037695993051934766,
          0.05367597338036995,
          -0.1101677772000298,
          0.03999310319908793,
          0.04273641721271336,
          0.06796893640495762,
          -0.1264897187626373,
          0.08776757279083194,
          0.27843542014598466,
          0.06142153728445667,
          -0.1094177806343587,
          0.01365642178267868,
          0.04366844497916376,
          0.06500897462342664,
          -0.05819643026078012,
          0.045495970482521984,
          0.5962948112641203,
          0.09855232638624889,
          -0.13504432316837706,
          0.08375948093020395,
          0.1526840541182997,
          0.34222107303986227,
          -0.08964901545706172,
          0.06852175563023777,
          0.07957860704299508,
          0.04804678016707137,
          -0.043149070582058836,
          0.05070456795744266,
          0.08929820201026019,
          0.04811255284110777,
          -0.13526940823625563,
          0.08250110062998726,
          0.10004803297630703,
          0.07562354094717583,
          -0.11368843874095587,
          0.04883254234917634,
          0.12233404925050138,
          0.30991996466459737,
          -0.039954743119333745,
          0.06051816559067425,
          0.044684241912026246,
          0.06983750429464679,
          -0.09933084375391814,
          0.03977934080352962,
          0.07168624010992168,
          0.06284310820295255,
          -0.07205662058416756,
          0.22925708137099027,
          0.025413337836503416,
          0.04779694620529159,
          -0.0181323304197081,
          0.05955453646174322,
          0.2612287416506856,
          0.042605265566873524,
          -0.16436235883090503,
          0.0687459151905899,
          0.07825566552787723,
          0.1743472917320958,
          -0.08371760817008385,
          0.035533515153945476,
          0.12099576602543277,
          0.07226230848445586,
          0.002149698906165125,
          0.06953075894079717,
          0.15767311164392028,
          0.09188044481229098,
          -0.06754722622016684,
          0.11939408286548736,
          0.07911774865594277,
          0.02506996347701372,
          -0.0707797331125789,
          0.10554832951787302,
          0.07379889516065705,
          0.14716539588083377,
          -0.11004434682910304,
          0.08828070080231687,
          0.07307353093223357,
          0.4316810960941836,
          -0.1071826861395564,
          0.07247179490834703,
          0.10387860038981615,
          0.06553899297214966,
          -0.05542266463264435,
          0.06863361326320806,
          0.2628564345185784,
          0.2086269406166557,
          -0.13233073498666492,
          0.07589389772002952,
          0.07751191036622276,
          0.05616984920294513,
          -0.020945751106298174,
          0.05008855788589632,
          0.05882773135245687,
          0.09202643647988873,
          -0.10108671595639968,
          0.11595695936427165,
          0.03262845937268975,
          0.04830289482044501,
          -0.00246280523025687,
          -0.0059230615900139425,
          0.03865983560882167,
          0.18422836353267893,
          -0.08065000234776913,
          0.21853575320375843,
          0.11926908263547778,
          0.12382848333816475,
          -0.08903594734771997,
          0.05809214486817549,
          0.11854785503628651,
          0.41274347867546807,
          -0.050889223070873554,
          0.3799916805127598,
          0.10036911220106222,
          0.4768792663145082,
          -0.07342319549533849,
          0.26812851552707034,
          0.03325305850288971,
          0.1027234679569468,
          -0.17514628359065063,
          0.01802489976084045,
          0.08660074935623982,
          0.3666617731459866,
          -0.05043147540895086,
          0.2679172316906341,
          0.11743379140800177,
          0.4394008366468352,
          -0.13504427215630574,
          0.024580936469837965,
          0.34662586679149643,
          0.016889726013131105,
          -0.22201812735054968,
          0.04871446891719939,
          0.12708434303885494,
          0.5015885460072702,
          -0.07196148433512006,
          0.0720786256917016,
          0.39557339057128227,
          0.05907782573427605,
          -0.18716134668725026,
          -0.026210509755628,
          0.093005124058435,
          0.15162970894965194,
          -0.1310603730000853,
          0.024136522975362146,
          0.059383514849699504,
          0.35735581326177485,
          -0.02072691518984682,
          0.00398389310743345
         ],
         "yaxis": "y"
        }
       ],
       "layout": {
        "coloraxis": {
         "colorbar": {
          "title": {
           "text": "color"
          }
         },
         "colorscale": [
          [
           0,
           "#0d0887"
          ],
          [
           0.1111111111111111,
           "#46039f"
          ],
          [
           0.2222222222222222,
           "#7201a8"
          ],
          [
           0.3333333333333333,
           "#9c179e"
          ],
          [
           0.4444444444444444,
           "#bd3786"
          ],
          [
           0.5555555555555556,
           "#d8576b"
          ],
          [
           0.6666666666666666,
           "#ed7953"
          ],
          [
           0.7777777777777778,
           "#fb9f3a"
          ],
          [
           0.8888888888888888,
           "#fdca26"
          ],
          [
           1,
           "#f0f921"
          ]
         ]
        },
        "legend": {
         "tracegroupgap": 0
        },
        "template": {
         "data": {
          "bar": [
           {
            "error_x": {
             "color": "#2a3f5f"
            },
            "error_y": {
             "color": "#2a3f5f"
            },
            "marker": {
             "line": {
              "color": "#E5ECF6",
              "width": 0.5
             },
             "pattern": {
              "fillmode": "overlay",
              "size": 10,
              "solidity": 0.2
             }
            },
            "type": "bar"
           }
          ],
          "barpolar": [
           {
            "marker": {
             "line": {
              "color": "#E5ECF6",
              "width": 0.5
             },
             "pattern": {
              "fillmode": "overlay",
              "size": 10,
              "solidity": 0.2
             }
            },
            "type": "barpolar"
           }
          ],
          "carpet": [
           {
            "aaxis": {
             "endlinecolor": "#2a3f5f",
             "gridcolor": "white",
             "linecolor": "white",
             "minorgridcolor": "white",
             "startlinecolor": "#2a3f5f"
            },
            "baxis": {
             "endlinecolor": "#2a3f5f",
             "gridcolor": "white",
             "linecolor": "white",
             "minorgridcolor": "white",
             "startlinecolor": "#2a3f5f"
            },
            "type": "carpet"
           }
          ],
          "choropleth": [
           {
            "colorbar": {
             "outlinewidth": 0,
             "ticks": ""
            },
            "type": "choropleth"
           }
          ],
          "contour": [
           {
            "colorbar": {
             "outlinewidth": 0,
             "ticks": ""
            },
            "colorscale": [
             [
              0,
              "#0d0887"
             ],
             [
              0.1111111111111111,
              "#46039f"
             ],
             [
              0.2222222222222222,
              "#7201a8"
             ],
             [
              0.3333333333333333,
              "#9c179e"
             ],
             [
              0.4444444444444444,
              "#bd3786"
             ],
             [
              0.5555555555555556,
              "#d8576b"
             ],
             [
              0.6666666666666666,
              "#ed7953"
             ],
             [
              0.7777777777777778,
              "#fb9f3a"
             ],
             [
              0.8888888888888888,
              "#fdca26"
             ],
             [
              1,
              "#f0f921"
             ]
            ],
            "type": "contour"
           }
          ],
          "contourcarpet": [
           {
            "colorbar": {
             "outlinewidth": 0,
             "ticks": ""
            },
            "type": "contourcarpet"
           }
          ],
          "heatmap": [
           {
            "colorbar": {
             "outlinewidth": 0,
             "ticks": ""
            },
            "colorscale": [
             [
              0,
              "#0d0887"
             ],
             [
              0.1111111111111111,
              "#46039f"
             ],
             [
              0.2222222222222222,
              "#7201a8"
             ],
             [
              0.3333333333333333,
              "#9c179e"
             ],
             [
              0.4444444444444444,
              "#bd3786"
             ],
             [
              0.5555555555555556,
              "#d8576b"
             ],
             [
              0.6666666666666666,
              "#ed7953"
             ],
             [
              0.7777777777777778,
              "#fb9f3a"
             ],
             [
              0.8888888888888888,
              "#fdca26"
             ],
             [
              1,
              "#f0f921"
             ]
            ],
            "type": "heatmap"
           }
          ],
          "heatmapgl": [
           {
            "colorbar": {
             "outlinewidth": 0,
             "ticks": ""
            },
            "colorscale": [
             [
              0,
              "#0d0887"
             ],
             [
              0.1111111111111111,
              "#46039f"
             ],
             [
              0.2222222222222222,
              "#7201a8"
             ],
             [
              0.3333333333333333,
              "#9c179e"
             ],
             [
              0.4444444444444444,
              "#bd3786"
             ],
             [
              0.5555555555555556,
              "#d8576b"
             ],
             [
              0.6666666666666666,
              "#ed7953"
             ],
             [
              0.7777777777777778,
              "#fb9f3a"
             ],
             [
              0.8888888888888888,
              "#fdca26"
             ],
             [
              1,
              "#f0f921"
             ]
            ],
            "type": "heatmapgl"
           }
          ],
          "histogram": [
           {
            "marker": {
             "pattern": {
              "fillmode": "overlay",
              "size": 10,
              "solidity": 0.2
             }
            },
            "type": "histogram"
           }
          ],
          "histogram2d": [
           {
            "colorbar": {
             "outlinewidth": 0,
             "ticks": ""
            },
            "colorscale": [
             [
              0,
              "#0d0887"
             ],
             [
              0.1111111111111111,
              "#46039f"
             ],
             [
              0.2222222222222222,
              "#7201a8"
             ],
             [
              0.3333333333333333,
              "#9c179e"
             ],
             [
              0.4444444444444444,
              "#bd3786"
             ],
             [
              0.5555555555555556,
              "#d8576b"
             ],
             [
              0.6666666666666666,
              "#ed7953"
             ],
             [
              0.7777777777777778,
              "#fb9f3a"
             ],
             [
              0.8888888888888888,
              "#fdca26"
             ],
             [
              1,
              "#f0f921"
             ]
            ],
            "type": "histogram2d"
           }
          ],
          "histogram2dcontour": [
           {
            "colorbar": {
             "outlinewidth": 0,
             "ticks": ""
            },
            "colorscale": [
             [
              0,
              "#0d0887"
             ],
             [
              0.1111111111111111,
              "#46039f"
             ],
             [
              0.2222222222222222,
              "#7201a8"
             ],
             [
              0.3333333333333333,
              "#9c179e"
             ],
             [
              0.4444444444444444,
              "#bd3786"
             ],
             [
              0.5555555555555556,
              "#d8576b"
             ],
             [
              0.6666666666666666,
              "#ed7953"
             ],
             [
              0.7777777777777778,
              "#fb9f3a"
             ],
             [
              0.8888888888888888,
              "#fdca26"
             ],
             [
              1,
              "#f0f921"
             ]
            ],
            "type": "histogram2dcontour"
           }
          ],
          "mesh3d": [
           {
            "colorbar": {
             "outlinewidth": 0,
             "ticks": ""
            },
            "type": "mesh3d"
           }
          ],
          "parcoords": [
           {
            "line": {
             "colorbar": {
              "outlinewidth": 0,
              "ticks": ""
             }
            },
            "type": "parcoords"
           }
          ],
          "pie": [
           {
            "automargin": true,
            "type": "pie"
           }
          ],
          "scatter": [
           {
            "marker": {
             "colorbar": {
              "outlinewidth": 0,
              "ticks": ""
             }
            },
            "type": "scatter"
           }
          ],
          "scatter3d": [
           {
            "line": {
             "colorbar": {
              "outlinewidth": 0,
              "ticks": ""
             }
            },
            "marker": {
             "colorbar": {
              "outlinewidth": 0,
              "ticks": ""
             }
            },
            "type": "scatter3d"
           }
          ],
          "scattercarpet": [
           {
            "marker": {
             "colorbar": {
              "outlinewidth": 0,
              "ticks": ""
             }
            },
            "type": "scattercarpet"
           }
          ],
          "scattergeo": [
           {
            "marker": {
             "colorbar": {
              "outlinewidth": 0,
              "ticks": ""
             }
            },
            "type": "scattergeo"
           }
          ],
          "scattergl": [
           {
            "marker": {
             "colorbar": {
              "outlinewidth": 0,
              "ticks": ""
             }
            },
            "type": "scattergl"
           }
          ],
          "scattermapbox": [
           {
            "marker": {
             "colorbar": {
              "outlinewidth": 0,
              "ticks": ""
             }
            },
            "type": "scattermapbox"
           }
          ],
          "scatterpolar": [
           {
            "marker": {
             "colorbar": {
              "outlinewidth": 0,
              "ticks": ""
             }
            },
            "type": "scatterpolar"
           }
          ],
          "scatterpolargl": [
           {
            "marker": {
             "colorbar": {
              "outlinewidth": 0,
              "ticks": ""
             }
            },
            "type": "scatterpolargl"
           }
          ],
          "scatterternary": [
           {
            "marker": {
             "colorbar": {
              "outlinewidth": 0,
              "ticks": ""
             }
            },
            "type": "scatterternary"
           }
          ],
          "surface": [
           {
            "colorbar": {
             "outlinewidth": 0,
             "ticks": ""
            },
            "colorscale": [
             [
              0,
              "#0d0887"
             ],
             [
              0.1111111111111111,
              "#46039f"
             ],
             [
              0.2222222222222222,
              "#7201a8"
             ],
             [
              0.3333333333333333,
              "#9c179e"
             ],
             [
              0.4444444444444444,
              "#bd3786"
             ],
             [
              0.5555555555555556,
              "#d8576b"
             ],
             [
              0.6666666666666666,
              "#ed7953"
             ],
             [
              0.7777777777777778,
              "#fb9f3a"
             ],
             [
              0.8888888888888888,
              "#fdca26"
             ],
             [
              1,
              "#f0f921"
             ]
            ],
            "type": "surface"
           }
          ],
          "table": [
           {
            "cells": {
             "fill": {
              "color": "#EBF0F8"
             },
             "line": {
              "color": "white"
             }
            },
            "header": {
             "fill": {
              "color": "#C8D4E3"
             },
             "line": {
              "color": "white"
             }
            },
            "type": "table"
           }
          ]
         },
         "layout": {
          "annotationdefaults": {
           "arrowcolor": "#2a3f5f",
           "arrowhead": 0,
           "arrowwidth": 1
          },
          "autotypenumbers": "strict",
          "coloraxis": {
           "colorbar": {
            "outlinewidth": 0,
            "ticks": ""
           }
          },
          "colorscale": {
           "diverging": [
            [
             0,
             "#8e0152"
            ],
            [
             0.1,
             "#c51b7d"
            ],
            [
             0.2,
             "#de77ae"
            ],
            [
             0.3,
             "#f1b6da"
            ],
            [
             0.4,
             "#fde0ef"
            ],
            [
             0.5,
             "#f7f7f7"
            ],
            [
             0.6,
             "#e6f5d0"
            ],
            [
             0.7,
             "#b8e186"
            ],
            [
             0.8,
             "#7fbc41"
            ],
            [
             0.9,
             "#4d9221"
            ],
            [
             1,
             "#276419"
            ]
           ],
           "sequential": [
            [
             0,
             "#0d0887"
            ],
            [
             0.1111111111111111,
             "#46039f"
            ],
            [
             0.2222222222222222,
             "#7201a8"
            ],
            [
             0.3333333333333333,
             "#9c179e"
            ],
            [
             0.4444444444444444,
             "#bd3786"
            ],
            [
             0.5555555555555556,
             "#d8576b"
            ],
            [
             0.6666666666666666,
             "#ed7953"
            ],
            [
             0.7777777777777778,
             "#fb9f3a"
            ],
            [
             0.8888888888888888,
             "#fdca26"
            ],
            [
             1,
             "#f0f921"
            ]
           ],
           "sequentialminus": [
            [
             0,
             "#0d0887"
            ],
            [
             0.1111111111111111,
             "#46039f"
            ],
            [
             0.2222222222222222,
             "#7201a8"
            ],
            [
             0.3333333333333333,
             "#9c179e"
            ],
            [
             0.4444444444444444,
             "#bd3786"
            ],
            [
             0.5555555555555556,
             "#d8576b"
            ],
            [
             0.6666666666666666,
             "#ed7953"
            ],
            [
             0.7777777777777778,
             "#fb9f3a"
            ],
            [
             0.8888888888888888,
             "#fdca26"
            ],
            [
             1,
             "#f0f921"
            ]
           ]
          },
          "colorway": [
           "#636efa",
           "#EF553B",
           "#00cc96",
           "#ab63fa",
           "#FFA15A",
           "#19d3f3",
           "#FF6692",
           "#B6E880",
           "#FF97FF",
           "#FECB52"
          ],
          "font": {
           "color": "#2a3f5f"
          },
          "geo": {
           "bgcolor": "white",
           "lakecolor": "white",
           "landcolor": "#E5ECF6",
           "showlakes": true,
           "showland": true,
           "subunitcolor": "white"
          },
          "hoverlabel": {
           "align": "left"
          },
          "hovermode": "closest",
          "mapbox": {
           "style": "light"
          },
          "paper_bgcolor": "white",
          "plot_bgcolor": "#E5ECF6",
          "polar": {
           "angularaxis": {
            "gridcolor": "white",
            "linecolor": "white",
            "ticks": ""
           },
           "bgcolor": "#E5ECF6",
           "radialaxis": {
            "gridcolor": "white",
            "linecolor": "white",
            "ticks": ""
           }
          },
          "scene": {
           "xaxis": {
            "backgroundcolor": "#E5ECF6",
            "gridcolor": "white",
            "gridwidth": 2,
            "linecolor": "white",
            "showbackground": true,
            "ticks": "",
            "zerolinecolor": "white"
           },
           "yaxis": {
            "backgroundcolor": "#E5ECF6",
            "gridcolor": "white",
            "gridwidth": 2,
            "linecolor": "white",
            "showbackground": true,
            "ticks": "",
            "zerolinecolor": "white"
           },
           "zaxis": {
            "backgroundcolor": "#E5ECF6",
            "gridcolor": "white",
            "gridwidth": 2,
            "linecolor": "white",
            "showbackground": true,
            "ticks": "",
            "zerolinecolor": "white"
           }
          },
          "shapedefaults": {
           "line": {
            "color": "#2a3f5f"
           }
          },
          "ternary": {
           "aaxis": {
            "gridcolor": "white",
            "linecolor": "white",
            "ticks": ""
           },
           "baxis": {
            "gridcolor": "white",
            "linecolor": "white",
            "ticks": ""
           },
           "bgcolor": "#E5ECF6",
           "caxis": {
            "gridcolor": "white",
            "linecolor": "white",
            "ticks": ""
           }
          },
          "title": {
           "x": 0.05
          },
          "xaxis": {
           "automargin": true,
           "gridcolor": "white",
           "linecolor": "white",
           "ticks": "",
           "title": {
            "standoff": 15
           },
           "zerolinecolor": "white",
           "zerolinewidth": 2
          },
          "yaxis": {
           "automargin": true,
           "gridcolor": "white",
           "linecolor": "white",
           "ticks": "",
           "title": {
            "standoff": 15
           },
           "zerolinecolor": "white",
           "zerolinewidth": 2
          }
         }
        },
        "title": {
         "text": "Image Clustering"
        },
        "xaxis": {
         "anchor": "y",
         "domain": [
          0,
          1
         ],
         "title": {
          "text": "1 Dimension Reduction"
         }
        },
        "yaxis": {
         "anchor": "x",
         "domain": [
          0,
          1
         ],
         "title": {
          "text": "2 Dimension Reduction"
         }
        }
       }
      }
     },
     "metadata": {},
     "output_type": "display_data"
    }
   ],
   "source": [
    "kmeans = KMeans(n_clusters = 9).fit(database_notitle )\n",
    "cluster_target = kmeans.predict(database_notitle)\n",
    "svd = TruncatedSVD(n_components = 2)\n",
    "\n",
    "X_svd = svd.fit_transform(tf_idf_matrix)\n",
    "X_svd_df = pd.DataFrame(X_svd)\n",
    "X_svd_df.reset_index(drop = True, inplace = True)\n",
    "titles.reset_index(drop = True, inplace = True)\n",
    "\n",
    "X_svd_df['titles'] = titles\n",
    "\n",
    "\n",
    "fig = px.scatter(\n",
    "    pd.DataFrame(X_svd_df), x = 0, y = 1,\n",
    "    color = cluster_target,\n",
    "    title = \"Image Clustering\",\n",
    "    hover_data ={'titles':True}\n",
    ")\n",
    "\n",
    "fig.update_layout(\n",
    "    xaxis_title=\"1 Dimension Reduction\",\n",
    "    yaxis_title=\"2 Dimension Reduction\",\n",
    ")\n",
    "\n",
    "fig.show()"
   ]
  },
  {
   "cell_type": "code",
   "execution_count": 180,
   "metadata": {},
   "outputs": [],
   "source": [
    "matrix_similarity[np.tril_indices(matrix_similarity.shape[0])] = -2"
   ]
  },
  {
   "cell_type": "code",
   "execution_count": 234,
   "metadata": {},
   "outputs": [
    {
     "data": {
      "text/plain": [
       "array([     0, 603765, 603766, ..., 591591, 282728, 524958], dtype=int64)"
      ]
     },
     "execution_count": 234,
     "metadata": {},
     "output_type": "execute_result"
    }
   ],
   "source": [
    "np.argsort(matrix_similarity.ravel())"
   ]
  },
  {
   "cell_type": "code",
   "execution_count": 237,
   "metadata": {},
   "outputs": [],
   "source": [
    "top_cosine_similarity = pd.DataFrame()\n",
    "k = matrix_similarity.shape[0]\n",
    "# Get top k similarities and pair GUID in ascending order\n",
    "top_k_indexes = np.unravel_index(np.argsort(matrix_similarity.ravel()), matrix_similarity.shape)"
   ]
  },
  {
   "cell_type": "code",
   "execution_count": 244,
   "metadata": {},
   "outputs": [
    {
     "data": {
      "text/plain": [
       "array([     0, 603765, 603766, ..., 591591, 282728, 524958], dtype=int64)"
      ]
     },
     "execution_count": 244,
     "metadata": {},
     "output_type": "execute_result"
    }
   ],
   "source": [
    "np.argsort(matrix_similarity.ravel())"
   ]
  },
  {
   "cell_type": "code",
   "execution_count": 255,
   "metadata": {},
   "outputs": [],
   "source": [
    "top_cosine_similarity = pd.DataFrame()\n",
    "k = matrix_similarity.shape[0]\n",
    "cosine_bound = 0.8\n",
    "batch = len(matrix_similarity.ravel())/100\n",
    "for i in range(1, int(batch)):\n",
    "    np.arange(0, len(matrix_similarity.ravel()), 100)\n",
    "    # Get top k similarities and pair GUID in ascending order\n",
    "    top_k_indexes = np.unravel_index(np.argsort(matrix_similarity.ravel())[-k*i:], matrix_similarity.shape)\n",
    "    top_k_similarities = matrix_similarity[top_k_indexes]\n",
    "    top_k_pair = []\n",
    "    for index in range(k):\n",
    "        index_left = top_k_indexes[0][index]\n",
    "        index_right = top_k_indexes[1][index]\n",
    "        value = {\n",
    "            \"left_title\": image_similarity.database.iloc[index_left][\"title\"],\n",
    "            \"right_title\": image_similarity.database.iloc[index_right][\"title\"],\n",
    "            \"cosine_similarity\" : matrix_similarity[index_left, index_right]\n",
    "            }\n",
    "        if matrix_similarity[index_left, index_right] < cosine_bound:\n",
    "            break\n",
    "        top_cosine_similarity = top_cosine_similarity.append(value, ignore_index = True)\n",
    "    else:\n",
    "        top_cosine_similarity = top_cosine_similarity.append(value, ignore_index = True)\n",
    "    break"
   ]
  },
  {
   "cell_type": "code",
   "execution_count": 256,
   "metadata": {},
   "outputs": [
    {
     "data": {
      "text/html": [
       "<div>\n",
       "<style scoped>\n",
       "    .dataframe tbody tr th:only-of-type {\n",
       "        vertical-align: middle;\n",
       "    }\n",
       "\n",
       "    .dataframe tbody tr th {\n",
       "        vertical-align: top;\n",
       "    }\n",
       "\n",
       "    .dataframe thead th {\n",
       "        text-align: right;\n",
       "    }\n",
       "</style>\n",
       "<table border=\"1\" class=\"dataframe\">\n",
       "  <thead>\n",
       "    <tr style=\"text-align: right;\">\n",
       "      <th></th>\n",
       "      <th>left_title</th>\n",
       "      <th>right_title</th>\n",
       "      <th>cosine_similarity</th>\n",
       "    </tr>\n",
       "  </thead>\n",
       "  <tbody>\n",
       "    <tr>\n",
       "      <th>0</th>\n",
       "      <td>lenovo legin ryzen 7 5800h rtx 3050ti 16g 512 ...</td>\n",
       "      <td>lenovo legion pro ryzen 7 5800h rtx 3070 2k 1t...</td>\n",
       "      <td>0.841700</td>\n",
       "    </tr>\n",
       "    <tr>\n",
       "      <th>1</th>\n",
       "      <td>kit teclado mouse inalmbrico logitech mk220 es...</td>\n",
       "      <td>teclado gamer redragon vata pro k580rgbpro qwe...</td>\n",
       "      <td>0.841708</td>\n",
       "    </tr>\n",
       "    <tr>\n",
       "      <th>2</th>\n",
       "      <td>kit teclado mouse inalmbrico logitech mk220 es...</td>\n",
       "      <td>teclado gamer redragon vata pro k580rgbpro qwe...</td>\n",
       "      <td>0.841708</td>\n",
       "    </tr>\n",
       "    <tr>\n",
       "      <th>3</th>\n",
       "      <td>teclado gamer nibio impact mk500 qwerty espaol...</td>\n",
       "      <td>teclado gamer bluetooth logitech serie g g915 ...</td>\n",
       "      <td>0.841709</td>\n",
       "    </tr>\n",
       "    <tr>\n",
       "      <th>4</th>\n",
       "      <td>portatil lenovo 315ada05 amd ryzen 5 3500u8gb2...</td>\n",
       "      <td>porttil ideapad 5 pro intel core i7 16gb 512gb...</td>\n",
       "      <td>0.841733</td>\n",
       "    </tr>\n",
       "    <tr>\n",
       "      <th>...</th>\n",
       "      <td>...</td>\n",
       "      <td>...</td>\n",
       "      <td>...</td>\n",
       "    </tr>\n",
       "    <tr>\n",
       "      <th>946</th>\n",
       "      <td>torre cpu intel core i7 12700 uhd 770 1tb 16gb pc</td>\n",
       "      <td>torre cpu gamer core i9 11900 gpu 2gb hdmi 1tb...</td>\n",
       "      <td>1.000000</td>\n",
       "    </tr>\n",
       "    <tr>\n",
       "      <th>947</th>\n",
       "      <td>ereader kindle paperwhite 10 gen 32gb azul pan...</td>\n",
       "      <td>ereader kindle paperwhite 10 gen 8gb azul pant...</td>\n",
       "      <td>1.000000</td>\n",
       "    </tr>\n",
       "    <tr>\n",
       "      <th>948</th>\n",
       "      <td>torre cpu intel core i7 12700 uhd 770 1tb 16gb pc</td>\n",
       "      <td>torre cpu gamer core i9 11900 gpu 2gb hdmi 1tb...</td>\n",
       "      <td>1.000000</td>\n",
       "    </tr>\n",
       "    <tr>\n",
       "      <th>949</th>\n",
       "      <td>torre cpu intel core i9 12900 uhd 770 1tb 16gb pc</td>\n",
       "      <td>torre cpu gamer core i9 11900 gpu 2gb hdmi 1tb...</td>\n",
       "      <td>1.000000</td>\n",
       "    </tr>\n",
       "    <tr>\n",
       "      <th>950</th>\n",
       "      <td>torre cpu intel core i9 12900 uhd 770 1tb 16gb pc</td>\n",
       "      <td>torre cpu gamer core i9 11900 gpu 2gb hdmi 1tb...</td>\n",
       "      <td>1.000000</td>\n",
       "    </tr>\n",
       "  </tbody>\n",
       "</table>\n",
       "<p>951 rows × 3 columns</p>\n",
       "</div>"
      ],
      "text/plain": [
       "                                            left_title  \\\n",
       "0    lenovo legin ryzen 7 5800h rtx 3050ti 16g 512 ...   \n",
       "1    kit teclado mouse inalmbrico logitech mk220 es...   \n",
       "2    kit teclado mouse inalmbrico logitech mk220 es...   \n",
       "3    teclado gamer nibio impact mk500 qwerty espaol...   \n",
       "4    portatil lenovo 315ada05 amd ryzen 5 3500u8gb2...   \n",
       "..                                                 ...   \n",
       "946  torre cpu intel core i7 12700 uhd 770 1tb 16gb pc   \n",
       "947  ereader kindle paperwhite 10 gen 32gb azul pan...   \n",
       "948  torre cpu intel core i7 12700 uhd 770 1tb 16gb pc   \n",
       "949  torre cpu intel core i9 12900 uhd 770 1tb 16gb pc   \n",
       "950  torre cpu intel core i9 12900 uhd 770 1tb 16gb pc   \n",
       "\n",
       "                                           right_title  cosine_similarity  \n",
       "0    lenovo legion pro ryzen 7 5800h rtx 3070 2k 1t...           0.841700  \n",
       "1    teclado gamer redragon vata pro k580rgbpro qwe...           0.841708  \n",
       "2    teclado gamer redragon vata pro k580rgbpro qwe...           0.841708  \n",
       "3    teclado gamer bluetooth logitech serie g g915 ...           0.841709  \n",
       "4    porttil ideapad 5 pro intel core i7 16gb 512gb...           0.841733  \n",
       "..                                                 ...                ...  \n",
       "946  torre cpu gamer core i9 11900 gpu 2gb hdmi 1tb...           1.000000  \n",
       "947  ereader kindle paperwhite 10 gen 8gb azul pant...           1.000000  \n",
       "948  torre cpu gamer core i9 11900 gpu 2gb hdmi 1tb...           1.000000  \n",
       "949  torre cpu gamer core i9 11900 gpu 2gb hdmi 1tb...           1.000000  \n",
       "950  torre cpu gamer core i9 11900 gpu 2gb hdmi 1tb...           1.000000  \n",
       "\n",
       "[951 rows x 3 columns]"
      ]
     },
     "execution_count": 256,
     "metadata": {},
     "output_type": "execute_result"
    }
   ],
   "source": [
    "top_cosine_similarity"
   ]
  },
  {
   "cell_type": "code",
   "execution_count": 52,
   "metadata": {},
   "outputs": [
    {
     "data": {
      "text/plain": [
       "array([2.22044605e-16])"
      ]
     },
     "execution_count": 52,
     "metadata": {},
     "output_type": "execute_result"
    }
   ],
   "source": [
    "from scipy.spatial import distance\n",
    "metric = 'cosine'\n",
    "dc = distance.cdist([embedding_image], [embedding_image], metric)[0]"
   ]
  },
  {
   "cell_type": "code",
   "execution_count": 31,
   "metadata": {},
   "outputs": [
    {
     "name": "stdout",
     "output_type": "stream",
     "text": [
      "Clean Text laptop hp 245 g7 negra 14 amd 3020e 8gb ram 1tb hdd amd radeon rx vega 3 1366x768px windows 10 home\n",
      "N-gram Text ['lap', 'apt', 'pto', 'top', 'op ', 'p h', ' hp', 'hp ', 'p 2', ' 24', '245', '45 ', '5 g', ' g7', 'g7 ', '7 n', ' ne', 'neg', 'egr', 'gra', 'ra ', 'a 1', ' 14', '14 ', '4 a', ' am', 'amd', 'md ', 'd 3', ' 30', '302', '020', '20e', '0e ', 'e 8', ' 8g', '8gb', 'gb ', 'b r', ' ra', 'ram', 'am ', 'm 1', ' 1t', '1tb', 'tb ', 'b h', ' hd', 'hdd', 'dd ', 'd a', ' am', 'amd', 'md ', 'd r', ' ra', 'rad', 'ade', 'deo', 'eon', 'on ', 'n r', ' rx', 'rx ', 'x v', ' ve', 'veg', 'ega', 'ga ', 'a 3', ' 3 ', '3 1', ' 13', '136', '366', '66x', '6x7', 'x76', '768', '68p', '8px', 'px ', 'x w', ' wi', 'win', 'ind', 'ndo', 'dow', 'ows', 'ws ', 's 1', ' 10', '10 ', '0 h', ' ho', 'hom', 'ome']\n"
     ]
    }
   ],
   "source": [
    "# ----------------------------\n",
    "# Test outputs \n",
    "# ----------------------------\n",
    "\n",
    "# clean texts\n",
    "ejem_text = \"Laptop Hp 245 G7 Negra 14 , Amd 3020e  8gb De Ram 1tb Hdd, Amd Radeon Rx Vega 3 1366x768px Windows 10 Home\"\n",
    "ejem_text = text_similarity.clean_text(ejem_text)\n",
    "print(f\"Clean Text {ejem_text}\")\n",
    "ejem_text_ngram = text_similarity.ngrams(ejem_text, n =3)\n",
    "print(f\"N-gram Text {ejem_text_ngram}\")\n",
    "\n"
   ]
  }
 ],
 "metadata": {
  "kernelspec": {
   "display_name": "Python 3",
   "language": "python",
   "name": "python3"
  },
  "language_info": {
   "codemirror_mode": {
    "name": "ipython",
    "version": 3
   },
   "file_extension": ".py",
   "mimetype": "text/x-python",
   "name": "python",
   "nbconvert_exporter": "python",
   "pygments_lexer": "ipython3",
   "version": "3.8.10"
  },
  "orig_nbformat": 4,
  "vscode": {
   "interpreter": {
    "hash": "e1bc4d5c4650b8d711c2d591542040422b29fba27bfde71a54f9219d3217f3c5"
   }
  }
 },
 "nbformat": 4,
 "nbformat_minor": 2
}
